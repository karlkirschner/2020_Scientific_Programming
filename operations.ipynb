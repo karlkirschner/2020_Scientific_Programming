{
 "cells": [
  {
   "cell_type": "markdown",
   "metadata": {},
   "source": [
    "# <center> Basic operators\n",
    "***"
   ]
  },
  {
   "cell_type": "markdown",
   "metadata": {},
   "source": [
    "Class exercise:\n",
    "    Using a calculator (i.e. not via coding), calculate:\n",
    "    \n",
    "    2 + 3 * 4 / 5\n",
    "    \n",
    "    Write your answer in the the 'chat box'\n",
    "    \n",
    "<br><br><br><br><br><br><br><br><br><br><br><br><br><br><br><br><br><br><br>\n",
    "<br><br><br><br><br><br><br><br><br><br>"
   ]
  },
  {
   "cell_type": "markdown",
   "metadata": {},
   "source": [
    "---\n",
    "In Python, there are different types of **operators** (special symbols) that operate on different values. Some of the basic operators include:\n",
    "\n",
    "- arithmetic operators\n",
    "  - **`+`** (addition)\n",
    "  - **`-`** (subtraction)\n",
    "  - **`*`** (multiplication)\n",
    "  - **`/`** (division)\n",
    "  - __`**`__ (exponent)\n",
    "- assignment operators\n",
    "  - **`=`** (assign a value)\n",
    "  - **`+=`** (add and re-assign; increment)\n",
    "  - **`-=`** (subtract and re-assign; decrement)\n",
    "  - **`*=`** (multiply and re-assign)\n",
    "- comparison operators (return either `True` or `False`; booleans)\n",
    "  - **`==`** (equal to)\n",
    "  - **`!=`** (not equal to)\n",
    "  - **`<`** (less than)\n",
    "  - **`<=`** (less than or equal to)\n",
    "  - **`>`** (greater than)\n",
    "  - **`>=`** (greater than or equal to)"
   ]
  },
  {
   "cell_type": "markdown",
   "metadata": {},
   "source": [
    "---\n",
    "When multiple operators are used in a single expression, **operator precedence** determines which parts of the expression are evaluated in which order.\n",
    "\n",
    "Operators with higher precedence are evaluated first.\n",
    "\n",
    "Operators with the same precedence are evaluated from **left to right**.\n",
    "\n",
    "Precedence importance ordering:\n",
    "- `()` parentheses, for grouping\n",
    "- `**` exponent\n",
    "- `*`, `/` multiplication and division\n",
    "- `+`, `-` addition and subtraction\n",
    "- `==`, `!=`, `<`, `<=`, `>`, `>=` comparisons\n",
    "\n",
    "<br>\n",
    "For additional information:\n",
    "\n",
    "https://docs.python.org/3/reference/expressions.html#operator-precedence"
   ]
  },
  {
   "cell_type": "markdown",
   "metadata": {},
   "source": [
    "#### Example 1 = $2 + 3 * 4 / 5$\n",
    "> Step 1. $3 * 4 = 12$  ('*' and '/' have the same precedence, but '*' is farthest to the left)\n",
    "\n",
    "> Step 2. $12 / 5 = 2.2$\n",
    "\n",
    "> Step 3. $2 + 2.2 = 4.4$"
   ]
  },
  {
   "cell_type": "code",
   "execution_count": null,
   "metadata": {},
   "outputs": [],
   "source": [
    "## Example 1 - show that python does it\n",
    "\n",
    "equation = 2.0 + 3.0 * 4.0 / 5.0\n",
    "\n",
    "print(\"2.0 + 3.0 * 4.0 / 5.0     = {0}\".format(equation))"
   ]
  },
  {
   "cell_type": "code",
   "execution_count": null,
   "metadata": {},
   "outputs": [],
   "source": [
    "## Example 2 - force a sequence of actions\n",
    "\n",
    "equation = (2.0 + 3.0) * 4.0 / 5.0\n",
    "\n",
    "print(\"(2.0 + 3.0) * 4.0 / 5.0  = {0}\".format(equation))\n",
    "\n",
    "## Note the use of 'triple quotes for printing a block of text'\n",
    "print(\"\"\"\n",
    "      i.e. 2.0 + 3.0 = 5.0\n",
    "           5.0 * 4.0 = 20.0\n",
    "           20.0 / 5.0 = 4.0\n",
    "      \"\"\")"
   ]
  },
  {
   "cell_type": "code",
   "execution_count": null,
   "metadata": {},
   "outputs": [],
   "source": [
    "## Example 3\n",
    "\n",
    "equation = 2 + 3 * 4 ** 2 / 5\n",
    "\n",
    "print(\"2 + 3 * 4 ** 2 / 5     = \", equation)\n",
    "\n",
    "print(\"\"\"\n",
    "      i.e. 4**2 = 16\n",
    "           3*16 = 48\n",
    "           48/5 = 9.6\n",
    "           2+9.6 = 11.6\n",
    "      \"\"\")"
   ]
  },
  {
   "cell_type": "code",
   "execution_count": null,
   "metadata": {},
   "outputs": [],
   "source": [
    "## Example 4\n",
    "\n",
    "equation = 2 + (3 * 4) ** 2 / 5\n",
    "\n",
    "print(\"2 + (3 * 4) ** 2 / 5   = \", equation)\n",
    "\n",
    "print(\"\"\"\n",
    "      i.e. 3*4 = 12\n",
    "         12**2 = 144\n",
    "         144/5 = 28.8\n",
    "        2+28.8 = 30.8\n",
    "      \"\"\")"
   ]
  },
  {
   "cell_type": "markdown",
   "metadata": {},
   "source": [
    "---\n",
    "## Increment (by reassigning variable)\n",
    "- right-hand-side (rhs) happens first, and then the left-hand-side (lhs)\n",
    "\n",
    "In the following assignment statements\n",
    "- evaluation of the rhs is done first, then\n",
    "- it is assigned to the variable"
   ]
  },
  {
   "cell_type": "code",
   "execution_count": null,
   "metadata": {},
   "outputs": [],
   "source": [
    "## very basic\n",
    "planets = 1\n",
    "print(planets)"
   ]
  },
  {
   "cell_type": "code",
   "execution_count": null,
   "metadata": {},
   "outputs": [],
   "source": [
    "## 1. planets + 1\n",
    "## 2. planets = 2\n",
    "\n",
    "planets = planets + 1\n",
    "print(planets)"
   ]
  },
  {
   "cell_type": "code",
   "execution_count": null,
   "metadata": {},
   "outputs": [],
   "source": [
    "## an alternative to '+ 1'\n",
    "planets += 1\n",
    "print(planets)"
   ]
  },
  {
   "cell_type": "code",
   "execution_count": null,
   "metadata": {},
   "outputs": [],
   "source": [
    "planets += 5\n",
    "print(planets)"
   ]
  },
  {
   "cell_type": "markdown",
   "metadata": {},
   "source": [
    "---\n",
    "## Booleans\n",
    "- used via comparison operators (e.g. <=)\n",
    "\n",
    "Scenerio - you have to discover 10 planets before you graduate."
   ]
  },
  {
   "cell_type": "code",
   "execution_count": null,
   "metadata": {},
   "outputs": [],
   "source": [
    "total_planets = 10\n",
    "print(total_planets < planets)"
   ]
  },
  {
   "cell_type": "markdown",
   "metadata": {},
   "source": [
    "### Why could this be interesting?"
   ]
  },
  {
   "cell_type": "code",
   "execution_count": null,
   "metadata": {},
   "outputs": [],
   "source": [
    "if (total_planets < planets) == False:\n",
    "    print('You can not graduate yet - get back to work!')\n",
    "else:\n",
    "    print('Congratulations - it is time to move on!')"
   ]
  },
  {
   "cell_type": "markdown",
   "metadata": {},
   "source": [
    "## Operations with strings"
   ]
  },
  {
   "cell_type": "code",
   "execution_count": null,
   "metadata": {},
   "outputs": [],
   "source": [
    "word_1 = 'awesome'\n",
    "number_1 = 3\n",
    "\n",
    "print(word_1 * number_1)\n",
    "print()\n",
    "\n",
    "## You can also do this in the print 'format' statement\n",
    "print('Operating with strings: {0}.\\n'.format(word_1 * number_1))\n",
    "\n",
    "word_1 = 'awesome '\n",
    "print(word_1 * number_1)"
   ]
  },
  {
   "cell_type": "code",
   "execution_count": null,
   "metadata": {},
   "outputs": [],
   "source": [
    "# However, several of the operations won't work on strings\n",
    "print(word_1 + number_1)"
   ]
  }
 ],
 "metadata": {
  "kernelspec": {
   "display_name": "Python 3",
   "language": "python",
   "name": "python3"
  },
  "language_info": {
   "codemirror_mode": {
    "name": "ipython",
    "version": 3
   },
   "file_extension": ".py",
   "mimetype": "text/x-python",
   "name": "python",
   "nbconvert_exporter": "python",
   "pygments_lexer": "ipython3",
   "version": "3.8.1"
  }
 },
 "nbformat": 4,
 "nbformat_minor": 2
}
