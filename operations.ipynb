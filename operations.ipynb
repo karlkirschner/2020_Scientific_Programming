{
 "cells": [
  {
   "cell_type": "markdown",
   "metadata": {},
   "source": [
    "# <center> Basic operators\n",
    "***"
   ]
  },
  {
   "cell_type": "markdown",
   "metadata": {},
   "source": [
    "In Python, there are different types of **operators** (special symbols) that operate on different values. Some of the basic operators include:\n",
    "\n",
    "- arithmetic operators\n",
    "  - **`+`** (addition)\n",
    "  - **`-`** (subtraction)\n",
    "  - **`*`** (multiplication)\n",
    "  - **`/`** (division)\n",
    "  - __`**`__ (exponent)\n",
    "- assignment operators\n",
    "  - **`=`** (assign a value)\n",
    "  - **`+=`** (add and re-assign; increment)\n",
    "  - **`-=`** (subtract and re-assign; decrement)\n",
    "  - **`*=`** (multiply and re-assign)\n",
    "- comparison operators (return either `True` or `False`)\n",
    "  - **`==`** (equal to)\n",
    "  - **`!=`** (not equal to)\n",
    "  - **`<`** (less than)\n",
    "  - **`<=`** (less than or equal to)\n",
    "  - **`>`** (greater than)\n",
    "  - **`>=`** (greater than or equal to)\n",
    "\n",
    "\n",
    "\n",
    "Class exercise:\n",
    "    Calculate: 2 + 3 * 4 / 5\n",
    "<br><br><br><br><br><br><br><br><br><br><br><br><br><br><br><br><br><br><br>\n",
    "\n",
    "When multiple operators are used in a single expression, **operator precedence** determines which parts of the expression are evaluated in which order. Operators with higher precedence are evaluated first. Operators with the same precedence are evaluated from **left to right**.\n",
    "\n",
    "- `()` parentheses, for grouping\n",
    "- `**` exponent\n",
    "- `*`, `/` multiplication and division\n",
    "- `+`, `-` addition and subtraction\n",
    "- `==`, `!=`, `<`, `<=`, `>`, `>=` comparisons\n",
    "\n",
    "> See https://docs.python.org/3/reference/expressions.html#operator-precedence\n",
    "\n",
    "#### Equation1 = $2 + 3 * 4 / 5$\n",
    "> Step 1. $3 * 4 = 12$  (* & / have the same precedence, but * is farthest to the left)\n",
    "\n",
    "> Step 2. $12 / 5 = 2.2$\n",
    "\n",
    "> Step 3. $2 + 2.2 = 4.4$"
   ]
  },
  {
   "cell_type": "code",
   "execution_count": 1,
   "metadata": {},
   "outputs": [
    {
     "name": "stdout",
     "output_type": "stream",
     "text": [
      "2 + 3 * 4 / 5     =  4.4\n",
      "-------------------------------\n",
      "2 + ((3 * 4) / 5) =  4.4\n",
      "\n",
      "      i.e. (3*4) = 12\n",
      "            12/5 = 2.4\n",
      "           2.4+2 = 4.4\n",
      "      \n",
      "-------------------------------\n",
      "((2 + 3) * 4 / 5  =  4.0\n"
     ]
    }
   ],
   "source": [
    "## Example 1\n",
    "equation = 2 + 3 * 4 / 5\n",
    "\n",
    "print(\"2 + 3 * 4 / 5     = \", equation)\n",
    "\n",
    "print('-------------------------------')\n",
    "\n",
    "## Example 2\n",
    "equation = 2 + ((3 * 4) / 5)\n",
    "print(\"2 + ((3 * 4) / 5) = \", equation)\n",
    "print(\"\"\"\n",
    "      i.e. (3*4) = 12\n",
    "            12/5 = 2.4\n",
    "           2.4+2 = 4.4\n",
    "      \"\"\")\n",
    "\n",
    "print('-------------------------------')\n",
    "\n",
    "## Example 3\n",
    "equation = (2 + 3) * 4 / 5\n",
    "print(\"((2 + 3) * 4 / 5  = \", equation)"
   ]
  },
  {
   "cell_type": "code",
   "execution_count": 2,
   "metadata": {},
   "outputs": [
    {
     "name": "stdout",
     "output_type": "stream",
     "text": [
      "2 + 3 * 4 ** 2 / 5     =  11.6\n",
      "\n",
      "      i.e. 4**2 = 16\n",
      "           3*16 = 48\n",
      "           48/5 = 9.6\n",
      "           2+9.6 = 11.6\n",
      "      \n",
      "-------------------------------\n",
      "2 + (3 * 4) ** 2 / 5   =  30.8\n",
      "\n",
      "      i.e. 3*4 = 12\n",
      "         12**2 = 144\n",
      "         144/5 = 28.8\n",
      "        2+28.8 = 30.8\n",
      "      \n"
     ]
    }
   ],
   "source": [
    "## Example to force a sequence of actions\n",
    "\n",
    "equation = 2 + 3 * 4 ** 2 / 5\n",
    "\n",
    "print(\"2 + 3 * 4 ** 2 / 5     = \", equation)\n",
    "\n",
    "print(\"\"\"\n",
    "      i.e. 4**2 = 16\n",
    "           3*16 = 48\n",
    "           48/5 = 9.6\n",
    "           2+9.6 = 11.6\n",
    "      \"\"\")\n",
    "\n",
    "print('-------------------------------')\n",
    "\n",
    "equation = 2 + (3 * 4) ** 2 / 5\n",
    "\n",
    "print(\"2 + (3 * 4) ** 2 / 5   = \", equation)\n",
    "\n",
    "print(\"\"\"\n",
    "      i.e. 3*4 = 12\n",
    "         12**2 = 144\n",
    "         144/5 = 28.8\n",
    "        2+28.8 = 30.8\n",
    "      \"\"\")"
   ]
  },
  {
   "cell_type": "markdown",
   "metadata": {},
   "source": [
    "## Increment (by reassigning variable)\n",
    "- right-hand-side happens firstm, and then the left-hand-side"
   ]
  },
  {
   "cell_type": "code",
   "execution_count": 25,
   "metadata": {},
   "outputs": [
    {
     "name": "stdout",
     "output_type": "stream",
     "text": [
      "1\n"
     ]
    }
   ],
   "source": [
    "planets = 1\n",
    "print(planets)"
   ]
  },
  {
   "cell_type": "code",
   "execution_count": 36,
   "metadata": {},
   "outputs": [
    {
     "name": "stdout",
     "output_type": "stream",
     "text": [
      "9\n"
     ]
    }
   ],
   "source": [
    "planets = planets + 1\n",
    "print(planets)"
   ]
  },
  {
   "cell_type": "code",
   "execution_count": 37,
   "metadata": {},
   "outputs": [
    {
     "name": "stdout",
     "output_type": "stream",
     "text": [
      "10\n"
     ]
    }
   ],
   "source": [
    "planets += 1\n",
    "print(planets)"
   ]
  },
  {
   "cell_type": "code",
   "execution_count": 38,
   "metadata": {},
   "outputs": [
    {
     "name": "stdout",
     "output_type": "stream",
     "text": [
      "15\n"
     ]
    }
   ],
   "source": [
    "planets += 5\n",
    "print(planets)"
   ]
  },
  {
   "cell_type": "markdown",
   "metadata": {},
   "source": [
    "## Booleans\n",
    "\n",
    "Scenerio - you have to discover 10 planets before you graduate."
   ]
  },
  {
   "cell_type": "code",
   "execution_count": 39,
   "metadata": {},
   "outputs": [
    {
     "name": "stdout",
     "output_type": "stream",
     "text": [
      "True\n"
     ]
    }
   ],
   "source": [
    "total_planets = 10\n",
    "print(total_planets < planets)"
   ]
  },
  {
   "cell_type": "markdown",
   "metadata": {},
   "source": [
    "### Why could this be interesting?"
   ]
  },
  {
   "cell_type": "code",
   "execution_count": 42,
   "metadata": {},
   "outputs": [
    {
     "name": "stdout",
     "output_type": "stream",
     "text": [
      "Congratulations - it is time to move on!\n"
     ]
    }
   ],
   "source": [
    "if (total_planets < planets) == False:\n",
    "    print('You can not graduate yet - get back to work!')\n",
    "else:\n",
    "    print('Congratulations - it is time to move on!')"
   ]
  },
  {
   "cell_type": "markdown",
   "metadata": {},
   "source": [
    "## Operations with strings"
   ]
  },
  {
   "cell_type": "code",
   "execution_count": 43,
   "metadata": {},
   "outputs": [
    {
     "name": "stdout",
     "output_type": "stream",
     "text": [
      "awesomeawesome\n",
      "awesome awesome \n"
     ]
    }
   ],
   "source": [
    "word1 = 'awesome'\n",
    "print(word1 * number1)\n",
    "\n",
    "word1 = 'awesome '\n",
    "print(word1 * number1)"
   ]
  },
  {
   "cell_type": "code",
   "execution_count": 47,
   "metadata": {},
   "outputs": [
    {
     "ename": "TypeError",
     "evalue": "can only concatenate str (not \"int\") to str",
     "output_type": "error",
     "traceback": [
      "\u001b[0;31m---------------------------------------------------------------------------\u001b[0m",
      "\u001b[0;31mTypeError\u001b[0m                                 Traceback (most recent call last)",
      "\u001b[0;32m<ipython-input-47-1b30d15d0fa7>\u001b[0m in \u001b[0;36m<module>\u001b[0;34m\u001b[0m\n\u001b[1;32m      1\u001b[0m \u001b[0;31m# However, most of the operations won't work\u001b[0m\u001b[0;34m\u001b[0m\u001b[0;34m\u001b[0m\u001b[0;34m\u001b[0m\u001b[0m\n\u001b[0;32m----> 2\u001b[0;31m \u001b[0mprint\u001b[0m\u001b[0;34m(\u001b[0m\u001b[0mword1\u001b[0m \u001b[0;34m+\u001b[0m \u001b[0mnumber1\u001b[0m\u001b[0;34m)\u001b[0m\u001b[0;34m\u001b[0m\u001b[0;34m\u001b[0m\u001b[0m\n\u001b[0m",
      "\u001b[0;31mTypeError\u001b[0m: can only concatenate str (not \"int\") to str"
     ]
    }
   ],
   "source": [
    "# However, most of the operations won't work\n",
    "print(word1 + number1)"
   ]
  },
  {
   "cell_type": "markdown",
   "metadata": {},
   "source": [
    "***\n",
    "Floating Point precision: https://docs.python.org/3.8/tutorial/floatingpoint.html"
   ]
  },
  {
   "cell_type": "code",
   "execution_count": null,
   "metadata": {},
   "outputs": [],
   "source": []
  }
 ],
 "metadata": {
  "kernelspec": {
   "display_name": "Python 3",
   "language": "python",
   "name": "python3"
  },
  "language_info": {
   "codemirror_mode": {
    "name": "ipython",
    "version": 3
   },
   "file_extension": ".py",
   "mimetype": "text/x-python",
   "name": "python",
   "nbconvert_exporter": "python",
   "pygments_lexer": "ipython3",
   "version": "3.7.4"
  }
 },
 "nbformat": 4,
 "nbformat_minor": 2
}
