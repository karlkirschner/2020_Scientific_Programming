{
 "cells": [
  {
   "cell_type": "markdown",
   "metadata": {},
   "source": [
    "# <center> Syllabus\n"
   ]
  },
  {
   "cell_type": "markdown",
   "metadata": {},
   "source": [
    "***\n",
    "## Course Topics and Jupyter Links\n",
    "| Topic | Week | \n",
    "| :-|:-:|\n",
    "| [introduction](introduction.ipynb) | 1 |\n",
    "| [introductory example](intro_example.ipynb) | 1 |\n",
    "| [scientific programming - intro](scientific_programming.ipynb#best_practice_top) | 1 |\n",
    "| [jupyter notebooks](jupyter_notebooks_intro.ipynb) | 1 |\n",
    "| [expressions, types and variables](expressions_types_variables.ipynb) | 1 |\n",
    "| | |\n",
    "| [existing functions and modules](existing_functions_modules.ipynb) | 2 |\n",
    "| [scientific programming - working & repeating](scientific_programming.ipynb#best_practice_work) | 2 |\n",
    "| [user functions](user_functions.ipynb) | 2 |\n",
    "| | |\n",
    "| [errors](errors.ipynb) | 3 |\n",
    "| [operations](operations.ipynb) | 3 |\n",
    "| [coding styles](styles.ipynb) | 3 |\n",
    "| | |\n",
    "| [scientific figures](scientic_figures.ipynb) | ? |\n",
    "| [matplotlib data visualization](matplotlib_data_visualization.ipynb) | ? |\n",
    "\n",
    "| Homework | Week |\n",
    "| :-|:-:|\n",
    "| personal setup and mass2energy | 1 |\n"
   ]
  },
  {
   "cell_type": "markdown",
   "metadata": {},
   "source": [
    "***\n",
    "**References and Additional Information:**\n",
    "\n",
    "1. [Wilson, G., Aruliah, D.A., Brown, C.T., Hong, N.P.C., Davis, M., Guy, R.T., Haddock, S.H., Huff, K.D., Mitchell, I.M., Plumbley, M.D. and Waugh, B., 2014. Best practices for scientific computing. PLoS biology, 12, 1-7.](https://journals.plos.org/plosbiology/article?id=10.1371/journal.pbio.1001745)\n",
    "\n",
    "2. [Wilson, G., Bryan, J., Cranston, K., Kitzes, J., Nederbragt, L. and Teal, T.K., 2017. Good enough practices in scientific computing. PLoS computational biology, 13(6), 1-20.](https://journals.plos.org/ploscompbiol/article?id=10.1371/journal.pcbi.1005510)\n",
    "\n",
    "3. [Matthes, Eric. 2016. Python crash course: a hands-on, project-based introduction to programming.](https://nostarch.com/pythoncrashcourse2e)\n",
    "\n",
    "4. [Sweigart, Albert. 2020. Automate the boring stuff with Python: practical programming for total beginners.](https://automatetheboringstuff.com)\n",
    "\n",
    "5. [Datacarpentry - Semester Biology](https://datacarpentry.org/semester-biology)\n",
    "\n",
    "6. [Introduction to Python](http://introtopython.org/var_string_num.html#Variables)\n",
    "\n",
    "7. [learning-python3 (github, kenjyco)](https://gist.github.com/kenjyco/69eeb503125035f21a9d)"
   ]
  },
  {
   "cell_type": "code",
   "execution_count": null,
   "metadata": {},
   "outputs": [],
   "source": []
  }
 ],
 "metadata": {
  "kernelspec": {
   "display_name": "Python 3",
   "language": "python",
   "name": "python3"
  },
  "language_info": {
   "codemirror_mode": {
    "name": "ipython",
    "version": 3
   },
   "file_extension": ".py",
   "mimetype": "text/x-python",
   "name": "python",
   "nbconvert_exporter": "python",
   "pygments_lexer": "ipython3",
   "version": "3.8.1"
  }
 },
 "nbformat": 4,
 "nbformat_minor": 2
}
