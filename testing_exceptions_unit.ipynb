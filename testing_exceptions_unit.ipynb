{
 "cells": [
  {
   "cell_type": "markdown",
   "metadata": {},
   "source": [
    "<h1 align='center'>Testing inside your code\n",
    "    \n",
    "<h2 align='center'>and\n",
    "    \n",
    "<h1 align='center'>Testing the code itself"
   ]
  },
  {
   "cell_type": "markdown",
   "metadata": {},
   "source": [
    "---\n",
    "## A quick note about typing\n",
    "\n",
    "Note that **typing** (a.k.a. type hinting, annotating functions) - actually **doesn't enforce** anything.\n",
    "\n",
    "We use them for our own **clarification** of the code and its usage."
   ]
  },
  {
   "cell_type": "code",
   "execution_count": 16,
   "metadata": {},
   "outputs": [],
   "source": [
    "def user_function(number: float=None) -> float:\n",
    "    return number*2"
   ]
  },
  {
   "cell_type": "code",
   "execution_count": 14,
   "metadata": {},
   "outputs": [
    {
     "data": {
      "text/plain": [
       "'meme'"
      ]
     },
     "execution_count": 14,
     "metadata": {},
     "output_type": "execute_result"
    }
   ],
   "source": [
    "user_function(number='me')"
   ]
  },
  {
   "cell_type": "markdown",
   "metadata": {},
   "source": [
    "---\n",
    "## assert\n",
    "- A helpful way to **debug** code\n",
    "- Includes **traceback** (aka stack trace, stack traceback, backtrace) to show you the sequence of calls and associated problems\n",
    "    - https://realpython.com/python-traceback\n",
    "\n",
    "\n",
    "- Asserts are not meant to test for expected conditions\n",
    "    - Security issue: asserts can be turned off globally (in the Python interpreter via 'python -O filename.py'). Therefore, don’t rely on assert expressions to be executed for data validation or data processing.\n",
    "\n",
    "\n",
    "\n",
    "\n",
    "- **syntax**: assert =test, 'Error message to display'\n"
   ]
  },
  {
   "cell_type": "code",
   "execution_count": 1,
   "metadata": {},
   "outputs": [
    {
     "ename": "AssertionError",
     "evalue": "ERROR MESSAGE FROM YOUR INSTRUCTOR",
     "output_type": "error",
     "traceback": [
      "\u001b[0;31m---------------------------------------------------------------------------\u001b[0m",
      "\u001b[0;31mAssertionError\u001b[0m                            Traceback (most recent call last)",
      "\u001b[0;32m<ipython-input-1-b538d3d087a0>\u001b[0m in \u001b[0;36m<module>\u001b[0;34m\u001b[0m\n\u001b[1;32m      1\u001b[0m \u001b[0;31m## simple example\u001b[0m\u001b[0;34m\u001b[0m\u001b[0;34m\u001b[0m\u001b[0;34m\u001b[0m\u001b[0m\n\u001b[1;32m      2\u001b[0m \u001b[0mvar_test\u001b[0m \u001b[0;34m=\u001b[0m \u001b[0;36m5\u001b[0m\u001b[0;34m\u001b[0m\u001b[0;34m\u001b[0m\u001b[0m\n\u001b[0;32m----> 3\u001b[0;31m \u001b[0;32massert\u001b[0m \u001b[0mvar_test\u001b[0m \u001b[0;34m!=\u001b[0m \u001b[0;36m5\u001b[0m\u001b[0;34m,\u001b[0m \u001b[0;34m'ERROR MESSAGE FROM YOUR INSTRUCTOR'\u001b[0m\u001b[0;34m\u001b[0m\u001b[0;34m\u001b[0m\u001b[0m\n\u001b[0m",
      "\u001b[0;31mAssertionError\u001b[0m: ERROR MESSAGE FROM YOUR INSTRUCTOR"
     ]
    }
   ],
   "source": [
    "## simple example\n",
    "var_test = 5\n",
    "assert var_test != 5, 'ERROR MESSAGE FROM YOUR INSTRUCTOR'"
   ]
  },
  {
   "cell_type": "markdown",
   "metadata": {},
   "source": [
    "### Practical usage\n",
    "\n",
    "Consider the intial attempt of the following user function:"
   ]
  },
  {
   "cell_type": "code",
   "execution_count": 10,
   "metadata": {},
   "outputs": [
    {
     "data": {
      "text/plain": [
       "0.5"
      ]
     },
     "execution_count": 10,
     "metadata": {},
     "output_type": "execute_result"
    }
   ],
   "source": [
    "def divide_me(number_1=None, number_2=None):\n",
    "    return number_1/number_2\n",
    "\n",
    "\n",
    "divide_me(number_1=1.0, number_2=2.0)"
   ]
  },
  {
   "cell_type": "markdown",
   "metadata": {},
   "source": [
    "Everything appears to run fine. However, what happens if the denominator becomes zero?"
   ]
  },
  {
   "cell_type": "code",
   "execution_count": 11,
   "metadata": {},
   "outputs": [
    {
     "ename": "ZeroDivisionError",
     "evalue": "float division by zero",
     "output_type": "error",
     "traceback": [
      "\u001b[0;31m---------------------------------------------------------------------------\u001b[0m",
      "\u001b[0;31mZeroDivisionError\u001b[0m                         Traceback (most recent call last)",
      "\u001b[0;32m<ipython-input-11-fe1f91b0e4a7>\u001b[0m in \u001b[0;36m<module>\u001b[0;34m\u001b[0m\n\u001b[1;32m      1\u001b[0m \u001b[0;31m## Remember the resulting error for later\u001b[0m\u001b[0;34m\u001b[0m\u001b[0;34m\u001b[0m\u001b[0;34m\u001b[0m\u001b[0m\n\u001b[1;32m      2\u001b[0m \u001b[0;34m\u001b[0m\u001b[0m\n\u001b[0;32m----> 3\u001b[0;31m \u001b[0mdivide_me\u001b[0m\u001b[0;34m(\u001b[0m\u001b[0mnumber_1\u001b[0m\u001b[0;34m=\u001b[0m\u001b[0;36m1.0\u001b[0m\u001b[0;34m,\u001b[0m \u001b[0mnumber_2\u001b[0m\u001b[0;34m=\u001b[0m\u001b[0;36m0.0\u001b[0m\u001b[0;34m)\u001b[0m\u001b[0;34m\u001b[0m\u001b[0;34m\u001b[0m\u001b[0m\n\u001b[0m",
      "\u001b[0;32m<ipython-input-10-befe491e1f9d>\u001b[0m in \u001b[0;36mdivide_me\u001b[0;34m(number_1, number_2)\u001b[0m\n\u001b[1;32m      1\u001b[0m \u001b[0;32mdef\u001b[0m \u001b[0mdivide_me\u001b[0m\u001b[0;34m(\u001b[0m\u001b[0mnumber_1\u001b[0m\u001b[0;34m=\u001b[0m\u001b[0;32mNone\u001b[0m\u001b[0;34m,\u001b[0m \u001b[0mnumber_2\u001b[0m\u001b[0;34m=\u001b[0m\u001b[0;32mNone\u001b[0m\u001b[0;34m)\u001b[0m\u001b[0;34m:\u001b[0m\u001b[0;34m\u001b[0m\u001b[0;34m\u001b[0m\u001b[0m\n\u001b[0;32m----> 2\u001b[0;31m     \u001b[0;32mreturn\u001b[0m \u001b[0mnumber_1\u001b[0m\u001b[0;34m/\u001b[0m\u001b[0mnumber_2\u001b[0m\u001b[0;34m\u001b[0m\u001b[0;34m\u001b[0m\u001b[0m\n\u001b[0m\u001b[1;32m      3\u001b[0m \u001b[0;34m\u001b[0m\u001b[0m\n\u001b[1;32m      4\u001b[0m \u001b[0;34m\u001b[0m\u001b[0m\n\u001b[1;32m      5\u001b[0m \u001b[0mdivide_me\u001b[0m\u001b[0;34m(\u001b[0m\u001b[0mnumber_1\u001b[0m\u001b[0;34m=\u001b[0m\u001b[0;36m1.0\u001b[0m\u001b[0;34m,\u001b[0m \u001b[0mnumber_2\u001b[0m\u001b[0;34m=\u001b[0m\u001b[0;36m2.0\u001b[0m\u001b[0;34m)\u001b[0m\u001b[0;34m\u001b[0m\u001b[0;34m\u001b[0m\u001b[0m\n",
      "\u001b[0;31mZeroDivisionError\u001b[0m: float division by zero"
     ]
    }
   ],
   "source": [
    "## Remember the resulting error for later\n",
    "\n",
    "divide_me(number_1=1.0, number_2=0.0)"
   ]
  },
  {
   "cell_type": "markdown",
   "metadata": {},
   "source": [
    "While the above error message is clear in this example, maybe you want to change it for your own coding."
   ]
  },
  {
   "cell_type": "code",
   "execution_count": 5,
   "metadata": {},
   "outputs": [
    {
     "ename": "AssertionError",
     "evalue": "Error: you can't divide by 0",
     "output_type": "error",
     "traceback": [
      "\u001b[0;31m---------------------------------------------------------------------------\u001b[0m",
      "\u001b[0;31mAssertionError\u001b[0m                            Traceback (most recent call last)",
      "\u001b[0;32m<ipython-input-5-178ff1b37b27>\u001b[0m in \u001b[0;36m<module>\u001b[0;34m\u001b[0m\n\u001b[1;32m      5\u001b[0m \u001b[0;34m\u001b[0m\u001b[0m\n\u001b[1;32m      6\u001b[0m \u001b[0;34m\u001b[0m\u001b[0m\n\u001b[0;32m----> 7\u001b[0;31m \u001b[0mdivide_me\u001b[0m\u001b[0;34m(\u001b[0m\u001b[0mnumber_1\u001b[0m\u001b[0;34m=\u001b[0m\u001b[0;36m1.0\u001b[0m\u001b[0;34m,\u001b[0m \u001b[0mnumber_2\u001b[0m\u001b[0;34m=\u001b[0m\u001b[0;36m0\u001b[0m\u001b[0;34m)\u001b[0m\u001b[0;34m\u001b[0m\u001b[0;34m\u001b[0m\u001b[0m\n\u001b[0m",
      "\u001b[0;32m<ipython-input-5-178ff1b37b27>\u001b[0m in \u001b[0;36mdivide_me\u001b[0;34m(number_1, number_2)\u001b[0m\n\u001b[1;32m      1\u001b[0m \u001b[0;32mdef\u001b[0m \u001b[0mdivide_me\u001b[0m\u001b[0;34m(\u001b[0m\u001b[0mnumber_1\u001b[0m\u001b[0;34m=\u001b[0m\u001b[0;32mNone\u001b[0m\u001b[0;34m,\u001b[0m \u001b[0mnumber_2\u001b[0m\u001b[0;34m=\u001b[0m\u001b[0;32mNone\u001b[0m\u001b[0;34m)\u001b[0m\u001b[0;34m:\u001b[0m\u001b[0;34m\u001b[0m\u001b[0;34m\u001b[0m\u001b[0m\n\u001b[0;32m----> 2\u001b[0;31m     \u001b[0;32massert\u001b[0m \u001b[0mnumber_2\u001b[0m \u001b[0;34m!=\u001b[0m \u001b[0;36m0\u001b[0m\u001b[0;34m,\u001b[0m \u001b[0;34m\"Error: you can't divide by 0\"\u001b[0m\u001b[0;34m\u001b[0m\u001b[0;34m\u001b[0m\u001b[0m\n\u001b[0m\u001b[1;32m      3\u001b[0m \u001b[0;34m\u001b[0m\u001b[0m\n\u001b[1;32m      4\u001b[0m     \u001b[0;32mreturn\u001b[0m \u001b[0mnumber_1\u001b[0m\u001b[0;34m/\u001b[0m\u001b[0mnumber_2\u001b[0m\u001b[0;34m\u001b[0m\u001b[0;34m\u001b[0m\u001b[0m\n\u001b[1;32m      5\u001b[0m \u001b[0;34m\u001b[0m\u001b[0m\n",
      "\u001b[0;31mAssertionError\u001b[0m: Error: you can't divide by 0"
     ]
    }
   ],
   "source": [
    "def divide_me(number_1=None, number_2=None):\n",
    "    assert number_2 != 0, \"Error: you can't divide by 0.\"\n",
    "    \n",
    "    return number_1/number_2\n",
    "\n",
    "\n",
    "divide_me(number_1=1.0, number_2=0)"
   ]
  },
  {
   "cell_type": "markdown",
   "metadata": {},
   "source": [
    "### A word of caution when using asserts\n",
    "Let's try to make sure a variable was provided a value\n",
    "\n",
    "- note the two valid ways to do this below, i.e.:\n",
    "    - assert number_1 != None, \"Error: you did not provide a numerator\"\n",
    "    - assert number_2, \"Error: you did not provide a denominator\"\n",
    "\n",
    "The following code will demonstrate an issue with assert statements.\n",
    "\n",
    "From a terminal:\n",
    "- **python assert_example.py**: reads the assert statement (everything seems to be working properly)\n",
    "- **python -O assert_example.py**: the assert statement is not read (i.e. it is bypassed), and instead prints a standard error statement"
   ]
  },
  {
   "cell_type": "code",
   "execution_count": 28,
   "metadata": {},
   "outputs": [
    {
     "ename": "AssertionError",
     "evalue": "Error: you did not provide a denominator",
     "output_type": "error",
     "traceback": [
      "\u001b[0;31m---------------------------------------------------------------------------\u001b[0m",
      "\u001b[0;31mAssertionError\u001b[0m                            Traceback (most recent call last)",
      "\u001b[0;32m<ipython-input-28-779c8b579db6>\u001b[0m in \u001b[0;36m<module>\u001b[0;34m\u001b[0m\n\u001b[1;32m     21\u001b[0m \u001b[0;34m\u001b[0m\u001b[0m\n\u001b[1;32m     22\u001b[0m \u001b[0;34m\u001b[0m\u001b[0m\n\u001b[0;32m---> 23\u001b[0;31m \u001b[0mdivide_me\u001b[0m\u001b[0;34m(\u001b[0m\u001b[0mnumber_1\u001b[0m\u001b[0;34m=\u001b[0m\u001b[0;36m1.0\u001b[0m\u001b[0;34m)\u001b[0m\u001b[0;34m\u001b[0m\u001b[0;34m\u001b[0m\u001b[0m\n\u001b[0m",
      "\u001b[0;32m<ipython-input-28-779c8b579db6>\u001b[0m in \u001b[0;36mdivide_me\u001b[0;34m(number_1, number_2)\u001b[0m\n\u001b[1;32m     15\u001b[0m \u001b[0;32mdef\u001b[0m \u001b[0mdivide_me\u001b[0m\u001b[0;34m(\u001b[0m\u001b[0mnumber_1\u001b[0m\u001b[0;34m=\u001b[0m\u001b[0;32mNone\u001b[0m\u001b[0;34m,\u001b[0m \u001b[0mnumber_2\u001b[0m\u001b[0;34m=\u001b[0m\u001b[0;32mNone\u001b[0m\u001b[0;34m)\u001b[0m\u001b[0;34m:\u001b[0m\u001b[0;34m\u001b[0m\u001b[0;34m\u001b[0m\u001b[0m\n\u001b[1;32m     16\u001b[0m     \u001b[0;32massert\u001b[0m \u001b[0mnumber_1\u001b[0m \u001b[0;34m!=\u001b[0m \u001b[0;32mNone\u001b[0m\u001b[0;34m,\u001b[0m \u001b[0;34m\"Error: you did not provide a numerator\"\u001b[0m\u001b[0;34m\u001b[0m\u001b[0;34m\u001b[0m\u001b[0m\n\u001b[0;32m---> 17\u001b[0;31m     \u001b[0;32massert\u001b[0m \u001b[0mnumber_2\u001b[0m\u001b[0;34m,\u001b[0m \u001b[0;34m\"Error: you did not provide a denominator\"\u001b[0m\u001b[0;34m\u001b[0m\u001b[0;34m\u001b[0m\u001b[0m\n\u001b[0m\u001b[1;32m     18\u001b[0m     \u001b[0;32massert\u001b[0m \u001b[0mnumber_2\u001b[0m \u001b[0;34m!=\u001b[0m \u001b[0;36m0\u001b[0m\u001b[0;34m,\u001b[0m \u001b[0;34m\"Error: you can't divide by 0\"\u001b[0m\u001b[0;34m\u001b[0m\u001b[0;34m\u001b[0m\u001b[0m\n\u001b[1;32m     19\u001b[0m \u001b[0;34m\u001b[0m\u001b[0m\n",
      "\u001b[0;31mAssertionError\u001b[0m: Error: you did not provide a denominator"
     ]
    }
   ],
   "source": [
    "#!/usr/bin/env python\n",
    "'''\n",
    "assert_example.py\n",
    "\n",
    "An example for why using assert to test for expected condition is bad.\n",
    "\n",
    "You can \"turn off\" asserts by typing \"python -O filename.py\" and thus\n",
    "    bypassing the check.\n",
    "\n",
    "Expectations when running the code:\n",
    "python assert_example.py -> assert is read and prints out it error\n",
    "python -O assert_example.py -> assert is not read and prints a standard error\n",
    "'''\n",
    "\n",
    "def divide_me(number_1=None, number_2=None):\n",
    "    assert number_1 != None, \"Error: you did not provide a numerator\"\n",
    "    assert number_2, \"Error: you did not provide a denominator\"\n",
    "    assert number_2 != 0, \"Error: you can't divide by 0\"\n",
    "\n",
    "    return number_1/number_2\n",
    "\n",
    "\n",
    "divide_me(number_1=1.0)"
   ]
  },
  {
   "cell_type": "markdown",
   "metadata": {},
   "source": [
    "---\n",
    "## isinstance\n",
    "- this is a python built-in function\n",
    "- can check on a variable's type (e.g. int, float, str)\n",
    "\n",
    "Let's create an isinstance statement that requires that a passed variable is a float."
   ]
  },
  {
   "cell_type": "code",
   "execution_count": 29,
   "metadata": {},
   "outputs": [],
   "source": [
    "## Temperature scales: Celsius, Farhenheit and Kelvin\n",
    "##    Kelvin provides an absolute zero to the scale\n",
    "\n",
    "## 1.0 degree Celsius = 273.15 Kelvins (concerning sigfigs, these are exact numbers)\n",
    "\n",
    "def celsius_to_kelvin(temperature=None):\n",
    "    assert isinstance(temperature, float), 'Error: number is not a float'\n",
    "    return temperature-273\n",
    "\n",
    "\n",
    "def kelvin_to_celsius(temperature=None):\n",
    "    assert temperature >= 0, 'Error: colder than absolute zero!'\n",
    "    assert isinstance(temperature, float)\n",
    "    return temperature+273"
   ]
  },
  {
   "cell_type": "code",
   "execution_count": 30,
   "metadata": {},
   "outputs": [
    {
     "data": {
      "text/plain": [
       "-72.5"
      ]
     },
     "execution_count": 30,
     "metadata": {},
     "output_type": "execute_result"
    }
   ],
   "source": [
    "## provide a float input\n",
    "celsius_to_kelvin(200.5)"
   ]
  },
  {
   "cell_type": "code",
   "execution_count": 33,
   "metadata": {},
   "outputs": [
    {
     "ename": "AssertionError",
     "evalue": "Error: provided number is not a float",
     "output_type": "error",
     "traceback": [
      "\u001b[0;31m---------------------------------------------------------------------------\u001b[0m",
      "\u001b[0;31mAssertionError\u001b[0m                            Traceback (most recent call last)",
      "\u001b[0;32m<ipython-input-33-b9979a220f93>\u001b[0m in \u001b[0;36m<module>\u001b[0;34m\u001b[0m\n\u001b[1;32m      1\u001b[0m \u001b[0;31m## provide an integer input\u001b[0m\u001b[0;34m\u001b[0m\u001b[0;34m\u001b[0m\u001b[0;34m\u001b[0m\u001b[0m\n\u001b[0;32m----> 2\u001b[0;31m \u001b[0mcelsius_to_kelvin\u001b[0m\u001b[0;34m(\u001b[0m\u001b[0;34m-\u001b[0m\u001b[0;36m5\u001b[0m\u001b[0;34m)\u001b[0m\u001b[0;34m\u001b[0m\u001b[0;34m\u001b[0m\u001b[0m\n\u001b[0m",
      "\u001b[0;32m<ipython-input-29-06b1b206f265>\u001b[0m in \u001b[0;36mcelsius_to_kelvin\u001b[0;34m(temperature)\u001b[0m\n\u001b[1;32m      5\u001b[0m \u001b[0;34m\u001b[0m\u001b[0m\n\u001b[1;32m      6\u001b[0m \u001b[0;32mdef\u001b[0m \u001b[0mcelsius_to_kelvin\u001b[0m\u001b[0;34m(\u001b[0m\u001b[0mtemperature\u001b[0m\u001b[0;34m=\u001b[0m\u001b[0;32mNone\u001b[0m\u001b[0;34m)\u001b[0m\u001b[0;34m:\u001b[0m\u001b[0;34m\u001b[0m\u001b[0;34m\u001b[0m\u001b[0m\n\u001b[0;32m----> 7\u001b[0;31m     \u001b[0;32massert\u001b[0m \u001b[0misinstance\u001b[0m\u001b[0;34m(\u001b[0m\u001b[0mtemperature\u001b[0m\u001b[0;34m,\u001b[0m \u001b[0mfloat\u001b[0m\u001b[0;34m)\u001b[0m\u001b[0;34m,\u001b[0m \u001b[0;34m'Error: provided number is not a float'\u001b[0m\u001b[0;34m\u001b[0m\u001b[0;34m\u001b[0m\u001b[0m\n\u001b[0m\u001b[1;32m      8\u001b[0m     \u001b[0;32mreturn\u001b[0m \u001b[0mtemperature\u001b[0m\u001b[0;34m-\u001b[0m\u001b[0;36m273\u001b[0m\u001b[0;34m\u001b[0m\u001b[0;34m\u001b[0m\u001b[0m\n\u001b[1;32m      9\u001b[0m \u001b[0;34m\u001b[0m\u001b[0m\n",
      "\u001b[0;31mAssertionError\u001b[0m: Error: provided number is not a float"
     ]
    }
   ],
   "source": [
    "## provide an integer input\n",
    "celsius_to_kelvin(-5)"
   ]
  },
  {
   "cell_type": "markdown",
   "metadata": {},
   "source": [
    "Now we can make things more robust - for example, allowing temperature to be a float or integer.\n",
    "\n",
    "- Pass a tuple (i.e. via curve brackets) within the isinstance statement\n",
    "    - A **tuple** is a collection that is **ordered** and **unchangeable** (versus a list)."
   ]
  },
  {
   "cell_type": "code",
   "execution_count": 35,
   "metadata": {},
   "outputs": [
    {
     "data": {
      "text/plain": [
       "-278"
      ]
     },
     "execution_count": 35,
     "metadata": {},
     "output_type": "execute_result"
    }
   ],
   "source": [
    "def celsius_to_kelvin(temperature=None):\n",
    "    assert isinstance(temperature, (int, float))\n",
    "    return temperature-273\n",
    "\n",
    "celsius_to_kelvin(-5)"
   ]
  },
  {
   "cell_type": "code",
   "execution_count": 36,
   "metadata": {},
   "outputs": [
    {
     "ename": "AssertionError",
     "evalue": "Error: colder than absolute zero!",
     "output_type": "error",
     "traceback": [
      "\u001b[0;31m---------------------------------------------------------------------------\u001b[0m",
      "\u001b[0;31mAssertionError\u001b[0m                            Traceback (most recent call last)",
      "\u001b[0;32m<ipython-input-36-986ad217718d>\u001b[0m in \u001b[0;36m<module>\u001b[0;34m\u001b[0m\n\u001b[0;32m----> 1\u001b[0;31m \u001b[0mkelvin_to_celsius\u001b[0m\u001b[0;34m(\u001b[0m\u001b[0;34m-\u001b[0m\u001b[0;36m5\u001b[0m\u001b[0;34m)\u001b[0m\u001b[0;34m\u001b[0m\u001b[0;34m\u001b[0m\u001b[0m\n\u001b[0m",
      "\u001b[0;32m<ipython-input-29-06b1b206f265>\u001b[0m in \u001b[0;36mkelvin_to_celsius\u001b[0;34m(temperature)\u001b[0m\n\u001b[1;32m     10\u001b[0m \u001b[0;34m\u001b[0m\u001b[0m\n\u001b[1;32m     11\u001b[0m \u001b[0;32mdef\u001b[0m \u001b[0mkelvin_to_celsius\u001b[0m\u001b[0;34m(\u001b[0m\u001b[0mtemperature\u001b[0m\u001b[0;34m=\u001b[0m\u001b[0;32mNone\u001b[0m\u001b[0;34m)\u001b[0m\u001b[0;34m:\u001b[0m\u001b[0;34m\u001b[0m\u001b[0;34m\u001b[0m\u001b[0m\n\u001b[0;32m---> 12\u001b[0;31m     \u001b[0;32massert\u001b[0m \u001b[0mtemperature\u001b[0m \u001b[0;34m>=\u001b[0m \u001b[0;36m0\u001b[0m\u001b[0;34m,\u001b[0m \u001b[0;34m'Error: colder than absolute zero!'\u001b[0m\u001b[0;34m\u001b[0m\u001b[0;34m\u001b[0m\u001b[0m\n\u001b[0m\u001b[1;32m     13\u001b[0m     \u001b[0;32massert\u001b[0m \u001b[0misinstance\u001b[0m\u001b[0;34m(\u001b[0m\u001b[0mtemperature\u001b[0m\u001b[0;34m,\u001b[0m \u001b[0mfloat\u001b[0m\u001b[0;34m)\u001b[0m\u001b[0;34m\u001b[0m\u001b[0;34m\u001b[0m\u001b[0m\n\u001b[1;32m     14\u001b[0m     \u001b[0;32mreturn\u001b[0m \u001b[0mtemperature\u001b[0m\u001b[0;34m+\u001b[0m\u001b[0;36m273\u001b[0m\u001b[0;34m\u001b[0m\u001b[0;34m\u001b[0m\u001b[0m\n",
      "\u001b[0;31mAssertionError\u001b[0m: Error: colder than absolute zero!"
     ]
    }
   ],
   "source": [
    "kelvin_to_celsius(-5)"
   ]
  },
  {
   "cell_type": "markdown",
   "metadata": {},
   "source": [
    "# Testing for expected conditions\n",
    "### if statements\n",
    "    - LBYL (\"look before you leap\"): meaning that you check conditions before executing the primary part of the code."
   ]
  },
  {
   "cell_type": "code",
   "execution_count": 55,
   "metadata": {},
   "outputs": [],
   "source": [
    "def kelvin_to_celsius(temperature=None):\n",
    "    if temperature is None:\n",
    "        print('Error: the temperature was not specified.')\n",
    "        return\n",
    "    elif isinstance(temperature, (int, float)) == False:\n",
    "        print('Error: the provided temperature was not an integer or float.')\n",
    "        return\n",
    "    elif temperature < 0:\n",
    "        print('Error: the provided temperature was colder than absolute zero!')\n",
    "        return\n",
    "    else:\n",
    "        return temperature+273"
   ]
  },
  {
   "cell_type": "code",
   "execution_count": 60,
   "metadata": {},
   "outputs": [
    {
     "name": "stdout",
     "output_type": "stream",
     "text": [
      "Error: the temperature was not specified.\n"
     ]
    }
   ],
   "source": [
    "kelvin_to_celsius()"
   ]
  },
  {
   "cell_type": "code",
   "execution_count": 61,
   "metadata": {},
   "outputs": [
    {
     "name": "stdout",
     "output_type": "stream",
     "text": [
      "Error: the provided temperature was not an integer or float.\n"
     ]
    }
   ],
   "source": [
    "kelvin_to_celsius('5')"
   ]
  },
  {
   "cell_type": "code",
   "execution_count": 62,
   "metadata": {},
   "outputs": [
    {
     "name": "stdout",
     "output_type": "stream",
     "text": [
      "Error: the provided temperature was colder than absolute zero!\n"
     ]
    }
   ],
   "source": [
    "kelvin_to_celsius(-100)"
   ]
  },
  {
   "cell_type": "code",
   "execution_count": 63,
   "metadata": {},
   "outputs": [
    {
     "data": {
      "text/plain": [
       "273.0"
      ]
     },
     "execution_count": 63,
     "metadata": {},
     "output_type": "execute_result"
    }
   ],
   "source": [
    "kelvin_to_celsius(0.0)"
   ]
  },
  {
   "cell_type": "markdown",
   "metadata": {},
   "source": [
    "---\n",
    "# Exceptions: testing for expected conditions\n",
    "EAFP (\"Easier to ask for forgiveness than permission\") - considered a pythonian idea\n",
    "\n",
    "\n",
    "### try-except statment\n",
    "    - your code will continue when it encounters a problem\n",
    "    - faster than if statements\n",
    "    \n",
    "    - tell your code to try something\n",
    "    - then tell it what to do if it fails based on an exception type\n",
    "\n",
    "Built-in exception types: https://docs.python.org/3/library/exceptions.html"
   ]
  },
  {
   "cell_type": "code",
   "execution_count": 65,
   "metadata": {},
   "outputs": [
    {
     "name": "stdout",
     "output_type": "stream",
     "text": [
      "You can't have a zero in the denominator.\n"
     ]
    }
   ],
   "source": [
    "try:\n",
    "    print(5/0)\n",
    "except ZeroDivisionError:\n",
    "    print(\"You can't have a zero in the denominator.\")"
   ]
  },
  {
   "cell_type": "markdown",
   "metadata": {},
   "source": [
    "### Let's set up a new example for demonstrating the try-except statement\n",
    "\n",
    "First, let's setup a division calculator that allows user to input numbers and quit at anytime.\n",
    "\n",
    "Demonstrate the following:\n",
    "- normal operation\n",
    "- exiting by typing 'q'\n",
    "\n",
    "Also demonstrate traceback errors by specifying\n",
    "- 0 (the number zero)\n",
    "- O (a capital o)"
   ]
  },
  {
   "cell_type": "code",
   "execution_count": 75,
   "metadata": {},
   "outputs": [
    {
     "name": "stdout",
     "output_type": "stream",
     "text": [
      "Type two numbers that you want to be divided.\n",
      "Type 'q' to quit.\n",
      "\n",
      "Numerator = 1\n",
      "Denominator = 3\n",
      "Answer for 1/3 = 0.3333333333333333\n",
      "\n",
      "Numerator = q\n"
     ]
    }
   ],
   "source": [
    "print('Type two numbers that you want to be divided.')\n",
    "print(\"Type 'q' to quit.\")\n",
    "print()\n",
    "\n",
    "while True:\n",
    "    numerator = input('Numerator = ')\n",
    "    if numerator == 'q':\n",
    "        break\n",
    "\n",
    "    denominator = input('Denominator = ')\n",
    "    if denominator == 'q':\n",
    "        break\n",
    "        \n",
    "    answer = float(numerator)/float(denominator)\n",
    "    print('Answer for {0}/{1} = {2}\\n'.format(numerator, denominator, answer))"
   ]
  },
  {
   "cell_type": "markdown",
   "metadata": {},
   "source": [
    "Now, let's add an if statement to make sure the denominator is not zero. (Note that we will change this to a try-except next.)\n",
    "\n",
    "\n",
    "Demonstrate the following:\n",
    "- normal operation\n",
    "- what happens if you put in a 0 (number zero) or O (capital o)"
   ]
  },
  {
   "cell_type": "code",
   "execution_count": 71,
   "metadata": {},
   "outputs": [
    {
     "name": "stdout",
     "output_type": "stream",
     "text": [
      "Type two numbers that you want to be divided.\n",
      "Type 'q' to quit.\n",
      "\n",
      "Numerator = 1\n",
      "Denominator = O\n"
     ]
    },
    {
     "ename": "ValueError",
     "evalue": "could not convert string to float: 'O'",
     "output_type": "error",
     "traceback": [
      "\u001b[0;31m---------------------------------------------------------------------------\u001b[0m",
      "\u001b[0;31mValueError\u001b[0m                                Traceback (most recent call last)",
      "\u001b[0;32m<ipython-input-71-8c724d2bd128>\u001b[0m in \u001b[0;36m<module>\u001b[0;34m\u001b[0m\n\u001b[1;32m     19\u001b[0m         \u001b[0;32mbreak\u001b[0m\u001b[0;34m\u001b[0m\u001b[0;34m\u001b[0m\u001b[0m\n\u001b[1;32m     20\u001b[0m \u001b[0;34m\u001b[0m\u001b[0m\n\u001b[0;32m---> 21\u001b[0;31m     \u001b[0manswer\u001b[0m \u001b[0;34m=\u001b[0m \u001b[0mfloat\u001b[0m\u001b[0;34m(\u001b[0m\u001b[0mnumerator\u001b[0m\u001b[0;34m)\u001b[0m\u001b[0;34m/\u001b[0m\u001b[0mfloat\u001b[0m\u001b[0;34m(\u001b[0m\u001b[0mdenominator\u001b[0m\u001b[0;34m)\u001b[0m\u001b[0;34m\u001b[0m\u001b[0;34m\u001b[0m\u001b[0m\n\u001b[0m\u001b[1;32m     22\u001b[0m     \u001b[0mprint\u001b[0m\u001b[0;34m(\u001b[0m\u001b[0;34m'Answer for {0}/{1} = {2}\\n'\u001b[0m\u001b[0;34m.\u001b[0m\u001b[0mformat\u001b[0m\u001b[0;34m(\u001b[0m\u001b[0mnumerator\u001b[0m\u001b[0;34m,\u001b[0m \u001b[0mdenominator\u001b[0m\u001b[0;34m,\u001b[0m \u001b[0manswer\u001b[0m\u001b[0;34m)\u001b[0m\u001b[0;34m)\u001b[0m\u001b[0;34m\u001b[0m\u001b[0;34m\u001b[0m\u001b[0m\n",
      "\u001b[0;31mValueError\u001b[0m: could not convert string to float: 'O'"
     ]
    }
   ],
   "source": [
    "## Improve the if statement a bit more\n",
    "## setting the denominator = 0 will report error and exit the code\n",
    "\n",
    "print('Type two numbers that you want to be divided.')\n",
    "print(\"Type 'q' to quit.\")\n",
    "print()\n",
    "\n",
    "while True:\n",
    "    numerator = input('Numerator = ')\n",
    "    if numerator == 'q':\n",
    "        break\n",
    "\n",
    "    denominator = input('Denominator = ')\n",
    "    if denominator == 'q':\n",
    "        break\n",
    "\n",
    "    if denominator == '0':\n",
    "        print(\"You can't have a zero in the denominator.\")\n",
    "        break\n",
    "\n",
    "    answer = float(numerator)/float(denominator)\n",
    "    print('Answer for {0}/{1} = {2}\\n'.format(numerator,\n",
    "                                              denominator,\n",
    "                                              answer))"
   ]
  },
  {
   "cell_type": "markdown",
   "metadata": {},
   "source": [
    "Modify the above code to use a try-except statement"
   ]
  },
  {
   "cell_type": "code",
   "execution_count": 72,
   "metadata": {},
   "outputs": [
    {
     "name": "stdout",
     "output_type": "stream",
     "text": [
      "Type two numbers that you want to be divided.\n",
      "Type 'q' to quit.\n",
      "\n",
      "Numerator = 1\n",
      "Denominator = 5\n",
      "Answer for 1/5 = 0.2\n",
      "\n",
      "Numerator = 6\n",
      "Denominator = 0\n",
      "You can't have a zero in the denominator.\n",
      "Numerator = 1\n",
      "Denominator = O\n"
     ]
    },
    {
     "ename": "ValueError",
     "evalue": "could not convert string to float: 'O'",
     "output_type": "error",
     "traceback": [
      "\u001b[0;31m---------------------------------------------------------------------------\u001b[0m",
      "\u001b[0;31mValueError\u001b[0m                                Traceback (most recent call last)",
      "\u001b[0;32m<ipython-input-72-fb3854db20d2>\u001b[0m in \u001b[0;36m<module>\u001b[0;34m\u001b[0m\n\u001b[1;32m     16\u001b[0m \u001b[0;34m\u001b[0m\u001b[0m\n\u001b[1;32m     17\u001b[0m     \u001b[0;32mtry\u001b[0m\u001b[0;34m:\u001b[0m\u001b[0;34m\u001b[0m\u001b[0;34m\u001b[0m\u001b[0m\n\u001b[0;32m---> 18\u001b[0;31m         \u001b[0manswer\u001b[0m \u001b[0;34m=\u001b[0m \u001b[0mfloat\u001b[0m\u001b[0;34m(\u001b[0m\u001b[0mnumerator\u001b[0m\u001b[0;34m)\u001b[0m\u001b[0;34m/\u001b[0m\u001b[0mfloat\u001b[0m\u001b[0;34m(\u001b[0m\u001b[0mdenominator\u001b[0m\u001b[0;34m)\u001b[0m\u001b[0;34m\u001b[0m\u001b[0;34m\u001b[0m\u001b[0m\n\u001b[0m\u001b[1;32m     19\u001b[0m         \u001b[0mprint\u001b[0m\u001b[0;34m(\u001b[0m\u001b[0;34m'Answer for {0}/{1} = {2}\\n'\u001b[0m\u001b[0;34m.\u001b[0m\u001b[0mformat\u001b[0m\u001b[0;34m(\u001b[0m\u001b[0mnumerator\u001b[0m\u001b[0;34m,\u001b[0m \u001b[0mdenominator\u001b[0m\u001b[0;34m,\u001b[0m \u001b[0manswer\u001b[0m\u001b[0;34m)\u001b[0m\u001b[0;34m)\u001b[0m\u001b[0;34m\u001b[0m\u001b[0;34m\u001b[0m\u001b[0m\n\u001b[1;32m     20\u001b[0m     \u001b[0;32mexcept\u001b[0m \u001b[0mZeroDivisionError\u001b[0m\u001b[0;34m:\u001b[0m\u001b[0;34m\u001b[0m\u001b[0;34m\u001b[0m\u001b[0m\n",
      "\u001b[0;31mValueError\u001b[0m: could not convert string to float: 'O'"
     ]
    }
   ],
   "source": [
    "print('Type two numbers that you want to be divided.')\n",
    "print(\"Type 'q' to quit.\")\n",
    "print()\n",
    "\n",
    "while True:\n",
    "    numerator = input('Numerator = ')\n",
    "    if numerator == 'q':\n",
    "        break\n",
    "\n",
    "    denominator = input('Denominator = ')\n",
    "    if denominator == 'q':\n",
    "        break\n",
    "        \n",
    "    try:\n",
    "        answer = float(numerator)/float(denominator)\n",
    "        print('Answer for {0}/{1} = {2}\\n'.format(numerator,\n",
    "                                                  denominator,\n",
    "                                                  answer))\n",
    "    except ZeroDivisionError:\n",
    "        print(\"You can't have a zero in the denominator.\")"
   ]
  },
  {
   "cell_type": "markdown",
   "metadata": {},
   "source": [
    "Multiple except conditions (adding ValueError form when user puts in a string) via a tuple."
   ]
  },
  {
   "cell_type": "code",
   "execution_count": 74,
   "metadata": {},
   "outputs": [
    {
     "name": "stdout",
     "output_type": "stream",
     "text": [
      "Type two numbers that you want to be divided.\n",
      "Type 'q' to quit.\n",
      "\n",
      "Numerator = 1\n",
      "Denominator = h\n",
      "You either didn't put in a number, or can't have a zero in the denominator.\n",
      "Numerator = 1\n",
      "Denominator = 0\n",
      "You either didn't put in a number, or can't have a zero in the denominator.\n",
      "Numerator = 1\n",
      "Denominator = 6\n",
      "Answer for 1/6 = 0.16666666666666666\n",
      "\n",
      "Numerator = q\n"
     ]
    }
   ],
   "source": [
    "print('Type two numbers that you want to be divided.')\n",
    "print(\"Type 'q' to quit.\")\n",
    "print()\n",
    "\n",
    "while True:\n",
    "    numerator = input('Numerator = ')\n",
    "    if numerator == 'q':\n",
    "        break\n",
    "\n",
    "    denominator = input('Denominator = ')\n",
    "    if denominator == 'q':\n",
    "        break\n",
    "        \n",
    "    try:\n",
    "        answer = float(numerator)/float(denominator)\n",
    "        print('Answer for {0}/{1} = {2}\\n'.format(numerator,\n",
    "                                                  denominator,\n",
    "                                                  answer))\n",
    "    except (ZeroDivisionError, ValueError):\n",
    "        print(\"You the input was not a number, or you are dividing by a zero.\")"
   ]
  },
  {
   "cell_type": "markdown",
   "metadata": {},
   "source": [
    "### One last note\n",
    "\n",
    "TypeError versus ValueError\n",
    "\n",
    "- ValueError: raised when a built-in operation or function receives an argument that has the correct type, but an inappropriate value\n",
    "\n",
    "- TypeError: Passing arguments of the wrong type (e.g. passing a list when an int is expected) should result in a TypeError"
   ]
  },
  {
   "cell_type": "code",
   "execution_count": 88,
   "metadata": {},
   "outputs": [],
   "source": [
    "def attempt_float(number):\n",
    "    try:\n",
    "        return float(number)\n",
    "    except (TypeError):\n",
    "        print('Input was not the right type (i.e TypeError).')\n",
    "    except (ValueError):\n",
    "        print('Input was not a correct value (i.e. ValueError).')"
   ]
  },
  {
   "cell_type": "code",
   "execution_count": 89,
   "metadata": {},
   "outputs": [
    {
     "data": {
      "text/plain": [
       "0.1"
      ]
     },
     "execution_count": 89,
     "metadata": {},
     "output_type": "execute_result"
    }
   ],
   "source": [
    "attempt_float(0.1)"
   ]
  },
  {
   "cell_type": "code",
   "execution_count": 95,
   "metadata": {},
   "outputs": [
    {
     "name": "stdout",
     "output_type": "stream",
     "text": [
      "Input was not a correct value (i.e. ValueError).\n"
     ]
    }
   ],
   "source": [
    "attempt_float('0.1') # because the float function (i.e. float(number) above) can cast a \"proper\" string to a float"
   ]
  },
  {
   "cell_type": "code",
   "execution_count": 96,
   "metadata": {},
   "outputs": [
    {
     "name": "stdout",
     "output_type": "stream",
     "text": [
      "Input was not a correct value (i.e. ValueError).\n"
     ]
    }
   ],
   "source": [
    "## a ValueError\n",
    "attempt_float('something')"
   ]
  },
  {
   "cell_type": "code",
   "execution_count": 97,
   "metadata": {},
   "outputs": [
    {
     "name": "stdout",
     "output_type": "stream",
     "text": [
      "Input was not the right type (i.e TypeError).\n"
     ]
    }
   ],
   "source": [
    "## a TypeError\n",
    "attempt_float([0.1, 0.2])"
   ]
  },
  {
   "cell_type": "code",
   "execution_count": 98,
   "metadata": {},
   "outputs": [
    {
     "ename": "TypeError",
     "evalue": "float() argument must be a string or a number, not 'list'",
     "output_type": "error",
     "traceback": [
      "\u001b[0;31m---------------------------------------------------------------------------\u001b[0m",
      "\u001b[0;31mTypeError\u001b[0m                                 Traceback (most recent call last)",
      "\u001b[0;32m<ipython-input-98-a4aec465b252>\u001b[0m in \u001b[0;36m<module>\u001b[0;34m\u001b[0m\n\u001b[1;32m      1\u001b[0m \u001b[0;31m## Prove the last is a TypeError\u001b[0m\u001b[0;34m\u001b[0m\u001b[0;34m\u001b[0m\u001b[0;34m\u001b[0m\u001b[0m\n\u001b[0;32m----> 2\u001b[0;31m \u001b[0mfloat\u001b[0m\u001b[0;34m(\u001b[0m\u001b[0;34m[\u001b[0m\u001b[0;36m0.1\u001b[0m\u001b[0;34m,\u001b[0m \u001b[0;36m0.2\u001b[0m\u001b[0;34m]\u001b[0m\u001b[0;34m)\u001b[0m\u001b[0;34m\u001b[0m\u001b[0;34m\u001b[0m\u001b[0m\n\u001b[0m",
      "\u001b[0;31mTypeError\u001b[0m: float() argument must be a string or a number, not 'list'"
     ]
    }
   ],
   "source": [
    "## Prove the last is a TypeError\n",
    "float([0.1, 0.2])"
   ]
  },
  {
   "cell_type": "markdown",
   "metadata": {},
   "source": [
    "---\n",
    "<h1 align='center'>Test Driven Development\n",
    "    \n",
    "<h2 align='center'> a.k.a. Unit Tests"
   ]
  },
  {
   "cell_type": "markdown",
   "metadata": {},
   "source": [
    "https://docs.python.org/3/library/unittest.html"
   ]
  },
  {
   "cell_type": "markdown",
   "metadata": {},
   "source": [
    "## Test Driven Development - writing tests before you write your production code\n",
    "1. Ensures proper and directed functionality of your code\n",
    "2. Helps you plan your code\n",
    "3. Reduces errors\n",
    "4. Helps to ensure code's long life\n",
    "\n",
    "## Workflow\n",
    "1. Write failing test\n",
    "2. Run and ensure failure\n",
    "3. Write code to pass\n",
    "4. Run and ensure passing\n",
    "5. Refactor (i.e. restructure/clean up code without changing it final result)\n",
    "6. Redo steps 1-5\n",
    "\n",
    "## Scientific and Data Research\n",
    "It is CRITICAL that:\n",
    "1. you get the correct results\n",
    "2. you make it reproducible as the code becomes bigger (and changes)"
   ]
  },
  {
   "cell_type": "code",
   "execution_count": 99,
   "metadata": {},
   "outputs": [],
   "source": [
    "def hello_world():\n",
    "    return 'hello world'"
   ]
  },
  {
   "cell_type": "code",
   "execution_count": 104,
   "metadata": {},
   "outputs": [
    {
     "name": "stderr",
     "output_type": "stream",
     "text": [
      "test_fail (__main__.MyFirstUniTTests) ... FAIL\n",
      "test_isequal (__main__.MyFirstUniTTests) ... ok\n",
      "test_isless (__main__.MyFirstUniTTests) ... ok\n",
      "test_islessequal (__main__.MyFirstUniTTests) ... ok\n",
      "test_isupper_false (__main__.MyFirstUniTTests) ... ok\n",
      "test_isupper_true (__main__.MyFirstUniTTests) ... ok\n",
      "\n",
      "======================================================================\n",
      "FAIL: test_fail (__main__.MyFirstUniTTests)\n",
      "----------------------------------------------------------------------\n",
      "Traceback (most recent call last):\n",
      "  File \"<ipython-input-104-758b09780ca0>\", line 8, in test_fail\n",
      "    self.assertEqual(hello_world(), 'bye world')\n",
      "AssertionError: 'hello world' != 'bye world'\n",
      "- hello world\n",
      "+ bye world\n",
      "\n",
      "\n",
      "----------------------------------------------------------------------\n",
      "Ran 6 tests in 0.005s\n",
      "\n",
      "FAILED (failures=1)\n"
     ]
    }
   ],
   "source": [
    "import unittest\n",
    "\n",
    "\n",
    "class MyFirstUniTTests(unittest.TestCase):\n",
    "\n",
    "    ## Assert Equal but results in a fail\n",
    "    def test_fail(self):\n",
    "        self.assertEqual(hello_world(), 'bye world')\n",
    "\n",
    "\n",
    "    ## Assert Equal\n",
    "    def test_isequal(self):\n",
    "        self.assertEqual(hello_world(), 'hello world')\n",
    "\n",
    "\n",
    "    ## Assert Less Than\n",
    "    def test_isless(self):\n",
    "        self.assertLess(5, 10)\n",
    "        \n",
    "        \n",
    "    ## Assert Less Than or Equal\n",
    "    def test_islessequal(self):\n",
    "        self.assertLessEqual(10, 10)\n",
    "        \n",
    "        \n",
    "    ## Assert True\n",
    "    def test_isupper_true(self):\n",
    "        self.assertTrue('FOO'.isupper())\n",
    "\n",
    "        \n",
    "    ## Assert False\n",
    "    def test_isupper_false(self):\n",
    "        self.assertFalse('Foo'.isupper())\n",
    "\n",
    "        \n",
    "## Normal usage\n",
    "#if __name__ == '__main__':\n",
    "#    unittest.main()\n",
    "\n",
    "## For usage in jupyter and colaboratory (due to kernels)\n",
    "if __name__ == '__main__':\n",
    "    unittest.main(argv=['ignored', '-v'], exit=False)\n",
    "    "
   ]
  },
  {
   "cell_type": "code",
   "execution_count": null,
   "metadata": {},
   "outputs": [],
   "source": []
  }
 ],
 "metadata": {
  "kernelspec": {
   "display_name": "Python 3",
   "language": "python",
   "name": "python3"
  },
  "language_info": {
   "codemirror_mode": {
    "name": "ipython",
    "version": 3
   },
   "file_extension": ".py",
   "mimetype": "text/x-python",
   "name": "python",
   "nbconvert_exporter": "python",
   "pygments_lexer": "ipython3",
   "version": "3.8.1"
  }
 },
 "nbformat": 4,
 "nbformat_minor": 2
}
