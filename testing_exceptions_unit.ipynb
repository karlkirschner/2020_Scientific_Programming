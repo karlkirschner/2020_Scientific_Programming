{
 "cells": [
  {
   "cell_type": "markdown",
   "metadata": {},
   "source": [
    "<h1 align='center'>Testing inside your code\n",
    "    \n",
    "<h2 align='center'>and\n",
    "    \n",
    "<h1 align='center'>Testing the code itself"
   ]
  },
  {
   "cell_type": "code",
   "execution_count": null,
   "metadata": {},
   "outputs": [],
   "source": [
    "import sys  ## for sys.exit"
   ]
  },
  {
   "cell_type": "markdown",
   "metadata": {},
   "source": [
    "---\n",
    "## A quick note about typing\n",
    "\n",
    "Note that **typing** (a.k.a. type hinting, annotating functions) - actually **doesn't enforce** anything.\n",
    "\n",
    "We use them for our own **clarification** of the code and its usage."
   ]
  },
  {
   "cell_type": "code",
   "execution_count": null,
   "metadata": {},
   "outputs": [],
   "source": [
    "def user_function(number: float=None) -> float:\n",
    "    return number*2"
   ]
  },
  {
   "cell_type": "code",
   "execution_count": null,
   "metadata": {},
   "outputs": [],
   "source": [
    "user_function(number='me')"
   ]
  },
  {
   "cell_type": "markdown",
   "metadata": {},
   "source": [
    "---\n",
    "## assert\n",
    "- A helpful way to **debug** code\n",
    "- Includes **traceback** (aka stack trace, stack traceback, backtrace) to show you the sequence of calls and associated problems\n",
    "    - https://realpython.com/python-traceback\n",
    "\n",
    "\n",
    "- Asserts are not meant to test for expected conditions\n",
    "    - Security issue: asserts can be turned off globally (in the Python interpreter via 'python -O filename.py'). Therefore, don’t rely on assert expressions to be executed for data validation or data processing.\n",
    "\n",
    "\n",
    "\n",
    "\n",
    "- **syntax**: assert =test, 'Error message to display'\n"
   ]
  },
  {
   "cell_type": "markdown",
   "metadata": {},
   "source": [
    "An assert statement is equivalent to the following  code:\n",
    "\n",
    "```python\n",
    "if not condition:\n",
    "    raise AssertionError()\n",
    "```\n",
    "\n",
    "A simple example:"
   ]
  },
  {
   "cell_type": "code",
   "execution_count": null,
   "metadata": {},
   "outputs": [],
   "source": [
    "var_test = 5\n",
    "assert var_test != 5, 'ERROR MESSAGE FROM YOUR INSTRUCTOR'"
   ]
  },
  {
   "cell_type": "markdown",
   "metadata": {},
   "source": [
    "### Practical usage\n",
    "\n",
    "Consider the intial attempt of the following user function:"
   ]
  },
  {
   "cell_type": "code",
   "execution_count": null,
   "metadata": {},
   "outputs": [],
   "source": [
    "def divide_me(number_1=None, number_2=None):\n",
    "    \n",
    "    return number_1/number_2\n",
    "\n",
    "\n",
    "divide_me(number_1=1.0, number_2=2.0)"
   ]
  },
  {
   "cell_type": "markdown",
   "metadata": {},
   "source": [
    "The functions runs just fine, but what about two possible scenarios:\n",
    "1. A variable is set to None\n",
    "2. The number_2 is set to zero (i.e. divide by zero)\n",
    "\n"
   ]
  },
  {
   "cell_type": "code",
   "execution_count": null,
   "metadata": {},
   "outputs": [],
   "source": [
    "def divide_me2(number_1=None, number_2=None):\n",
    "    return number_1/number_2\n",
    "\n",
    "divide_me2(number_1=1.0, number_2=None)"
   ]
  },
  {
   "cell_type": "markdown",
   "metadata": {},
   "source": [
    "An assert can check to make sure that a variable is not None (via '!=' or 'is not None'), making the resulting error more understandable."
   ]
  },
  {
   "cell_type": "code",
   "execution_count": null,
   "metadata": {},
   "outputs": [],
   "source": [
    "def divide_me2(number_1=None, number_2=None):\n",
    "    assert number_1 is not None, 'Number 1 (the numerator) is not provide.'\n",
    "    assert number_2 != None, 'Number 2 (the denomenator) is not provide.'\n",
    "    \n",
    "    return number_1/number_2\n",
    "\n",
    "divide_me2(number_1=1.0, number_2=None)"
   ]
  },
  {
   "cell_type": "markdown",
   "metadata": {},
   "source": [
    "Now, let's make an assert statement to ensure number_2 is not zero."
   ]
  },
  {
   "cell_type": "code",
   "execution_count": null,
   "metadata": {},
   "outputs": [],
   "source": [
    "## Remember the resulting error for later\n",
    "\n",
    "divide_me(number_1=1.0, number_2=0.0)"
   ]
  },
  {
   "cell_type": "markdown",
   "metadata": {},
   "source": [
    "While the above error message is clear in this example, maybe you want to change it for your own coding."
   ]
  },
  {
   "cell_type": "code",
   "execution_count": null,
   "metadata": {},
   "outputs": [],
   "source": [
    "def divide_me(number_1=None, number_2=None):\n",
    "    assert number_1 is not None, 'Number 1 is not provide.'\n",
    "    assert number_2 is not None, 'Number 2 is not provide.'\n",
    "    assert number_2 != 0, \"Error: you can't divide by 0.\"\n",
    "    \n",
    "    return number_1/number_2\n",
    "\n",
    "\n",
    "divide_me(number_1=1.0, number_2=0)"
   ]
  },
  {
   "cell_type": "markdown",
   "metadata": {},
   "source": [
    "### A word of caution when using asserts\n",
    "Let's try to make sure a variable was not assigned a default None value\n",
    "\n",
    "One might think there two ways to do this below (if you search the web):\n",
    "- assert number_1 != None, \"Error: you did not provide a numerator\"\n",
    "- assert number_2, \"Error: you did not provide a denominator\"\n",
    "\n",
    "However, the second one can provide unexpected results, as shown in the following where we provide both variables a value. One would expect 'ZeroDivisionError: float division by zero' to be returned."
   ]
  },
  {
   "cell_type": "code",
   "execution_count": null,
   "metadata": {},
   "outputs": [],
   "source": [
    "def divide_me2(number_1=None, number_2=None):\n",
    "    assert number_1 is not None, 'Number 1 is not provide.'\n",
    "    assert number_2, 'Number 2 is not provide.'\n",
    "    \n",
    "    return number_1/number_2\n",
    "\n",
    "divide_me2(number_1=1.0, number_2=0.0)"
   ]
  },
  {
   "cell_type": "markdown",
   "metadata": {},
   "source": [
    "There is also a way for user to **circumvent** (i.e. get around) assert statements.\n",
    "\n",
    "From a bash terminal:\n",
    "- **python assert_example.py**: reads the assert statement (everything seems to be working properly)\n",
    "- **python -O assert_example.py**: the assert statement is not read (i.e. it is bypassed), and instead prints a standard error statement\n",
    "\n",
    "Here is what the assert_example.py code looks like:"
   ]
  },
  {
   "cell_type": "code",
   "execution_count": null,
   "metadata": {},
   "outputs": [],
   "source": [
    "#!/usr/bin/env python\n",
    "\n",
    "'''\n",
    "assert_example.py\n",
    "\n",
    "An example for why using assert to test for expected condition is bad.\n",
    "\n",
    "You can \"turn off\" asserts by typing \"python -O filename.py\" and thus\n",
    "    bypassing the check.\n",
    "\n",
    "Expectations when running the code in a bash terminal:\n",
    "python assert_example.py -> assert is read and prints out it error\n",
    "python -O assert_example.py -> assert is not read and program runs\n",
    "'''\n",
    "\n",
    "\n",
    "def simple_print(number_1=None, number_2=None):\n",
    "    assert number_1 != None, \"Error: you did not provide a numerator\"\n",
    "    assert number_2 != None, \"Error: you did not provide a denominator\"\n",
    "    assert number_2 != 0, \"Number 2 can't be zero\"\n",
    "\n",
    "    print(number_1, number_2)\n",
    "\n",
    "\n",
    "simple_print(number_2=0.0)"
   ]
  },
  {
   "cell_type": "code",
   "execution_count": null,
   "metadata": {},
   "outputs": [],
   "source": [
    "!python assert_example.py"
   ]
  },
  {
   "cell_type": "code",
   "execution_count": null,
   "metadata": {},
   "outputs": [],
   "source": [
    "!python -O assert_example.py"
   ]
  },
  {
   "cell_type": "markdown",
   "metadata": {},
   "source": [
    "#### Take-home message about Asserts and in-my-opinion:\n",
    "\n",
    "- They are helpful for debugging your code during its development.\n",
    "- They are not as robust as I wish there were.\n",
    "- There are better ways to have internal checks."
   ]
  },
  {
   "cell_type": "markdown",
   "metadata": {},
   "source": [
    "---\n",
    "## isinstance\n",
    "- this is a python built-in function\n",
    "- can check on a variable's type (e.g. int, float, str)\n",
    "\n",
    "Let's first show some code that would include assert statments with isinstance that requires that a passed variable is a float.\n",
    "\n",
    "**Background** information on temperature scales\n",
    "\n",
    "There exists the following three temperature scales:\n",
    "\n",
    "1. Celsius - lowest temperature possible is -273.15 °C\n",
    "2. Farhenheit - lowest temperature possible is-459.67 °F\n",
    "3. Kelvin - lowest temperature possible is 0 °K\n",
    "\n",
    "Therefore, the Kelvin scale provides an absolute zero to the scale, which is useful in science.\n",
    "\n",
    "1.0 degree Celsius = 273.15 Kelvins (concerning sigfigs, these are exact numbers)"
   ]
  },
  {
   "cell_type": "markdown",
   "metadata": {},
   "source": [
    "**Example 1**: isinstance with an assert statement:"
   ]
  },
  {
   "cell_type": "code",
   "execution_count": null,
   "metadata": {},
   "outputs": [],
   "source": [
    "def celsius_to_kelvin(temperature=None):\n",
    "    assert isinstance(temperature, float), 'Error: number is not a float'\n",
    "    return temperature - 273.15\n",
    "\n",
    "\n",
    "def kelvin_to_celsius(temperature=None):\n",
    "    assert temperature >= 0, 'Error: colder than absolute zero!'\n",
    "    assert isinstance(temperature, float)\n",
    "    return temperature + 273.15"
   ]
  },
  {
   "cell_type": "code",
   "execution_count": null,
   "metadata": {},
   "outputs": [],
   "source": [
    "celsius_to_kelvin()"
   ]
  },
  {
   "cell_type": "markdown",
   "metadata": {},
   "source": [
    "However, a different message that is not the assert message is given in the following:"
   ]
  },
  {
   "cell_type": "code",
   "execution_count": null,
   "metadata": {},
   "outputs": [],
   "source": [
    "kelvin_to_celsius()"
   ]
  },
  {
   "cell_type": "markdown",
   "metadata": {},
   "source": [
    "**Example 2**: let's make this more robust by not using as assert statement."
   ]
  },
  {
   "cell_type": "code",
   "execution_count": null,
   "metadata": {},
   "outputs": [],
   "source": [
    "def celsius_to_kelvin(temperature=None):\n",
    "\n",
    "    if not isinstance(temperature, float):\n",
    "        sys.exit(\"Error: 'temperature' is not a float.\")\n",
    "    elif temperature < -273.15:\n",
    "        sys.exit(\"Error: the temperature is colder than absolute zero!\")\n",
    "    return temperature - 273.15\n",
    "\n",
    "\n",
    "def kelvin_to_celsius(temperature=None):\n",
    "\n",
    "    if not isinstance(temperature, float):\n",
    "        sys.exit(\"Error: 'temperature' is not a float.\")\n",
    "    elif temperature < 0.0:\n",
    "        sys.exit(\"Error: the temperature is colder than absolute zero!\")\n",
    " \n",
    "    return temperature + 273.15"
   ]
  },
  {
   "cell_type": "code",
   "execution_count": null,
   "metadata": {},
   "outputs": [],
   "source": [
    "celsius_to_kelvin()"
   ]
  },
  {
   "cell_type": "code",
   "execution_count": null,
   "metadata": {},
   "outputs": [],
   "source": [
    "## provide a float input\n",
    "celsius_to_kelvin(200.5)"
   ]
  },
  {
   "cell_type": "code",
   "execution_count": null,
   "metadata": {},
   "outputs": [],
   "source": [
    "## provide an integer input\n",
    "celsius_to_kelvin(-5)"
   ]
  },
  {
   "cell_type": "markdown",
   "metadata": {},
   "source": [
    "**Example 3**: now we can make things even more robust - for example, allowing temperature to be a float or an integer.\n",
    "\n",
    "- Pass a tuple (i.e. via curve brackets) within the isinstance statement\n",
    "    - Recall that a **tuple** is a collection that is **ordered** and **unchangeable** (versus a list)."
   ]
  },
  {
   "cell_type": "code",
   "execution_count": null,
   "metadata": {},
   "outputs": [],
   "source": [
    "def celsius_to_kelvin(temperature=None):\n",
    "    \n",
    "    if not isinstance(temperature, (int, float)):\n",
    "        sys.exit(\"Error: 'temperature' is not an integer or float.\")\n",
    "    elif temperature < -273.15:\n",
    "        sys.exit(\"Error: the temperature is colder than absolute zero!\")\n",
    "    return temperature - 273.15\n",
    "\n",
    "celsius_to_kelvin(temperature=-5)"
   ]
  },
  {
   "cell_type": "markdown",
   "metadata": {},
   "source": [
    "---\n",
    "# Exceptions: testing for expected conditions\n",
    "EAFP (\"Easier to ask for forgiveness than permission\") - this is considered a pythonian idea\n",
    "\n",
    "\n",
    "### try-except statment\n",
    "    - your code will continue when it encounters a problem\n",
    "    - faster than if statements for when majority (>50%) of planned executions are expected to be successful\n",
    "        - i.e. they don't run in into an exception\n",
    "    \n",
    "    - tells your code to try something\n",
    "    - then tell it what to do if it fails based on an exception type\n",
    "\n",
    "Built-in exception types: https://docs.python.org/3/library/exceptions.html"
   ]
  },
  {
   "cell_type": "code",
   "execution_count": null,
   "metadata": {},
   "outputs": [],
   "source": [
    "try:\n",
    "    print(5/0)\n",
    "except ZeroDivisionError:\n",
    "    print(\"You can't have a zero in the denominator.\")"
   ]
  },
  {
   "cell_type": "markdown",
   "metadata": {},
   "source": [
    "### Let's set up a new example for demonstrating the try-except statement\n",
    "\n",
    "First, let's setup a division calculator that allows user to input numbers and quit at anytime using while and if loops.\n",
    "\n",
    "Demonstrate the following:\n",
    "- normal operation\n",
    "- exiting by typing 'q'\n",
    "\n",
    "Also demonstrate traceback errors by specifying for one of the numbers:\n",
    "- O (a capital o)"
   ]
  },
  {
   "cell_type": "code",
   "execution_count": null,
   "metadata": {},
   "outputs": [],
   "source": [
    "print('Type two numbers that you want to be divided.')\n",
    "print(\"Type 'q' to quit.\")\n",
    "print()\n",
    "\n",
    "while True:\n",
    "    numerator = input('Numerator = ')\n",
    "    if numerator == 'q':\n",
    "        break\n",
    "\n",
    "    denominator = input('Denominator = ')\n",
    "    if denominator == 'q':\n",
    "        break\n",
    "        \n",
    "    answer = float(numerator)/float(denominator)\n",
    "    print('Answer for {0}/{1} = {2}\\n'.format(numerator, denominator, answer))"
   ]
  },
  {
   "cell_type": "markdown",
   "metadata": {},
   "source": [
    "Now, let's add an if statement to make sure the denominator is not zero. (Note that we will change this to a try-except next.)\n",
    "\n",
    "\n",
    "Demonstrate the following:\n",
    "- normal operation\n",
    "- what happens if you put in a 0 (number zero) or O (capital o)"
   ]
  },
  {
   "cell_type": "code",
   "execution_count": null,
   "metadata": {},
   "outputs": [],
   "source": [
    "## Improve the if statement a bit more\n",
    "## setting the denominator = 0 will report error and exit the code\n",
    "\n",
    "print('Type two numbers that you want to be divided.')\n",
    "print(\"Type 'q' to quit.\")\n",
    "print()\n",
    "\n",
    "while True:\n",
    "    numerator = input('Numerator = ')\n",
    "    if numerator == 'q':\n",
    "        break\n",
    "\n",
    "    denominator = input('Denominator = ')\n",
    "    if denominator == 'q':\n",
    "        break\n",
    "\n",
    "    if denominator == '0':\n",
    "        print(\"You can't have a zero in the denominator.\")\n",
    "        break\n",
    "\n",
    "    answer = float(numerator)/float(denominator)\n",
    "    print('Answer for {0}/{1} = {2}\\n'.format(numerator,\n",
    "                                              denominator,\n",
    "                                              answer))"
   ]
  },
  {
   "cell_type": "markdown",
   "metadata": {},
   "source": [
    "Modify the above code to use a try-except statement"
   ]
  },
  {
   "cell_type": "code",
   "execution_count": null,
   "metadata": {},
   "outputs": [],
   "source": [
    "print('Type two numbers that you want to be divided.')\n",
    "print(\"Type 'q' to quit.\")\n",
    "print()\n",
    "\n",
    "while True:\n",
    "    numerator = input('Numerator = ')\n",
    "    if numerator == 'q':\n",
    "        break\n",
    "\n",
    "    denominator = input('Denominator = ')\n",
    "    if denominator == 'q':\n",
    "        break\n",
    "        \n",
    "    try:\n",
    "        answer = float(numerator)/float(denominator)\n",
    "        print('Answer for {0}/{1} = {2}\\n'.format(numerator,\n",
    "                                                  denominator,\n",
    "                                                  answer))\n",
    "    except ZeroDivisionError:\n",
    "        print(\"You can't have a zero in the denominator.\")"
   ]
  },
  {
   "cell_type": "markdown",
   "metadata": {},
   "source": [
    "Multiple except conditions (adding **ValueError** form when user puts in a string) via a tuple."
   ]
  },
  {
   "cell_type": "code",
   "execution_count": null,
   "metadata": {},
   "outputs": [],
   "source": [
    "print('Type two numbers that you want to be divided.')\n",
    "print(\"Type 'q' to quit.\")\n",
    "print()\n",
    "\n",
    "while True:\n",
    "    numerator = input('Numerator = ')\n",
    "    if numerator == 'q':\n",
    "        break\n",
    "\n",
    "    denominator = input('Denominator = ')\n",
    "    if denominator == 'q':\n",
    "        break\n",
    "        \n",
    "    try:\n",
    "        answer = float(numerator)/float(denominator)\n",
    "        print('Answer for {0}/{1} = {2}\\n'.format(numerator,\n",
    "                                                  denominator,\n",
    "                                                  answer))\n",
    "    except (ZeroDivisionError, ValueError):\n",
    "        print(\"You the input was not a number, or you are dividing by a zero.\")"
   ]
  },
  {
   "cell_type": "markdown",
   "metadata": {},
   "source": [
    "### One last note\n",
    "\n",
    "TypeError versus ValueError\n",
    "\n",
    "- ValueError: raised when a built-in operation or function receives an argument that has the correct type, but an inappropriate value\n",
    "\n",
    "- TypeError: Passing arguments of the wrong type (e.g. passing a list when an int is expected) should result in a TypeError\n",
    "\n",
    "Best understood through the following example..."
   ]
  },
  {
   "cell_type": "code",
   "execution_count": null,
   "metadata": {},
   "outputs": [],
   "source": [
    "def attempt_float(number):\n",
    "    try:\n",
    "        return float(number)\n",
    "    except (TypeError):\n",
    "        print('Input was not the right type (i.e TypeError).')\n",
    "    except (ValueError):\n",
    "        print('Input was not a correct value (i.e. ValueError).')"
   ]
  },
  {
   "cell_type": "code",
   "execution_count": null,
   "metadata": {},
   "outputs": [],
   "source": [
    "attempt_float(0.1)"
   ]
  },
  {
   "cell_type": "markdown",
   "metadata": {},
   "source": [
    "Note the following case.\n",
    "\n",
    "Examplanation: because the float function (i.e. float(number) above) can cast a \"proper\" string to a float."
   ]
  },
  {
   "cell_type": "code",
   "execution_count": null,
   "metadata": {},
   "outputs": [],
   "source": [
    "attempt_float('0.1')"
   ]
  },
  {
   "cell_type": "code",
   "execution_count": null,
   "metadata": {},
   "outputs": [],
   "source": [
    "## a ValueError\n",
    "attempt_float('something')"
   ]
  },
  {
   "cell_type": "code",
   "execution_count": null,
   "metadata": {},
   "outputs": [],
   "source": [
    "## a TypeError\n",
    "attempt_float([0.1, 0.2])"
   ]
  },
  {
   "cell_type": "code",
   "execution_count": null,
   "metadata": {},
   "outputs": [],
   "source": [
    "## Prove the last is a TypeError\n",
    "float([0.1, 0.2])"
   ]
  },
  {
   "cell_type": "markdown",
   "metadata": {},
   "source": [
    "---\n",
    "<h1 align='center'>Test Driven Development\n",
    "    \n",
    "<h2 align='center'> a.k.a. Unit Tests"
   ]
  },
  {
   "cell_type": "markdown",
   "metadata": {},
   "source": [
    "https://docs.python.org/3/library/unittest.html"
   ]
  },
  {
   "cell_type": "markdown",
   "metadata": {},
   "source": [
    "## Test Driven Development - writing tests before you write your production code\n",
    "1. Ensures proper and directed functionality of your code\n",
    "2. Helps you plan your code\n",
    "3. Reduces errors\n",
    "4. Helps to ensure code's long life\n",
    "\n",
    "## Workflow\n",
    "1. Write failing test\n",
    "2. Run and ensure failure\n",
    "3. Write code to pass\n",
    "4. Run and ensure passing\n",
    "5. Refactor (i.e. restructure/clean up code without changing it final result)\n",
    "6. Redo steps 1-5\n",
    "\n",
    "## Scientific and Data Research\n",
    "It is CRITICAL that:\n",
    "1. you get the correct results\n",
    "2. you make it reproducible as the code becomes bigger (and changes)"
   ]
  },
  {
   "cell_type": "markdown",
   "metadata": {},
   "source": [
    "#### Assert statements that can be used in unittest library\n",
    "\n",
    "https://docs.python.org/3/library/unittest.html#module-unittest\n",
    "\n",
    "\n",
    "| Method | Checks that | New in |\n",
    "|:------|:-:|:-:|\n",
    "| assertEqual(a, b) | a == b | |\n",
    "| assertNotEqual(a, b)| a != b | |\n",
    "| assertTrue(x) | bool(x) is True | |\n",
    "| assertFalse(x) | bool(x) is False | |\n",
    "| assertIs(a, b) | a is b | 3.1 |\n",
    "| assertIsNot(a, b) | a is not b | 3.1 |\n",
    "| assertIsNone(x) | x is None | 3.1 |\n",
    "| assertIsNotNone(x) | x is not None | 3.1 |\n",
    "| assertIn(a, b) | a in b | 3.1 |\n",
    "| assertNotIn(a, b) | a not in b | 3.1 |\n",
    "| assertIsInstance(a, b) | isinstance(a, b) | 3.2 |\n",
    "| assertNotIsInstance(a, b) | not isinstance(a, b) | 3.2 |\n",
    "| | | |\n",
    "| | | |\n",
    "| assertAlmostEqual(a, b) | round(a-b, 7) == 0 | |\n",
    "| assertNotAlmostEqual(a, b) | round(a-b, 7) != 0 | |\n",
    "| assertGreater(a, b) | a > b | 3.1 |\n",
    "| assertGreaterEqual(a, b) | a >= b | 3.1 |\n",
    "| assertLess(a, b) | a < b | 3.1 |\n",
    "| assertLessEqual(a, b) | a <= b | 3.1 |\n",
    "| assertRegex(s, r) | r.search(s) | 3.1 |\n",
    "| assertNotRegex(s, r) | not r.search(s) | 3.2 |\n",
    "| assertCountEqual(a, b) | a and b have the same elements in the same number, regardless of their order. | 3.2 |\n",
    "\n",
    "\n",
    "| Method | Used to compare | New in|\n",
    "|:------|:-:|:-:|\n",
    "| assertMultiLineEqual(a, b) | strings | 3.1 |\n",
    "| assertSequenceEqual(a, b) | sequences | 3.1 |\n",
    "| assertListEqual(a, b) | lists | 3.1 |\n",
    "| assertTupleEqual(a, b) | tuples | 3.1 |\n",
    "| assertSetEqual(a, b) | sets or frozensets | 3.1 |\n",
    "| assertDictEqual(a, b) | dicts | 3.1 |"
   ]
  },
  {
   "cell_type": "code",
   "execution_count": null,
   "metadata": {},
   "outputs": [],
   "source": [
    "def hello_world():\n",
    "    return 'hello world'"
   ]
  },
  {
   "cell_type": "markdown",
   "metadata": {},
   "source": [
    "Demonstrate the following\n",
    "- with the first assertEqual commented out to result in a \"all is correct\" unit test run\n",
    "- with the first assertEqual enabled to result in \"something went wrong\" unit test run"
   ]
  },
  {
   "cell_type": "code",
   "execution_count": null,
   "metadata": {},
   "outputs": [],
   "source": [
    "import unittest\n",
    "\n",
    "\n",
    "class MyFirstUniTTests(unittest.TestCase):\n",
    "\n",
    "    ## Assert Equal but results in a fail\n",
    "    #def test_fail(self):\n",
    "    #    self.assertEqual(hello_world(), 'bye world')\n",
    "\n",
    "\n",
    "    ## Assert Equal\n",
    "    def test_isEqual(self):\n",
    "        self.assertEqual(hello_world(), 'hello world')\n",
    "\n",
    "\n",
    "    ## Assert Less Than\n",
    "    def test_isLess(self):\n",
    "        self.assertLess(5, 10)\n",
    "        \n",
    "        \n",
    "    ## Assert Less Than or Equal\n",
    "    def test_isLessEqual(self):\n",
    "        self.assertLessEqual(10, 10)\n",
    "        \n",
    "        \n",
    "    ## Assert True\n",
    "    def test_isUpperTrue(self):\n",
    "        self.assertTrue('FOO'.isupper())\n",
    "\n",
    "        \n",
    "    ## Assert False\n",
    "    def test_isUpperFalse(self):\n",
    "        self.assertFalse('Foo'.isupper())\n",
    "\n",
    "        \n",
    "## Normal usage\n",
    "#if __name__ == '__main__':\n",
    "#    unittest.main()\n",
    "\n",
    "## For usage in jupyter and colaboratory (due to kernels)\n",
    "if __name__ == '__main__':\n",
    "    unittest.main(argv=['ignored', '-v'], exit=False)\n",
    "    "
   ]
  },
  {
   "cell_type": "code",
   "execution_count": null,
   "metadata": {},
   "outputs": [],
   "source": []
  },
  {
   "cell_type": "code",
   "execution_count": null,
   "metadata": {},
   "outputs": [],
   "source": []
  }
 ],
 "metadata": {
  "kernelspec": {
   "display_name": "Python 3",
   "language": "python",
   "name": "python3"
  },
  "language_info": {
   "codemirror_mode": {
    "name": "ipython",
    "version": 3
   },
   "file_extension": ".py",
   "mimetype": "text/x-python",
   "name": "python",
   "nbconvert_exporter": "python",
   "pygments_lexer": "ipython3",
   "version": "3.8.1"
  }
 },
 "nbformat": 4,
 "nbformat_minor": 2
}
