{
 "cells": [
  {
   "cell_type": "markdown",
   "metadata": {},
   "source": [
    "<a id='best_practice_top'></a>\n",
    "# <center> Scientific Programming\n",
    "\n",
    "Primary source: [Wilson, G., Aruliah, D.A., Brown, C.T., Hong, N.P.C., Davis, M., Guy, R.T., Haddock, S.H., Huff, K.D., Mitchell, I.M., Plumbley, M.D. and Waugh, B., 2014. Best practices for scientific computing. PLoS biology, 12, 1-7.](https://journals.plos.org/plosbiology/article?id=10.1371/journal.pbio.1001745)"
   ]
  },
  {
   "cell_type": "markdown",
   "metadata": {},
   "source": [
    "***\n",
    "\"Computers are now essential in all branches of science, but most researchers are never taught the equivalent of basic lab skills for research computing. As a result, they ... are often unable to reproduce their own work ... and have no idea how reliable their computational results are.\" \n",
    "\n",
    "Wilson, Greg, Jennifer Bryan, Karen Cranston, Justin Kitzes, Lex Nederbragt, and Tracy K. Teal. \"Good enough practices in scientific computing.\" PLoS computational biology 13, no. 6 (2017).\n",
    "\n",
    "***"
   ]
  },
  {
   "cell_type": "markdown",
   "metadata": {},
   "source": [
    "# The 7 practices for programming within research settings"
   ]
  },
  {
   "cell_type": "markdown",
   "metadata": {},
   "source": [
    "<a id='best_practice_people'></a>\n",
    "## 1. Write programs for **people**, not computers\n",
    "\n",
    "**Why**\n",
    "    1. The reader will only hold a few facts in mememory at a time\n",
    "\n",
    "**How**\n",
    "    1. Break the program up into easy understandable chuncks (i.e. functions)\n",
    "    2. Use names that are consistent, distinctive and meaningful (e.g. \"density\" vs. \"d\")\n",
    "    3. Use a consistent coding style (e.g. CamelCaseNaming vs. pothole_case_naming)\n",
    "    \n",
    "**Example**: Ask the user for their age, and then state what it will be in 3 years."
   ]
  },
  {
   "cell_type": "code",
   "execution_count": 1,
   "metadata": {},
   "outputs": [
    {
     "name": "stdout",
     "output_type": "stream",
     "text": [
      "What is your age?\n",
      "9\n",
      "In two years, you will be 11\n"
     ]
    }
   ],
   "source": [
    "# Example\n",
    "print('What is your age?')\n",
    "myAge = input()\n",
    "print('In two years, you will be', int(myAge) + 2)"
   ]
  },
  {
   "cell_type": "markdown",
   "metadata": {},
   "source": [
    "***\n",
    "<a id='best_practice_work'></a>\n",
    "## 2. Have the computer do the work\n",
    "\n",
    "**Why**\n",
    "    1. User repetition eventually results in errors, even with those who are careful\n",
    "\n",
    "**How**\n",
    "    1. Create code that does the repeating element\n",
    "        \n",
    "    2. Create code that allows sequential workflow usage and modulation\n",
    "        \n",
    "    3. Save commands to file for future use\n",
    "        \n",
    "    4. Ensure reproducibilty\n",
    "        - Everything needed to re-create the output should be clear\n",
    "        - Standardize the output\n",
    "        - Version control, even as simple as using a numbering system (e.g. v.0.1)\n",
    "\n",
    "**Example**: Given the length of two triangles, get their total area. Print out all areas."
   ]
  },
  {
   "cell_type": "code",
   "execution_count": 2,
   "metadata": {},
   "outputs": [
    {
     "name": "stdout",
     "output_type": "stream",
     "text": [
      "Rectangle Area 1: 12.0\n",
      "Rectangle Area 2: 0.75\n",
      "Total Area: 12.75\n"
     ]
    }
   ],
   "source": [
    "## Poor Example\n",
    "area_total = 4.0*3.0 + 0.5*1.5\n",
    "\n",
    "print('Rectangle Area 1:', 4.0*3.0)\n",
    "print('Rectangle Area 2:', 0.5*1.5)\n",
    "print('Total Area:', area_total)"
   ]
  },
  {
   "cell_type": "markdown",
   "metadata": {},
   "source": [
    "Why is it poorly done?\n",
    "1. There is no statement that will calculate the area of 1 rectangle\n",
    "2. Not very modular, nor is it very readble\n",
    "3. Prone to human error - e.g. print('Area Number 1:', 0.5*2.5)"
   ]
  },
  {
   "cell_type": "code",
   "execution_count": 3,
   "metadata": {},
   "outputs": [
    {
     "name": "stdout",
     "output_type": "stream",
     "text": [
      "Rectangle Area 1: 12.0\n",
      "Rectangle Area 2: 0.75\n",
      "Total Area: 12.75\n"
     ]
    }
   ],
   "source": [
    "## Better Example\n",
    "def rectangle_area(length=None, width=None):\n",
    "    rect_area = length*width\n",
    "    return rect_area\n",
    "\n",
    "\n",
    "area_1 = None\n",
    "area_2 = None\n",
    "\n",
    "area_1 = rectangle_area(length=4.0, width=3.0)\n",
    "area_2 = rectangle_area(length=0.5, width=1.5)\n",
    "area_total = area_1 + area_2\n",
    "\n",
    "print('Rectangle Area 1:', area_1)\n",
    "print('Rectangle Area 2:', area_2)\n",
    "print('Total Area:', area_total)"
   ]
  },
  {
   "cell_type": "markdown",
   "metadata": {},
   "source": [
    "Why is this better?\n",
    "1. A function that does one thing, and can be called multiple times\n",
    "2. Modular and easy to modify\n",
    "3. Less prone to error due to the function"
   ]
  },
  {
   "cell_type": "markdown",
   "metadata": {},
   "source": [
    "<a id='best_practice_concise'></a>\n",
    "## 3. Don't repeat yourself, or others\n",
    "\n",
    "**Why**\n",
    "    1. Repeating code makes things harder to maintain and increases chances of introducing errors\n",
    "\n",
    "**How**\n",
    "    1. DRY - \"Don't Repeat Yourself,\" applying this to both code and data\n",
    "        - One code representation of an entity. <br>\n",
    "          Example 1: physical constants should be defined (variable, object) once <br>\n",
    "          Example 2: input raw data should be assigned to a single variable (i.e. not duplicated)\n",
    "            \n",
    "    2. Modularize your code (e.g. unique functions)\n",
    "            \n",
    "    3. Use reliable libraries made by others (Python is very good at this) - don't revinvent the wheel\n",
    "\n",
    "**Example**: Calculate the area of 4 circles with radii of 1.0, 2.0, 2.5 and 3.0"
   ]
  },
  {
   "cell_type": "markdown",
   "metadata": {},
   "source": [
    "***\n",
    "<a id='best_practice_incremental'></a>\n",
    "## 4. Make small incremental (sequential) changes\n",
    "\n",
    "**Why**\n",
    "    1. In scientific programming, the specific end result is not initally known since each steps depends on the previous one\n",
    "        \n",
    "    2. Their is no company that sets the requirements, allowing for more flexibility\n",
    "\n",
    "**How**\n",
    "    1. Work in small steps (e.g. something doable in 1 hour)\n",
    "        \n",
    "    2. Work on steps that are sequential\n",
    "        \n",
    "    3. Have frequent discussions and course correction\n",
    "        \n",
    "    4. Use a version control system (i.e. git) - also ensures reproducibility\n",
    "        \n",
    "    5. Use unit tests - help to control errors and directs your logical thinking\n",
    "    \n",
    "***"
   ]
  },
  {
   "cell_type": "code",
   "execution_count": 4,
   "metadata": {},
   "outputs": [
    {
     "name": "stdout",
     "output_type": "stream",
     "text": [
      "Area of circle with radius of 1.0: 3.14\n",
      "Area of circle with radius of 2.0: 12.56\n",
      "Area of circle with radius of 2.5: 19.625\n",
      "Area of circle with radius of 3.5: 38.465\n"
     ]
    }
   ],
   "source": [
    "## Poor Example\n",
    "print('Area of circle with radius of 1.0:', 3.14*1.0*1.0)\n",
    "print('Area of circle with radius of 2.0:', 3.14*2.0*2.0)\n",
    "print('Area of circle with radius of 2.5:', 3.14*2.5*2.5)\n",
    "print('Area of circle with radius of 3.5:', 3.14*3.5*3.5)"
   ]
  },
  {
   "cell_type": "code",
   "execution_count": 5,
   "metadata": {},
   "outputs": [
    {
     "name": "stdout",
     "output_type": "stream",
     "text": [
      "Area of circle with radius of 1.0: 3.141592653589793\n",
      "Area of circle with radius of 2.0: 12.566370614359172\n",
      "Area of circle with radius of 2.5: 19.634954084936208\n",
      "Area of circle with radius of 3.5: 38.48451000647496\n"
     ]
    }
   ],
   "source": [
    "## Better Example\n",
    "from math import pi\n",
    "\n",
    "def circle_area(radius_input=None):\n",
    "    circle_area = None\n",
    "    circle_area = pi*(radius_input**2)\n",
    "    return circle_area\n",
    "\n",
    "\n",
    "radii=[1.0, 2.0, 2.5, 3.5]\n",
    "\n",
    "for radius in radii:\n",
    "    area = circle_area(radius_input=radius)\n",
    "    print('Area of circle with radius of {0}: {1}'.format(radius, area))"
   ]
  },
  {
   "cell_type": "markdown",
   "metadata": {},
   "source": [
    "***\n",
    "<a id='best_practice_plan'></a>\n",
    "## 5. Plan for Mistakes\n",
    "\n",
    "**Why**\n",
    "    1. Because mistakes will happen\n",
    "\n",
    "**How**\n",
    "    1. Use assertions (if True ...) to check the program's operation\n",
    "        - They stop the program if something is wrong\n",
    "        - They are executable documentation (i.e. explains what is going on within the code)\n",
    "            \n",
    "    2. Unit tests - automated test on a single \"unit\" of code\n",
    "        \n",
    "    3. Integration tests - test if units of code work together\n",
    "        \n",
    "    4. Regression tests - program's behavior doesn't change when the program's details are modified\n",
    "          (e.g. the output data is presented and remains the same)\n",
    "            \n",
    "    5. Take a divide-and-conquer approach (i.e. simplify)\n",
    "        \n",
    "    6. Turn bugs into test cases\n",
    "            \n",
    "**Note 1**: Test are often done to see if the code's output matches the researcher's expectations. That means you must have good understanding of the problem.\n",
    "    \n",
    "**Note 2**: Test can often initially be done on simpler systems\n",
    "\n",
    "**Example**: Add an 'assert' statements to the circle_area function (see above)"
   ]
  },
  {
   "cell_type": "code",
   "execution_count": 26,
   "metadata": {},
   "outputs": [
    {
     "name": "stdout",
     "output_type": "stream",
     "text": [
      "Area of circle with radius of 1.0: 3.141592653589793\n",
      "Area of circle with radius of 2.0: 12.566370614359172\n"
     ]
    },
    {
     "ename": "AssertionError",
     "evalue": "",
     "output_type": "error",
     "traceback": [
      "\u001b[0;31m---------------------------------------------------------------------------\u001b[0m",
      "\u001b[0;31mAssertionError\u001b[0m                            Traceback (most recent call last)",
      "\u001b[0;32m<ipython-input-26-a14c846aa502>\u001b[0m in \u001b[0;36m<module>\u001b[0;34m\u001b[0m\n\u001b[1;32m     12\u001b[0m \u001b[0;34m\u001b[0m\u001b[0m\n\u001b[1;32m     13\u001b[0m \u001b[0;32mfor\u001b[0m \u001b[0mradius\u001b[0m \u001b[0;32min\u001b[0m \u001b[0mradii\u001b[0m\u001b[0;34m:\u001b[0m\u001b[0;34m\u001b[0m\u001b[0;34m\u001b[0m\u001b[0m\n\u001b[0;32m---> 14\u001b[0;31m     \u001b[0marea\u001b[0m \u001b[0;34m=\u001b[0m \u001b[0mcircle_area\u001b[0m\u001b[0;34m(\u001b[0m\u001b[0mradius_input\u001b[0m\u001b[0;34m=\u001b[0m\u001b[0mradius\u001b[0m\u001b[0;34m)\u001b[0m\u001b[0;34m\u001b[0m\u001b[0;34m\u001b[0m\u001b[0m\n\u001b[0m\u001b[1;32m     15\u001b[0m     \u001b[0mprint\u001b[0m\u001b[0;34m(\u001b[0m\u001b[0;34m'Area of circle with radius of {0}: {1}'\u001b[0m\u001b[0;34m.\u001b[0m\u001b[0mformat\u001b[0m\u001b[0;34m(\u001b[0m\u001b[0mradius\u001b[0m\u001b[0;34m,\u001b[0m \u001b[0marea\u001b[0m\u001b[0;34m)\u001b[0m\u001b[0;34m)\u001b[0m\u001b[0;34m\u001b[0m\u001b[0;34m\u001b[0m\u001b[0m\n",
      "\u001b[0;32m<ipython-input-26-a14c846aa502>\u001b[0m in \u001b[0;36mcircle_area\u001b[0;34m(radius_input)\u001b[0m\n\u001b[1;32m      3\u001b[0m \u001b[0;34m\u001b[0m\u001b[0m\n\u001b[1;32m      4\u001b[0m \u001b[0;32mdef\u001b[0m \u001b[0mcircle_area\u001b[0m\u001b[0;34m(\u001b[0m\u001b[0mradius_input\u001b[0m\u001b[0;34m=\u001b[0m\u001b[0;32mNone\u001b[0m\u001b[0;34m)\u001b[0m\u001b[0;34m:\u001b[0m\u001b[0;34m\u001b[0m\u001b[0;34m\u001b[0m\u001b[0m\n\u001b[0;32m----> 5\u001b[0;31m     \u001b[0;32massert\u001b[0m \u001b[0;34m(\u001b[0m\u001b[0mradius_input\u001b[0m \u001b[0;34m>=\u001b[0m \u001b[0;36m0\u001b[0m\u001b[0;34m)\u001b[0m\u001b[0;34m\u001b[0m\u001b[0;34m\u001b[0m\u001b[0m\n\u001b[0m\u001b[1;32m      6\u001b[0m \u001b[0;34m\u001b[0m\u001b[0m\n\u001b[1;32m      7\u001b[0m     \u001b[0mcircle_area\u001b[0m \u001b[0;34m=\u001b[0m \u001b[0mpi\u001b[0m\u001b[0;34m*\u001b[0m\u001b[0;34m(\u001b[0m\u001b[0mradius_input\u001b[0m\u001b[0;34m**\u001b[0m\u001b[0;36m2\u001b[0m\u001b[0;34m)\u001b[0m\u001b[0;34m\u001b[0m\u001b[0;34m\u001b[0m\u001b[0m\n",
      "\u001b[0;31mAssertionError\u001b[0m: "
     ]
    }
   ],
   "source": [
    "## Better Example\n",
    "from math import pi\n",
    "\n",
    "def circle_area(radius_input=None):\n",
    "    assert (radius_input >= 0)\n",
    "    \n",
    "    circle_area = None\n",
    "    circle_area = pi*(radius_input**2)\n",
    "    return circle_area\n",
    "\n",
    "\n",
    "radii=[1.0, 2.0, -2.5, 3.0]\n",
    "\n",
    "for radius in radii:\n",
    "    area = circle_area(radius_input=radius)\n",
    "    print('Area of circle with radius of {0}: {1}'.format(radius, area))"
   ]
  },
  {
   "cell_type": "markdown",
   "metadata": {},
   "source": [
    "***\n",
    "<a id='best_practice_document'></a>\n",
    "## 6. Document the design and pupose (not the mechanics)\n",
    "\n",
    "**Why**\n",
    "    1. Helps people understand the code\n",
    "        (i.e. This function will take X and give Y.)\n",
    "        \n",
    "    2. Helps to maintain continuity (e.g. as students graduate)\n",
    "    \n",
    "**How**\n",
    "    1. Embed documentation within the code (helps with longevity and changes in people)\n",
    "        - documentation generator that can read the and make a manual\n",
    "        \n",
    "    2. Focus upon\n",
    "        a. code's goals\n",
    "        b. what is required, and\n",
    "        c. what ouput is given\n",
    "        \n",
    "    3. However, don't be redundant\n",
    "        - Your code should be readable and speakable\n",
    "            Example 1: \"if input is less than or equal to a threshold then do\" is coded as\n",
    "                      if input <= threshold: \n",
    "                      \n",
    "**Example**:"
   ]
  },
  {
   "cell_type": "code",
   "execution_count": 28,
   "metadata": {},
   "outputs": [],
   "source": [
    "def rectangle_area(length=None, width=None):\n",
    "    \"\"\"This function computes a rectangle's area\n",
    "       Input:   length    - the length of the first edge\n",
    "                height    - the length of the second edge\n",
    "                            (must be at a right angle to the first edge)\n",
    "       Return: rect_area - the calculated area of a rectangle\n",
    "    \"\"\"\n",
    "    rect_area = None\n",
    "    rect_area = length*width\n",
    "    return rect_area"
   ]
  },
  {
   "cell_type": "markdown",
   "metadata": {},
   "source": [
    "***\n",
    "<a id='best_practice_collaborate'></a>\n",
    "## 7. Collaborate\n",
    "\n",
    "**Why**\n",
    "    1. Akin to \"Peer Review\" - others see your code and might use it in different ways\n",
    "\n",
    "**How**\n",
    "    1. Have a central location for the code (e.g. git, Dropbox)\n",
    "    \n",
    "    2. Sit down and co-code together\n",
    "    \n",
    "    3. Give it to an expert user to try"
   ]
  },
  {
   "cell_type": "code",
   "execution_count": null,
   "metadata": {},
   "outputs": [],
   "source": []
  }
 ],
 "metadata": {
  "kernelspec": {
   "display_name": "Python 3",
   "language": "python",
   "name": "python3"
  },
  "language_info": {
   "codemirror_mode": {
    "name": "ipython",
    "version": 3
   },
   "file_extension": ".py",
   "mimetype": "text/x-python",
   "name": "python",
   "nbconvert_exporter": "python",
   "pygments_lexer": "ipython3",
   "version": "3.8.1"
  }
 },
 "nbformat": 4,
 "nbformat_minor": 2
}
