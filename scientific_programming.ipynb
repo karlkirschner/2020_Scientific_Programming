{
 "cells": [
  {
   "cell_type": "markdown",
   "metadata": {},
   "source": [
    "<a id='best_practice_top'></a>\n",
    "# <center> Scientific Programming\n",
    "\n",
    "Primary source: [Wilson, G., Aruliah, D.A., Brown, C.T., Hong, N.P.C., Davis, M., Guy, R.T., Haddock, S.H., Huff, K.D., Mitchell, I.M., Plumbley, M.D. and Waugh, B., 2014. Best practices for scientific computing. PLoS biology, 12, 1-7.](https://journals.plos.org/plosbiology/article?id=10.1371/journal.pbio.1001745)"
   ]
  },
  {
   "cell_type": "markdown",
   "metadata": {},
   "source": [
    "***\n",
    "\"Computers are now essential in all branches of science, but most researchers are never taught the equivalent of basic lab skills for research computing. As a result, they ... are often unable to reproduce their own work ... and have no idea how reliable their computational results are.\" \n",
    "\n",
    "Wilson, Greg, Jennifer Bryan, Karen Cranston, Justin Kitzes, Lex Nederbragt, and Tracy K. Teal. \"Good enough practices in scientific computing.\" PLoS computational biology 13, no. 6 (2017).\n",
    "\n",
    "***"
   ]
  },
  {
   "cell_type": "markdown",
   "metadata": {},
   "source": [
    "# The 7 practices for programming within research settings"
   ]
  },
  {
   "cell_type": "markdown",
   "metadata": {},
   "source": [
    "<a id='best_practice_people'></a>\n",
    "## 1. Write programs for **people**, not computers\n",
    "\n",
    "**Why**\n",
    "    1. The reader will only hold a few facts in memory at a time\n",
    "\n",
    "**How**\n",
    "    1. Break the program up into easy understandable chunks (i.e. functions)\n",
    "    2. Use names that are consistent, distinctive and meaningful (e.g. \"density\" vs. \"d\")\n",
    "    3. Use a consistent coding style (e.g. CamelCaseNaming vs. pothole_case_naming)\n",
    "    \n",
    "**Example**: Ask the user for their age, and then state what it will be in 3 years."
   ]
  },
  {
   "cell_type": "code",
   "execution_count": 1,
   "metadata": {},
   "outputs": [
    {
     "name": "stdout",
     "output_type": "stream",
     "text": [
      "What is your age?\n",
      "12\n",
      "In two years, you will be 14\n"
     ]
    }
   ],
   "source": [
    "# Example\n",
    "print('What is your age?')\n",
    "myAge = input()\n",
    "print('In two years, you will be', int(myAge) + 2)"
   ]
  },
  {
   "cell_type": "markdown",
   "metadata": {},
   "source": [
    "***\n",
    "<a id='best_practice_work'></a>\n",
    "## 2. Have the computer do the work\n",
    "\n",
    "**Why**\n",
    "    1. User repetition eventually results in errors, even with those who are careful\n",
    "\n",
    "**How**\n",
    "    1. Create code that does the repeating element\n",
    "        \n",
    "    2. Create code that allows sequential workflow usage and modulation\n",
    "        \n",
    "    3. Save commands to file for future use\n",
    "        \n",
    "    4. Ensure reproducibilty\n",
    "        - Everything needed to re-create the output should be clear\n",
    "        - Standardize the output\n",
    "        - Version control, even as simple as using a numbering system (e.g. v.0.1)\n",
    "\n",
    "**Example**: Given the length of two triangles, get their total area. Print out all areas."
   ]
  },
  {
   "cell_type": "code",
   "execution_count": 2,
   "metadata": {},
   "outputs": [
    {
     "name": "stdout",
     "output_type": "stream",
     "text": [
      "Rectangle Area 1: 12.0\n",
      "Rectangle Area 2: 0.75\n",
      "Total Area: 12.75\n"
     ]
    }
   ],
   "source": [
    "## Poor Example\n",
    "area_total = 4.0*3.0 + 0.5*1.5\n",
    "\n",
    "print('Rectangle Area 1:', 4.0*3.0)\n",
    "print('Rectangle Area 2:', 0.5*1.5)\n",
    "print('Total Area:', area_total)"
   ]
  },
  {
   "cell_type": "markdown",
   "metadata": {},
   "source": [
    "Why is it poorly done?\n",
    "1. There is no single statement that will calculate the area of 1 rectangle\n",
    "2. Not very modular, nor is it very readble\n",
    "3. Prone to human error - e.g. print('Rectangle Area 2:', 0.5*2.5)"
   ]
  },
  {
   "cell_type": "code",
   "execution_count": 3,
   "metadata": {},
   "outputs": [
    {
     "name": "stdout",
     "output_type": "stream",
     "text": [
      "Rectangle Area 1: 12.0\n",
      "Rectangle Area 2: 0.75\n",
      "Total Area: 12.75\n"
     ]
    }
   ],
   "source": [
    "## Better Example\n",
    "def rectangle_area(length=None, width=None):\n",
    "    rect_area = length*width\n",
    "    return rect_area\n",
    "\n",
    "\n",
    "area_1 = None\n",
    "area_2 = None\n",
    "\n",
    "area_1 = rectangle_area(length=4.0, width=3.0)\n",
    "area_2 = rectangle_area(length=0.5, width=1.5)\n",
    "area_total = area_1 + area_2\n",
    "\n",
    "print('Rectangle Area 1:', area_1)\n",
    "print('Rectangle Area 2:', area_2)\n",
    "print('Total Area:', area_total)"
   ]
  },
  {
   "cell_type": "markdown",
   "metadata": {},
   "source": [
    "Why is this better?\n",
    "1. A function that does one thing, and can be called multiple times\n",
    "2. Modular and easy to modify\n",
    "3. Less prone to error due to the function"
   ]
  },
  {
   "cell_type": "markdown",
   "metadata": {},
   "source": [
    "<a id='best_practice_concise'></a>\n",
    "## 3. Don't repeat yourself, or others\n",
    "\n",
    "**Why**\n",
    "    1. Repeating code makes things harder to maintain and increases chances of introducing errors\n",
    "\n",
    "**How**\n",
    "    1. DRY - \"Don't Repeat Yourself,\" applying this to both code and data\n",
    "        - One code representation of an entity. <br>\n",
    "          Example 1: physical constants should be defined (variable, object) once <br>\n",
    "          Example 2: input raw data should be assigned to a single variable (i.e. not duplicated)\n",
    "            \n",
    "    2. Modularize your code (e.g. unique functions)\n",
    "            \n",
    "    3. Use reliable libraries made by others (Python is very good at this) - don't revinvent the wheel\n",
    "\n",
    "**Example**: Calculate the area of 4 circles with radii of 1.0, 2.0, 2.5 and 3.0"
   ]
  },
  {
   "cell_type": "markdown",
   "metadata": {},
   "source": [
    "***\n",
    "<a id='best_practice_incremental'></a>\n",
    "## 4. Make small incremental (sequential) changes\n",
    "\n",
    "**Why**\n",
    "    1. Typically, in scientific programming that is intended for use in research, the specific end result is not initally known since each steps depends on the previous one\n",
    "\n",
    "    2. In scientific/research related work, their is no general idea of a \"company\" that sets the requirements as\n",
    "    you would in a more normal industrial type of job - thus allowing for more flexibility in your\n",
    "    programming and approach\n",
    "\n",
    "**How**\n",
    "    1. Work in small steps (e.g. something doable in 1 hour - increased focus)\n",
    "\n",
    "    2. Work on steps that are sequential (i.e. a logical connected workflow)\n",
    "\n",
    "    3. Have frequent discussions and course correction (with those who will use the program)\n",
    "\n",
    "    4. Use a version control system (i.e. git) - also ensures reproducibility (important for science)\n",
    "\n",
    "    5. Use unit tests - help to control errors and directs your logical thinking\n",
    "    \n",
    "    6. Making small changes (especially with units tests) help to quickly isolate errors that are introduced\n",
    "\n",
    "**Take-Home Message**\n",
    "    1. Ensures a more logical construction of the code and ideas (i.e. sequential and focused workflows)\n",
    "    \n",
    "    2. Reduces errors (i.e. highly focused upon once concept at a time)\n",
    "    \n",
    "    3. Generates more flexible code (e.g. due to different user communicating different desires)\n",
    "***"
   ]
  },
  {
   "cell_type": "code",
   "execution_count": 15,
   "metadata": {},
   "outputs": [
    {
     "name": "stdout",
     "output_type": "stream",
     "text": [
      "Area of circle with radius of 1.0: 3.14\n",
      "Area of circle with radius of 2.0: 12.56\n",
      "Area of circle with radius of 2.5: 19.625\n",
      "Area of circle with radius of 3.5: 38.465\n",
      "\n",
      "The approximate weight for a tire with an area 3.14 cm is 0.942 kg.\n",
      "The approximate weight for a tire with an area 3.14 cm is 3.768 kg.\n",
      "The approximate weight for a tire with an area 3.14 cm is 5.8875 kg.\n",
      "The approximate weight for a tire with an area 3.14 cm is 11.5395 kg.\n"
     ]
    }
   ],
   "source": [
    "## Poor Example\n",
    "print('Area of circle with radius of 1.0:', 3.14*1.0*1.0)\n",
    "print('Area of circle with radius of 2.0:', 3.14*2.0*2.0)\n",
    "print('Area of circle with radius of 2.5:', 3.14*2.5*2.5)\n",
    "print('Area of circle with radius of 3.5:', 3.14*3.5*3.5)\n",
    "print()\n",
    "print('The approximate weight for a tire with an area', 3.14*1.0*1.0, 'cm is', 3.14*1.0*1.0*0.3, 'kg.')\n",
    "print('The approximate weight for a tire with an area', 3.14*1.0*1.0, 'cm is', 3.14*2.0*2.0*0.3, 'kg.')\n",
    "print('The approximate weight for a tire with an area', 3.14*1.0*1.0, 'cm is', 3.14*2.5*2.5*0.3, 'kg.')\n",
    "print('The approximate weight for a tire with an area', 3.14*1.0*1.0, 'cm is', 3.14*3.5*3.5*0.3, 'kg.')"
   ]
  },
  {
   "cell_type": "code",
   "execution_count": 9,
   "metadata": {},
   "outputs": [
    {
     "name": "stdout",
     "output_type": "stream",
     "text": [
      "Area of circle with radius of 1.0: 3.141592653589793\n",
      "Area of circle with radius of 2.0: 12.566370614359172\n",
      "Area of circle with radius of 2.5: 19.634954084936208\n",
      "Area of circle with radius of 3.5: 38.48451000647496\n",
      "\n",
      "The approximate weight for a tire with an area of 3.141592653589793 cm is 0.9424777960769379 kg.\n",
      "The approximate weight for a tire with an area of 12.566370614359172 cm is 3.7699111843077517 kg.\n",
      "The approximate weight for a tire with an area of 19.634954084936208 cm is 5.8904862254808625 kg.\n",
      "The approximate weight for a tire with an area of 38.48451000647496 cm is 11.54535300194249 kg.\n"
     ]
    }
   ],
   "source": [
    "## Better Example\n",
    "from math import pi\n",
    "\n",
    "\n",
    "def circle_area(radius_input=None):\n",
    "    '''Comput the area of a circle, based on its radius (cm)'''\n",
    "    circle_area = None\n",
    "    circle_area = pi*(radius_input**2)\n",
    "    return circle_area\n",
    "\n",
    "def tire_weight(area=None):\n",
    "    '''Compute the approximate weight (kg) of a tire'''\n",
    "    return area * 0.3\n",
    "\n",
    "radii=[1.0, 2.0, 2.5, 3.5]\n",
    "\n",
    "area_list = []\n",
    "for radius in radii:\n",
    "    area_list.append(circle_area(radius_input=radius))\n",
    "    print('Area of circle with radius of {0}: {1}'.format(radius, circle_area(radius_input=radius)))\n",
    "\n",
    "print()\n",
    "weights = []\n",
    "for area in area_list:\n",
    "    print('The approximate weight for a tire with an area of {0} cm is {1} kg.'.format(area, tire_weight(area)))"
   ]
  },
  {
   "cell_type": "markdown",
   "metadata": {},
   "source": [
    "***\n",
    "<a id='best_practice_plan'></a>\n",
    "## 5. Plan for Mistakes\n",
    "\n",
    "**Why**\n",
    "    1. Because mistakes will happen\n",
    "\n",
    "**How**\n",
    "    1. Use assertions (if True ...) to check the program's operation while developing code\n",
    "        - They stop the program if something is wrong\n",
    "        - Think of them as executable documentation (i.e. explains what is going on within the code)\n",
    "        \n",
    "    2. Use isinstance\n",
    "    \n",
    "    3. Use try statements (or if statements)\n",
    "            \n",
    "    4. Unit tests - automated test on a single \"unit\" of code\n",
    "        \n",
    "    5. (Integration tests - test if units of code work together)\n",
    "        \n",
    "    6. (Regression tests - program's behavior doesn't change when the program's details are modified\n",
    "          (e.g. the output data is presented and remains the same))\n",
    "            \n",
    "    7. Take a divide-and-conquer approach (i.e. simplify)\n",
    "        \n",
    "    8. Turn bugs into test cases\n",
    "            \n",
    "**Note 1**: Test are often done to see if the code's output matches the researcher's expectations. That means you must have good understanding of the problem.\n",
    "    \n",
    "**Note 2**: Test can often initially be done on simpler systems\n",
    "\n",
    "**Example**: Add an 'assert' statements to the circle_area function (see above)"
   ]
  },
  {
   "cell_type": "code",
   "execution_count": 7,
   "metadata": {},
   "outputs": [
    {
     "name": "stdout",
     "output_type": "stream",
     "text": [
      "Area of circle with radius of 1.0: 3.141592653589793\n",
      "Area of circle with radius of 2.0: 12.566370614359172\n"
     ]
    },
    {
     "ename": "AssertionError",
     "evalue": "The radius value (i.e. -2.5) must be positive.",
     "output_type": "error",
     "traceback": [
      "\u001b[0;31m---------------------------------------------------------------------------\u001b[0m",
      "\u001b[0;31mAssertionError\u001b[0m                            Traceback (most recent call last)",
      "\u001b[0;32m<ipython-input-7-6301b18b1811>\u001b[0m in \u001b[0;36m<module>\u001b[0;34m\u001b[0m\n\u001b[1;32m     13\u001b[0m \u001b[0;34m\u001b[0m\u001b[0m\n\u001b[1;32m     14\u001b[0m \u001b[0;32mfor\u001b[0m \u001b[0mradius\u001b[0m \u001b[0;32min\u001b[0m \u001b[0mradii\u001b[0m\u001b[0;34m:\u001b[0m\u001b[0;34m\u001b[0m\u001b[0;34m\u001b[0m\u001b[0m\n\u001b[0;32m---> 15\u001b[0;31m     \u001b[0marea\u001b[0m \u001b[0;34m=\u001b[0m \u001b[0mcircle_area\u001b[0m\u001b[0;34m(\u001b[0m\u001b[0mradius_input\u001b[0m\u001b[0;34m=\u001b[0m\u001b[0mradius\u001b[0m\u001b[0;34m)\u001b[0m\u001b[0;34m\u001b[0m\u001b[0;34m\u001b[0m\u001b[0m\n\u001b[0m\u001b[1;32m     16\u001b[0m     \u001b[0mprint\u001b[0m\u001b[0;34m(\u001b[0m\u001b[0;34m'Area of circle with radius of {0}: {1}'\u001b[0m\u001b[0;34m.\u001b[0m\u001b[0mformat\u001b[0m\u001b[0;34m(\u001b[0m\u001b[0mradius\u001b[0m\u001b[0;34m,\u001b[0m \u001b[0marea\u001b[0m\u001b[0;34m)\u001b[0m\u001b[0;34m)\u001b[0m\u001b[0;34m\u001b[0m\u001b[0;34m\u001b[0m\u001b[0m\n",
      "\u001b[0;32m<ipython-input-7-6301b18b1811>\u001b[0m in \u001b[0;36mcircle_area\u001b[0;34m(radius_input)\u001b[0m\n\u001b[1;32m      3\u001b[0m \u001b[0;34m\u001b[0m\u001b[0m\n\u001b[1;32m      4\u001b[0m \u001b[0;32mdef\u001b[0m \u001b[0mcircle_area\u001b[0m\u001b[0;34m(\u001b[0m\u001b[0mradius_input\u001b[0m\u001b[0;34m=\u001b[0m\u001b[0;32mNone\u001b[0m\u001b[0;34m)\u001b[0m\u001b[0;34m:\u001b[0m\u001b[0;34m\u001b[0m\u001b[0;34m\u001b[0m\u001b[0m\n\u001b[0;32m----> 5\u001b[0;31m     \u001b[0;32massert\u001b[0m \u001b[0;34m(\u001b[0m\u001b[0mradius_input\u001b[0m \u001b[0;34m>=\u001b[0m \u001b[0;36m0\u001b[0m\u001b[0;34m)\u001b[0m\u001b[0;34m,\u001b[0m \u001b[0;34m'The radius value (i.e. {0}) must be positive.'\u001b[0m\u001b[0;34m.\u001b[0m\u001b[0mformat\u001b[0m\u001b[0;34m(\u001b[0m\u001b[0mradius_input\u001b[0m\u001b[0;34m)\u001b[0m\u001b[0;34m\u001b[0m\u001b[0;34m\u001b[0m\u001b[0m\n\u001b[0m\u001b[1;32m      6\u001b[0m \u001b[0;34m\u001b[0m\u001b[0m\n\u001b[1;32m      7\u001b[0m     \u001b[0mcircle_area\u001b[0m \u001b[0;34m=\u001b[0m \u001b[0;32mNone\u001b[0m\u001b[0;34m\u001b[0m\u001b[0;34m\u001b[0m\u001b[0m\n",
      "\u001b[0;31mAssertionError\u001b[0m: The radius value (i.e. -2.5) must be positive."
     ]
    }
   ],
   "source": [
    "## Better Example\n",
    "from math import pi\n",
    "\n",
    "def circle_area(radius_input=None):\n",
    "    assert (radius_input >= 0), 'The radius value (i.e. {0}) must be positive.'.format(radius_input)\n",
    "    \n",
    "    circle_area = None\n",
    "    circle_area = pi*(radius_input**2)\n",
    "    return circle_area\n",
    "\n",
    "\n",
    "radii=[1.0, 2.0, -2.5, 3.0]\n",
    "\n",
    "for radius in radii:\n",
    "    area = circle_area(radius_input=radius)\n",
    "    print('Area of circle with radius of {0}: {1}'.format(radius, area))"
   ]
  },
  {
   "cell_type": "markdown",
   "metadata": {},
   "source": [
    "***\n",
    "<a id='best_practice_document'></a>\n",
    "## 6. Document the design and pupose (not the mechanics)\n",
    "\n",
    "**Why**\n",
    "    1. Helps people understand the code\n",
    "        (i.e. This function will take X and give Y.)\n",
    "        \n",
    "    2. Helps to maintain continuity (e.g. as students graduate)\n",
    "    \n",
    "**How**\n",
    "    1. Embed documentation within the code (helps with longevity and changes in people)\n",
    "        - documentation generator that can read the and make a manual\n",
    "        \n",
    "    2. Focus upon\n",
    "        a. code's goals\n",
    "        b. what is required, and\n",
    "        c. what ouput is given\n",
    "        \n",
    "    3. However, don't be redundant\n",
    "        - Your code should be readable and speakable\n",
    "            Example 1: \"if input is less than or equal to a threshold then do\" is coded as\n",
    "                      if input <= threshold: \n",
    "                      \n",
    "**Example**:"
   ]
  },
  {
   "cell_type": "code",
   "execution_count": 7,
   "metadata": {},
   "outputs": [],
   "source": [
    "def rectangle_area(length=None, width=None):\n",
    "    \"\"\"This function computes a rectangle's area\n",
    "       Input:   length    - the length of the first edge\n",
    "                height    - the length of the second edge\n",
    "                            (must be at a right angle to the first edge)\n",
    "       Return: rect_area - the calculated area of a rectangle\n",
    "    \"\"\"\n",
    "    rect_area = None\n",
    "    rect_area = length*width\n",
    "    return rect_area"
   ]
  },
  {
   "cell_type": "markdown",
   "metadata": {},
   "source": [
    "***\n",
    "<a id='best_practice_collaborate'></a>\n",
    "## 7. Collaborate\n",
    "\n",
    "**Why**\n",
    "    1. Akin to \"Peer Review\" - others see your code and might use it in different ways\n",
    "\n",
    "**How**\n",
    "    1. Have a central location for the code (e.g. git, Dropbox)\n",
    "    \n",
    "    2. Sit down and co-code together\n",
    "    \n",
    "    3. Give it to an expert user to try"
   ]
  }
 ],
 "metadata": {
  "kernelspec": {
   "display_name": "Python 3",
   "language": "python",
   "name": "python3"
  },
  "language_info": {
   "codemirror_mode": {
    "name": "ipython",
    "version": 3
   },
   "file_extension": ".py",
   "mimetype": "text/x-python",
   "name": "python",
   "nbconvert_exporter": "python",
   "pygments_lexer": "ipython3",
   "version": "3.8.1"
  }
 },
 "nbformat": 4,
 "nbformat_minor": 2
}
