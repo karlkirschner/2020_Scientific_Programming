{
 "cells": [
  {
   "cell_type": "markdown",
   "metadata": {},
   "source": [
    "***\n",
    "## Reading CSV-Formatted Files\n",
    "\n",
    "data_3d.csv:\n",
    "1. hearder first line\n",
    "2. 28 data rows\n",
    "3. 3 data columns (Time, Exp and Theory)"
   ]
  },
  {
   "cell_type": "code",
   "execution_count": null,
   "metadata": {},
   "outputs": [],
   "source": [
    "import csv\n",
    "import matplotlib.pyplot as plt"
   ]
  },
  {
   "cell_type": "code",
   "execution_count": null,
   "metadata": {},
   "outputs": [],
   "source": [
    "## CSV data file acan be found at\n",
    "## https://github.com/karlkirschner/2020_Scientific_Programming/blob/master/data_3d.csv\n",
    "\n",
    "## For Colabs\n",
    "\n",
    "## In order to upload data\n",
    "#from google.colab import files\n",
    "#uploaded = files.upload()\n",
    "\n",
    "## In order to show the plots\n",
    "#%matplotlib inline"
   ]
  },
  {
   "cell_type": "code",
   "execution_count": null,
   "metadata": {},
   "outputs": [],
   "source": [
    "## A Linux bash trick for looking into a file\n",
    "!head data_3d.csv --lines=10"
   ]
  },
  {
   "cell_type": "code",
   "execution_count": null,
   "metadata": {},
   "outputs": [],
   "source": [
    "time=[]\n",
    "exp=[]\n",
    "sim=[]\n",
    "\n",
    "with open('data_3d.csv') as file:\n",
    "   read_it = csv.reader(file, delimiter=',')\n",
    "\n",
    "   next(read_it)  ## skips header (i.e. the first row)\n",
    "    \n",
    "   for row in read_it:\n",
    "       time.append(float((row[0])))\n",
    "       exp.append(float(row[1]))\n",
    "       sim.append(float(row[2]))"
   ]
  },
  {
   "cell_type": "code",
   "execution_count": null,
   "metadata": {},
   "outputs": [],
   "source": [
    "# Need to change plot dimensions to get x-axis label readable\n",
    "\n",
    "plt.style.use('seaborn-whitegrid')\n",
    "plt.figure(figsize=(15,5))\n",
    "\n",
    "plt.plot(time, exp, linewidth=5, linestyle='solid', label='Experimental')\n",
    "plt.plot(time, sim, linewidth=5, linestyle='dashed', label='Simulated')\n",
    "\n",
    "plt.xlabel('Time (seconds)')\n",
    "plt.ylabel('Y-Axis (Unit)')\n",
    "plt.title('Experimental and Simulated Results')\n",
    "plt.grid(True)\n",
    "\n",
    "plt.show()"
   ]
  },
  {
   "cell_type": "markdown",
   "metadata": {},
   "source": [
    "Alternative\n",
    "- try 'time.append((row[0]))' to read in **strings** (versus a string as above) and plot again."
   ]
  },
  {
   "cell_type": "code",
   "execution_count": null,
   "metadata": {},
   "outputs": [],
   "source": [
    "time=[]\n",
    "exp=[]\n",
    "sim=[]\n",
    "\n",
    "with open('data_3d.csv') as file:\n",
    "   read_it = csv.reader(file, delimiter=',')\n",
    "\n",
    "   next(read_it)\n",
    "    \n",
    "   for row in read_it:\n",
    "       time.append((row[0]))\n",
    "       exp.append(float(row[1]))\n",
    "       sim.append(float(row[2]))"
   ]
  },
  {
   "cell_type": "code",
   "execution_count": null,
   "metadata": {},
   "outputs": [],
   "source": [
    "plt.style.use('seaborn-whitegrid')\n",
    "plt.figure(figsize=(15,5))\n",
    "\n",
    "plt.plot(time, exp, linewidth=5, linestyle='solid', label='Experimental')\n",
    "plt.plot(time, sim, linewidth=5, linestyle='dashed', label='Simulated')\n",
    "\n",
    "plt.xlabel('Time (seconds)')\n",
    "plt.ylabel('Y-Axis (Unit)')\n",
    "plt.title('Experimental and Simulated Results')\n",
    "plt.grid(True)\n",
    "plt.show()"
   ]
  },
  {
   "cell_type": "markdown",
   "metadata": {},
   "source": []
  }
 ],
 "metadata": {
  "kernelspec": {
   "display_name": "Python 3",
   "language": "python",
   "name": "python3"
  },
  "language_info": {
   "codemirror_mode": {
    "name": "ipython",
    "version": 3
   },
   "file_extension": ".py",
   "mimetype": "text/x-python",
   "name": "python",
   "nbconvert_exporter": "python",
   "pygments_lexer": "ipython3",
   "version": "3.8.1"
  }
 },
 "nbformat": 4,
 "nbformat_minor": 2
}
