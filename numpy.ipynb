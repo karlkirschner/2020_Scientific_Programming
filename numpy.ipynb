{
 "cells": [
  {
   "cell_type": "markdown",
   "metadata": {},
   "source": [
    "# NumPy: Numerical Python\n",
    "\n",
    "### Karl N. Kirschner\n",
    "\n",
    "Numpy is the foundation for\n",
    "- Pandas\n",
    "- Matplotlib\n",
    "- Scikit-learn\n",
    "- PyTorch\n",
    "\n",
    "\n",
    "- Excels at large **arrays** of data\n",
    "\n",
    "\n",
    "- Array: an n-dimensional array (i.e. ndarray):\n",
    "    - a collections of values that have 1 or more dimensions\n",
    "    - 1D array --> vector\n",
    "    - nD array --> matrix\n",
    "\n",
    "\n",
    "- All array data must be the same (i.e. homogeneous)\n",
    "\n",
    "\n",
    "- Can perform computations on entire arrays without the need of loops\n",
    "\n",
    "\n",
    "- Does not come by default with Python - must be installed\n",
    "\n",
    "numpy:\n",
    "https://numpy.org/doc/stable/\n",
    "\n",
    "---\n",
    "\n",
    "Comparisons to a regular list:\n",
    "1. Both are a container for items/elements\n",
    "2. Numpy allows for faster items/elements getting (allows for faster mathematics), but\n",
    "3. List are faster to a insert new and remove existing items/elements\n",
    "\n",
    "---\n",
    "\n",
    "#### Key Concept for Numpy\n",
    "1. Each element in an array must be the same type (e.g. floats)\n",
    "\n",
    "\n",
    "2. **Vectorizing operations**<br>\n",
    "    \"This practice of replacing explicit loops with array expressions is commonly referred to as vectorization.\"\n",
    "    - source: https://www.oreilly.com/library/view/python-for-data/9781449323592/ch04.html\n",
    "\n",
    "\n",
    "3. Integrates with C, C++ and Fortran to improve performance\n",
    "\n",
    "---"
   ]
  },
  {
   "cell_type": "code",
   "execution_count": null,
   "metadata": {},
   "outputs": [],
   "source": [
    "import matplotlib.pyplot as plt\n",
    "import numpy as np\n",
    "import pandas as pd\n",
    "import time\n",
    "import timeit\n",
    "\n",
    "#%matplotlib inline"
   ]
  },
  {
   "cell_type": "markdown",
   "metadata": {},
   "source": [
    "## N-dimensional array object (i.e. ndarray)\n",
    "\n",
    "Let's create two objects:\n",
    "1. a regular list\n",
    "2. numpy array (via Array RANGE: https://numpy.org/doc/stable/reference/generated/numpy.arange.html), and\n",
    "\n",
    "\n",
    "Then we can find demonstrate which is faster using the timeit library.\n",
    "\n",
    "- timeit (to time code for performance): https://docs.python.org/3/library/timeit.html"
   ]
  },
  {
   "cell_type": "code",
   "execution_count": null,
   "metadata": {},
   "outputs": [],
   "source": [
    "my_list = list(range(100000))"
   ]
  },
  {
   "cell_type": "code",
   "execution_count": null,
   "metadata": {},
   "outputs": [],
   "source": [
    "my_array = np.arange(100000)\n",
    "my_array"
   ]
  },
  {
   "cell_type": "markdown",
   "metadata": {},
   "source": [
    "Now, lets multiply containers by 2, and do that math 1000 times, then repeat the whole Time function 5 times."
   ]
  },
  {
   "cell_type": "code",
   "execution_count": null,
   "metadata": {},
   "outputs": [],
   "source": [
    "def numpy_multiply(test_array=None):\n",
    "    return test_array*2\n",
    "\n",
    "\n",
    "def list_multiply(test_list=None):\n",
    "    return test_list*2"
   ]
  },
  {
   "cell_type": "code",
   "execution_count": null,
   "metadata": {},
   "outputs": [],
   "source": [
    "start_time = time.process_time()\n",
    "\n",
    "for _ in range (10000):\n",
    "    numpy_multiply(my_array)\n",
    "\n",
    "stop_time = time.process_time()\n",
    "print(f\"Timing: {stop_time - start_time:0.1e} seconds\")"
   ]
  },
  {
   "cell_type": "code",
   "execution_count": null,
   "metadata": {
    "scrolled": true
   },
   "outputs": [],
   "source": [
    "start_time = time.process_time()\n",
    "\n",
    "for _ in range (10000):\n",
    "    list_multiply(my_list)\n",
    "\n",
    "stop_time = time.process_time()\n",
    "print(f\"Timing: {stop_time - start_time:0.1e} seconds\")"
   ]
  },
  {
   "cell_type": "markdown",
   "metadata": {},
   "source": [
    "#### timeit\n",
    "\n",
    "An very good altertive library for testing performance: timeit\n",
    "\n",
    "Multiply containers by 2, and do that math 1000 times, then repeat the whole Time function 5 times"
   ]
  },
  {
   "cell_type": "code",
   "execution_count": null,
   "metadata": {},
   "outputs": [],
   "source": [
    "timeit.timeit(lambda:numpy_multiply(my_array), number=10000)"
   ]
  },
  {
   "cell_type": "code",
   "execution_count": null,
   "metadata": {},
   "outputs": [],
   "source": [
    "timeit.timeit(lambda:list_multiply(my_list), number=10000)"
   ]
  },
  {
   "cell_type": "markdown",
   "metadata": {},
   "source": [
    "---\n",
    "## General information"
   ]
  },
  {
   "cell_type": "code",
   "execution_count": null,
   "metadata": {},
   "outputs": [],
   "source": [
    "## Two data lists with 5 data points\n",
    "data_1 = [6, 1, 6, 7, 9]\n",
    "data_2 = [3, 5, 4, 2, 8]"
   ]
  },
  {
   "cell_type": "code",
   "execution_count": null,
   "metadata": {},
   "outputs": [],
   "source": [
    "data_1"
   ]
  },
  {
   "cell_type": "code",
   "execution_count": null,
   "metadata": {},
   "outputs": [],
   "source": [
    "data_2"
   ]
  },
  {
   "cell_type": "code",
   "execution_count": null,
   "metadata": {},
   "outputs": [],
   "source": [
    "## Two different arrays, each with a shape of (1,5)\n",
    "array_1 = np.array(data_1)\n",
    "array_2 = np.array(data_2)"
   ]
  },
  {
   "cell_type": "code",
   "execution_count": null,
   "metadata": {},
   "outputs": [],
   "source": [
    "array_1"
   ]
  },
  {
   "cell_type": "code",
   "execution_count": null,
   "metadata": {},
   "outputs": [],
   "source": [
    "array_2"
   ]
  },
  {
   "cell_type": "code",
   "execution_count": null,
   "metadata": {},
   "outputs": [],
   "source": [
    "## A nested list, with each sublist contains 5 data points\n",
    "data_3 = [[-6, 1, 6, 7, 9], [-5, 0, 2, 4, 3]]\n",
    "\n",
    "## One array, with a shape of (2,5)\n",
    "array_3 = np.array(data_3)\n",
    "\n",
    "array_3"
   ]
  },
  {
   "cell_type": "markdown",
   "metadata": {},
   "source": [
    "Put array_3 to memory - we will use it a lot later on  in the lecture."
   ]
  },
  {
   "cell_type": "markdown",
   "metadata": {},
   "source": [
    "#### Array shapes and dimensions"
   ]
  },
  {
   "cell_type": "code",
   "execution_count": null,
   "metadata": {},
   "outputs": [],
   "source": [
    "## 1D shape\n",
    "array_1.shape"
   ]
  },
  {
   "cell_type": "code",
   "execution_count": null,
   "metadata": {},
   "outputs": [],
   "source": [
    "## Note, this would change if you added double brackets above\n",
    "##     data_1 = [[6, 1, 6, 7, 9]]\n",
    "##     array_1 = np.array(data_1)\n",
    "example = [[6, 1, 6, 7, 9]]\n",
    "test = np.array(example)\n",
    "test.shape"
   ]
  },
  {
   "cell_type": "code",
   "execution_count": null,
   "metadata": {},
   "outputs": [],
   "source": [
    "## nD shape\n",
    "array_3.shape"
   ]
  },
  {
   "cell_type": "code",
   "execution_count": null,
   "metadata": {},
   "outputs": [],
   "source": [
    "array_3.ndim"
   ]
  },
  {
   "cell_type": "markdown",
   "metadata": {},
   "source": [
    "Reminder of using type to figure out what you are dealing with."
   ]
  },
  {
   "cell_type": "code",
   "execution_count": null,
   "metadata": {},
   "outputs": [],
   "source": [
    "type(array_3)"
   ]
  },
  {
   "cell_type": "markdown",
   "metadata": {},
   "source": [
    "#### Data types\n",
    "\n",
    "- https://numpy.org/doc/stable/reference/arrays.dtypes.html\n",
    "- https://numpy.org/doc/stable/reference/generated/numpy.dtype.html?highlight=dtype#numpy.dtype"
   ]
  },
  {
   "cell_type": "code",
   "execution_count": null,
   "metadata": {},
   "outputs": [],
   "source": [
    "array_3.dtype"
   ]
  },
  {
   "cell_type": "markdown",
   "metadata": {},
   "source": [
    "---\n",
    "## More on creating new arrays"
   ]
  },
  {
   "cell_type": "markdown",
   "metadata": {},
   "source": [
    "Create an array with a shape of (3,5),and fill it with ca. pi"
   ]
  },
  {
   "cell_type": "code",
   "execution_count": null,
   "metadata": {},
   "outputs": [],
   "source": [
    "np.full((3, 5), 3.14)"
   ]
  },
  {
   "cell_type": "markdown",
   "metadata": {},
   "source": [
    "Create an array with a shape of (1,30) from -10 to 50 using a stepping size of 2"
   ]
  },
  {
   "cell_type": "code",
   "execution_count": null,
   "metadata": {},
   "outputs": [],
   "source": [
    "np.arange(-10, 52, 2)"
   ]
  },
  {
   "cell_type": "markdown",
   "metadata": {},
   "source": [
    "Create an array that contains 10 evenely spaced values between -1 and 1\n",
    "- numpy's linspace: https://numpy.org/devdocs/reference/generated/numpy.linspace.html"
   ]
  },
  {
   "cell_type": "code",
   "execution_count": null,
   "metadata": {},
   "outputs": [],
   "source": [
    "np.linspace(-1, 1, 10)"
   ]
  },
  {
   "cell_type": "markdown",
   "metadata": {},
   "source": [
    "Create array with random, but continuous distributed, values between 0 and 1\n",
    "- random.random_sample function: https://numpy.org/doc/stable/reference/random/generated/numpy.random.random_sample.html#numpy.random.random_sample"
   ]
  },
  {
   "cell_type": "code",
   "execution_count": null,
   "metadata": {},
   "outputs": [],
   "source": [
    "np.random.random_sample(3)"
   ]
  },
  {
   "cell_type": "code",
   "execution_count": null,
   "metadata": {},
   "outputs": [],
   "source": [
    "## shape of (3,4)\n",
    "np.random.random_sample((3, 4))"
   ]
  },
  {
   "cell_type": "markdown",
   "metadata": {},
   "source": [
    "---\n",
    "## Accessing arrays"
   ]
  },
  {
   "cell_type": "code",
   "execution_count": null,
   "metadata": {},
   "outputs": [],
   "source": [
    "## 1D array (i.e. (1,5) from above)\n",
    "array_1"
   ]
  },
  {
   "cell_type": "code",
   "execution_count": null,
   "metadata": {},
   "outputs": [],
   "source": [
    "## accessing the fourth item position (i.e. index of 3)\n",
    "array_1[3]"
   ]
  },
  {
   "cell_type": "code",
   "execution_count": null,
   "metadata": {},
   "outputs": [],
   "source": [
    "## 2D array (i.e. (2,5) from above)\n",
    "array_3"
   ]
  },
  {
   "cell_type": "code",
   "execution_count": null,
   "metadata": {},
   "outputs": [],
   "source": [
    "## access the second sublist from the 2D array\n",
    "array_3[1]"
   ]
  },
  {
   "cell_type": "code",
   "execution_count": null,
   "metadata": {},
   "outputs": [],
   "source": [
    "## access the first sublist and the fourth item position\n",
    "array_3[1, 4]"
   ]
  },
  {
   "cell_type": "markdown",
   "metadata": {},
   "source": [
    "Slicing - demo using [0:1], [1:2], [0:2] and [0:3]"
   ]
  },
  {
   "cell_type": "code",
   "execution_count": null,
   "metadata": {},
   "outputs": [],
   "source": [
    "array_3[0:1]"
   ]
  },
  {
   "cell_type": "code",
   "execution_count": null,
   "metadata": {},
   "outputs": [],
   "source": [
    "array_3[1:2]"
   ]
  },
  {
   "cell_type": "code",
   "execution_count": null,
   "metadata": {},
   "outputs": [],
   "source": [
    "array_3[0:2]"
   ]
  },
  {
   "cell_type": "code",
   "execution_count": null,
   "metadata": {},
   "outputs": [],
   "source": [
    "array_3[0:3]"
   ]
  },
  {
   "cell_type": "markdown",
   "metadata": {},
   "source": [
    "---\n",
    "## Searching for elements\n",
    "\n",
    "- numpy arrays are not index like a list, so the more typical methods are available here\n",
    "- numpy.where is used instead: https://numpy.org/doc/stable/reference/generated/numpy.where.html"
   ]
  },
  {
   "cell_type": "code",
   "execution_count": null,
   "metadata": {},
   "outputs": [],
   "source": [
    "array_3"
   ]
  },
  {
   "cell_type": "code",
   "execution_count": null,
   "metadata": {},
   "outputs": [],
   "source": [
    "elements = np.where(array_3 < 0)\n",
    "array_3[elements]"
   ]
  },
  {
   "cell_type": "markdown",
   "metadata": {},
   "source": [
    "---\n",
    "## Joining arrays"
   ]
  },
  {
   "cell_type": "code",
   "execution_count": null,
   "metadata": {},
   "outputs": [],
   "source": [
    "array_1"
   ]
  },
  {
   "cell_type": "code",
   "execution_count": null,
   "metadata": {},
   "outputs": [],
   "source": [
    "array_2"
   ]
  },
  {
   "cell_type": "markdown",
   "metadata": {},
   "source": [
    "**Concatenate**: https://numpy.org/doc/stable/reference/generated/numpy.concatenate.html\n",
    "\n",
    "Multiple 1D arrays"
   ]
  },
  {
   "cell_type": "code",
   "execution_count": null,
   "metadata": {},
   "outputs": [],
   "source": [
    "np.concatenate([array_1, array_2, array_1])"
   ]
  },
  {
   "cell_type": "markdown",
   "metadata": {},
   "source": [
    "Multiple nD arrays, along their first axis (i.e. axis=0) - conceptually, this like adding items to columns in a table\n",
    "\n",
    "(or as an altertive perspective - adding additional rows)"
   ]
  },
  {
   "cell_type": "code",
   "execution_count": null,
   "metadata": {},
   "outputs": [],
   "source": [
    "array_3"
   ]
  },
  {
   "cell_type": "code",
   "execution_count": null,
   "metadata": {},
   "outputs": [],
   "source": [
    "array_big = np.concatenate([array_3, array_3, array_3], axis=0)\n",
    "array_big"
   ]
  },
  {
   "cell_type": "code",
   "execution_count": null,
   "metadata": {},
   "outputs": [],
   "source": [
    "array_big.shape"
   ]
  },
  {
   "cell_type": "code",
   "execution_count": null,
   "metadata": {},
   "outputs": [],
   "source": [
    "## Use Pandas to print out the table in a more human (i.e. a scientist) readable form\n",
    "print(pd.DataFrame(array_big))"
   ]
  },
  {
   "cell_type": "markdown",
   "metadata": {},
   "source": [
    "Multiple nD arrays, along their second axis (i.e. axis=1) - conceptually, this like adding items to rows in a table"
   ]
  },
  {
   "cell_type": "code",
   "execution_count": null,
   "metadata": {},
   "outputs": [],
   "source": [
    "## Use Pandas\n",
    "print(pd.DataFrame(array_3))"
   ]
  },
  {
   "cell_type": "code",
   "execution_count": null,
   "metadata": {},
   "outputs": [],
   "source": [
    "## Multiple nD arrays, along their second axis\n",
    "array_long = np.concatenate([array_3, array_3, array_3], axis=1)\n",
    "array_long"
   ]
  },
  {
   "cell_type": "code",
   "execution_count": null,
   "metadata": {},
   "outputs": [],
   "source": [
    "array_long.shape"
   ]
  },
  {
   "cell_type": "code",
   "execution_count": null,
   "metadata": {},
   "outputs": [],
   "source": [
    "## Use Pandas\n",
    "print(pd.DataFrame(array_long))"
   ]
  },
  {
   "cell_type": "markdown",
   "metadata": {},
   "source": [
    "#### Multiple mixed dimensional arrays\n",
    "- must pay attention to the dimensions\n",
    "\n",
    "\n",
    "- vertical stacked\n",
    "- horizontal stacked"
   ]
  },
  {
   "cell_type": "markdown",
   "metadata": {},
   "source": [
    "Vertical stacked\n",
    "- nD arrays must be (x,N) and (y,N) where N is the same value"
   ]
  },
  {
   "cell_type": "code",
   "execution_count": null,
   "metadata": {},
   "outputs": [],
   "source": [
    "print(array_3)\n",
    "print()\n",
    "print(array_3.shape)"
   ]
  },
  {
   "cell_type": "code",
   "execution_count": null,
   "metadata": {},
   "outputs": [],
   "source": [
    "print(array_big)\n",
    "print()\n",
    "print(array_big.shape)"
   ]
  },
  {
   "cell_type": "code",
   "execution_count": null,
   "metadata": {},
   "outputs": [],
   "source": [
    "array_vstack = np.vstack([array_3, array_big])\n",
    "array_vstack"
   ]
  },
  {
   "cell_type": "code",
   "execution_count": null,
   "metadata": {},
   "outputs": [],
   "source": [
    "array_vstack.shape"
   ]
  },
  {
   "cell_type": "markdown",
   "metadata": {},
   "source": [
    "Now logically, we can also do this with our array_1 (i.e. a shape of (5,) ) that we created above"
   ]
  },
  {
   "cell_type": "code",
   "execution_count": null,
   "metadata": {},
   "outputs": [],
   "source": [
    "## review what we have for array_3\n",
    "print(array_1)\n",
    "print()\n",
    "print(array_1.shape)"
   ]
  },
  {
   "cell_type": "code",
   "execution_count": null,
   "metadata": {},
   "outputs": [],
   "source": [
    "array_vstack = np.vstack([array_1, array_3])\n",
    "array_vstack"
   ]
  },
  {
   "cell_type": "code",
   "execution_count": null,
   "metadata": {},
   "outputs": [],
   "source": [
    "array_vstack.shape"
   ]
  },
  {
   "cell_type": "markdown",
   "metadata": {},
   "source": [
    "Now, let's show when it doesn't work:"
   ]
  },
  {
   "cell_type": "code",
   "execution_count": null,
   "metadata": {},
   "outputs": [],
   "source": [
    "## example of when the arrays have different N values\n",
    "array_4 = np.array([['99', 99, 99, 99]])\n",
    "print(array_4)\n",
    "print()\n",
    "print(array_4.shape)"
   ]
  },
  {
   "cell_type": "code",
   "execution_count": null,
   "metadata": {},
   "outputs": [],
   "source": [
    "np.vstack([array_4, array_3])"
   ]
  },
  {
   "cell_type": "markdown",
   "metadata": {},
   "source": [
    "Horizontal Stacked\n",
    "- nD arrays must be (N,x) and (N,y) where N is the same value\n",
    "\n",
    "Using our examples, we need a new array that has (2,x) values since array_3 is (2,y)"
   ]
  },
  {
   "cell_type": "code",
   "execution_count": null,
   "metadata": {},
   "outputs": [],
   "source": [
    "array_4 = np.array([[99], [99]])\n",
    "print(array_4)\n",
    "print()\n",
    "print(array_4.shape)"
   ]
  },
  {
   "cell_type": "code",
   "execution_count": null,
   "metadata": {},
   "outputs": [],
   "source": [
    "array_hstack = np.hstack([array_4, array_3])\n",
    "array_hstack"
   ]
  },
  {
   "cell_type": "code",
   "execution_count": null,
   "metadata": {},
   "outputs": [],
   "source": [
    "array_hstack.shape"
   ]
  },
  {
   "cell_type": "markdown",
   "metadata": {},
   "source": [
    "Now, let's show when it doesn't work:"
   ]
  },
  {
   "cell_type": "code",
   "execution_count": null,
   "metadata": {},
   "outputs": [],
   "source": [
    "array_big"
   ]
  },
  {
   "cell_type": "code",
   "execution_count": null,
   "metadata": {},
   "outputs": [],
   "source": [
    "array_big.shape"
   ]
  },
  {
   "cell_type": "code",
   "execution_count": null,
   "metadata": {},
   "outputs": [],
   "source": [
    "array_hstack = np.hstack([array_4, array_big])\n",
    "array_hstack"
   ]
  },
  {
   "cell_type": "markdown",
   "metadata": {},
   "source": [
    "---\n",
    "## Math with ndarrays\n",
    "- np.add and np.subtract\n",
    "- np.multiple and np.divide\n",
    "- np.power\n",
    "- np.negative (multiplies x by -1)"
   ]
  },
  {
   "cell_type": "code",
   "execution_count": null,
   "metadata": {},
   "outputs": [],
   "source": [
    "array_3"
   ]
  },
  {
   "cell_type": "code",
   "execution_count": null,
   "metadata": {},
   "outputs": [],
   "source": [
    "## Method 1 (numpy function)\n",
    "np.add(array_3, 5)"
   ]
  },
  {
   "cell_type": "code",
   "execution_count": null,
   "metadata": {},
   "outputs": [],
   "source": [
    "## Method 2 (python built-in function)\n",
    "array_3 + 5"
   ]
  },
  {
   "cell_type": "markdown",
   "metadata": {},
   "source": [
    "Note\n",
    "- Using numpy vs built-in functions doesn't matter too much here since you are performing the action on a numpy array"
   ]
  },
  {
   "cell_type": "code",
   "execution_count": null,
   "metadata": {},
   "outputs": [],
   "source": [
    "timeit.timeit(lambda:np.add(array_3, 5), number=10000)"
   ]
  },
  {
   "cell_type": "code",
   "execution_count": null,
   "metadata": {},
   "outputs": [],
   "source": [
    "timeit.timeit(lambda:array_3 + 5, number=10000)"
   ]
  },
  {
   "cell_type": "markdown",
   "metadata": {},
   "source": [
    "### Math between arrays\n",
    "- math operations between equal sized arrays is done via element-wise"
   ]
  },
  {
   "cell_type": "code",
   "execution_count": null,
   "metadata": {},
   "outputs": [],
   "source": [
    "## add and subtract\n",
    "array_3 + array_3"
   ]
  },
  {
   "cell_type": "code",
   "execution_count": null,
   "metadata": {},
   "outputs": [],
   "source": [
    "array_3 - array_3"
   ]
  },
  {
   "cell_type": "code",
   "execution_count": null,
   "metadata": {},
   "outputs": [],
   "source": [
    "## multiplication\n",
    "array_3 * array_3"
   ]
  },
  {
   "cell_type": "code",
   "execution_count": null,
   "metadata": {},
   "outputs": [],
   "source": [
    "data_4 = [[-1, -1, -1, -1, -1], [-1, -1, -1, -1, -1]]\n",
    "array_4 = np.array(data_4)"
   ]
  },
  {
   "cell_type": "code",
   "execution_count": null,
   "metadata": {},
   "outputs": [],
   "source": [
    "array_3 * array_4"
   ]
  },
  {
   "cell_type": "code",
   "execution_count": null,
   "metadata": {},
   "outputs": [],
   "source": [
    "## division\n",
    "1/array_3"
   ]
  },
  {
   "cell_type": "code",
   "execution_count": null,
   "metadata": {},
   "outputs": [],
   "source": [
    "## powers\n",
    "array_3**3"
   ]
  },
  {
   "cell_type": "markdown",
   "metadata": {},
   "source": [
    "### Absolute values"
   ]
  },
  {
   "cell_type": "code",
   "execution_count": null,
   "metadata": {},
   "outputs": [],
   "source": [
    "## Python3 built-in function\n",
    "abs(array_3)"
   ]
  },
  {
   "cell_type": "code",
   "execution_count": null,
   "metadata": {},
   "outputs": [],
   "source": [
    "np.absolute(array_3)"
   ]
  },
  {
   "cell_type": "markdown",
   "metadata": {},
   "source": [
    "### Booleans"
   ]
  },
  {
   "cell_type": "code",
   "execution_count": null,
   "metadata": {},
   "outputs": [],
   "source": [
    "print(array_3 == -6)"
   ]
  },
  {
   "cell_type": "markdown",
   "metadata": {},
   "source": [
    "### Trigonometric\n",
    "- np.sin()\n",
    "- np.cos()\n",
    "- np.arcsin()\n",
    "- etc."
   ]
  },
  {
   "cell_type": "code",
   "execution_count": null,
   "metadata": {},
   "outputs": [],
   "source": [
    "## trig on a single input value\n",
    "np.sin(-6)"
   ]
  },
  {
   "cell_type": "code",
   "execution_count": null,
   "metadata": {},
   "outputs": [],
   "source": [
    "## trig on an numpy array\n",
    "np.sin(array_3)"
   ]
  },
  {
   "cell_type": "markdown",
   "metadata": {},
   "source": [
    "### Exponents and logarithms"
   ]
  },
  {
   "cell_type": "code",
   "execution_count": null,
   "metadata": {},
   "outputs": [],
   "source": [
    "## Note that the resulting lists aren't seperated by a comma\n",
    "##    (as seen above) due to the print statement\n",
    "x = np.array([2, 3])\n",
    "print(\"x     =\", x)\n",
    "print(\"2^x   =\", np.exp2(x))\n",
    "print(\"10^x   =\", np.power(10, x))\n",
    "print(\"e^x   =\", np.exp(x))"
   ]
  },
  {
   "cell_type": "code",
   "execution_count": null,
   "metadata": {},
   "outputs": [],
   "source": [
    "x = [4., 8.]\n",
    "print(\"log2(x)  =\", np.log2(x))\n",
    "\n",
    "x = [100., 1000.]\n",
    "print(\"log10(x) =\", np.log10(x))\n",
    "\n",
    "x = [7.3890561, 20.08553692]\n",
    "print(\"ln(x)    =\", np.log(x))"
   ]
  },
  {
   "cell_type": "markdown",
   "metadata": {},
   "source": [
    "---\n",
    "### A more complex example"
   ]
  },
  {
   "cell_type": "code",
   "execution_count": null,
   "metadata": {},
   "outputs": [],
   "source": [
    "## Celcius to Fahrenheit\n",
    "## Average temperature in Bonn (January ---> December)\n",
    "data_celcius = [2.0, 2.8, 5.7, 9.3, 13.3, 16.5, 18.1, 17.6, 14.9, 10.5, 6.1, 3.2]\n",
    "array_celcius = np.array(data_celcius)\n",
    "array_celcius"
   ]
  },
  {
   "cell_type": "code",
   "execution_count": null,
   "metadata": {},
   "outputs": [],
   "source": [
    "array_fahrenheit = array_celcius*(9/5) + 32"
   ]
  },
  {
   "cell_type": "code",
   "execution_count": null,
   "metadata": {},
   "outputs": [],
   "source": [
    "plt.plot(array_celcius)\n",
    "plt.plot(array_fahrenheit)\n",
    "plt.show()"
   ]
  },
  {
   "cell_type": "markdown",
   "metadata": {},
   "source": [
    "---\n",
    "## Numpy statistics"
   ]
  },
  {
   "cell_type": "markdown",
   "metadata": {},
   "source": [
    "#### Side note: numpy's random number generators\n",
    "- generators (e.g. normal/gaussian, geometric, bionomial) https://numpy.org/doc/1.18/reference/random/generator.html\n",
    "\n",
    "\n",
    "Example:\n",
    "What is the random distribution of 10 attempts that have a success propobility of 60%, where the distribution itself is governed by a geometric distribution?\n"
   ]
  },
  {
   "cell_type": "code",
   "execution_count": null,
   "metadata": {},
   "outputs": [],
   "source": [
    "## a 1 means success\n",
    "s = np.random.geometric(0.60, size=10)\n",
    "s"
   ]
  },
  {
   "cell_type": "markdown",
   "metadata": {},
   "source": [
    "Filling a numpy array with random numbers\n",
    "- Create an array (3,3) of Gaussian distributed random values: mean=0.0 and standard deviation=0.1"
   ]
  },
  {
   "cell_type": "code",
   "execution_count": null,
   "metadata": {
    "scrolled": true
   },
   "outputs": [],
   "source": [
    "random_data = np.random.normal(0, 0.1, (3, 3))\n",
    "random_data"
   ]
  },
  {
   "cell_type": "code",
   "execution_count": null,
   "metadata": {},
   "outputs": [],
   "source": [
    "plt.plot(random_data)\n",
    "plt.show()"
   ]
  },
  {
   "cell_type": "code",
   "execution_count": null,
   "metadata": {},
   "outputs": [],
   "source": [
    "np.mean(random_data)"
   ]
  },
  {
   "cell_type": "code",
   "execution_count": null,
   "metadata": {},
   "outputs": [],
   "source": [
    "np.median(random_data)"
   ]
  },
  {
   "cell_type": "markdown",
   "metadata": {},
   "source": [
    "**Side note**: what happens if we convert the numpy array to a list using numpy.tolist()?"
   ]
  },
  {
   "cell_type": "code",
   "execution_count": null,
   "metadata": {},
   "outputs": [],
   "source": [
    "import statistics\n",
    "\n",
    "random_data_list = random_data.tolist()\n",
    "print(random_data_list)\n",
    "\n",
    "statistics.median(random_data_list)"
   ]
  },
  {
   "cell_type": "markdown",
   "metadata": {},
   "source": [
    "To do this like numpy, we must flatten the array first, and then tolist:"
   ]
  },
  {
   "cell_type": "code",
   "execution_count": null,
   "metadata": {},
   "outputs": [],
   "source": [
    "random_data_flattened_list = random_data.flatten().tolist()\n",
    "random_data_flattened_list"
   ]
  },
  {
   "cell_type": "code",
   "execution_count": null,
   "metadata": {},
   "outputs": [],
   "source": [
    "statistics.median(random_data_flattened_list)"
   ]
  },
  {
   "cell_type": "markdown",
   "metadata": {},
   "source": [
    "---\n",
    "## Standard deviation and variance"
   ]
  },
  {
   "cell_type": "code",
   "execution_count": null,
   "metadata": {},
   "outputs": [],
   "source": [
    "data = [1, 2, 4, 5, 8]"
   ]
  },
  {
   "cell_type": "markdown",
   "metadata": {},
   "source": [
    "#### variance\n",
    "- Libreoffice spreadsheet give a variance of '=VAR(1,2,4,5,8)' of 7.5\n",
    "- I beleive Matlab also gives 7.5\n",
    "\n",
    "Using the statistics's library"
   ]
  },
  {
   "cell_type": "code",
   "execution_count": null,
   "metadata": {},
   "outputs": [],
   "source": [
    "statistics.variance(data)"
   ]
  },
  {
   "cell_type": "markdown",
   "metadata": {},
   "source": [
    "These are actually the 'sample variance.'\n",
    "\n",
    "However, if you use NumPy by simply typing:"
   ]
  },
  {
   "cell_type": "code",
   "execution_count": null,
   "metadata": {},
   "outputs": [],
   "source": [
    "np.var(data)"
   ]
  },
  {
   "cell_type": "markdown",
   "metadata": {},
   "source": [
    "In this case there is a hidden variable called ddof (\"Delta Degrees of Freedom\")\n",
    "    - the denomenator is divided by 'N -ddof'\n",
    "\n",
    "ddof = 1 gives you a population variance"
   ]
  },
  {
   "cell_type": "code",
   "execution_count": null,
   "metadata": {},
   "outputs": [],
   "source": [
    "## population variance\n",
    "np.var(data, ddof=0)"
   ]
  },
  {
   "cell_type": "code",
   "execution_count": null,
   "metadata": {},
   "outputs": [],
   "source": [
    "## sample variance (always larger than the population variance)\n",
    "np.var(data, ddof=1)"
   ]
  },
  {
   "cell_type": "markdown",
   "metadata": {},
   "source": [
    "https://numpy.org/doc/1.18/reference/generated/numpy.var.html?highlight=variance\n",
    "\n",
    "- sample: \"ddof=1 provides an unbiased estimator of the variance of a hypothetical infinite population\"\n",
    "- population: \"ddof=0 provides a maximum likelihood estimate of the variance for normally distributed variables\"\n",
    "\n",
    "The same is true for standard deviation."
   ]
  },
  {
   "cell_type": "code",
   "execution_count": null,
   "metadata": {},
   "outputs": [],
   "source": [
    "## standard deviation\n",
    "## libreoffice gives '=stdev(1,2,4,5,8)' of 2.7386127875\n",
    "\n",
    "statistics.stdev(data)"
   ]
  },
  {
   "cell_type": "code",
   "execution_count": null,
   "metadata": {},
   "outputs": [],
   "source": [
    "## sample standard deviation\n",
    "np.std(data, ddof=1)"
   ]
  },
  {
   "cell_type": "code",
   "execution_count": null,
   "metadata": {},
   "outputs": [],
   "source": [
    "## population standard deviation\n",
    "np.std(data, ddof=0)"
   ]
  },
  {
   "cell_type": "markdown",
   "metadata": {},
   "source": [
    "**Take home message**: you should always take a look at NumPy's manual to make sure you are doing what you think you are doing -- keep an eye out for default settings (e.g. ddof=0)."
   ]
  },
  {
   "cell_type": "markdown",
   "metadata": {},
   "source": [
    "---\n",
    "\n",
    "Addtional resource to further learn and test your knowledge: https://github.com/rougier/numpy-100\n",
    "\n",
    "---"
   ]
  },
  {
   "cell_type": "markdown",
   "metadata": {},
   "source": [
    "### And finally, some weirdness"
   ]
  },
  {
   "cell_type": "code",
   "execution_count": null,
   "metadata": {},
   "outputs": [],
   "source": [
    "import statistics\n",
    "\n",
    "## Should provide a mean value of 1.0 (i.e. sum of the numbers is 4 and then divide by 4)\n",
    "statistics_mean = statistics.mean([1e30, 1, 3, -1e30])\n",
    "np_mean = np.mean([1e30, 1, 3, -1e30])\n",
    "\n",
    "print('Statistics mean: {}'.format(statistics_mean))\n",
    "print('NumPy mean: {}'.format(np_mean))\n"
   ]
  },
  {
   "cell_type": "markdown",
   "metadata": {},
   "source": [
    "From https://www.python.org/dev/peps/pep-0450/\n",
    "\n",
    "\"The built-in sum can lose accuracy when dealing with floats of wildly differing magnitude. Consequently, the above naive mean fails this \"torture test\"...\""
   ]
  }
 ],
 "metadata": {
  "kernelspec": {
   "display_name": "Python 3",
   "language": "python",
   "name": "python3"
  },
  "language_info": {
   "codemirror_mode": {
    "name": "ipython",
    "version": 3
   },
   "file_extension": ".py",
   "mimetype": "text/x-python",
   "name": "python",
   "nbconvert_exporter": "python",
   "pygments_lexer": "ipython3",
   "version": "3.8.1"
  }
 },
 "nbformat": 4,
 "nbformat_minor": 2
}
