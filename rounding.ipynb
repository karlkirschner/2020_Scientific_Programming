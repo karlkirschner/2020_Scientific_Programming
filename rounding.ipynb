{
 "cells": [
  {
   "cell_type": "markdown",
   "metadata": {},
   "source": [
    "# <center> Rounding Numbers"
   ]
  },
  {
   "cell_type": "markdown",
   "metadata": {},
   "source": [
    "---\n",
    "**Question**: How would you round -2.5?\n",
    "\n",
    "(Everyone type in their number in the \"Chat box\"...when I say \"Go\" you hit the Return Key)\n",
    "<br><br><b>\n",
    "<br><br><b>\n",
    "<br><br><b>\n",
    "\n",
    "<br><br><b>\n",
    "<br><br><b>\n",
    "<br><br><b>\n",
    "\n",
    "<br><br><b>\n",
    "<br><br><b>\n",
    "<br><br><b>\n",
    "\n",
    "<br><br><b>\n",
    "<br><br><b>\n",
    "<br><br><b>\n",
    "\n",
    "<br><br><b>\n",
    "<br><br><b>\n",
    "<br><br><b>\n",
    "\n",
    "<br><br><b>\n",
    "<br><br><b>\n",
    "<br><br><b>"
   ]
  },
  {
   "cell_type": "markdown",
   "metadata": {},
   "source": [
    "## Approaches for rounding numbers\n",
    "\n",
    "### Bias methods\n",
    "\n",
    "**Round Half Up** (i.e. bias towards more positive)\n",
    "1.  7.6 $\\rightarrow$ 8\n",
    "2. 7.5 $\\rightarrow$ 8\n",
    "3. 7.4 $\\rightarrow$ 7\n",
    "<br><br>\n",
    "4. -7.6 $\\rightarrow$ -8\n",
    "5. -7.5 $\\rightarrow$ -7\n",
    "6. -7.4 $\\rightarrow$ -7\n",
    "\n",
    "**Round Half Down** (i.e. bias towards more negative)\n",
    "1.  7.5 $\\rightarrow$  7\n",
    "2. -7.5 $\\rightarrow$ -8\n",
    "\n",
    "**Round Half To Zero** (i.e. bias towards zero)\n",
    "1.  7.5 $\\rightarrow$  7\n",
    "2. -7.5 $\\rightarrow$ -7\n",
    "\n",
    "**Round Half Away from Zero** (i.e. bias towards $\\pm \\infty$)\n",
    "1. 7.5 $\\rightarrow$  8\n",
    "2. -7.5 $\\rightarrow$ -8\n",
    "\n",
    "Additional information:\n",
    "\n",
    "https://en.wikipedia.org/wiki/Rounding\\#Types\\_of\\_rounding\n"
   ]
  },
  {
   "cell_type": "markdown",
   "metadata": {},
   "source": [
    "### Free from positive/negative bias and bias toward/away from zero\n",
    "\n",
    "**Round Half To Even** (i.e. zero is considered even)\n",
    "1.  7.5 $\\rightarrow$  8\n",
    "2.  8.5 $\\rightarrow$  8\n",
    "<br><br>\n",
    "3. -7.5 $\\rightarrow$ -8\n",
    "4. -8.5 $\\rightarrow$ -8\n",
    "\n",
    "\n",
    "**Round Half To Odd** (i.e. zero is considered even)\n",
    "1.  7.5 $\\rightarrow$  7\n",
    "2.  8.5 $\\rightarrow$  9\n",
    "<br><br>\n",
    "3. -7.5 $\\rightarrow$ -7\n",
    "4. -8.5 $\\rightarrow$ -9"
   ]
  },
  {
   "cell_type": "markdown",
   "metadata": {},
   "source": [
    "### Python's built in function 'round' (with examples)"
   ]
  },
  {
   "cell_type": "code",
   "execution_count": null,
   "metadata": {},
   "outputs": [],
   "source": [
    "print( round(2.5) )\n",
    "print( round(1.5) )\n",
    "print( round(2.51) )"
   ]
  },
  {
   "cell_type": "code",
   "execution_count": null,
   "metadata": {},
   "outputs": [],
   "source": [
    "print( round(2.35, 1) )\n",
    "print( round(1.25, 1) ) \n",
    "print( round(1.675, 2) )\n",
    "\n",
    "print()\n",
    "## However, this is odd:\n",
    "print( round(2.675, 2) ) ## should be 2.68"
   ]
  },
  {
   "cell_type": "markdown",
   "metadata": {},
   "source": [
    "Reason: **floating-point representation error** (https://docs.python.org/3/tutorial/floatingpoint.html)\n",
    "\n",
    "It is not a Python issue, but has to do with how computers store floating-point numbers in memory."
   ]
  },
  {
   "cell_type": "markdown",
   "metadata": {},
   "source": [
    "Thus, Python3's built in round function uses **Round Half To Even**"
   ]
  },
  {
   "cell_type": "markdown",
   "metadata": {},
   "source": [
    "### Python's math library (with examples)\n",
    "(bias to **Round Up** and **Round Down**)"
   ]
  },
  {
   "cell_type": "code",
   "execution_count": null,
   "metadata": {},
   "outputs": [],
   "source": [
    "import math\n",
    "## ceil stands for ceiling\n",
    "\n",
    "print( math.ceil(1.2) )\n",
    "print( math.ceil(2) )\n",
    "print( math.ceil(-0.5) )"
   ]
  },
  {
   "cell_type": "code",
   "execution_count": null,
   "metadata": {},
   "outputs": [],
   "source": [
    "print( math.floor(1.2) )\n",
    "print( math.floor(2) )\n",
    "print( math.floor(-0.5) )"
   ]
  },
  {
   "cell_type": "code",
   "execution_count": null,
   "metadata": {},
   "outputs": [],
   "source": [
    "0.1 + 0.1 + 0.1\n"
   ]
  },
  {
   "cell_type": "markdown",
   "metadata": {},
   "source": [
    "### Python's decimal library (with examples)"
   ]
  },
  {
   "cell_type": "code",
   "execution_count": null,
   "metadata": {
    "scrolled": true
   },
   "outputs": [],
   "source": [
    "import decimal\n",
    "print( decimal.Decimal(2.675) )\n",
    "print( decimal.Decimal('2.675') )"
   ]
  },
  {
   "cell_type": "code",
   "execution_count": null,
   "metadata": {
    "scrolled": true
   },
   "outputs": [],
   "source": [
    "decimal.Decimal(2.675) + decimal.Decimal(2.675)"
   ]
  },
  {
   "cell_type": "code",
   "execution_count": null,
   "metadata": {
    "scrolled": true
   },
   "outputs": [],
   "source": [
    "decimal.Decimal('2.675') + decimal.Decimal('2.675')"
   ]
  },
  {
   "cell_type": "code",
   "execution_count": null,
   "metadata": {},
   "outputs": [],
   "source": [
    "## Rounding witih decimals library\n",
    "\n",
    "## quantized - using Rounding Half to Even\n",
    "print( decimal.Decimal(\"2.675\").quantize(decimal.Decimal(\"1.00\")) ) ## The 1.00 signifies the number of places"
   ]
  },
  {
   "cell_type": "code",
   "execution_count": null,
   "metadata": {},
   "outputs": [],
   "source": [
    "## How to automatically do it when performing math\n",
    "decimal.getcontext().prec = 2\n",
    "\n",
    "## 1.23 + 2.32 = 3.55\n",
    "print( decimal.Decimal(\"1.23\") + decimal.Decimal(\"2.32\") )"
   ]
  },
  {
   "cell_type": "markdown",
   "metadata": {},
   "source": [
    "The decimal library has lots of options:\n",
    "\n",
    "decimal.ROUND_CEILING $\\rightarrow$ Rounding up\n",
    "\n",
    "decimal.ROUND_FLOOR$\\rightarrow$ Rounding down\n",
    "\n",
    "decimal.ROUND_DOWN$\\rightarrow$ Truncation\n",
    "\n",
    "decimal.ROUND_UP$\\rightarrow$ Rounding away from zero\n",
    "\n",
    "decimal.ROUND_HALF_UP$\\rightarrow$ Rounding half away from zero\n",
    "\n",
    "decimal.ROUND_HALF_DOWN$\\rightarrow$ Rounding half towards zero\n",
    "\n",
    "decimal.ROUND_HALF_EVEN$\\rightarrow$ Rounding half to even\n",
    "\n",
    "decimal.ROUND_05UP$\\rightarrow$ Rounding towards zero, unless the last digit is 0 or 5 then round away from zero"
   ]
  },
  {
   "cell_type": "code",
   "execution_count": null,
   "metadata": {},
   "outputs": [],
   "source": [
    "## make the code more readable by changing your import statement\n",
    "from decimal import Decimal\n",
    "\n",
    "decimal.getcontext().rounding = decimal.ROUND_CEILING\n",
    "print( Decimal('2.675').quantize(Decimal('1.0')) )\n",
    "print( Decimal('-2.675').quantize(Decimal('1.0')) )"
   ]
  },
  {
   "cell_type": "code",
   "execution_count": null,
   "metadata": {
    "scrolled": true
   },
   "outputs": [],
   "source": [
    "decimal.getcontext().prec = 3  ## Do this otherwise you get errors from the first print statement\n",
    "decimal.getcontext().rounding = decimal.ROUND_FLOOR\n",
    "print( Decimal('2.675').quantize(Decimal('1.00')) )\n",
    "print( Decimal('-2.675').quantize(Decimal('1.00')) )"
   ]
  },
  {
   "cell_type": "markdown",
   "metadata": {},
   "source": [
    "### Python's numpy library (with examples)"
   ]
  },
  {
   "cell_type": "code",
   "execution_count": null,
   "metadata": {
    "scrolled": false
   },
   "outputs": [],
   "source": [
    "import numpy\n",
    "\n",
    "print( numpy.around(1.5) )\n",
    "print( numpy.around(2.5) )\n",
    "print( numpy.around(2.51) )\n",
    "\n",
    "print()\n",
    "print( numpy.around(2.35, decimals=1) )\n",
    "print( numpy.around(1.25, decimals=1) )\n",
    "print( numpy.around(2.665, decimals=2) )\n",
    "print( numpy.around(2.675, decimals=2) )"
   ]
  },
  {
   "cell_type": "markdown",
   "metadata": {},
   "source": [
    "Thus, Numpy's around function even better using **Round Half To Even**"
   ]
  },
  {
   "cell_type": "markdown",
   "metadata": {},
   "source": [
    "**Note: Round Half To Even is usually the default (https://en.wikipedia.org/wiki/IEEE_754#Rounding_rules).**"
   ]
  },
  {
   "cell_type": "code",
   "execution_count": null,
   "metadata": {},
   "outputs": [],
   "source": []
  }
 ],
 "metadata": {
  "kernelspec": {
   "display_name": "Python 3",
   "language": "python",
   "name": "python3"
  },
  "language_info": {
   "codemirror_mode": {
    "name": "ipython",
    "version": 3
   },
   "file_extension": ".py",
   "mimetype": "text/x-python",
   "name": "python",
   "nbconvert_exporter": "python",
   "pygments_lexer": "ipython3",
   "version": "3.8.1"
  }
 },
 "nbformat": 4,
 "nbformat_minor": 2
}
