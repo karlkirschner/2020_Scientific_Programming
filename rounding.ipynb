{
 "cells": [
  {
   "cell_type": "markdown",
   "metadata": {},
   "source": [
    "# <center> Rounding Numbers\n",
    "<br><br><br><br>\n",
    "### <center> Don't Scroll Down Yet..."
   ]
  },
  {
   "cell_type": "markdown",
   "metadata": {},
   "source": [
    "---\n",
    "**Question**: How would you round -2.45 to the first decimal place?\n",
    "\n",
    "(Everyone type in their number in the \"Chat box\"...when I say \"Go\" hit the Return Key)\n",
    "<br><br><b>\n",
    "<br><br><b>\n",
    "<br><br><b>\n",
    "\n",
    "<br><br><b>\n",
    "<br><br><b>\n",
    "<br><br><b>\n",
    "\n",
    "<br><br><b>\n",
    "<br><br><b>\n",
    "<br><br><b>\n",
    "\n",
    "<br><br><b>\n",
    "<br><br><b>\n",
    "<br><br><b>\n",
    "\n",
    "<br><br><b>\n",
    "<br><br><b>\n",
    "<br><br><b>\n",
    "\n",
    "<br><br><b>\n",
    "<br><br><b>\n",
    "<br><br><b>"
   ]
  },
  {
   "cell_type": "markdown",
   "metadata": {},
   "source": [
    "---\n",
    "\n",
    "## Conceptual approaches for rounding numbers\n",
    "\n",
    "### Bias methods\n",
    "\n",
    "**Round Half Up** (i.e. bias towards more positive)\n",
    "1.  7.6 $\\rightarrow$ 8\n",
    "2. 7.5 $\\rightarrow$ 8\n",
    "3. 7.4 $\\rightarrow$ 7\n",
    "<br><br>\n",
    "4. -7.6 $\\rightarrow$ -8\n",
    "5. -7.5 $\\rightarrow$ -7\n",
    "6. -7.4 $\\rightarrow$ -7\n",
    "\n",
    "**Round Half Down** (i.e. bias towards more negative)\n",
    "1.  7.5 $\\rightarrow$  7\n",
    "2. -7.5 $\\rightarrow$ -8\n",
    "\n",
    "**Round Half To Zero** (i.e. bias towards zero)\n",
    "1.  7.5 $\\rightarrow$  7\n",
    "2. -7.5 $\\rightarrow$ -7\n",
    "\n",
    "**Round Half Away from Zero** (i.e. bias towards $\\pm \\infty$)\n",
    "1. 7.5 $\\rightarrow$  8\n",
    "2. -7.5 $\\rightarrow$ -8\n",
    "\n",
    "Additional information:\n",
    "\n",
    "https://en.wikipedia.org/wiki/Rounding\\#Types\\_of\\_rounding\n"
   ]
  },
  {
   "cell_type": "markdown",
   "metadata": {},
   "source": [
    "### Free from positive/negative bias and bias toward/away from zero\n",
    "\n",
    "**Round Half To Even** (i.e. zero is considered evenly distributed)\n",
    "1.  7.5 $\\rightarrow$  8\n",
    "2.  8.5 $\\rightarrow$  8\n",
    "<br><br>\n",
    "3. -7.5 $\\rightarrow$ -8\n",
    "4. -8.5 $\\rightarrow$ -8\n",
    "\n",
    "\n",
    "**Round Half To Odd** (i.e. zero is considered evenly distributed)\n",
    "1.  7.5 $\\rightarrow$  7\n",
    "2.  8.5 $\\rightarrow$  9\n",
    "<br><br>\n",
    "3. -7.5 $\\rightarrow$ -7\n",
    "4. -8.5 $\\rightarrow$ -9"
   ]
  },
  {
   "cell_type": "markdown",
   "metadata": {},
   "source": [
    "---\n",
    "\n",
    "## Different approaches within Python\n",
    "\n",
    "---\n",
    "### Python's built-in function 'round' (with examples)\n",
    "\n",
    "https://docs.python.org/3/library/functions.html#round"
   ]
  },
  {
   "cell_type": "code",
   "execution_count": 1,
   "metadata": {},
   "outputs": [
    {
     "name": "stdout",
     "output_type": "stream",
     "text": [
      "0\n",
      "2\n",
      "21\n"
     ]
    }
   ],
   "source": [
    "print( round(0.5) )\n",
    "print( round(1.5) )\n",
    "print( round(20.51) )"
   ]
  },
  {
   "cell_type": "markdown",
   "metadata": {},
   "source": [
    "Notice: how it simpy returns the integer value of the float.\n",
    "\n",
    "Alternatively, one can specify the number of decimal places using 'round(number[, ndigits])'."
   ]
  },
  {
   "cell_type": "code",
   "execution_count": 2,
   "metadata": {},
   "outputs": [
    {
     "name": "stdout",
     "output_type": "stream",
     "text": [
      "When rounded to 2 decimals, the number 2.35 becomes 2.35. \n",
      "When rounded to 2 decimals, the number 1.25 becomes 1.25. \n",
      "When rounded to 2 decimals, the number 1.675 becomes 1.68. \n",
      "When rounded to 2 decimals, the number 10 becomes 10. \n",
      "When rounded to 2 decimals, the number 1.555e-09 becomes 0.0. \n"
     ]
    }
   ],
   "source": [
    "number_list = [2.35, 1.25, 1.675, 10, 1.555E-9]\n",
    "\n",
    "for number in number_list:\n",
    "    number_rounded = round(number, 2)\n",
    "    \n",
    "    print('When rounded to 2 decimals, the number {0} becomes {1}. '.format(number, number_rounded))"
   ]
  },
  {
   "cell_type": "markdown",
   "metadata": {},
   "source": [
    "Notice two things:\n",
    "\n",
    "1. 10, which as no decimals initially and thus a questionable number of sig figs, stays as 10.\n",
    "2. 1.555E-9 has **4 sig figs**, but the function round returned **0.0** -- which means we **lost** some data information!"
   ]
  },
  {
   "cell_type": "markdown",
   "metadata": {},
   "source": [
    "Thus, Python3's built-in round function uses **Round Half To Even**<br><br>\n",
    "\n",
    "**However**, notice the following weird result when we round 2.675 to two decimal places.<br><br>\n",
    "\n",
    "Okay, one more thing to consider here, what would you expect from the following statement:"
   ]
  },
  {
   "cell_type": "code",
   "execution_count": 3,
   "metadata": {},
   "outputs": [
    {
     "name": "stdout",
     "output_type": "stream",
     "text": [
      "2.67\n"
     ]
    }
   ],
   "source": [
    "print( round(2.675, 2) )"
   ]
  },
  {
   "cell_type": "markdown",
   "metadata": {},
   "source": [
    "If one considers the above **'round(1.675, 2)'** statement, the **'round(2.675, 2)'** should result in **2.68**. Instead we obtained **2.67**!<br><br>\n",
    "\n",
    "Another and simpler example of this is:"
   ]
  },
  {
   "cell_type": "code",
   "execution_count": 4,
   "metadata": {},
   "outputs": [
    {
     "data": {
      "text/plain": [
       "0.30000000000000004"
      ]
     },
     "execution_count": 4,
     "metadata": {},
     "output_type": "execute_result"
    }
   ],
   "source": [
    "0.1 + 0.1 + 0.1"
   ]
  },
  {
   "cell_type": "markdown",
   "metadata": {},
   "source": [
    "Reason: **floating-point representation error** (https://docs.python.org/3/tutorial/floatingpoint.html)\n",
    "\n",
    "This is not a Python issue, but has to do with how computers store floating-point numbers in memory.\n",
    "\n",
    "From a perspective of being exact and correct, this is something that one needs to be aware of -- particularly when significant figures are important -- when developing code for scientific usage."
   ]
  },
  {
   "cell_type": "markdown",
   "metadata": {},
   "source": [
    "---\n",
    "### Python's math library (with examples)\n",
    "(bias to **Round Up** and **Round Down**)"
   ]
  },
  {
   "cell_type": "code",
   "execution_count": 5,
   "metadata": {},
   "outputs": [
    {
     "name": "stdout",
     "output_type": "stream",
     "text": [
      "2\n",
      "2\n",
      "0\n"
     ]
    }
   ],
   "source": [
    "import math\n",
    "## ceil stands for ceiling\n",
    "\n",
    "print( math.ceil(1.2) )\n",
    "print( math.ceil(2) )\n",
    "print( math.ceil(-0.5) )"
   ]
  },
  {
   "cell_type": "code",
   "execution_count": 6,
   "metadata": {},
   "outputs": [
    {
     "name": "stdout",
     "output_type": "stream",
     "text": [
      "1\n",
      "2\n",
      "-1\n"
     ]
    }
   ],
   "source": [
    "print( math.floor(1.2) )\n",
    "print( math.floor(2) )\n",
    "print( math.floor(-0.5) )"
   ]
  },
  {
   "cell_type": "markdown",
   "metadata": {},
   "source": [
    "---\n",
    "### Python's decimal library"
   ]
  },
  {
   "cell_type": "code",
   "execution_count": 7,
   "metadata": {
    "scrolled": true
   },
   "outputs": [
    {
     "name": "stdout",
     "output_type": "stream",
     "text": [
      "2.67499999999999982236431605997495353221893310546875\n",
      "2.675\n"
     ]
    }
   ],
   "source": [
    "import decimal\n",
    "print( decimal.Decimal(2.675) )\n",
    "print( decimal.Decimal('2.675') )"
   ]
  },
  {
   "cell_type": "code",
   "execution_count": 8,
   "metadata": {
    "scrolled": true
   },
   "outputs": [
    {
     "data": {
      "text/plain": [
       "Decimal('5.349999999999999644728632120')"
      ]
     },
     "execution_count": 8,
     "metadata": {},
     "output_type": "execute_result"
    }
   ],
   "source": [
    "decimal.Decimal(2.675) + decimal.Decimal(2.675)"
   ]
  },
  {
   "cell_type": "code",
   "execution_count": 9,
   "metadata": {
    "scrolled": true
   },
   "outputs": [
    {
     "data": {
      "text/plain": [
       "Decimal('5.350')"
      ]
     },
     "execution_count": 9,
     "metadata": {},
     "output_type": "execute_result"
    }
   ],
   "source": [
    "decimal.Decimal('2.675') + decimal.Decimal('2.675')"
   ]
  },
  {
   "cell_type": "code",
   "execution_count": 10,
   "metadata": {},
   "outputs": [
    {
     "name": "stdout",
     "output_type": "stream",
     "text": [
      "2.68\n"
     ]
    }
   ],
   "source": [
    "## Rounding witih decimals library\n",
    "\n",
    "## quantized - using Rounding Half to Even\n",
    "print( decimal.Decimal(\"2.675\").quantize(decimal.Decimal(\"1.00\")) ) ## The 1.00 signifies the number of places"
   ]
  },
  {
   "cell_type": "code",
   "execution_count": 11,
   "metadata": {},
   "outputs": [
    {
     "name": "stdout",
     "output_type": "stream",
     "text": [
      "3.6\n"
     ]
    }
   ],
   "source": [
    "## How to automatically do it when performing math\n",
    "decimal.getcontext().prec = 2\n",
    "\n",
    "## 1.23 + 2.32 = 3.55\n",
    "print( decimal.Decimal(\"1.23\") + decimal.Decimal(\"2.32\") )"
   ]
  },
  {
   "cell_type": "markdown",
   "metadata": {},
   "source": [
    "The decimal library has lots of options:\n",
    "\n",
    "decimal.ROUND_CEILING $\\rightarrow$ Rounding up\n",
    "\n",
    "decimal.ROUND_FLOOR$\\rightarrow$ Rounding down\n",
    "\n",
    "decimal.ROUND_DOWN$\\rightarrow$ Truncation\n",
    "\n",
    "decimal.ROUND_UP$\\rightarrow$ Rounding away from zero\n",
    "\n",
    "decimal.ROUND_HALF_UP$\\rightarrow$ Rounding half away from zero\n",
    "\n",
    "decimal.ROUND_HALF_DOWN$\\rightarrow$ Rounding half towards zero\n",
    "\n",
    "decimal.ROUND_HALF_EVEN$\\rightarrow$ Rounding half to even\n",
    "\n",
    "decimal.ROUND_05UP$\\rightarrow$ Rounding towards zero, unless the last digit is 0 or 5 then round away from zero"
   ]
  },
  {
   "cell_type": "code",
   "execution_count": 12,
   "metadata": {},
   "outputs": [
    {
     "name": "stdout",
     "output_type": "stream",
     "text": [
      "2.7\n",
      "-2.6\n"
     ]
    }
   ],
   "source": [
    "## make the code more readable by changing your import statement\n",
    "from decimal import Decimal\n",
    "\n",
    "decimal.getcontext().rounding = decimal.ROUND_CEILING\n",
    "print( Decimal('2.675').quantize(Decimal('1.0')) )\n",
    "print( Decimal('-2.675').quantize(Decimal('1.0')) )"
   ]
  },
  {
   "cell_type": "code",
   "execution_count": 13,
   "metadata": {
    "scrolled": true
   },
   "outputs": [
    {
     "name": "stdout",
     "output_type": "stream",
     "text": [
      "2.67\n",
      "-2.68\n"
     ]
    }
   ],
   "source": [
    "decimal.getcontext().prec = 3  ## Do this otherwise you get errors from the first print statement\n",
    "decimal.getcontext().rounding = decimal.ROUND_FLOOR\n",
    "print( Decimal('2.675').quantize(Decimal('1.00')) )\n",
    "print( Decimal('-2.675').quantize(Decimal('1.00')) )"
   ]
  },
  {
   "cell_type": "markdown",
   "metadata": {},
   "source": [
    "---\n",
    "### Python's numpy library"
   ]
  },
  {
   "cell_type": "code",
   "execution_count": 14,
   "metadata": {
    "scrolled": false
   },
   "outputs": [
    {
     "name": "stdout",
     "output_type": "stream",
     "text": [
      "2.0\n",
      "2.0\n",
      "3.0\n",
      "\n",
      "2.4\n",
      "1.2\n",
      "2.66\n",
      "2.68\n"
     ]
    }
   ],
   "source": [
    "import numpy\n",
    "\n",
    "print( numpy.around(1.5) )\n",
    "print( numpy.around(2.5) )\n",
    "print( numpy.around(2.51) )\n",
    "\n",
    "print()\n",
    "print( numpy.around(2.35, decimals=1) )\n",
    "print( numpy.around(1.25, decimals=1) )\n",
    "print( numpy.around(2.665, decimals=2) )\n",
    "print( numpy.around(2.675, decimals=2) )"
   ]
  },
  {
   "cell_type": "markdown",
   "metadata": {},
   "source": [
    "Thus, Numpy's around function even better using **Round Half To Even**"
   ]
  },
  {
   "cell_type": "markdown",
   "metadata": {},
   "source": [
    "**Note: Round Half To Even is usually the default (https://en.wikipedia.org/wiki/IEEE_754#Rounding_rules).**"
   ]
  },
  {
   "cell_type": "markdown",
   "metadata": {},
   "source": [
    "---\n",
    "Now, there is one more way to consider...\n",
    "\n",
    "### Formating print statements containing floats\n",
    "\n",
    "https://docs.python.org/3.1/library/string.html#grammar-token-precision"
   ]
  },
  {
   "cell_type": "code",
   "execution_count": 22,
   "metadata": {},
   "outputs": [
    {
     "name": "stdout",
     "output_type": "stream",
     "text": [
      "3.45, 3.55001, 3e+11\n"
     ]
    }
   ],
   "source": [
    "## g: General format\n",
    "##    - fixed point or exponential\n",
    "print('{0:g}, {1:g}, {2:g}'.format(3.4500045, 3.5500055, 300000000005))"
   ]
  },
  {
   "cell_type": "code",
   "execution_count": 27,
   "metadata": {},
   "outputs": [
    {
     "name": "stdout",
     "output_type": "stream",
     "text": [
      "3.5, 3.5, -3.5, -3.5, 300000000005.0\n"
     ]
    }
   ],
   "source": [
    "## f: Fixed point\n",
    "## rounding to odd number\n",
    "##    demo: change 1f to 3f in on value\n",
    "print('{0:.1f}, {1:.1f}, {2:.1f}, {3:.1f}, {4:.1f}'.format(3.45, 3.55, -3.45, -3.55, 300000000005))"
   ]
  },
  {
   "cell_type": "code",
   "execution_count": 25,
   "metadata": {},
   "outputs": [
    {
     "name": "stdout",
     "output_type": "stream",
     "text": [
      "3.5e+00, 3.5e+00, 3.000e+11\n"
     ]
    }
   ],
   "source": [
    "## e: Exponent notation\n",
    "## rounding to odd number\n",
    "print('{0:.1e}, {1:.1e}, {2:.1e}'.format(3.45, 3.55, 300000000005))"
   ]
  },
  {
   "cell_type": "code",
   "execution_count": 31,
   "metadata": {},
   "outputs": [
    {
     "name": "stdout",
     "output_type": "stream",
     "text": [
      "Average value: 3.5\n"
     ]
    }
   ],
   "source": [
    "print(f'Average value: {3.45:.1f}')"
   ]
  },
  {
   "cell_type": "code",
   "execution_count": 29,
   "metadata": {},
   "outputs": [
    {
     "name": "stdout",
     "output_type": "stream",
     "text": [
      "Average value: -3.5\n"
     ]
    }
   ],
   "source": [
    "print(f'Average value: {-3.55:.1f}')"
   ]
  },
  {
   "cell_type": "code",
   "execution_count": 30,
   "metadata": {},
   "outputs": [
    {
     "name": "stdout",
     "output_type": "stream",
     "text": [
      "When rounded to 2 decimals, the number 2.35 becomes 2.35. \n",
      "When rounded to 2 decimals, the number 1.25 becomes 1.25. \n",
      "When rounded to 2 decimals, the number 1.675 becomes 1.68. \n",
      "When rounded to 2 decimals, the number 10 becomes 10.00. \n",
      "When rounded to 2 decimals, the number 1.555e-09 becomes 0.00. \n"
     ]
    }
   ],
   "source": [
    "number_list = [2.35, 1.25, 1.675, 10, 1.555E-9]\n",
    "\n",
    "for number in number_list:\n",
    "    number_rounded = '{:0.2f}'.format(number)\n",
    "    print('When rounded to 2 decimals, the number {0} becomes {1}. '.format(number, number_rounded))"
   ]
  },
  {
   "cell_type": "markdown",
   "metadata": {},
   "source": [
    " Notice one important thing from the above example:\n",
    " 1. Strickly speaking, 10 has an undertermined number of significant figures, or if one assumes that a decimal should be present (i.e. 10.), then 2 significant figures. The fixed (i.e. f) formatting results in a number with 4 significant figures -- which means we  **artificially/erroneously gained** some data information!\n",
    " \n",
    " Let's check out what general (i.e. g) formatting does:"
   ]
  },
  {
   "cell_type": "code",
   "execution_count": 21,
   "metadata": {},
   "outputs": [
    {
     "name": "stdout",
     "output_type": "stream",
     "text": [
      "When rounded to 2 decimals, the number 2.35 becomes 2.4. \n",
      "When rounded to 2 decimals, the number 1.25 becomes 1.2. \n",
      "When rounded to 2 decimals, the number 1.675 becomes 1.7. \n",
      "When rounded to 2 decimals, the number 10 becomes 10. \n",
      "When rounded to 2 decimals, the number 1.555e-09 becomes 1.6e-09. \n"
     ]
    }
   ],
   "source": [
    "for number in number_list:\n",
    "    number_rounded = '{:0.2g}'.format(number)\n",
    "    print('When rounded to 2 decimals, the number {0} becomes {1}. '.format(number, number_rounded))"
   ]
  },
  {
   "cell_type": "markdown",
   "metadata": {},
   "source": [
    "## Take-home message\n",
    "\n",
    "You have **think critically** about what you are doing and what your final goal is.\n",
    "\n",
    "In other words, don't blindly take information that you find quickly and blindly use it.\n",
    "\n",
    "**Create short test codes** to **verify** that **'what you think you are doing'** is actually **'what you are doing!'**"
   ]
  },
  {
   "cell_type": "code",
   "execution_count": null,
   "metadata": {},
   "outputs": [],
   "source": []
  }
 ],
 "metadata": {
  "kernelspec": {
   "display_name": "Python 3",
   "language": "python",
   "name": "python3"
  },
  "language_info": {
   "codemirror_mode": {
    "name": "ipython",
    "version": 3
   },
   "file_extension": ".py",
   "mimetype": "text/x-python",
   "name": "python",
   "nbconvert_exporter": "python",
   "pygments_lexer": "ipython3",
   "version": "3.8.1"
  }
 },
 "nbformat": 4,
 "nbformat_minor": 2
}
