{
 "cells": [
  {
   "cell_type": "markdown",
   "metadata": {},
   "source": [
    "# <center> Coding Styles\n",
    "\n",
    "## Style Guides\n",
    "1. PEP8: https://www.python.org/dev/peps/pep-0008\n",
    "2. (Google: https://google.github.io/styleguide/pyguide.html)\n",
    "***"
   ]
  },
  {
   "cell_type": "markdown",
   "metadata": {},
   "source": [
    "## Why worry about style (and coding standards)?\n",
    "\n",
    "- Provides consistency\n",
    "    - mutliple developers that collaborate\n",
    "    - understanding code becomes easier\n",
    "- Help control code changes in the future\n",
    "- Improves readability\n",
    "- Improves debugging"
   ]
  },
  {
   "cell_type": "markdown",
   "metadata": {},
   "source": [
    "## When to break with a style:\n",
    "\n",
    "- Would **make the code less readable**\n",
    "- When surrounding code also breaks with it (e.g. for historic reasons)\n",
    "    - But....this is an opportunity for cleaning up"
   ]
  },
  {
   "cell_type": "markdown",
   "metadata": {},
   "source": [
    "---\n",
    "## PEP8 Style"
   ]
  },
  {
   "cell_type": "markdown",
   "metadata": {},
   "source": [
    "### Simple Indentations\n",
    "- 4 **spaces** (not invisible tabs) per indentation level (IDEs allow you to specify)\n",
    "- Python3 **does not allow mixing** tabs and spaces for indentation"
   ]
  },
  {
   "cell_type": "code",
   "execution_count": 4,
   "metadata": {},
   "outputs": [
    {
     "name": "stdout",
     "output_type": "stream",
     "text": [
      "1\n",
      "2\n",
      "3\n",
      "4\n",
      "\n",
      "A\n",
      "b\n",
      "c\n",
      "D\n"
     ]
    }
   ],
   "source": [
    "for number in [1, 2, 3, 4]:\n",
    "    print(number)\n",
    "\n",
    "print()\n",
    "for letter in ['A', 'b', 'c', 'D']:\n",
    "    print (letter)"
   ]
  },
  {
   "cell_type": "markdown",
   "metadata": {},
   "source": [
    "- Recall that indentations are important for python"
   ]
  },
  {
   "cell_type": "code",
   "execution_count": 7,
   "metadata": {},
   "outputs": [
    {
     "name": "stdout",
     "output_type": "stream",
     "text": [
      "1\n",
      "\n",
      "2\n",
      "\n",
      "3\n",
      "\n",
      "4\n",
      "\n",
      "A\n",
      "b\n",
      "c\n",
      "D\n"
     ]
    }
   ],
   "source": [
    "## Compare to above for loops\n",
    "\n",
    "for number in [1, 2, 3, 4]:\n",
    "    print(number)\n",
    "    print()\n",
    "    \n",
    "for letter in ['A', 'b', 'c', 'D']:\n",
    "    print (letter)"
   ]
  },
  {
   "cell_type": "markdown",
   "metadata": {},
   "source": [
    "### Hanging indentations"
   ]
  },
  {
   "cell_type": "code",
   "execution_count": 18,
   "metadata": {},
   "outputs": [],
   "source": [
    "## Example 1\n",
    "\n",
    "## Aligned with other variables\n",
    "\n",
    "## with IMPLICIT CONTINUATION of a statement\n",
    "month_names = ['Januari', 'Februari', 'Maart',      # These are the\n",
    "               'April',   'Mei',      'Juni',       # Dutch names\n",
    "               'Juli',    'Augustus', 'September',  # for the months\n",
    "               'Oktober', 'November', 'December']   # of the year"
   ]
  },
  {
   "cell_type": "code",
   "execution_count": null,
   "metadata": {},
   "outputs": [],
   "source": [
    "## Example 2\n",
    "def function_with_long_name(var_one=None, var_two=None, var_three=None,\n",
    "                            var_four=None):\n",
    "    print(var_one, var_two, var_three, var_four)\n",
    "\n",
    "\n",
    "var_one = 'Hello'\n",
    "var_two = 'how'\n",
    "var_three = 'are'\n",
    "var_four = 'you?'\n",
    "\n",
    "example_variable_with_long_name = function_with_long_name(var_one,\n",
    "                                                          var_two,\n",
    "                                                          var_three,\n",
    "                                                          var_four)\n",
    "\n",
    "## Or reconsider what your are naming things\n",
    "example_var_name = function_with_long_name(var_one, var_two,\n",
    "                                           var_three, var_four)"
   ]
  },
  {
   "cell_type": "code",
   "execution_count": null,
   "metadata": {},
   "outputs": [],
   "source": [
    "## An additional level of 4 spaces\n",
    "def function_with_long_name(\n",
    "        var_one=None,\n",
    "        var_two=None,\n",
    "        var_three=None,\n",
    "        var_four=None):\n",
    "    print(var_one, var_two, var_three, var_four)"
   ]
  },
  {
   "cell_type": "code",
   "execution_count": 15,
   "metadata": {},
   "outputs": [],
   "source": [
    "## versus an incorrect way\n",
    "def function_with_long_name(\n",
    "    var_one=None,\n",
    "    var_two=None,\n",
    "    var_three=None,\n",
    "    var_four=None):\n",
    "    print(var_one, var_two, var_three, var_four)"
   ]
  },
  {
   "cell_type": "code",
   "execution_count": 39,
   "metadata": {},
   "outputs": [],
   "source": [
    "# Align math operators\n",
    "var_one = 12.0\n",
    "var_two = 9.0\n",
    "var_three = 4.5\n",
    "var_four = 1.0\n",
    "\n",
    "## Correct\n",
    "income = (var_one\n",
    "          + var_two\n",
    "          - var_three\n",
    "          - var_four)\n",
    "\n",
    "## Wrong (imagine if the variable names were even more different in length)\n",
    "income = (var_one +\n",
    "          var_two -\n",
    "          var_three -\n",
    "          var_four)"
   ]
  },
  {
   "cell_type": "markdown",
   "metadata": {},
   "source": [
    "---\n",
    "## Maximum Line Length"
   ]
  },
  {
   "cell_type": "markdown",
   "metadata": {},
   "source": [
    "- Limit all lines to a maximum of\n",
    "    - Code: 79 characters\n",
    "    - Comments: 72 characters\n",
    "- Enables 2 files to be opened side-by-side (e.g. code review tools that present 2versions in adjacent columns)\n",
    "\n",
    "<br>\n",
    "- Example of 79 characters:\n",
    "\n",
    "#AaaaaaaaaAaaaaaaaaaAaaaaaaaaaAaaaaaaaaaAaaaaaaaaaAaaaaaaaaaAaaaaaaaaaAaaaaaaal\n",
    "\n",
    "- Example of 72 characters:\n",
    "#AaaaaaaaaAaaaaaaaaaAaaaaaaaaaAaaaaaaaaaAaaaaaaaaaAaaaaaaaaaAaaaaaaaaaAa"
   ]
  },
  {
   "cell_type": "markdown",
   "metadata": {},
   "source": [
    "### Explicit continuation of lines\n",
    "\n",
    "- Used in \"logical lines\" of code (e.g. if statements)\n",
    "- Each line that needs to be continued is terminated with a backslash ('\\')\n",
    "- Lines ending with a '\\' cannot carry a comment"
   ]
  },
  {
   "cell_type": "code",
   "execution_count": 32,
   "metadata": {},
   "outputs": [
    {
     "name": "stdout",
     "output_type": "stream",
     "text": [
      "Indentation and continuation is great.\n"
     ]
    }
   ],
   "source": [
    "year = 2020\n",
    "month = 4\n",
    "day = 28\n",
    "hour = 13\n",
    "minute = 30\n",
    "second = 59\n",
    "\n",
    "## Also make note the indentation of the second continued line\n",
    "## This follows PEP8 guidelines\n",
    "\n",
    "#AaaaaaaaaAaaaaaaaaaAaaaaaaaaaAaaaaaaaaaAAaaaaaaaaAaaaaaaaaaAaaaaaaaaaAaaaaaaal\n",
    "if 1900 < year < 2100 and 1 <= month <= 12 and 1 <= day <= 31 \\\n",
    "        and 0 <= hour < 24 and 0 <= minute < 60 and 0 <= second < 60: ##comment\n",
    "    print('Indentation and continuation is great.')"
   ]
  },
  {
   "cell_type": "markdown",
   "metadata": {},
   "source": [
    "---\n",
    "## Blank Lines\n",
    "\n",
    "- Improves readability\n",
    "- Use single blank lines sparingly, to indicate logical grouping of code ideas"
   ]
  },
  {
   "cell_type": "markdown",
   "metadata": {},
   "source": [
    "- Top level functions should be surrounded by 2 blank lines"
   ]
  },
  {
   "cell_type": "code",
   "execution_count": 41,
   "metadata": {},
   "outputs": [
    {
     "name": "stdout",
     "output_type": "stream",
     "text": [
      "Hello there\n",
      "Good bye\n"
     ]
    }
   ],
   "source": [
    "def function_one(var_one=None, var_two=None):\n",
    "    print(var_one, var_two)\n",
    "    \n",
    "    \n",
    "def function_two(var_three=None, var_four=None):\n",
    "    print(var_three, var_four)\n",
    "    \n",
    "    \n",
    "function_one(var_one = \"Hello\", var_two = \"there\")\n",
    "function_two(var_three = 'Good', var_four = 'bye')"
   ]
  },
  {
   "cell_type": "markdown",
   "metadata": {},
   "source": [
    "---\n",
    "## Import statements\n",
    "- one import statement per line\n",
    "- list in alphebetic order"
   ]
  },
  {
   "cell_type": "code",
   "execution_count": 44,
   "metadata": {},
   "outputs": [],
   "source": [
    "## Correct\n",
    "import os\n",
    "import sys\n",
    "\n",
    "## Incorrect\n",
    "import sys, os"
   ]
  },
  {
   "cell_type": "markdown",
   "metadata": {},
   "source": [
    "- Imports should be grouped in the following order:\n",
    "    - Standard library imports.\n",
    "    - Related third party imports.\n",
    "    - Local application/library specific imports.\n",
    "    \n",
    "- You should put a blank line between each group of imports."
   ]
  },
  {
   "cell_type": "code",
   "execution_count": 45,
   "metadata": {},
   "outputs": [
    {
     "ename": "ModuleNotFoundError",
     "evalue": "No module named 'hbrs_computer_group'",
     "output_type": "error",
     "traceback": [
      "\u001b[0;31m---------------------------------------------------------------------------\u001b[0m",
      "\u001b[0;31mModuleNotFoundError\u001b[0m                       Traceback (most recent call last)",
      "\u001b[0;32m<ipython-input-45-79fe84a32811>\u001b[0m in \u001b[0;36m<module>\u001b[0;34m\u001b[0m\n\u001b[1;32m      6\u001b[0m \u001b[0;32mimport\u001b[0m \u001b[0mscipy\u001b[0m\u001b[0;34m\u001b[0m\u001b[0;34m\u001b[0m\u001b[0m\n\u001b[1;32m      7\u001b[0m \u001b[0;34m\u001b[0m\u001b[0m\n\u001b[0;32m----> 8\u001b[0;31m \u001b[0;32mimport\u001b[0m \u001b[0mhbrs_computer_group\u001b[0m\u001b[0;34m\u001b[0m\u001b[0;34m\u001b[0m\u001b[0m\n\u001b[0m\u001b[1;32m      9\u001b[0m \u001b[0;32mimport\u001b[0m \u001b[0mmy_own_hbrs_library\u001b[0m\u001b[0;34m\u001b[0m\u001b[0;34m\u001b[0m\u001b[0m\n",
      "\u001b[0;31mModuleNotFoundError\u001b[0m: No module named 'hbrs_computer_group'"
     ]
    }
   ],
   "source": [
    "import os\n",
    "import sys\n",
    "\n",
    "import matplotlib\n",
    "import numpy\n",
    "import scipy\n",
    "\n",
    "#AaaaaaaaaAaaaaaaaaaAaaaaaaaaaAaaaaaaaaaAaaaaaaaaaAaaaaaaaaaAaaaaaaaaaAa\n",
    "## Note that the following will give you an error since they don't exist\n",
    "import hbrs_computer_group\n",
    "import my_own_hbrs_library"
   ]
  },
  {
   "cell_type": "markdown",
   "metadata": {},
   "source": [
    "---\n",
    "## Less important miscellaneous ideas\n",
    "- remove trailing white spaces\n",
    "- assign arguments a default value, have no spaces around the '=' sign"
   ]
  },
  {
   "cell_type": "code",
   "execution_count": 52,
   "metadata": {},
   "outputs": [
    {
     "name": "stdout",
     "output_type": "stream",
     "text": [
      "Hello there\n"
     ]
    }
   ],
   "source": [
    "function_one(var_one=\"Hello\", var_two=\"there\")"
   ]
  },
  {
   "cell_type": "code",
   "execution_count": null,
   "metadata": {},
   "outputs": [],
   "source": []
  }
 ],
 "metadata": {
  "kernelspec": {
   "display_name": "Python 3",
   "language": "python",
   "name": "python3"
  },
  "language_info": {
   "codemirror_mode": {
    "name": "ipython",
    "version": 3
   },
   "file_extension": ".py",
   "mimetype": "text/x-python",
   "name": "python",
   "nbconvert_exporter": "python",
   "pygments_lexer": "ipython3",
   "version": "3.8.1"
  }
 },
 "nbformat": 4,
 "nbformat_minor": 2
}
