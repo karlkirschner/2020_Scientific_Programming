{
 "cells": [
  {
   "cell_type": "markdown",
   "metadata": {},
   "source": [
    "# <center> User-defined Fuctions"
   ]
  },
  {
   "cell_type": "markdown",
   "metadata": {},
   "source": [
    "***\n",
    "## User-defined functions... \n",
    "...are the modular brains of your scientific programming.\n",
    "\n",
    "1. First line: 'def function_name():'\n",
    "    - declares a function that is name 'function_name'\n",
    "    - typically, passed parameters are given with the ()\n",
    "    \n",
    "\n",
    "2. Second line - to end\n",
    "    - indented body of the code\n",
    "\n",
    "\n",
    "3. Then, simply call the function when you want to use it (i.e. function calls)"
   ]
  },
  {
   "cell_type": "code",
   "execution_count": 12,
   "metadata": {},
   "outputs": [
    {
     "name": "stdout",
     "output_type": "stream",
     "text": [
      "hello\n",
      "hi\n",
      "hey\n",
      "hi-ya\n",
      "greetings\n",
      "good day\n",
      "good morning\n",
      "what's happening\n",
      "what's up\n",
      "how are you\n",
      "how goes it\n",
      "howdy-do\n",
      "bonjour\n",
      "buenas noches\n",
      "buenos dias\n",
      "shalom\n",
      "howdy\n",
      "shalom\n"
     ]
    }
   ],
   "source": [
    "def hello():\n",
    "    print('hello')\n",
    "    print('hi')\n",
    "    print('hey')\n",
    "    print('hi-ya')\n",
    "    print('greetings')\n",
    "    print('good day')\n",
    "    print('good morning')\n",
    "    print(\"what's happening\")\n",
    "    print(\"what's up\")\n",
    "    print('how are you')\n",
    "    print('how goes it')\n",
    "    print('howdy-do')\n",
    "    print('bonjour')\n",
    "    print('buenas noches')\n",
    "    print('buenos dias')\n",
    "    print('shalom')\n",
    "    print('howdy')\n",
    "    print('shalom')\n",
    "\n",
    "hello() # function call"
   ]
  },
  {
   "cell_type": "code",
   "execution_count": 14,
   "metadata": {},
   "outputs": [
    {
     "name": "stdout",
     "output_type": "stream",
     "text": [
      "Howdy-do Karl\n",
      "Howdy-do Karl\n",
      "\n",
      "Howdy-do Wolfgang\n",
      "Howdy-do Wolfgang\n"
     ]
    }
   ],
   "source": [
    "## pass parameter of name\n",
    "def hello(name):\n",
    "    print('Howdy-do', name)\n",
    "    print('Howdy-do {0}'.format(name))\n",
    "\n",
    "hello('Karl')\n",
    "print()\n",
    "\n",
    "hello('Wolfgang')"
   ]
  },
  {
   "cell_type": "markdown",
   "metadata": {},
   "source": [
    "After each function call, the parameters values are forgotten."
   ]
  },
  {
   "cell_type": "code",
   "execution_count": 15,
   "metadata": {},
   "outputs": [
    {
     "ename": "TypeError",
     "evalue": "hello() missing 1 required positional argument: 'name'",
     "output_type": "error",
     "traceback": [
      "\u001b[0;31m---------------------------------------------------------------------------\u001b[0m",
      "\u001b[0;31mTypeError\u001b[0m                                 Traceback (most recent call last)",
      "\u001b[0;32m<ipython-input-15-a75d7781aaeb>\u001b[0m in \u001b[0;36m<module>\u001b[0;34m\u001b[0m\n\u001b[0;32m----> 1\u001b[0;31m \u001b[0mhello\u001b[0m\u001b[0;34m(\u001b[0m\u001b[0;34m)\u001b[0m\u001b[0;34m\u001b[0m\u001b[0;34m\u001b[0m\u001b[0m\n\u001b[0m",
      "\u001b[0;31mTypeError\u001b[0m: hello() missing 1 required positional argument: 'name'"
     ]
    }
   ],
   "source": [
    "hello()"
   ]
  },
  {
   "cell_type": "markdown",
   "metadata": {},
   "source": [
    "- [scientific programming - working & repeating](scientific_programming.ipynb#best_practice_work)"
   ]
  },
  {
   "cell_type": "markdown",
   "metadata": {},
   "source": [
    "***\n",
    "## Return Values and return Statements"
   ]
  },
  {
   "cell_type": "code",
   "execution_count": 17,
   "metadata": {},
   "outputs": [
    {
     "name": "stdout",
     "output_type": "stream",
     "text": [
      "Energy = 4.493775893684088e+16 Joules\n"
     ]
    }
   ],
   "source": [
    "## SciPy has physical constants\n",
    "from scipy.constants import c\n",
    "\n",
    "def mass2energy(mass):\n",
    "    ## Mass in kg since 1 J = 1 kg m^2/s^2\n",
    "    energy = mass*(c**2)\n",
    "    return energy\n",
    "\n",
    "mass = 0.500\n",
    "energy = mass2energy(mass)\n",
    "\n",
    "print('Energy = {0} Joules'.format(energy))"
   ]
  },
  {
   "cell_type": "markdown",
   "metadata": {},
   "source": [
    "**Take-home points**:\n",
    "1. Can reuse the mass2energy function as desired\n",
    "2. One location that performs the actually energy calculation\n",
    "3. Use the built-in defination for the speed of light\n",
    "4. Reduces the chances of errors"
   ]
  },
  {
   "cell_type": "code",
   "execution_count": null,
   "metadata": {},
   "outputs": [],
   "source": []
  }
 ],
 "metadata": {
  "kernelspec": {
   "display_name": "Python 3",
   "language": "python",
   "name": "python3"
  },
  "language_info": {
   "codemirror_mode": {
    "name": "ipython",
    "version": 3
   },
   "file_extension": ".py",
   "mimetype": "text/x-python",
   "name": "python",
   "nbconvert_exporter": "python",
   "pygments_lexer": "ipython3",
   "version": "3.7.4"
  }
 },
 "nbformat": 4,
 "nbformat_minor": 2
}
