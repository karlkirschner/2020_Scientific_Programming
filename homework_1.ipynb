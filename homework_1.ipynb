{
 "cells": [
  {
   "cell_type": "markdown",
   "metadata": {},
   "source": [
    "# <center> Homework 1\n",
    "\n",
    "Graded as either 'Pass' or 'Fail'\n",
    "\n",
    "1. **Task 1**: Figure out how you want to code using Python (e.g. install locally, use a cloud, use an H-BRS lab)\n",
    "\n",
    "    Possible Resources include:\n",
    "\n",
    "    -[Python](https://www.python.org/downloads)\n",
    "\n",
    "    -[Jupyter Notebooks](https://jupyter.org)\n",
    "\n",
    "    -[Google's Colaboratory](https://colab.research.google.com)\n",
    "\n",
    "\n",
    "\n",
    "2. **Task 2**: Write a program (e.g. 'mass2energy.py') that calculates the amount of energy that is equivalent to 500 grams of mass.\n",
    "    - Use Einstein's $E=mc^2$, where 'E' is energy, 'm' is mass weight and 'c' is the speed of light\n",
    "    - Report the answer in the [International Unit](https://en.wikipedia.org/wiki/International_System_of_Units) for Energy\n",
    "\n",
    "\n",
    "\n",
    "3. **Task 3**: Execute the statement 'import this' (e.g. in a Python terminal)"
   ]
  },
  {
   "cell_type": "code",
   "execution_count": null,
   "metadata": {},
   "outputs": [],
   "source": []
  }
 ],
 "metadata": {
  "kernelspec": {
   "display_name": "Python 3",
   "language": "python",
   "name": "python3"
  },
  "language_info": {
   "codemirror_mode": {
    "name": "ipython",
    "version": 3
   },
   "file_extension": ".py",
   "mimetype": "text/x-python",
   "name": "python",
   "nbconvert_exporter": "python",
   "pygments_lexer": "ipython3",
   "version": "3.8.1"
  }
 },
 "nbformat": 4,
 "nbformat_minor": 2
}
