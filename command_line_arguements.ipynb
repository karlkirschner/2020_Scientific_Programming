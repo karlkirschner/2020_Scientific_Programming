{
 "cells": [
  {
   "cell_type": "markdown",
   "metadata": {},
   "source": [
    "# Python scripts from the command-line \n",
    "\n",
    "\n",
    "Command-line execution with specified arguments\n",
    "    - ran as a shell script from Linux/Mac, or\n",
    "    - as a batch file in Windows\n",
    "    \n",
    "Similar to asking the user for input, but more adaptable.\n",
    "    - python3 filename.py -i value_i -d value_d\n",
    "\n",
    "https://docs.python.org/3/library/argparse.html\n",
    "\n",
    "\n",
    "Let's create a program called **mass2energy.py** and run it from the command-line."
   ]
  },
  {
   "cell_type": "code",
   "execution_count": null,
   "metadata": {},
   "outputs": [],
   "source": [
    "#!/usr/bin/env python\n",
    "# coding: utf-8\n",
    "\n",
    "import argparse\n",
    "import decimal\n",
    "import sys\n",
    "\n",
    "from scipy.constants import c\n",
    "\n",
    "\n",
    "def mass_2_energy(mass_kg=None, decimal_holder=None):\n",
    "    \"\"\"\n",
    "    Computes the energy of a certain mass using the Einstein equaino E=mc^2\n",
    "    \n",
    "    input: mass (float) - weight of substance in kg\n",
    "           decimal_places (integer) - number of decimal places resulting energy\n",
    "    return: energy (float) - amount of energy in kJ/mol\n",
    "    \"\"\"\n",
    "    \n",
    "    if not isinstance(mass_kg, (int,float)):\n",
    "        sys.exit('An integer or float was not given for the mass. Exiting.')\n",
    "    if not isinstance(decimal_holder, int):\n",
    "        sys.exit('An interger was not given for the numer of decimal places. '\n",
    "                 'Exiting.')\n",
    "\n",
    "    ## decimal library is needed for rounding numbers in scientific notation\n",
    "    energy = decimal.Decimal(mass_kg*(c**2))\n",
    "\n",
    "    return ('%.{0}E'.format(decimal_holder) % round(energy, decimal_holder))\n",
    "\n",
    "\n",
    "if __name__ == \"__main__\":\n",
    "    \"\"\"\n",
    "    mass2energy.py -m 0.500 -d 3\n",
    "    mass2energy.py --mass 0.500 --decimal_places 3\n",
    "    mass2energy.py -m 0.500\n",
    "    \"\"\"\n",
    "\n",
    "    parser = argparse.ArgumentParser(description='Converting a mass to energy')\n",
    "    parser.add_argument(\"-m\", \"--mass\", type=float, help=\"Mass in kg\", action=\"store\")\n",
    "    parser.add_argument(\"-d\", \"--decimal_places\", type=int, help=\"Number of decimal \"\n",
    "                              \"places for energy results\", action=\"store\", default=3)\n",
    "    args = parser.parse_args()\n",
    "\n",
    "    energy = mass_2_energy(mass_kg=args.mass, decimal_holder=args.decimal_places)\n",
    "\n",
    "    print('{0} kJ/mol'.format(energy))"
   ]
  },
  {
   "cell_type": "markdown",
   "metadata": {},
   "source": [
    "The 'add_argument' can have the following arguments:\n",
    "- action: what the parse does with the argument (e.g. store, store_false, store_true; see example above)\n",
    "- choices: a set of values that are allowed (i.e. will not raise an exception)\n",
    "    - eg. choices=['dog', 'cat', 'bird']\n",
    "- default: default values (see example above)\n",
    "- help: a short string to provide information (see example above)\n",
    "- type: the argument type (see example above)"
   ]
  },
  {
   "cell_type": "code",
   "execution_count": null,
   "metadata": {},
   "outputs": [],
   "source": [
    "## from Linux command line type the following:\n",
    "mass2energy.py --help\n",
    "\n",
    "mass2energy.py -m 0.500 -d 3\n",
    "mass2energy.py --mass 0.500 --decimal_places 3\n",
    "mass2energy.py -m 0.500\n",
    "\n",
    "\n",
    "## Will give errors\n",
    "mass2energy.py\n",
    "mass2energy.py --mass 0.500 --decimal_places t"
   ]
  },
  {
   "cell_type": "code",
   "execution_count": null,
   "metadata": {},
   "outputs": [],
   "source": []
  }
 ],
 "metadata": {
  "kernelspec": {
   "display_name": "Python 3",
   "language": "python",
   "name": "python3"
  },
  "language_info": {
   "codemirror_mode": {
    "name": "ipython",
    "version": 3
   },
   "file_extension": ".py",
   "mimetype": "text/x-python",
   "name": "python",
   "nbconvert_exporter": "python",
   "pygments_lexer": "ipython3",
   "version": "3.8.1"
  }
 },
 "nbformat": 4,
 "nbformat_minor": 2
}
