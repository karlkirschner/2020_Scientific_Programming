{
 "cells": [
  {
   "cell_type": "markdown",
   "metadata": {},
   "source": [
    "# <center> Introductory Example ( and Demoing Jupyter Notebook / Colaboratory)"
   ]
  },
  {
   "cell_type": "code",
   "execution_count": 3,
   "metadata": {},
   "outputs": [
    {
     "name": "stdout",
     "output_type": "stream",
     "text": [
      "Scientist number 1 is Ada Love.\n",
      "Scientist number 2 is Marie Curie.\n",
      "Scientist number 3 is Rosalind Franklin.\n",
      "Scientist number 4 is Maria Goeppert Mayer.\n"
     ]
    }
   ],
   "source": [
    "## Simple Program\n",
    "index = 1\n",
    "\n",
    "famous_scientists = []\n",
    "famous_scientists = ['Ada Love', 'Marie Curie', 'Rosalind Franklin', 'Maria Goeppert Mayer']\n",
    "\n",
    "for person in famous_scientists:\n",
    "    print('Scientist number {0} is {1}.'.format(index, person))\n",
    "    index += 1"
   ]
  },
  {
   "cell_type": "markdown",
   "metadata": {},
   "source": [
    "## Talking Points:\n",
    "1. Commenting code\n",
    "2. Create objects (i.e. 'index' and 'famous_scientists')\n",
    "3. Create a 'for loop'\n",
    "4. Incrementing a number by +1 (could also do '-=')\n",
    "5. Print statement with proper formatting"
   ]
  },
  {
   "cell_type": "markdown",
   "metadata": {},
   "source": [
    "**Final demo**:\n",
    "1. Save notebook as a python file\n",
    "2. Excecute in a terminal via 'python3 intro_example.py'"
   ]
  },
  {
   "cell_type": "markdown",
   "metadata": {},
   "source": [
    "[scientific programming - write for people](scientific_programming.ipynb#best_practice_top)"
   ]
  },
  {
   "cell_type": "code",
   "execution_count": null,
   "metadata": {},
   "outputs": [],
   "source": []
  }
 ],
 "metadata": {
  "kernelspec": {
   "display_name": "Python 3",
   "language": "python",
   "name": "python3"
  },
  "language_info": {
   "codemirror_mode": {
    "name": "ipython",
    "version": 3
   },
   "file_extension": ".py",
   "mimetype": "text/x-python",
   "name": "python",
   "nbconvert_exporter": "python",
   "pygments_lexer": "ipython3",
   "version": "3.8.1"
  }
 },
 "nbformat": 4,
 "nbformat_minor": 2
}
