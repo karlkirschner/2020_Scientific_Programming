{
 "cells": [
  {
   "cell_type": "markdown",
   "metadata": {},
   "source": [
    "# <center> Introductory Python3 Examples\n",
    "## <center> (and Demo of Jupyter Notebook / Colaboratory)"
   ]
  },
  {
   "cell_type": "markdown",
   "metadata": {},
   "source": [
    "#### Example 1\n",
    "\n",
    "What might I consider good coding to be?"
   ]
  },
  {
   "cell_type": "code",
   "execution_count": 1,
   "metadata": {},
   "outputs": [
    {
     "name": "stdout",
     "output_type": "stream",
     "text": [
      "Scientist number 1 is Ada Love.\n",
      "Scientist number 2 is Marie Curie.\n",
      "Scientist number 3 is Rosalind Franklin.\n",
      "Scientist number 4 is Maria Goeppert Mayer.\n"
     ]
    }
   ],
   "source": [
    "'''\n",
    "Simple Program\n",
    "Author: Karl N. Kirschner (kkirsc2m; 123456)\n",
    "Date: October 20, 2020\n",
    "\n",
    "An example of Kirschner's expectation for good coding.\n",
    "'''\n",
    "\n",
    "index = 1\n",
    "\n",
    "famous_scientists = []\n",
    "famous_scientists = ['Ada Love', 'Marie Curie', 'Rosalind Franklin', 'Maria Goeppert Mayer']\n",
    "\n",
    "for person in famous_scientists:\n",
    "    print('Scientist number {0} is {1}.'.format(index, person))\n",
    "    index += 1"
   ]
  },
  {
   "cell_type": "markdown",
   "metadata": {},
   "source": [
    "## Talking Points:\n",
    "1. Commenting code\n",
    "2. Creating objects (i.e. 'index' and 'famous_scientists')\n",
    "3. Create a 'for loop'\n",
    "4. Incrementing a number by +1 (could also '-=')\n",
    "5. Print statement with proper formatting\n",
    "6. Concisely and cleanly written\n",
    "7. Human readable\n",
    "8. Using Jupyter Notebook as a lab notebook to document your thoughts and ideas."
   ]
  },
  {
   "cell_type": "markdown",
   "metadata": {},
   "source": [
    "**Additional notes**:\n",
    "From a Jupyter / Colaboratory notebook, you can save the code to a python file, and then run it from a terminal\n",
    "\n",
    "1. Save notebook as a python .py file\n",
    "2. Excecute in a terminal via 'python3 intro_example.py'"
   ]
  },
  {
   "cell_type": "markdown",
   "metadata": {},
   "source": [
    "---\n",
    "#### Example 2\n",
    "\n",
    "There are always multiple solutions for achieving the same goal.\n",
    "\n",
    "Print out the cube (i.e. $n^3$) of the integers 0 through 9."
   ]
  },
  {
   "cell_type": "code",
   "execution_count": 10,
   "metadata": {},
   "outputs": [
    {
     "name": "stdout",
     "output_type": "stream",
     "text": [
      "The cube of 0 is 0.\n",
      "The cube of 0 is 1.\n",
      "The cube of 0 is 8.\n",
      "The cube of 0 is 27.\n",
      "The cube of 0 is 64.\n",
      "The cube of 0 is 125.\n",
      "The cube of 0 is 216.\n",
      "The cube of 0 is 343.\n",
      "The cube of 0 is 512.\n",
      "The cube of 0 is 729.\n"
     ]
    }
   ],
   "source": [
    "print('The cube of {0} is {1}.'.format(0, 0*0*0))\n",
    "print('The cube of {0} is {1}.'.format(0, 1*1*1))\n",
    "print('The cube of {0} is {1}.'.format(0, 2*2*2))\n",
    "print('The cube of {0} is {1}.'.format(0, 3*3*3))\n",
    "print('The cube of {0} is {1}.'.format(0, 4*4*4))\n",
    "print('The cube of {0} is {1}.'.format(0, 5*5*5))\n",
    "print('The cube of {0} is {1}.'.format(0, 6*6*6))\n",
    "print('The cube of {0} is {1}.'.format(0, 7*7*7))\n",
    "print('The cube of {0} is {1}.'.format(0, 8*8*8))\n",
    "print('The cube of {0} is {1}.'.format(0, 9*9*9))"
   ]
  },
  {
   "cell_type": "markdown",
   "metadata": {},
   "source": [
    "Okay, but we can do better, and reduce the chances of introducing a user error."
   ]
  },
  {
   "cell_type": "code",
   "execution_count": 16,
   "metadata": {},
   "outputs": [
    {
     "name": "stdout",
     "output_type": "stream",
     "text": [
      "The cube of 1 is 1.\n",
      "The cube of 2 is 8.\n",
      "The cube of 3 is 27.\n",
      "The cube of 4 is 64.\n",
      "The cube of 5 is 125.\n",
      "The cube of 6 is 216.\n",
      "The cube of 7 is 343.\n",
      "The cube of 8 is 512.\n",
      "The cube of 9 is 729.\n"
     ]
    }
   ],
   "source": [
    "## Create a tuple list of integers from 0 to 9\n",
    "number_list = (1, 2, 3, 4, 5, 6, 7, 8, 9)\n",
    "\n",
    "for number in number_list:\n",
    "    number_cube = number**3\n",
    "    print('The cube of {0} is {1}.'.format(number, number_cube))"
   ]
  },
  {
   "cell_type": "markdown",
   "metadata": {},
   "source": [
    "The following is arguably beter than above because, in part, the codes is\n",
    "\n",
    "1. still readable (i.e. not too concise or too \"clever\"), and\n",
    "2. the number of variables is kept to a minimum."
   ]
  },
  {
   "cell_type": "code",
   "execution_count": 19,
   "metadata": {},
   "outputs": [
    {
     "name": "stdout",
     "output_type": "stream",
     "text": [
      "The cube of 0 is 0.\n",
      "The cube of 1 is 1.\n",
      "The cube of 2 is 8.\n",
      "The cube of 3 is 27.\n",
      "The cube of 4 is 64.\n",
      "The cube of 5 is 125.\n",
      "The cube of 6 is 216.\n",
      "The cube of 7 is 343.\n",
      "The cube of 8 is 512.\n",
      "The cube of 9 is 729.\n"
     ]
    }
   ],
   "source": [
    "## Use a built-in Python3 function\n",
    "number_list = range(10)\n",
    "\n",
    "for number in number_list:\n",
    "    print('The cube of {0} is {1}.'.format(number, number**3))"
   ]
  },
  {
   "cell_type": "markdown",
   "metadata": {},
   "source": [
    "But there is even yet another solution."
   ]
  },
  {
   "cell_type": "code",
   "execution_count": 20,
   "metadata": {},
   "outputs": [
    {
     "name": "stdout",
     "output_type": "stream",
     "text": [
      "The cube of 0 is 0.\n",
      "The cube of 1 is 1.\n",
      "The cube of 2 is 8.\n",
      "The cube of 3 is 27.\n",
      "The cube of 4 is 64.\n",
      "The cube of 5 is 125.\n",
      "The cube of 6 is 216.\n",
      "The cube of 7 is 343.\n",
      "The cube of 8 is 512.\n",
      "The cube of 9 is 729.\n"
     ]
    }
   ],
   "source": [
    "## Set an initial value\n",
    "number = 0\n",
    "\n",
    "while number < 10:\n",
    "    print('The cube of {0} is {1}.'.format(number, number**3))\n",
    "    number += 1"
   ]
  },
  {
   "cell_type": "markdown",
   "metadata": {},
   "source": [
    "For a short example, this is okay.\n",
    "\n",
    "However, in my opinion, **maybe** the above code loses some readability/context if it were placed in a larger peice of code. (For example, number might corresponds to a list of n planets, which would be easier to modify through the variable assignment rather than directly in a loop statement.) Never-the-less, it is still a good way to approach a solution."
   ]
  },
  {
   "cell_type": "code",
   "execution_count": null,
   "metadata": {},
   "outputs": [],
   "source": []
  }
 ],
 "metadata": {
  "kernelspec": {
   "display_name": "Python 3",
   "language": "python",
   "name": "python3"
  },
  "language_info": {
   "codemirror_mode": {
    "name": "ipython",
    "version": 3
   },
   "file_extension": ".py",
   "mimetype": "text/x-python",
   "name": "python",
   "nbconvert_exporter": "python",
   "pygments_lexer": "ipython3",
   "version": "3.8.1"
  }
 },
 "nbformat": 4,
 "nbformat_minor": 2
}
