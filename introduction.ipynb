{
 "cells": [
  {
   "cell_type": "markdown",
   "metadata": {},
   "source": [
    "# <center> Scientific Programming in Python\n",
    "## <center> Introduction\n",
    "***"
   ]
  },
  {
   "cell_type": "markdown",
   "metadata": {},
   "source": [
    "## Scientific Programming\n",
    "\n",
    "**Definition**\n",
    "1. Programming whose goal is for scientific usage (e.g. workflows, data analysis) and visualization.\n",
    "2. Learning to program is an academic, scholarly manner (i.e. wissenschaftliches Arbeit).\n",
    "\n",
    "**3 Ways to Think About It**\n",
    "1. **Usage**: to perform mathematics (simple numerical computations to some complex math models)\n",
    "2. **Practice**: to create while maintaining good scholarship\n",
    "    - knowing what is state-of-the-art\n",
    "    - careful, clear and supportive\n",
    "    - \"A machine requires precise instructions, which users often fail to supply\"[1]\n",
    "3. **Target**: to support science (doing research, data support and analysis)\n",
    "    - \"Scientists commonly use languages such as Python and R to conduct and **automate analyses**, because in this way they can **speed data crunching**, **increase reproducibility**, protect data from accidental deletion or alteration and handle data sets that would overwhelm commercial applications.\"[1]\n",
    " \n",
    "[1] Baker, Monya. \"Scientific computing: code alert.\" Nature 541, no. 7638 (2017): 563-565.\n",
    "***"
   ]
  },
  {
   "cell_type": "markdown",
   "metadata": {},
   "source": [
    "## Why is this Important?\n",
    "\n",
    "- \"Societally important **science relies on models and the software implementing them**. The scientific community must ensure that the findings and recommendations put forth based on **those models conform to the highest scientific expectation**\" <br> L. N. Joppa et al. , “Troubling Trends in Scientific Software Use,” Science, 340(6134), 814–815, 2013.\n",
    "<br><br>\n",
    "\n",
    "**Example:**\n",
    "ChemRxiv (a pre-print science paper archive) sent out an email on March 20th highlighting the recent research submissions on the Coronavirus. 9 out of the 10 highlights had a significant amount of computer modeling (computational chemistry). In other words, computer models were the first to get some research results that target the pandemic.\n",
    "\n",
    "\n",
    "![image](00_images/ChemRxiv_coronavirus_2020.png)\n",
    "\n",
    "\n",
    "***\n",
    "- 2006 Science peer-reviewed article <br> G. Changet al., “Retraction,” Science, 314(5807), 1875, 2006\n",
    "\n",
    "\n",
    "![image](00_images/ChangRRPCC2006.png)"
   ]
  },
  {
   "cell_type": "markdown",
   "metadata": {},
   "source": [
    "## Why Python?\n",
    "\n",
    "- Accessible and readable (especially to people outside of computer science)\n",
    "    - Natural scientists\n",
    "    - Engineers\n",
    "- Powerful due to the number of libraries available that are created by domain experts and programmers\n",
    "- Good for creating larger programs - create functions that do specific tasks\n",
    "- Call bash commands from inside of python (via \"import\" os)\n",
    "- Popular\n",
    "\n",
    "![image](00_images/redmonk_2020.png)\n",
    "Source: https://redmonk.com - ca. 90000 respondants, 2020\n",
    "\n",
    "\n",
    "***\n",
    "\n",
    "## What Disciplines use Python - Its \"Main\" Catagories (as of 2018)\n",
    "\n",
    "For a Pyhton job, one should known a) python's core and b) one of the following catagories:\n",
    "\n",
    "- Web - flask, django, html, javascript\n",
    "- Data engineering (collecting data) - sql, airflow, luigi\n",
    "- Software engineering - git$^a$, unit testing, large codebases\n",
    "- Cyber security - requests, volatility, pyew, peepdf, penetration tests\n",
    "- Data science / scientific python (seeks new knowledge) - numpy, pandas, matplotlib, scipy\n",
    "\n",
    "$^a$ You should learn about this.\n",
    "***\n"
   ]
  },
  {
   "cell_type": "markdown",
   "metadata": {},
   "source": [
    "## Misc. Background\n",
    "\n",
    "- General-purpose programming language\n",
    "- Python interpreter: python3 (python2 is out-of-date)\n",
    "- Contains programming common concepts like\n",
    "    - statements\n",
    "    - expressions\n",
    "    - operators\n",
    "    - modules\n",
    "    - methods\n",
    "    - classes\n",
    "- Contains Lists (e.g. movies = [ 'Star Wars', 'X-men', 'Forest Gump'])\n",
    "- Has IDE (Integrated Devlopment Environment): IDLE, pycharm, atom, sublime\n",
    "- OS independent\n",
    "\n",
    "- Good for researchers dealing with lots of data (i.e. scientists)\n",
    "- Bad for developing fast parallel programs\n",
    "\n",
    "***"
   ]
  },
  {
   "cell_type": "markdown",
   "metadata": {},
   "source": [
    "## Getting Python3\n",
    "- Have Python (and desired libraries) installed onto your computer\n",
    "    - It may already be installed\n",
    "    - If not: https://www.python.org/downloads\n",
    "***"
   ]
  },
  {
   "cell_type": "markdown",
   "metadata": {},
   "source": [
    "## Create and execute a code (and demos)\n",
    "\n",
    "1. Start a Python3 in a Terminal\n",
    "    - Exit: 'exit()' or 'Cntl D' ('Strg D')\n",
    "    \n",
    "    Example: \n",
    "    - Linux: 'Menu' -> 'Terminal' -> 'python3'\n",
    "    - Macintosh: 'Application' -> 'Utilities' -> 'Terminal' -> 'python3'\n",
    "    - Windows: ? -> 'python3'\n",
    "\n",
    "    - Warning: Done in real-time, but isn't saved.\n",
    "    \n",
    "    \n",
    "2. Create a 'program_name.py' script using a text program and command-line execute\n",
    "    - Simple (e.g. texteditor, gedit) - warning, can be problematic\n",
    "    - Sophisticated\n",
    "        - [PyCharm](https://www.jetbrains.com/pycharm/download)\n",
    "        - [Sublime](https://www.sublimetext.com/)\n",
    "        - other integrated development environment [IDE]\n",
    "    - Execuate: In a terminal, type 'python program_name.py'\n",
    "    \n",
    "    \n",
    "3. Google's Colaboratory: https://colab.research.google.com\n",
    "\n",
    "\n",
    "4. Jupyter Notebooks: https://jupyter.org - Recommended for novice and experienced programmers"
   ]
  },
  {
   "cell_type": "markdown",
   "metadata": {},
   "source": [
    "## A sneak-peak into our future"
   ]
  },
  {
   "cell_type": "code",
   "execution_count": 1,
   "metadata": {},
   "outputs": [
    {
     "data": {
      "image/png": "[encoded data removed]",
      "text/plain": [
       "<Figure size 432x288 with 1 Axes>"
      ]
     },
     "metadata": {
      "needs_background": "light"
     },
     "output_type": "display_data"
    }
   ],
   "source": [
    "import matplotlib.pyplot as plt\n",
    "x_values = [1, 2, 3, 4, 7]\n",
    "y_values = [1, 4, 9, 16, 49]\n",
    "\n",
    "plt.figure()\n",
    "plt.plot(x_values, y_values,\n",
    "         marker='.', markersize=24,\n",
    "         linewidth=5, linestyle='-',\n",
    "         color='red')\n",
    "plt.show()"
   ]
  },
  {
   "cell_type": "markdown",
   "metadata": {},
   "source": []
  }
 ],
 "metadata": {
  "kernelspec": {
   "display_name": "Python 3",
   "language": "python",
   "name": "python3"
  },
  "language_info": {
   "codemirror_mode": {
    "name": "ipython",
    "version": 3
   },
   "file_extension": ".py",
   "mimetype": "text/x-python",
   "name": "python",
   "nbconvert_exporter": "python",
   "pygments_lexer": "ipython3",
   "version": "3.8.1"
  }
 },
 "nbformat": 4,
 "nbformat_minor": 2
}
