{
 "cells": [
  {
   "cell_type": "markdown",
   "metadata": {},
   "source": [
    "# <center> Online Lecture Etiquette\n",
    "  \n",
    "1. Keep your microphone off\n",
    "2. Keep your camera off\n",
    "3. **Exception** - when you ask a question\n",
    "4. Use the \"raise hand\" tool\n",
    "\n",
    "5. Find a quite room where you can be alone (if possible)\n",
    "    \n",
    "- Stay focus - don't off-topic web surf during the lectures\n",
    "- Be self disciplined"
   ]
  },
  {
   "cell_type": "markdown",
   "metadata": {},
   "source": [
    "# <center> Good Practice at Home"
   ]
  },
  {
   "cell_type": "markdown",
   "metadata": {},
   "source": [
    "1. Backup your harddrive(s) (e.g. before installing software)\n",
    "2. Use a cloud (e.g. Google Drive, GitHub, GitLab, Dropbox)\n",
    "3. For [conda](https://docs.conda.io/projects/conda/en/latest/#) users - create environments for specific installations (e.g. jupyter notebook)"
   ]
  },
  {
   "cell_type": "code",
   "execution_count": null,
   "metadata": {},
   "outputs": [],
   "source": []
  }
 ],
 "metadata": {
  "kernelspec": {
   "display_name": "Python 3",
   "language": "python",
   "name": "python3"
  },
  "language_info": {
   "codemirror_mode": {
    "name": "ipython",
    "version": 3
   },
   "file_extension": ".py",
   "mimetype": "text/x-python",
   "name": "python",
   "nbconvert_exporter": "python",
   "pygments_lexer": "ipython3",
   "version": "3.8.1"
  }
 },
 "nbformat": 4,
 "nbformat_minor": 2
}
