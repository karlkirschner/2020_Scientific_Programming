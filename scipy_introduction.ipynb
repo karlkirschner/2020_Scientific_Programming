{
 "cells": [
  {
   "cell_type": "markdown",
   "metadata": {},
   "source": [
    "# SciPy\n",
    "\n",
    "Heavily depends on the following libraries:\n",
    "1. matplotlib\n",
    "2. numpy\n",
    "\n",
    "\n",
    "\"SciPy is organized into subpackages covering different scientific computing domains.\"\n",
    "\n",
    "**Subpackages**\n",
    "1. cluster: Clustering algorithms\n",
    "2. constants: Physical and mathematical constants\n",
    "3. fftpack: Fast Fourier Transform routines\n",
    "4. **integrate**: Integration and ordinary differential equation solvers\n",
    "5. **interpolate**: Interpolation and smoothing splines\n",
    "6. io: Input and Output\n",
    "7. linalg: Linear algebra\n",
    "8. ndimage: N-dimensional image processing\n",
    "9. odr: Orthogonal distance regression\n",
    "10. **optimize**: Optimization and root-finding routines\n",
    "11. signal: Signal processing\n",
    "12. sparse: Sparse matrices and associated routines\n",
    "13. spatial: Spatial data structures and algorithms\n",
    "14. special: Special functions\n",
    "15. stats: Statistical distributions and functions\n",
    "\n",
    "One fo the strengths of SciPy is that it can provide **numerical solutions** (i.e. approximated). The opposite of numerical solutions are **analytic solutions** (i.e. exact; `f(2) = x^2 = 4`).\n",
    "\n",
    "Sources:\n",
    "\n",
    "https://docs.scipy.org/doc/scipy/reference/\n",
    "\n",
    "https://docs.scipy.org/doc/\n",
    "\n",
    "https://docs.scipy.org/doc/scipy/reference/tutorial/general.html\n",
    "\n",
    "https://scipy-lectures.org/intro/scipy.html"
   ]
  },
  {
   "cell_type": "code",
   "execution_count": 1,
   "metadata": {},
   "outputs": [],
   "source": [
    "#help(scipy)"
   ]
  },
  {
   "cell_type": "markdown",
   "metadata": {},
   "source": [
    "---\n",
    "## Integration\n",
    "\n",
    "Let's start with integration.\n",
    "\n",
    "What can integration do for us? For something that is defined by a mathematical function (i.e. equation), we can obtain the following:\n",
    "1. areas (2D) (e.g. the area between two curves that cross each other),\n",
    "2. volumes (3D),\n",
    "3. surface area (e.g. of a protein)\n",
    "3. displacements (i.e. distance) (w.r.t. time)\n",
    "4. center (e.g. of mass)\n",
    "5. probability\n",
    "\n",
    "- integrate: https://docs.scipy.org/doc/scipy/reference/tutorial/integrate.html\n",
    "\n",
    "Graphical when we integrate a function f(x), we obtain the \"area under the curve.\"\n",
    "<img src=\"00_images/integral_example.png\" alt=\"Drawing\" style=\"width: 200px;\"/>\n",
    "\n",
    "It is kinda like doing addition, but for something that is continuous (i.e. not finite).\n",
    "\n",
    "Image Source: https://en.wikipedia.org/wiki/Integral#/media/File:Integral_example.svg\n"
   ]
  },
  {
   "cell_type": "code",
   "execution_count": 2,
   "metadata": {},
   "outputs": [
    {
     "data": {
      "text/plain": [
       "'1.6.2'"
      ]
     },
     "execution_count": 2,
     "metadata": {},
     "output_type": "execute_result"
    }
   ],
   "source": [
    "import matplotlib.pyplot as plt\n",
    "import numpy as np\n",
    "import scipy\n",
    "\n",
    "from scipy.integrate import quad\n",
    "\n",
    "\n",
    "scipy.__version__"
   ]
  },
  {
   "cell_type": "markdown",
   "metadata": {},
   "source": [
    "Let's define a simple function:\n",
    "\n",
    "$$\\int_0^1 (ax^2 + b) dx$$\n",
    "\n",
    "I'm going to stick with variable names that match the equation given above for consistency."
   ]
  },
  {
   "cell_type": "code",
   "execution_count": 3,
   "metadata": {},
   "outputs": [],
   "source": [
    "def simple_function(x: float=None, m: float=None, n: float=None):\n",
    "    return m*x**2 + n"
   ]
  },
  {
   "cell_type": "markdown",
   "metadata": {},
   "source": [
    "---\n",
    "**Sidenote**: Numpy's linspace vs arrange:\n",
    " \n",
    "- linspace: \"Return evenly spaced numbers over a specified interval.\"\n",
    "    - https://numpy.org/devdocs/reference/generated/numpy.linspace.html\n",
    "    - the stepsize is created\n",
    "    - the number of steps must be given\n",
    "\n",
    "Versus\n",
    "- arange: \"Return evenly spaced values within a given interval.\"\n",
    "    - https://numpy.org/doc/stable/reference/generated/numpy.arange.html\n",
    "    - the stepsize is specified\n",
    "    - the number of steps is created\n",
    "\n",
    "---\n",
    "\n",
    "Let's generate the starting data:"
   ]
  },
  {
   "cell_type": "code",
   "execution_count": 4,
   "metadata": {},
   "outputs": [],
   "source": [
    "m = 3\n",
    "n = 5\n",
    "\n",
    "x_data = np.linspace(-1, 2, 20)"
   ]
  },
  {
   "cell_type": "markdown",
   "metadata": {},
   "source": [
    "We can plot the curve:\n",
    "- x range = -1 to 2 (i.e. integration limits $\\pm 1$), and then\n",
    "- visualize the area between the integration limits"
   ]
  },
  {
   "cell_type": "code",
   "execution_count": 69,
   "metadata": {},
   "outputs": [
    {
     "data": {
      "image/png": "[encoded data removed]",
      "text/plain": [
       "<Figure size 432x288 with 1 Axes>"
      ]
     },
     "metadata": {
      "needs_background": "light"
     },
     "output_type": "display_data"
    }
   ],
   "source": [
    "plt.figure()\n",
    "\n",
    "plt.plot(x_data, simple_function(x_data, m, n), color='orange', linewidth=5)\n",
    "\n",
    "plt.hlines(y=0.0, xmin=0.0, xmax=1.0, linewidth=5)\n",
    "plt.hlines(y=5.0, xmin=0.0, xmax=1.0, linewidth=5, linestyle='dashed')\n",
    "\n",
    "plt.vlines(x=0.0, ymin=0.0, ymax=5.0, linewidth=5)\n",
    "plt.vlines(x=1.0, ymin=0.0, ymax=7.85, linewidth=5)\n",
    "\n",
    "plt.show()"
   ]
  },
  {
   "cell_type": "markdown",
   "metadata": {},
   "source": [
    "We can approximate the area under the orange curve and within the blue region to be:\n",
    "\n",
    "rectangle + ca. triangle\n",
    "\n",
    "`1*5 + [(1*1.5)/2] = 5 + 0.75 = 5.75`"
   ]
  },
  {
   "cell_type": "markdown",
   "metadata": {},
   "source": [
    "Okay, Good. Now let's integrate that function.\n",
    "\n",
    "`quad`: general purpose single integration a function containing\n",
    "- one variable (e.g. x), and\n",
    "- evaluated between two points (e.g. 0 to 1)\n",
    "\n",
    "https://docs.scipy.org/doc/scipy/reference/generated/scipy.integrate.quad.html#scipy.integrate.quad\n",
    "<br><br>\n",
    "\n",
    "`quad(func, a, b, args=() ...)`:\n",
    "    \n",
    "where\n",
    "- `func` = **simple_function** (i.e. a “callable” Python object)\n",
    "- `a` (lower integration limit) = **0**\n",
    "- `b` (upper inegration limit) = **1**\n",
    "- `args` (additional arguments to pass) = **(3, 5)**\n",
    "\n",
    "(i.e. quad(function, lower limit, upper limit, what to pass to our simple_function)\n",
    "\n",
    "\n",
    "The **return value** is a tuple:\n",
    "- 1$^{st}$: the **estimated value of the integral**, and\n",
    "- 2$^{nd}$: an **upper bound on the error**"
   ]
  },
  {
   "cell_type": "code",
   "execution_count": 70,
   "metadata": {},
   "outputs": [
    {
     "data": {
      "text/plain": [
       "(6.0, 6.661338147750939e-14)"
      ]
     },
     "execution_count": 70,
     "metadata": {},
     "output_type": "execute_result"
    }
   ],
   "source": [
    "result = quad(func=simple_function, a=0, b=1, args=(m, n))\n",
    "result"
   ]
  },
  {
   "cell_type": "markdown",
   "metadata": {},
   "source": [
    "###### Accessing value and error (plus, remembering string formatting):\n",
    "\n",
    "- f: Fixed-point notation. Displays the number as a fixed-point number. The default precision is 6.\n",
    "- e: Exponent notation. Prints the number in scientific notation using the letter ‘e’ to indicate the exponent. The default precision is 6.\n",
    "\n",
    "(Rounding for simplicity of reading, not due to accuracy.)"
   ]
  },
  {
   "cell_type": "code",
   "execution_count": 71,
   "metadata": {},
   "outputs": [
    {
     "name": "stdout",
     "output_type": "stream",
     "text": [
      "Full answer: 6.00 ± 6.66e-14\n"
     ]
    }
   ],
   "source": [
    "print('Full answer: {:0.2f} ± {:0.2e}'.format(result[0], result[1]))"
   ]
  },
  {
   "cell_type": "markdown",
   "metadata": {},
   "source": [
    "---\n",
    "## A more complicated example\n",
    "\n",
    "1. Handeling infinity limits (i.e. indefinite integrals)\n",
    "2. Python's built in function `eval` (evaluate)\n",
    "    - https://docs.python.org/3/library/functions.html#eval\n",
    "    \n",
    "Let's first look at each piece, and then we will put it together.\n",
    "\n",
    "`eval` works on single functions (note the use of quotes here):"
   ]
  },
  {
   "cell_type": "code",
   "execution_count": 72,
   "metadata": {},
   "outputs": [
    {
     "data": {
      "text/plain": [
       "4"
      ]
     },
     "execution_count": 72,
     "metadata": {},
     "output_type": "execute_result"
    }
   ],
   "source": [
    "number = 2\n",
    "\n",
    "eval('number**2')"
   ]
  },
  {
   "cell_type": "markdown",
   "metadata": {},
   "source": [
    "The `eval` function also works on np.arrays"
   ]
  },
  {
   "cell_type": "markdown",
   "metadata": {},
   "source": [
    "Example function will be the following:\n",
    "\n",
    "$$\\frac{1}{x^2}$$\n",
    "\n",
    "First create some x-data:"
   ]
  },
  {
   "cell_type": "code",
   "execution_count": 73,
   "metadata": {},
   "outputs": [
    {
     "data": {
      "text/plain": [
       "array([ 1.        ,  1.34482759,  1.68965517,  2.03448276,  2.37931034,\n",
       "        2.72413793,  3.06896552,  3.4137931 ,  3.75862069,  4.10344828,\n",
       "        4.44827586,  4.79310345,  5.13793103,  5.48275862,  5.82758621,\n",
       "        6.17241379,  6.51724138,  6.86206897,  7.20689655,  7.55172414,\n",
       "        7.89655172,  8.24137931,  8.5862069 ,  8.93103448,  9.27586207,\n",
       "        9.62068966,  9.96551724, 10.31034483, 10.65517241, 11.        ])"
      ]
     },
     "execution_count": 73,
     "metadata": {},
     "output_type": "execute_result"
    }
   ],
   "source": [
    "x_data_array = np.linspace(1, 11, 30)\n",
    "x_data_array"
   ]
  },
  {
   "cell_type": "markdown",
   "metadata": {},
   "source": [
    "Now evaluate the function at those points:"
   ]
  },
  {
   "cell_type": "code",
   "execution_count": 74,
   "metadata": {},
   "outputs": [
    {
     "data": {
      "text/plain": [
       "array([1.        , 0.55292571, 0.35027072, 0.24159724, 0.17664356,\n",
       "       0.13475405, 0.10617346, 0.08580757, 0.07078529, 0.05938846,\n",
       "       0.05053783, 0.04352777, 0.03788118, 0.03326609, 0.02944575,\n",
       "       0.02624762, 0.02354357, 0.02123684, 0.01925322, 0.01753508,\n",
       "       0.01603707, 0.01472313, 0.0135643 , 0.01253708, 0.01162228,\n",
       "       0.01080407, 0.01006932, 0.00940705, 0.00880804, 0.00826446])"
      ]
     },
     "execution_count": 74,
     "metadata": {},
     "output_type": "execute_result"
    }
   ],
   "source": [
    "y_data_array = eval('1/(x_data_array**2)')\n",
    "y_data_array"
   ]
  },
  {
   "cell_type": "markdown",
   "metadata": {},
   "source": [
    "Let's plot this to visualize the data:"
   ]
  },
  {
   "cell_type": "code",
   "execution_count": 75,
   "metadata": {},
   "outputs": [
    {
     "data": {
      "image/png": "[encoded data removed]",
      "text/plain": [
       "<Figure size 432x288 with 1 Axes>"
      ]
     },
     "metadata": {
      "needs_background": "light"
     },
     "output_type": "display_data"
    }
   ],
   "source": [
    "plt.plot()\n",
    "\n",
    "plt.plot(x_data_array, y_data_array, linewidth=5, color='orange')\n",
    "\n",
    "plt.hlines(y=0.0, xmin=1.0, xmax=9.0, linestyle='dashed', linewidth=3)\n",
    "plt.vlines(x=1.0, ymin=0.0, ymax=0.9, linestyle='dashed', linewidth=3)\n",
    "\n",
    "plt.show()"
   ]
  },
  {
   "cell_type": "markdown",
   "metadata": {},
   "source": [
    "Imagine this plot going to **infinity** on the **x-axis**.\n",
    "\n",
    "What is the area from x=1 to x=infinity?\n",
    "\n",
    "Hard to say right?\n",
    "\n",
    "---\n",
    "Okay, let's create a callable function that we will pass to SciPy's `quad` function for integration:"
   ]
  },
  {
   "cell_type": "code",
   "execution_count": 76,
   "metadata": {},
   "outputs": [],
   "source": [
    "def function(x: float=None):\n",
    "    return 1/x**2"
   ]
  },
  {
   "cell_type": "markdown",
   "metadata": {},
   "source": [
    "Let's focus now upon an \"improper\" integral (i.e. the upper integration limit is infinity.\n",
    "\n",
    "$$\\int_1^{\\infty} \\frac{1}{x^2} dx$$"
   ]
  },
  {
   "cell_type": "code",
   "execution_count": 77,
   "metadata": {},
   "outputs": [
    {
     "data": {
      "text/plain": [
       "(1.0, 1.1102230246251565e-14)"
      ]
     },
     "execution_count": 77,
     "metadata": {},
     "output_type": "execute_result"
    }
   ],
   "source": [
    "result = quad(func=function, a=1, b=np.inf)\n",
    "result"
   ]
  },
  {
   "cell_type": "markdown",
   "metadata": {},
   "source": [
    "Therefore, the area under the $\\frac{1}{x^2}$ curve from x=1 to infinity is 1.0.\n",
    "\n",
    "(What is the area under the curve from x=2 to infinity?)"
   ]
  },
  {
   "cell_type": "markdown",
   "metadata": {},
   "source": [
    "**Note**: if we try to do this all in one step where we provide the function directly, we get an error. That is the practical reason why one must create a function for quad to call."
   ]
  },
  {
   "cell_type": "code",
   "execution_count": 78,
   "metadata": {},
   "outputs": [],
   "source": [
    "#result = quad(1/x**2, 1, np.inf)"
   ]
  },
  {
   "cell_type": "markdown",
   "metadata": {},
   "source": [
    "---\n",
    "## Interpolation\n",
    "\n",
    "- A method for generating new data using a discrete set of known data points.\n",
    "\n",
    "- https://docs.scipy.org/doc/scipy/reference/interpolate.html\n",
    "\n",
    "\n",
    "---\n",
    "### A simple example\n",
    "\n",
    "First things to do is create a **hypothetical set of known** x- and y-data points"
   ]
  },
  {
   "cell_type": "code",
   "execution_count": 79,
   "metadata": {},
   "outputs": [
    {
     "data": {
      "text/plain": [
       "array([0, 1, 2, 3, 4, 5, 6, 7, 8, 9])"
      ]
     },
     "execution_count": 79,
     "metadata": {},
     "output_type": "execute_result"
    }
   ],
   "source": [
    "x_data_array = np.arange(0, 10, 1)\n",
    "x_data_array"
   ]
  },
  {
   "cell_type": "markdown",
   "metadata": {},
   "source": [
    "Create a corresponding range of y values\n",
    "- exponential via `np.exp()`: https://numpy.org/doc/stable/reference/generated/numpy.exp.html"
   ]
  },
  {
   "cell_type": "code",
   "execution_count": 80,
   "metadata": {},
   "outputs": [
    {
     "data": {
      "text/plain": [
       "array([1.        , 0.71653131, 0.51341712, 0.36787944, 0.26359714,\n",
       "       0.1888756 , 0.13533528, 0.09697197, 0.06948345, 0.04978707])"
      ]
     },
     "execution_count": 80,
     "metadata": {},
     "output_type": "execute_result"
    }
   ],
   "source": [
    "y_data_array = np.exp(-x_data_array/3.0)\n",
    "y_data_array"
   ]
  },
  {
   "cell_type": "markdown",
   "metadata": {},
   "source": [
    "Now plot to visualize what the data looks like, and highlight the third data point in the series (i.e. **(x,y) = (2, 0.51341712))** as an ideal value to reference later."
   ]
  },
  {
   "cell_type": "code",
   "execution_count": 81,
   "metadata": {},
   "outputs": [
    {
     "data": {
      "image/png": "[encoded data removed]",
      "text/plain": [
       "<Figure size 432x288 with 1 Axes>"
      ]
     },
     "metadata": {
      "needs_background": "light"
     },
     "output_type": "display_data"
    }
   ],
   "source": [
    "plt.plot()\n",
    "\n",
    "plt.plot(x_data_array, y_data_array, 'o', markersize=15)\n",
    "plt.hlines(y_data_array[2], 0, 9, colors='#1f77b4', linewidth=5)\n",
    "\n",
    "plt.show()"
   ]
  },
  {
   "cell_type": "markdown",
   "metadata": {},
   "source": [
    "#### Create an interprelated function from the existing data points\n",
    "\n",
    "1-dimensional function\n",
    "- interp1d: https://docs.scipy.org/doc/scipy/reference/generated/scipy.interpolate.interp1d.html#scipy.interpolate.interp1d"
   ]
  },
  {
   "cell_type": "code",
   "execution_count": 82,
   "metadata": {},
   "outputs": [],
   "source": [
    "from scipy.interpolate import interp1d"
   ]
  },
  {
   "cell_type": "code",
   "execution_count": 83,
   "metadata": {},
   "outputs": [],
   "source": [
    "interp_function = interp1d(x_data_array, y_data_array)"
   ]
  },
  {
   "cell_type": "markdown",
   "metadata": {},
   "source": [
    "First let's see if we can reproduce a **known** data point\n",
    "- x = 2.0 should give a value of 0.51341712 (see above hypothetical data set)"
   ]
  },
  {
   "cell_type": "code",
   "execution_count": 84,
   "metadata": {},
   "outputs": [
    {
     "data": {
      "text/plain": [
       "array(0.51341712)"
      ]
     },
     "execution_count": 84,
     "metadata": {},
     "output_type": "execute_result"
    }
   ],
   "source": [
    "interp_function(2.0)"
   ]
  },
  {
   "cell_type": "code",
   "execution_count": 85,
   "metadata": {},
   "outputs": [
    {
     "data": {
      "image/png": "[encoded data removed]",
      "text/plain": [
       "<Figure size 432x288 with 1 Axes>"
      ]
     },
     "metadata": {
      "needs_background": "light"
     },
     "output_type": "display_data"
    }
   ],
   "source": [
    "plt.plot()\n",
    "plt.plot(x_data_array, y_data_array, 'o', markersize=15)\n",
    "plt.hlines(0.51341712, 0, 9, colors='#1f77b4', linewidth=5)\n",
    "plt.hlines(interp_function(2.0), 0, 9, colors='#ff7f0e', linestyles='dashed', linewidth=5)\n",
    "plt.show()"
   ]
  },
  {
   "cell_type": "markdown",
   "metadata": {},
   "source": [
    "We can also do this for lots of new x-values that fit between 0 and 9 (i.e. interpolated data).\n",
    "\n",
    "First, we need to create a new range of x values that we want to fill in -- for example, from 1 to 7 in 0.2 increments (step size):"
   ]
  },
  {
   "cell_type": "code",
   "execution_count": 86,
   "metadata": {},
   "outputs": [
    {
     "name": "stdout",
     "output_type": "stream",
     "text": [
      "[1.  1.2 1.4 1.6 1.8 2.  2.2 2.4 2.6 2.8 3.  3.2 3.4 3.6 3.8 4.  4.2 4.4\n",
      " 4.6 4.8 5.  5.2 5.4 5.6 5.8 6.  6.2 6.4 6.6 6.8 7.  7.2 7.4 7.6 7.8 8. ]\n"
     ]
    }
   ],
   "source": [
    "x_values_new = np.arange(1, 8.2, 0.2)\n",
    "print(x_values_new)"
   ]
  },
  {
   "cell_type": "markdown",
   "metadata": {},
   "source": [
    "Now, using the user-defined function that imploys `interp1d`, solve for the interpolated y-values:"
   ]
  },
  {
   "cell_type": "code",
   "execution_count": 87,
   "metadata": {},
   "outputs": [
    {
     "data": {
      "text/plain": [
       "array([0.71653131, 0.67590847, 0.63528563, 0.5946628 , 0.55403996,\n",
       "       0.51341712, 0.48430958, 0.45520205, 0.42609451, 0.39698698,\n",
       "       0.36787944, 0.34702298, 0.32616652, 0.30531006, 0.2844536 ,\n",
       "       0.26359714, 0.24865283, 0.23370852, 0.21876422, 0.20381991,\n",
       "       0.1888756 , 0.17816754, 0.16745947, 0.15675141, 0.14604335,\n",
       "       0.13533528, 0.12766262, 0.11998996, 0.11231729, 0.10464463,\n",
       "       0.09697197, 0.09147426, 0.08597656, 0.08047886, 0.07498115,\n",
       "       0.06948345])"
      ]
     },
     "execution_count": 87,
     "metadata": {},
     "output_type": "execute_result"
    }
   ],
   "source": [
    "y_values_new = interp_function(x_values_new)\n",
    "y_values_new"
   ]
  },
  {
   "cell_type": "code",
   "execution_count": 88,
   "metadata": {},
   "outputs": [
    {
     "name": "stdout",
     "output_type": "stream",
     "text": [
      "[0.71653131 0.67590847 0.63528563 0.5946628  0.55403996 0.51341712\n",
      " 0.48430958 0.45520205 0.42609451 0.39698698 0.36787944 0.34702298\n",
      " 0.32616652 0.30531006 0.2844536  0.26359714 0.24865283 0.23370852\n",
      " 0.21876422 0.20381991 0.1888756  0.17816754 0.16745947 0.15675141\n",
      " 0.14604335 0.13533528 0.12766262 0.11998996 0.11231729 0.10464463\n",
      " 0.09697197 0.09147426 0.08597656 0.08047886 0.07498115 0.06948345]\n"
     ]
    }
   ],
   "source": [
    "print(y_values_new)"
   ]
  },
  {
   "cell_type": "code",
   "execution_count": 89,
   "metadata": {},
   "outputs": [
    {
     "data": {
      "image/png": "[encoded data removed]",
      "text/plain": [
       "<Figure size 432x288 with 1 Axes>"
      ]
     },
     "metadata": {
      "needs_background": "light"
     },
     "output_type": "display_data"
    }
   ],
   "source": [
    "plt.plot()\n",
    "plt.plot(x_data_array, y_data_array, 'o', markersize=15)\n",
    "plt.hlines(0.51341712, 0, 9, colors='#1f77b4', linewidth=5)\n",
    "\n",
    "plt.plot(x_values_new, y_values_new, '-o', '.', markersize=5)\n",
    "plt.hlines(interp_function(2.0), 0, 9, colors='#ff7f0e', linestyles='dashed', linewidth=5)\n",
    "\n",
    "plt.show()"
   ]
  },
  {
   "cell_type": "markdown",
   "metadata": {},
   "source": [
    "We see that the interpolated **new data** points (orange) fall nicely onto the known data."
   ]
  },
  {
   "cell_type": "markdown",
   "metadata": {},
   "source": [
    "### A more complicated (and practical) example"
   ]
  },
  {
   "cell_type": "code",
   "execution_count": 98,
   "metadata": {},
   "outputs": [
    {
     "data": {
      "text/plain": [
       "array([0.        , 0.11111111, 0.22222222, 0.33333333, 0.44444444,\n",
       "       0.55555556, 0.66666667, 0.77777778, 0.88888889, 1.        ])"
      ]
     },
     "execution_count": 98,
     "metadata": {},
     "output_type": "execute_result"
    }
   ],
   "source": [
    "x_values = np.linspace(0, 1, 10)\n",
    "x_values"
   ]
  },
  {
   "cell_type": "markdown",
   "metadata": {},
   "source": [
    "##### Create some noise that will allow us to better mimic what real data looks like\n",
    "\n",
    "\"Noise\" refers to how much the **real** data varies from (hypothetical) **ideal** data. Understanding the noise in data is understanding the data's stability (e.g. reproducibility, predictable). Noise is often coming from unaccounted sources (and represent possible areas to learn from).\n",
    "\n",
    "**Side Note**: The following **np.random.seed()** statement will allow us to reproduce the random number generation (e.g. allows for reproducibility in examples). This isn't necessary here, but it is nice to know about.\n",
    "\n",
    "- np.random.random(n): https://numpy.org/doc/stable/reference/random/generated/numpy.random.random.html\n",
    "    - create n random numbers that range from 0 to 1"
   ]
  },
  {
   "cell_type": "code",
   "execution_count": 99,
   "metadata": {},
   "outputs": [
    {
     "data": {
      "text/plain": [
       "array([0.64414354, 0.38074849, 0.66304791, 0.16365073, 0.96260781,\n",
       "       0.34666184, 0.99175099, 0.2350579 , 0.58569427, 0.4066901 ])"
      ]
     },
     "execution_count": 99,
     "metadata": {},
     "output_type": "execute_result"
    }
   ],
   "source": [
    "np.random.seed(30)\n",
    "\n",
    "np.random.random(10)"
   ]
  },
  {
   "cell_type": "markdown",
   "metadata": {},
   "source": [
    "Now let's create the noise by adding in some math to the random values:"
   ]
  },
  {
   "cell_type": "code",
   "execution_count": 100,
   "metadata": {},
   "outputs": [
    {
     "name": "stdout",
     "output_type": "stream",
     "text": [
      "[-0.19628804 -0.14078314 -0.14629865 -0.08238665 -0.02558478 -0.19839066\n",
      " -0.19233472 -0.00231578 -0.18893803 -0.1885771 ]\n"
     ]
    }
   ],
   "source": [
    "noise = (np.random.random(10)**2 - 1) * 2e-1\n",
    "print(noise)"
   ]
  },
  {
   "cell_type": "markdown",
   "metadata": {},
   "source": [
    "Now generate some two types of **y-data** that is a **function of the x-axis data**:\n",
    "\n",
    "1. ideal y data\n",
    "    - perfect data that arrises from an equation\n",
    "2. ideal y data with noise\n",
    "    - we will call this **simulated real data**, which suggest that it was obtained using **experiments**\n",
    "    \n",
    "#### 1. ideal data"
   ]
  },
  {
   "cell_type": "code",
   "execution_count": 101,
   "metadata": {},
   "outputs": [
    {
     "data": {
      "text/plain": [
       "array([ 0.00000000e+00,  6.42787610e-01,  9.84807753e-01,  8.66025404e-01,\n",
       "        3.42020143e-01, -3.42020143e-01, -8.66025404e-01, -9.84807753e-01,\n",
       "       -6.42787610e-01, -2.44929360e-16])"
      ]
     },
     "execution_count": 101,
     "metadata": {},
     "output_type": "execute_result"
    }
   ],
   "source": [
    "y_values_ideal = np.sin(2 * np.pi * x_values)\n",
    "y_values_ideal"
   ]
  },
  {
   "cell_type": "markdown",
   "metadata": {},
   "source": [
    "##### 2. ideal data with noise (i.e. simulated real data)"
   ]
  },
  {
   "cell_type": "code",
   "execution_count": 102,
   "metadata": {},
   "outputs": [
    {
     "data": {
      "text/plain": [
       "array([-0.19628804,  0.50200447,  0.8385091 ,  0.78363875,  0.31643536,\n",
       "       -0.5404108 , -1.05836013, -0.98712354, -0.83172564, -0.1885771 ])"
      ]
     },
     "execution_count": 102,
     "metadata": {},
     "output_type": "execute_result"
    }
   ],
   "source": [
    "y_values_sim = np.sin(2 * np.pi * x_values) + noise\n",
    "y_values_sim"
   ]
  },
  {
   "cell_type": "markdown",
   "metadata": {},
   "source": [
    "Plot the \"idea\" (blue) and \"simulated real\" (orange) data, and highlight the 6$^{th}$ data point:"
   ]
  },
  {
   "cell_type": "code",
   "execution_count": 115,
   "metadata": {},
   "outputs": [
    {
     "data": {
      "image/png": "[encoded data removed]",
      "text/plain": [
       "<Figure size 432x288 with 1 Axes>"
      ]
     },
     "metadata": {
      "needs_background": "light"
     },
     "output_type": "display_data"
    }
   ],
   "source": [
    "plt.plot()\n",
    "\n",
    "plt.plot(x_values, y_values_ideal, '-o', color='#1f77b4', markersize=7, linewidth=2, alpha=0.5)\n",
    "plt.plot(x_values, y_values_sim, '-o', color='#ff7f0e', markersize=15, linewidth=5)\n",
    "\n",
    "plt.hlines(y_values_sim[5], 0, 1, colors='#ff7f0e', linewidth=3)\n",
    "\n",
    "plt.show()"
   ]
  },
  {
   "cell_type": "markdown",
   "metadata": {},
   "source": [
    "Create a **new function** that is an **interpolation** of the existing (i.e. known; non-ideal) data points"
   ]
  },
  {
   "cell_type": "code",
   "execution_count": 104,
   "metadata": {},
   "outputs": [],
   "source": [
    "interp_function = interp1d(x_values, y_values_sim)"
   ]
  },
  {
   "cell_type": "markdown",
   "metadata": {},
   "source": [
    "First let's see if we can reproduce an \"known\" point\n",
    "\n",
    "- We want to reproduce the sixth data point: x_value[5]\n",
    "- interp_function(x_value[5]) should give y_value[5] of the original function\n",
    "<br>\n",
    "\n",
    "**Simulated** (i.e. ideal+noise) **y-value** at the 6$^{th}$ data point:"
   ]
  },
  {
   "cell_type": "code",
   "execution_count": 107,
   "metadata": {},
   "outputs": [
    {
     "data": {
      "text/plain": [
       "-0.540410803949021"
      ]
     },
     "execution_count": 107,
     "metadata": {},
     "output_type": "execute_result"
    }
   ],
   "source": [
    "y_values_sim[5]"
   ]
  },
  {
   "cell_type": "markdown",
   "metadata": {},
   "source": [
    "Now for the **interpolated y-value** at the 6$^{th}$ data point:"
   ]
  },
  {
   "cell_type": "code",
   "execution_count": 108,
   "metadata": {},
   "outputs": [
    {
     "data": {
      "text/plain": [
       "array(-0.5404108)"
      ]
     },
     "execution_count": 108,
     "metadata": {},
     "output_type": "execute_result"
    }
   ],
   "source": [
    "interp_function(x_values[5])"
   ]
  },
  {
   "cell_type": "code",
   "execution_count": 158,
   "metadata": {},
   "outputs": [
    {
     "data": {
      "text/plain": [
       "0.0"
      ]
     },
     "execution_count": 158,
     "metadata": {},
     "output_type": "execute_result"
    }
   ],
   "source": [
    "## quantify the difference between the interpolated and true value for the highlighted point\n",
    "interp_function(x_values[5]) - y_values_sim[5]"
   ]
  },
  {
   "cell_type": "markdown",
   "metadata": {},
   "source": [
    "Let's also fill in some of the space between the data points by creating a new range of x-data:"
   ]
  },
  {
   "cell_type": "code",
   "execution_count": 159,
   "metadata": {},
   "outputs": [
    {
     "data": {
      "text/plain": [
       "array([0.  , 0.02, 0.04, 0.06, 0.08, 0.1 , 0.12, 0.14, 0.16, 0.18, 0.2 ,\n",
       "       0.22, 0.24, 0.26, 0.28, 0.3 , 0.32, 0.34, 0.36, 0.38, 0.4 , 0.42,\n",
       "       0.44, 0.46, 0.48, 0.5 , 0.52, 0.54, 0.56, 0.58, 0.6 , 0.62, 0.64,\n",
       "       0.66, 0.68, 0.7 , 0.72, 0.74, 0.76, 0.78, 0.8 , 0.82, 0.84, 0.86,\n",
       "       0.88, 0.9 , 0.92, 0.94, 0.96, 0.98])"
      ]
     },
     "execution_count": 159,
     "metadata": {},
     "output_type": "execute_result"
    }
   ],
   "source": [
    "x_data_new = np.arange(0, 1, 0.02)\n",
    "x_data_new"
   ]
  },
  {
   "cell_type": "code",
   "execution_count": 160,
   "metadata": {},
   "outputs": [
    {
     "data": {
      "text/plain": [
       "array([-0.19628804, -0.07059539,  0.05509726,  0.18078991,  0.30648257,\n",
       "        0.43217522,  0.52892484,  0.58949567,  0.65006651,  0.71063734,\n",
       "        0.77120817,  0.83177901,  0.82972984,  0.81985318,  0.80997652,\n",
       "        0.80009986,  0.7902232 ,  0.75560655,  0.67150994,  0.58741333,\n",
       "        0.50331672,  0.41922011,  0.3351235 ,  0.1964769 ,  0.04224459,\n",
       "       -0.11198772, -0.26622003, -0.42045234, -0.56112878, -0.65435965,\n",
       "       -0.74759053, -0.84082141, -0.93405229, -1.02728317, -1.04981174,\n",
       "       -1.03698915, -1.02416656, -1.01134398, -0.99852139, -0.98401558,\n",
       "       -0.95604396, -0.92807233, -0.90010071, -0.87212909, -0.84415747,\n",
       "       -0.76741078, -0.65164405, -0.53587731, -0.42011057, -0.30434384])"
      ]
     },
     "execution_count": 160,
     "metadata": {},
     "output_type": "execute_result"
    }
   ],
   "source": [
    "y_data_new = interp_function(x_data_new)\n",
    "y_data_new"
   ]
  },
  {
   "cell_type": "markdown",
   "metadata": {},
   "source": [
    "Create and overlay plot that shows\n",
    "1. ideal values,\n",
    "2. simulated values (i.e. idea+noise),\n",
    "3. interpolated values (shown in green)"
   ]
  },
  {
   "cell_type": "code",
   "execution_count": 161,
   "metadata": {},
   "outputs": [
    {
     "data": {
      "image/png": "[encoded data removed]",
      "text/plain": [
       "<Figure size 432x288 with 1 Axes>"
      ]
     },
     "metadata": {
      "needs_background": "light"
     },
     "output_type": "display_data"
    }
   ],
   "source": [
    "plt.plot()\n",
    "\n",
    "plt.plot(x_values, y_values_ideal, '-o', color='#1f77b4', markersize=7, linewidth=2, alpha=0.5)\n",
    "plt.plot(x_values, y_values_sim, '-o', color='#ff7f0e', markersize=15, linewidth=5)\n",
    "plt.hlines(y_values_sim[5], 0, 1, colors='#ff7f0e', linewidth=5)\n",
    "\n",
    "## plot the interpolated curve\n",
    "plt.plot(x_data_new, y_data_new, '--o', color='#2ca02c', markersize=10, linewidth=2, alpha=0.5)\n",
    "plt.hlines(interp_function(x_values[5]), 0, 1, colors='#2ca02c',linestyles='dashed', linewidth=2, alpha=0.5)\n",
    "\n",
    "plt.show()"
   ]
  },
  {
   "cell_type": "markdown",
   "metadata": {},
   "source": [
    "---\n",
    "**side note**: Percent Relative Error\n",
    "\n",
    "The **percent relative error** is often calculated in the natural sciences, whose formuala is the following:\n",
    "\n",
    "$$\\text{Percentage Relative Error} = \\frac{\\text{estimated}-\\text{actual}}{\\text{actual}}*100$$\n",
    "\n",
    "What is the PRE between the interpolated vs. simulated (i.e. ideal+noise):"
   ]
  },
  {
   "cell_type": "code",
   "execution_count": 176,
   "metadata": {},
   "outputs": [],
   "source": [
    "def percentage_rel_error(estimated: float=None, actual: float=None) -> float:\n",
    "    return ((estimated - actual)/actual)*100"
   ]
  },
  {
   "cell_type": "code",
   "execution_count": 177,
   "metadata": {},
   "outputs": [
    {
     "name": "stdout",
     "output_type": "stream",
     "text": [
      "-0.0\n"
     ]
    }
   ],
   "source": [
    "pce = percentage_rel_error(estimated=(interp_function(x_values[5])), actual=y_values_sim[5])\n",
    "print(f'{pce:.2}')"
   ]
  },
  {
   "cell_type": "markdown",
   "metadata": {},
   "source": [
    "So the percentage relative error is 0%.\n",
    "\n",
    "How about the interpolated versus ideal (i.e. noiseless)?\n",
    "\n",
    "This shows how the addition of noise to the ideal data impacted our \"modeling building\":"
   ]
  },
  {
   "cell_type": "code",
   "execution_count": 185,
   "metadata": {},
   "outputs": [
    {
     "data": {
      "text/plain": [
       "58.005548648181936"
      ]
     },
     "execution_count": 185,
     "metadata": {},
     "output_type": "execute_result"
    }
   ],
   "source": [
    "pce = percentage_rel_error(estimated=(interp_function(x_values[5])), actual=y_values_ideal[5])\n",
    "pce"
   ]
  },
  {
   "cell_type": "markdown",
   "metadata": {},
   "source": [
    "The addition of noise significantly changed the ideal data, which is what we wanted."
   ]
  },
  {
   "cell_type": "markdown",
   "metadata": {},
   "source": [
    "**Final note**:\n",
    "\n",
    "There is a relatively simple alternative to `interp1d` that is easy to use: `Akima1DInterpolator`\n",
    "- https://docs.scipy.org/doc/scipy/reference/generated/scipy.interpolate.Akima1DInterpolator.html"
   ]
  },
  {
   "cell_type": "markdown",
   "metadata": {},
   "source": [
    "---\n",
    "## Curve Fitting and Optimization\n",
    "\n",
    "Finding a numerical solution for maximizing or minimizing a function.\n",
    "\n",
    "- optimize: https://docs.scipy.org/doc/scipy/reference/optimize.html#module-scipy.optimize\n",
    "\n",
    "- curve_fit: https://docs.scipy.org/doc/scipy/reference/tutorial/optimize.html?highlight=curve_fit\n",
    "\n",
    "\n",
    "**Example**: Raw data that follows a sine wave, but we don't know the amplitude or period that the data has\n",
    "\n",
    "    - Goal: find the amplitude and period\n",
    "    \n",
    "Recall some basic math\n",
    "\n",
    "$$y = Asin(Bx + C) + D$$\n",
    "\n",
    "Where\n",
    "\n",
    "A: amplitude\n",
    "\n",
    "2π/B: period (with respect to radians - i.e. a full rotation is 2π radians)\n",
    "\n",
    "C: phase shift\n",
    "\n",
    "D: vertical shift\n",
    "\n",
    "x: x-axis data"
   ]
  },
  {
   "cell_type": "code",
   "execution_count": 40,
   "metadata": {},
   "outputs": [],
   "source": [
    "from scipy import optimize"
   ]
  },
  {
   "cell_type": "code",
   "execution_count": 41,
   "metadata": {},
   "outputs": [
    {
     "data": {
      "text/plain": [
       "array([-5.        , -4.79591837, -4.59183673, -4.3877551 , -4.18367347,\n",
       "       -3.97959184, -3.7755102 , -3.57142857, -3.36734694, -3.16326531,\n",
       "       -2.95918367, -2.75510204, -2.55102041, -2.34693878, -2.14285714,\n",
       "       -1.93877551, -1.73469388, -1.53061224, -1.32653061, -1.12244898,\n",
       "       -0.91836735, -0.71428571, -0.51020408, -0.30612245, -0.10204082,\n",
       "        0.10204082,  0.30612245,  0.51020408,  0.71428571,  0.91836735,\n",
       "        1.12244898,  1.32653061,  1.53061224,  1.73469388,  1.93877551,\n",
       "        2.14285714,  2.34693878,  2.55102041,  2.75510204,  2.95918367,\n",
       "        3.16326531,  3.36734694,  3.57142857,  3.7755102 ,  3.97959184,\n",
       "        4.18367347,  4.3877551 ,  4.59183673,  4.79591837,  5.        ])"
      ]
     },
     "execution_count": 41,
     "metadata": {},
     "output_type": "execute_result"
    }
   ],
   "source": [
    "## Create 50 equally spaced data points\n",
    "x_values = np.linspace(-5, 5, num=50)\n",
    "x_values"
   ]
  },
  {
   "cell_type": "code",
   "execution_count": 42,
   "metadata": {},
   "outputs": [
    {
     "data": {
      "text/plain": [
       "array([0.62909983, 0.73495258, 0.68834438, 0.03113075, 0.90251384,\n",
       "       0.28643533, 0.55561256, 0.37642024, 0.02662436, 0.49414912,\n",
       "       0.83471509, 0.36698733, 0.51538211, 0.47237913, 0.38615209,\n",
       "       0.744137  , 0.33524208, 0.59543829, 0.31613338, 0.34625042,\n",
       "       0.24483181, 0.69795016, 0.21208083, 0.26729317, 0.37389408,\n",
       "       0.57308851, 0.91735808, 0.81897594, 0.16318089, 0.02415477,\n",
       "       0.78465363, 0.26485738, 0.33936706, 0.81436959, 0.80745472,\n",
       "       0.49356164, 0.84531244, 0.36518998, 0.0478309 , 0.26414579,\n",
       "       0.46386716, 0.69335506, 0.31343675, 0.46253679, 0.81968765,\n",
       "       0.68449103, 0.32403382, 0.576812  , 0.63264998, 0.59646167])"
      ]
     },
     "execution_count": 42,
     "metadata": {},
     "output_type": "execute_result"
    }
   ],
   "source": [
    "## Create some noise so that we can create more realistic data\n",
    "noise = np.random.random(50)\n",
    "noise"
   ]
  },
  {
   "cell_type": "code",
   "execution_count": 43,
   "metadata": {},
   "outputs": [
    {
     "data": {
      "text/plain": [
       "array([ 0.74184706,  1.66171708,  2.19306972,  1.73054791,  2.36376381,\n",
       "        1.13732272,  0.57940762, -0.43293788, -1.40973511, -1.20335619,\n",
       "       -0.691564  , -0.59930657,  0.35519838,  1.15910601,  1.7448732 ,\n",
       "        2.42877211,  1.9166973 ,  1.67090073,  0.61167171, -0.21341202,\n",
       "       -1.02747962, -0.96293946, -1.41434133, -0.91039509, -0.05509097,\n",
       "        1.00207356,  2.09504633,  2.44539809,  1.82407051,  1.2964662 ,\n",
       "        1.34431607, -0.03068095, -0.73609538, -0.76708563, -0.87718038,\n",
       "       -0.86515947,  0.15858556,  0.52537371,  1.0141248 ,  1.79042488,\n",
       "        2.16137247,  2.12971454,  1.12279488,  0.43874173, -0.03119974,\n",
       "       -0.77675894, -1.37538334, -0.92791333, -0.29411452,  0.48371444])"
      ]
     },
     "execution_count": 43,
     "metadata": {},
     "output_type": "execute_result"
    }
   ],
   "source": [
    "## Create our target data (i.e. simulated experimental data) that follows a sine wave by adding some noise\n",
    "## Amplitude: 1.7, period: 2π/2.5, C=D=0\n",
    "\n",
    "y_values = 1.7*np.sin(2.5 * x_values) + noise\n",
    "y_values"
   ]
  },
  {
   "cell_type": "code",
   "execution_count": 44,
   "metadata": {},
   "outputs": [
    {
     "data": {
      "image/png": "[encoded data removed]",
      "text/plain": [
       "<Figure size 432x288 with 1 Axes>"
      ]
     },
     "metadata": {
      "needs_background": "light"
     },
     "output_type": "display_data"
    }
   ],
   "source": [
    "plt.plot(x_values, y_values, '-o', markersize=15, linewidth=5)\n",
    "plt.show()"
   ]
  },
  {
   "cell_type": "markdown",
   "metadata": {},
   "source": [
    "Setup our simple test function that we can solve for the amplitude and period (i.e. a test function with two variables only: a and b).\n",
    "\n",
    "-Note: I'm not including any internal test (e.g. isinstance, assert) in order to keep the teaching aspects clear here."
   ]
  },
  {
   "cell_type": "code",
   "execution_count": 45,
   "metadata": {},
   "outputs": [],
   "source": [
    "def test_sine_func(x=None, a=None, b=None):\n",
    "    return a * np.sin(b * x)"
   ]
  },
  {
   "cell_type": "markdown",
   "metadata": {},
   "source": [
    "Use SciPy's optimize.curve_fit to find the solutions\n",
    "- https://docs.scipy.org/doc/scipy/reference/generated/scipy.optimize.curve_fit.html?highlight=curve_fit\n",
    "\n",
    "What is needed:\n",
    "1. a function\n",
    "2. x and y target data values, and\n",
    "3. and initial guesses (i.e. p0 below) - we need two for a and b\n",
    "\n",
    "What is returned:\n",
    "1. **solution values**\n",
    "2. covariance: estimate of how much 2 variables vary (i.e. change) together (e.g. smoking and lifespan), or\n",
    "    - in other words, how correlated they are to one another (i.e. the off diagonal of the resulting matrix, which includes the concept of positive or negative correlation)\n",
    "    - the square of the diagonals of the covariance matrix gives the standard deviation for each of the solution values"
   ]
  },
  {
   "cell_type": "code",
   "execution_count": 46,
   "metadata": {},
   "outputs": [],
   "source": [
    "## use p0=[2.0, 2.0] as the initial guess\n",
    "solution, solution_covariance = optimize.curve_fit(test_sine_func, x_values, y_values, p0=[2.0, 2.0])"
   ]
  },
  {
   "cell_type": "code",
   "execution_count": 47,
   "metadata": {},
   "outputs": [
    {
     "data": {
      "text/plain": [
       "array([1.67894587, 2.49000902])"
      ]
     },
     "execution_count": 47,
     "metadata": {},
     "output_type": "execute_result"
    }
   ],
   "source": [
    "## The ideal values are: amplitude (a) = 1.7, period (b) = 2.5 with C=D=0\n",
    "##   But remember, we added noise, so our solution will be close to these values\n",
    "solution"
   ]
  },
  {
   "cell_type": "code",
   "execution_count": 48,
   "metadata": {},
   "outputs": [
    {
     "data": {
      "text/plain": [
       "array([[0.01264216, 0.00016643],\n",
       "       [0.00016643, 0.00049069]])"
      ]
     },
     "execution_count": 48,
     "metadata": {},
     "output_type": "execute_result"
    }
   ],
   "source": [
    "solution_covariance"
   ]
  },
  {
   "cell_type": "code",
   "execution_count": 49,
   "metadata": {},
   "outputs": [
    {
     "data": {
      "text/plain": [
       "array([0.11243734, 0.02215159])"
      ]
     },
     "execution_count": 49,
     "metadata": {},
     "output_type": "execute_result"
    }
   ],
   "source": [
    "std_dev = np.sqrt(np.diag(solution_covariance))\n",
    "std_dev"
   ]
  },
  {
   "cell_type": "code",
   "execution_count": 50,
   "metadata": {},
   "outputs": [
    {
     "data": {
      "image/png": "[encoded data removed]",
      "text/plain": [
       "<Figure size 432x288 with 1 Axes>"
      ]
     },
     "metadata": {
      "needs_background": "light"
     },
     "output_type": "display_data"
    }
   ],
   "source": [
    "plt.plot()\n",
    "\n",
    "plt.plot(x_values, y_values, '-o', markersize=15, linewidth=5) # blue; simulated experimental date\n",
    "plt.plot(x_values, test_sine_func(x_values, solution[0], solution[1]),\n",
    "         '--o', markersize=15, linewidth=5) # orange; curve fit\n",
    "\n",
    "plt.show()"
   ]
  },
  {
   "cell_type": "markdown",
   "metadata": {},
   "source": [
    "Note: The **solution** will **depend** on the **intial guess**. There are several possible \"local\" solutions that can can be found.\n",
    "\n",
    "We **artifically knew** the solution before hand, to be near **a=1.7 and b=2.5**...so p0=[2.0, 2.0] was a good starting point.\n",
    "\n",
    "Exploration is needed when we don't know the approximate (or exact) solution before. Visualization of the results helps you interpret them (i.e. build your understanding of what the results are).\n",
    "\n",
    "Demonstrate and plot the results using:\n",
    "- p0=[1.0, 1.0] --> should give a different result\n",
    "- p0=[3.0, 3.0] --> should give you the \"correct\" solution\n",
    "- p0=[5.0, 5.0] --> should give a different result"
   ]
  },
  {
   "cell_type": "markdown",
   "metadata": {},
   "source": [
    "---\n",
    "## Optimization\n",
    "- https://docs.scipy.org/doc/scipy/reference/generated/scipy.optimize.minimize.html#scipy.optimize.minimize\n",
    "\n",
    "##### scipy.optimize.minimize() and its output **type**\n",
    "\n",
    "**Input**\n",
    "func: a function that will be minimized\n",
    "x0: an initial guess\n",
    "\n",
    "\n",
    "**Output**\n",
    "The output is a compound object containing lot of information regarding the convergence (see example below for what it looks like).\n",
    "\n",
    "\n",
    "##### Solvers\n",
    "- Nelder-Mead\n",
    "- Powell\n",
    "- CG\n",
    "- BFGS\n",
    "- Newton-CG\n",
    "- L-BFGS-B\n",
    "- TNC\n",
    "- COBYLA\n",
    "- SLSQP\n",
    "- trust-constr\n",
    "- dogleg\n",
    "- trust-ncg\n",
    "- trust-exact\n",
    "- trust-krylov\n",
    "\n",
    "\n",
    "- **Default solver**: quasi-Newton method of Broyden, Fletcher, Goldfarb, and Shanno (**BFGS**)\n",
    "    - https://docs.scipy.org/doc/scipy/reference/tutorial/optimize.html#broyden-fletcher-goldfarb-shanno-algorithm-method-bfgs\n",
    "- More background on minimization: http://scipy-lectures.org/advanced/mathematical_optimization\n",
    "\n",
    "---\n",
    "**Example**: Find the minimum of a 1D function (i.e. a scalar function; a function that return a single value from input values)"
   ]
  },
  {
   "cell_type": "code",
   "execution_count": 51,
   "metadata": {},
   "outputs": [],
   "source": [
    "def scalar_func(x=None):\n",
    "    return x**2 + 25*np.sin(x)"
   ]
  },
  {
   "cell_type": "markdown",
   "metadata": {},
   "source": [
    "$$ x^2 + 25sin(x) $$"
   ]
  },
  {
   "cell_type": "code",
   "execution_count": 52,
   "metadata": {},
   "outputs": [],
   "source": [
    "x_values = np.arange(-10, 10, 0.1)\n",
    "\n",
    "y_values = scalar_func(x_values)"
   ]
  },
  {
   "cell_type": "code",
   "execution_count": 53,
   "metadata": {},
   "outputs": [
    {
     "data": {
      "image/png": "[encoded data removed]",
      "text/plain": [
       "<Figure size 432x288 with 1 Axes>"
      ]
     },
     "metadata": {
      "needs_background": "light"
     },
     "output_type": "display_data"
    }
   ],
   "source": [
    "## View what the x- and y- data look like\n",
    "\n",
    "plt.plot()\n",
    "plt.plot(x_values, y_values, 'o')\n",
    "plt.show()"
   ]
  },
  {
   "cell_type": "markdown",
   "metadata": {},
   "source": [
    "Notice the three minima that are present (i.e. one global, and two local)\n",
    "\n",
    "\n",
    "Let's start with an inital guess near the global minimum (i.e x0=0.0)."
   ]
  },
  {
   "cell_type": "code",
   "execution_count": 54,
   "metadata": {},
   "outputs": [],
   "source": [
    "result_global = optimize.minimize(scalar_func, x0=0.0, method=\"BFGS\")"
   ]
  },
  {
   "cell_type": "code",
   "execution_count": 55,
   "metadata": {},
   "outputs": [
    {
     "data": {
      "text/plain": [
       "      fun: -22.71556099678873\n",
       " hess_inv: array([[0.0372705]])\n",
       "      jac: array([2.38418579e-07])\n",
       "  message: 'Optimization terminated successfully.'\n",
       "     nfev: 14\n",
       "      nit: 5\n",
       "     njev: 7\n",
       "   status: 0\n",
       "  success: True\n",
       "        x: array([-1.45419657])"
      ]
     },
     "execution_count": 55,
     "metadata": {},
     "output_type": "execute_result"
    }
   ],
   "source": [
    "result_global"
   ]
  },
  {
   "cell_type": "code",
   "execution_count": 56,
   "metadata": {},
   "outputs": [
    {
     "data": {
      "text/plain": [
       "array([-1.45419657])"
      ]
     },
     "execution_count": 56,
     "metadata": {},
     "output_type": "execute_result"
    }
   ],
   "source": [
    "result_global.x"
   ]
  },
  {
   "cell_type": "markdown",
   "metadata": {},
   "source": [
    "Now let's set an initial guess closer to one of the local minimum (i.e. x0=3.0)"
   ]
  },
  {
   "cell_type": "code",
   "execution_count": 57,
   "metadata": {},
   "outputs": [],
   "source": [
    "result_local = optimize.minimize(scalar_func, x0=3.0, method=\"BFGS\")"
   ]
  },
  {
   "cell_type": "code",
   "execution_count": 58,
   "metadata": {},
   "outputs": [
    {
     "data": {
      "text/plain": [
       "      fun: -4.454335797238624\n",
       " hess_inv: array([[0.03931567]])\n",
       "      jac: array([2.38418579e-07])\n",
       "  message: 'Optimization terminated successfully.'\n",
       "     nfev: 14\n",
       "      nit: 5\n",
       "     njev: 7\n",
       "   status: 0\n",
       "  success: True\n",
       "        x: array([4.35640541])"
      ]
     },
     "execution_count": 58,
     "metadata": {},
     "output_type": "execute_result"
    }
   ],
   "source": [
    "result_local"
   ]
  },
  {
   "cell_type": "markdown",
   "metadata": {},
   "source": [
    "#### Overcoming the dependency on the initial guess\n",
    "- fminbound: a minimization within boundaries\n",
    "- brute: minimize a function over a given range through lots of sampling\n",
    "- differential_evolution: global minimum a multivariate function\n",
    "- shgo: global minimum using SHG optimization\n",
    "- dual_annealing: global minimum using dual annealing\n",
    "\n",
    "**fminbound** https://docs.scipy.org/doc/scipy/reference/generated/scipy.optimize.fminbound.html"
   ]
  },
  {
   "cell_type": "code",
   "execution_count": 59,
   "metadata": {},
   "outputs": [
    {
     "data": {
      "text/plain": [
       "-1.4541952455722909"
      ]
     },
     "execution_count": 59,
     "metadata": {},
     "output_type": "execute_result"
    }
   ],
   "source": [
    "optimize.fminbound(scalar_func, -10, 10)"
   ]
  },
  {
   "cell_type": "markdown",
   "metadata": {},
   "source": [
    "**brute force** https://docs.scipy.org/doc/scipy/reference/generated/scipy.optimize.brute.html#scipy.optimize.brute"
   ]
  },
  {
   "cell_type": "code",
   "execution_count": 60,
   "metadata": {},
   "outputs": [
    {
     "data": {
      "text/plain": [
       "array([-1.45420436])"
      ]
     },
     "execution_count": 60,
     "metadata": {},
     "output_type": "execute_result"
    }
   ],
   "source": [
    "optimize.brute(scalar_func, ((-10,10),))"
   ]
  },
  {
   "cell_type": "markdown",
   "metadata": {},
   "source": [
    "**basin hopping** https://docs.scipy.org/doc/scipy/reference/generated/scipy.optimize.basinhopping.html\n",
    "- combines global stepping with local minimization\n",
    "- rugged, funnel-like surfaces (e.g. molecular potential energy surfaces)\n",
    "- requires: a function and an initial guess (so not a \"perfect\" method)\n",
    "    \n",
    "- sensitive to stepsize\n",
    "    - stepsize=0.5 (i.e. default value) results in a local minmium\n",
    "    - stepsize=2.5 finds the global mimimum"
   ]
  },
  {
   "cell_type": "code",
   "execution_count": 61,
   "metadata": {},
   "outputs": [
    {
     "data": {
      "text/plain": [
       "                        fun: -4.454335797238624\n",
       " lowest_optimization_result:       fun: -4.454335797238624\n",
       " hess_inv: array([[0.03931567]])\n",
       "      jac: array([2.38418579e-07])\n",
       "  message: 'Optimization terminated successfully.'\n",
       "     nfev: 14\n",
       "      nit: 5\n",
       "     njev: 7\n",
       "   status: 0\n",
       "  success: True\n",
       "        x: array([4.35640541])\n",
       "                    message: ['requested number of basinhopping iterations completed successfully']\n",
       "      minimization_failures: 0\n",
       "                       nfev: 1100\n",
       "                        nit: 100\n",
       "                       njev: 550\n",
       "                          x: array([4.35640541])"
      ]
     },
     "execution_count": 61,
     "metadata": {},
     "output_type": "execute_result"
    }
   ],
   "source": [
    "## recall that x0=3.0 gives local minimum using optimize.minimize\n",
    "optimize.basinhopping(scalar_func, x0=3.0, stepsize=0.5)"
   ]
  },
  {
   "cell_type": "markdown",
   "metadata": {},
   "source": [
    "## Finding the **Roots**\n",
    "\n",
    "- Roots: points where f(x) = 0\n",
    "    - For example, the values of x that satisfies the equation $ x^2 + 25sin(x) = 0 $\n",
    "- Finding the roots of a function provides you a solution to that function, which can be useful depending on the problem at hand."
   ]
  },
  {
   "cell_type": "code",
   "execution_count": 62,
   "metadata": {},
   "outputs": [
    {
     "data": {
      "image/png": "[encoded data removed]",
      "text/plain": [
       "<Figure size 432x288 with 1 Axes>"
      ]
     },
     "metadata": {
      "needs_background": "light"
     },
     "output_type": "display_data"
    }
   ],
   "source": [
    "plt.plot()\n",
    "plt.plot(x_values, scalar_func(x_values), '-o')\n",
    "plt.hlines(0, -10, 10, colors='red')\n",
    "plt.show()"
   ]
  },
  {
   "cell_type": "markdown",
   "metadata": {},
   "source": [
    "### There should be four roots (ca. -3.0, 0.0, 4.0 and 5.0)"
   ]
  },
  {
   "cell_type": "code",
   "execution_count": 63,
   "metadata": {},
   "outputs": [
    {
     "data": {
      "text/plain": [
       "    fjac: array([[-1.]])\n",
       "     fun: array([-4.4408921e-15])\n",
       " message: 'The solution converged.'\n",
       "    nfev: 8\n",
       "     qtf: array([4.60387817e-09])\n",
       "       r: array([29.34126755])\n",
       "  status: 1\n",
       " success: True\n",
       "       x: array([-2.81828105])"
      ]
     },
     "execution_count": 63,
     "metadata": {},
     "output_type": "execute_result"
    }
   ],
   "source": [
    "root1 = optimize.root(scalar_func, x0=-4)\n",
    "root1"
   ]
  },
  {
   "cell_type": "code",
   "execution_count": 64,
   "metadata": {},
   "outputs": [
    {
     "data": {
      "text/plain": [
       "    fjac: array([[-1.]])\n",
       "     fun: array([0.])\n",
       " message: 'The solution converged.'\n",
       "    nfev: 10\n",
       "     qtf: array([6.76097707e-29])\n",
       "       r: array([-25.])\n",
       "  status: 1\n",
       " success: True\n",
       "       x: array([0.])"
      ]
     },
     "execution_count": 64,
     "metadata": {},
     "output_type": "execute_result"
    }
   ],
   "source": [
    "root2 = optimize.root(scalar_func, x0=1)\n",
    "root2"
   ]
  },
  {
   "cell_type": "code",
   "execution_count": 65,
   "metadata": {},
   "outputs": [
    {
     "data": {
      "text/plain": [
       "    fjac: array([[-1.]])\n",
       "     fun: array([-2.04281037e-13])\n",
       " message: 'The solution converged.'\n",
       "    nfev: 8\n",
       "     qtf: array([4.54493936e-08])\n",
       "       r: array([13.29152894])\n",
       "  status: 1\n",
       " success: True\n",
       "       x: array([3.7327774])"
      ]
     },
     "execution_count": 65,
     "metadata": {},
     "output_type": "execute_result"
    }
   ],
   "source": [
    "root3 = optimize.root(scalar_func, x0=4)\n",
    "root3"
   ]
  },
  {
   "cell_type": "code",
   "execution_count": 66,
   "metadata": {},
   "outputs": [
    {
     "data": {
      "text/plain": [
       "    fjac: array([[-1.]])\n",
       "     fun: array([0.])\n",
       " message: 'The solution converged.'\n",
       "    nfev: 9\n",
       "     qtf: array([-6.99635905e-11])\n",
       "       r: array([-15.43885235])\n",
       "  status: 1\n",
       " success: True\n",
       "       x: array([4.9368738])"
      ]
     },
     "execution_count": 66,
     "metadata": {},
     "output_type": "execute_result"
    }
   ],
   "source": [
    "root4 = optimize.root(scalar_func, x0=7)\n",
    "root4"
   ]
  },
  {
   "cell_type": "code",
   "execution_count": 67,
   "metadata": {},
   "outputs": [
    {
     "data": {
      "text/plain": [
       "array([4.9368738])"
      ]
     },
     "execution_count": 67,
     "metadata": {},
     "output_type": "execute_result"
    }
   ],
   "source": [
    "root4.x"
   ]
  },
  {
   "cell_type": "code",
   "execution_count": 68,
   "metadata": {},
   "outputs": [
    {
     "data": {
      "text/plain": [
       "0.0"
      ]
     },
     "execution_count": 68,
     "metadata": {},
     "output_type": "execute_result"
    }
   ],
   "source": [
    "x=root4.x[0]\n",
    "x**2 + 25*np.sin(x)"
   ]
  },
  {
   "cell_type": "code",
   "execution_count": null,
   "metadata": {},
   "outputs": [],
   "source": []
  }
 ],
 "metadata": {
  "kernelspec": {
   "display_name": "Python 3",
   "language": "python",
   "name": "python3"
  },
  "language_info": {
   "codemirror_mode": {
    "name": "ipython",
    "version": 3
   },
   "file_extension": ".py",
   "mimetype": "text/x-python",
   "name": "python",
   "nbconvert_exporter": "python",
   "pygments_lexer": "ipython3",
   "version": "3.8.8"
  }
 },
 "nbformat": 4,
 "nbformat_minor": 2
}
