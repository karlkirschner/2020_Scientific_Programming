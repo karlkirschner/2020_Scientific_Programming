{
 "cells": [
  {
   "cell_type": "markdown",
   "metadata": {},
   "source": [
    "# SciPy\n",
    "\n",
    "Heavily depends on the following libraries:\n",
    "1. matplotlib\n",
    "2. numpy\n",
    "\n",
    "\n",
    "\"SciPy is organized into subpackages covering different scientific computing domains.\"\n",
    "\n",
    "**Subpackages**\n",
    "1. cluster: Clustering algorithms\n",
    "2. constants: Physical and mathematical constants\n",
    "3. fftpack: Fast Fourier Transform routines\n",
    "4. integrate: Integration and ordinary differential equation solvers\n",
    "5. interpolate: Interpolation and smoothing splines\n",
    "6. io: Input and Output\n",
    "7. linalg: Linear algebra\n",
    "8. ndimage: N-dimensional image processing\n",
    "9. odr: Orthogonal distance regression\n",
    "10. optimize: Optimization and root-finding routines\n",
    "11. signal: Signal processing\n",
    "12. sparse: Sparse matrices and associated routines\n",
    "13. spatial: Spatial data structures and algorithms\n",
    "14. special: Special functions\n",
    "15. stats: Statistical distributions and functions\n",
    "\n",
    "Sources:\n",
    "\n",
    "https://docs.scipy.org/doc/scipy/reference/\n",
    "\n",
    "https://docs.scipy.org/doc/\n",
    "\n",
    "https://docs.scipy.org/doc/scipy/reference/tutorial/general.html\n",
    "\n",
    "https://scipy-lectures.org/intro/scipy.html"
   ]
  },
  {
   "cell_type": "markdown",
   "metadata": {},
   "source": [
    "---\n",
    "## Importance of polynomials in science\n",
    "\n",
    "They are prevalent in all fields - ranging from physics to economics. In the real world we can almost never evaluate functions exactly (e.g. too complicated), instead we evaluate functions using approximations formed out of polynomials (e.g. Taylor series expansions).\n",
    "\n",
    "**Examples**:\n",
    "- chemistry: modeling potential energy surfaces\n",
    "- astronomy: object (stars, planets, astroids) trajectories, velocities, interactions \n",
    "- economics: forcast trends\n",
    "- meteorology: model weather patterns\n",
    "- engineering: rollar coaster design\n",
    "- virology: prediction contagons\n",
    "- statistics: regressions and interpolation"
   ]
  },
  {
   "cell_type": "markdown",
   "metadata": {},
   "source": [
    "## Example of simple polynomials in Numpy\n",
    "\n",
    "#### A one-dimensional polynomial\n",
    "\n",
    "https://numpy.org/doc/stable/reference/generated/numpy.poly1d.html\n",
    "\n",
    "Let's start small with some background numpy and polynomial concepts, and slowly build up.\n",
    "\n",
    "- Create a one dimensional polynomials using a function\n",
    "    - using different coefficient(s)\n",
    "    - evaluate the resulting function using a variable (i.e. x) value of 2."
   ]
  },
  {
   "cell_type": "code",
   "execution_count": 1,
   "metadata": {},
   "outputs": [],
   "source": [
    "import matplotlib.pyplot as plt\n",
    "import numpy as np"
   ]
  },
  {
   "cell_type": "code",
   "execution_count": 2,
   "metadata": {},
   "outputs": [],
   "source": [
    "def my_poly1d(coeff=None):\n",
    "    ## create: np.poly1d(polynomial)\n",
    "    ## evaluate: polynomial(2)\n",
    "    \n",
    "    polynomial = np.poly1d(coeff)\n",
    "    print('Polynomial: \\n{0}'.format(polynomial))\n",
    "    print('Evaluate when x=2: {0}'.format(polynomial(2)))"
   ]
  },
  {
   "cell_type": "markdown",
   "metadata": {},
   "source": [
    "#### One coefficient: [M] --> $M$"
   ]
  },
  {
   "cell_type": "code",
   "execution_count": 3,
   "metadata": {},
   "outputs": [
    {
     "name": "stdout",
     "output_type": "stream",
     "text": [
      "Polynomial: \n",
      " \n",
      "2\n",
      "Evaluate when x=2: 2\n"
     ]
    }
   ],
   "source": [
    "coefficients = [2]\n",
    "my_poly1d(coefficients)"
   ]
  },
  {
   "cell_type": "markdown",
   "metadata": {},
   "source": [
    "#### Two coefficients: [M, N] --> $Mx + N$\n",
    "- Note how the M shifts to the x"
   ]
  },
  {
   "cell_type": "code",
   "execution_count": 4,
   "metadata": {},
   "outputs": [
    {
     "name": "stdout",
     "output_type": "stream",
     "text": [
      "Polynomial: \n",
      " \n",
      "1 x + 2\n",
      "Evaluate when x=2: 4\n"
     ]
    }
   ],
   "source": [
    "coefficients = [1, 2]\n",
    "my_poly1d(coefficients)"
   ]
  },
  {
   "cell_type": "markdown",
   "metadata": {},
   "source": [
    "#### Including a negative coefficients: [1, -1]"
   ]
  },
  {
   "cell_type": "code",
   "execution_count": 5,
   "metadata": {},
   "outputs": [
    {
     "name": "stdout",
     "output_type": "stream",
     "text": [
      "Polynomial: \n",
      " \n",
      "1 x - 1\n",
      "Evaluate when x=2: 1\n"
     ]
    }
   ],
   "source": [
    "coefficients = [1, -1]\n",
    "my_poly1d(coefficients)"
   ]
  },
  {
   "cell_type": "markdown",
   "metadata": {},
   "source": [
    "#### Three coefficients: [M, N, O] --> $Mx^2 + Nx + O$"
   ]
  },
  {
   "cell_type": "code",
   "execution_count": 6,
   "metadata": {},
   "outputs": [
    {
     "name": "stdout",
     "output_type": "stream",
     "text": [
      "Polynomial: \n",
      "    2\n",
      "-4 x + 1 x - 2\n",
      "Evaluate when x=2: -16\n"
     ]
    }
   ],
   "source": [
    "# coefficients = [x^2, x, constant]\n",
    "coefficients = [-4, 1, -2]\n",
    "my_poly1d(coefficients)"
   ]
  },
  {
   "cell_type": "markdown",
   "metadata": {},
   "source": [
    "#### Four coefficients: [M, N, O, P] --> $Mx^3 + Nx^2 + Ox + P$"
   ]
  },
  {
   "cell_type": "code",
   "execution_count": 7,
   "metadata": {},
   "outputs": [
    {
     "name": "stdout",
     "output_type": "stream",
     "text": [
      "Polynomial: \n",
      "   3     2\n",
      "5 x - 4 x + 1 x - 1\n",
      "Evaluate when x=2: 25\n"
     ]
    }
   ],
   "source": [
    "coefficients = [5, -4, 1, -1]\n",
    "my_poly1d(coefficients)"
   ]
  },
  {
   "cell_type": "markdown",
   "metadata": {},
   "source": [
    "#### Access the Polynomial's Coefficients"
   ]
  },
  {
   "cell_type": "code",
   "execution_count": 8,
   "metadata": {},
   "outputs": [
    {
     "data": {
      "text/plain": [
       "array([ 5, -4,  1, -1])"
      ]
     },
     "execution_count": 8,
     "metadata": {},
     "output_type": "execute_result"
    }
   ],
   "source": [
    "polynomial = np.poly1d(coefficients)\n",
    "\n",
    "polynomial.c"
   ]
  },
  {
   "cell_type": "markdown",
   "metadata": {},
   "source": [
    "#### Access the Polynomial's Order"
   ]
  },
  {
   "cell_type": "code",
   "execution_count": 9,
   "metadata": {},
   "outputs": [
    {
     "data": {
      "text/plain": [
       "3"
      ]
     },
     "execution_count": 9,
     "metadata": {},
     "output_type": "execute_result"
    }
   ],
   "source": [
    "polynomial.order"
   ]
  },
  {
   "cell_type": "markdown",
   "metadata": {},
   "source": [
    "#### Math with polynomials\n",
    "\n",
    "##### Square of a polynomial\n",
    "\n",
    "The square of a polynomial\n",
    "$(a + b)^2 = (a + b)(a + b) = a^2 +2ab + b^2$\n",
    "\n",
    "Exmaple:\n",
    "\n",
    "np.poly1d([2, 1]) $\\rightarrow 2x + 1$\n",
    "\n",
    "$(2x + 1)(2x + 1) = 4x^2 + 4x + 1$"
   ]
  },
  {
   "cell_type": "code",
   "execution_count": 10,
   "metadata": {},
   "outputs": [
    {
     "name": "stdout",
     "output_type": "stream",
     "text": [
      "   2\n",
      "4 x + 4 x + 1\n"
     ]
    }
   ],
   "source": [
    "## Reminder of what it normally looks like:\n",
    "coefficients = [2, 1]\n",
    "polynomial = np.poly1d(coefficients)\n",
    "\n",
    "poly_square = polynomial**2\n",
    "\n",
    "print(poly_square)"
   ]
  },
  {
   "cell_type": "markdown",
   "metadata": {},
   "source": [
    "Now evaluate the squared polynomial at x=2\n",
    "\n",
    "(i.e. $ (2x + 1)^2 \\text{ at }x=2 \\rightarrow 4*2^2 + 4*2 + 1$)"
   ]
  },
  {
   "cell_type": "code",
   "execution_count": 11,
   "metadata": {},
   "outputs": [
    {
     "data": {
      "text/plain": [
       "25"
      ]
     },
     "execution_count": 11,
     "metadata": {},
     "output_type": "execute_result"
    }
   ],
   "source": [
    "poly_square(2)"
   ]
  },
  {
   "cell_type": "markdown",
   "metadata": {},
   "source": [
    "##### A polynomial cubed"
   ]
  },
  {
   "cell_type": "code",
   "execution_count": 12,
   "metadata": {},
   "outputs": [
    {
     "name": "stdout",
     "output_type": "stream",
     "text": [
      "   3      2\n",
      "8 x + 12 x + 6 x + 1\n"
     ]
    }
   ],
   "source": [
    "print(polynomial**3)"
   ]
  },
  {
   "cell_type": "markdown",
   "metadata": {},
   "source": [
    "---\n",
    "## SciPy\n",
    "- A library that provides approaches for evaluating equations\n",
    "\n",
    "Let's start with integration\n",
    "- integrate: https://docs.scipy.org/doc/scipy/reference/tutorial/integrate.html\n",
    "    - quad: https://docs.scipy.org/doc/scipy/reference/generated/scipy.integrate.quad.html#scipy.integrate.quad"
   ]
  },
  {
   "cell_type": "code",
   "execution_count": 13,
   "metadata": {},
   "outputs": [],
   "source": [
    "import scipy\n",
    "from scipy.integrate import quad"
   ]
  },
  {
   "cell_type": "code",
   "execution_count": 14,
   "metadata": {},
   "outputs": [
    {
     "name": "stderr",
     "output_type": "stream",
     "text": [
      "IOPub data rate exceeded.\n",
      "The notebook server will temporarily stop sending output\n",
      "to the client in order to avoid crashing it.\n",
      "To change this limit, set the config variable\n",
      "`--NotebookApp.iopub_data_rate_limit`.\n",
      "\n",
      "Current values:\n",
      "NotebookApp.iopub_data_rate_limit=1000000.0 (bytes/sec)\n",
      "NotebookApp.rate_limit_window=3.0 (secs)\n",
      "\n"
     ]
    }
   ],
   "source": [
    "help(scipy)"
   ]
  },
  {
   "cell_type": "markdown",
   "metadata": {},
   "source": [
    "Let's define a simple function to calculate:\n",
    "\n",
    "$$\\int_0^1 (ax^2 + b) dx$$"
   ]
  },
  {
   "cell_type": "code",
   "execution_count": 15,
   "metadata": {},
   "outputs": [],
   "source": [
    "## Here I am going to stick with variable names that match the equation given above for consistency\n",
    "def simple_function(x=None, a=None, b=None):\n",
    "    return a*x**2 + b"
   ]
  },
  {
   "cell_type": "markdown",
   "metadata": {},
   "source": [
    "Okay, Good. Now let's integrate that function.\n",
    "\n",
    "**quad**: general purpose single integration a function containing one variable and between two points\n",
    "\n",
    "\n",
    "- The first argument to quad is a “callable” Python object (i.e. a **function**, method, or class instance). \n",
    "- The next two arguments are the **limits of integration**.\n",
    "- A third argument can be included that **passes additional arguments** (e.g. values to be evaluated at).\n",
    "\n",
    "(i.e. quad(function, lower limit, upper limit, what to pass to our simple_function)\n",
    "\n",
    "\n",
    "- The **return value** is a tuple, with the first element holding the **estimated value of the integral** and the second element holding an **upper bound on the error**."
   ]
  },
  {
   "cell_type": "code",
   "execution_count": 16,
   "metadata": {},
   "outputs": [],
   "source": [
    "a = 2\n",
    "b = 1\n",
    "result = quad(simple_function, 0, 1, args=(a,b))"
   ]
  },
  {
   "cell_type": "code",
   "execution_count": 17,
   "metadata": {},
   "outputs": [
    {
     "name": "stdout",
     "output_type": "stream",
     "text": [
      "(1.6666666666666667, 1.8503717077085944e-14)\n"
     ]
    }
   ],
   "source": [
    "print(result)"
   ]
  },
  {
   "cell_type": "markdown",
   "metadata": {},
   "source": [
    "###### Accessing value and error (plus, remembering string formatting):\n",
    "\n",
    "- f: Fixed-point notation. Displays the number as a fixed-point number. The default precision is 6.\n",
    "- e: Exponent notation. Prints the number in scientific notation using the letter ‘e’ to indicate the exponent. The default precision is 6.\n"
   ]
  },
  {
   "cell_type": "code",
   "execution_count": 18,
   "metadata": {},
   "outputs": [
    {
     "name": "stdout",
     "output_type": "stream",
     "text": [
      "Full answer: 1.666667±1.850372e-14\n"
     ]
    }
   ],
   "source": [
    "print('Full answer: {:f}±{:e}'.format(result[0], result[1]))"
   ]
  },
  {
   "cell_type": "markdown",
   "metadata": {},
   "source": [
    "---\n",
    "## A more complicated example\n",
    "\n",
    "1. Handeling infinity limits\n",
    "2. Python's built in function 'eval'\n",
    "    - https://docs.python.org/3/library/functions.html#eval\n",
    "    \n",
    "Let's first look at each piece, and then we will put it together."
   ]
  },
  {
   "cell_type": "code",
   "execution_count": 19,
   "metadata": {},
   "outputs": [
    {
     "data": {
      "text/plain": [
       "4"
      ]
     },
     "execution_count": 19,
     "metadata": {},
     "output_type": "execute_result"
    }
   ],
   "source": [
    "## eval works on single functions (note the use of quotes here)\n",
    "x = 2\n",
    "eval('x**2')"
   ]
  },
  {
   "cell_type": "code",
   "execution_count": 20,
   "metadata": {},
   "outputs": [
    {
     "data": {
      "text/plain": [
       "array([1.        , 0.25      , 0.11111111, 0.0625    , 0.04      ,\n",
       "       0.02777778, 0.02040816, 0.015625  , 0.01234568, 0.01      ])"
      ]
     },
     "execution_count": 20,
     "metadata": {},
     "output_type": "execute_result"
    }
   ],
   "source": [
    "## eval also works on np.arrays\n",
    "x = np.array([1,2,3,4,5,6,7,8,9,10])\n",
    "eval('1/x**2')"
   ]
  },
  {
   "cell_type": "markdown",
   "metadata": {},
   "source": [
    "##### Pro Tip: creating a function to create consistent plots (e.g. same look, colors, axis labels, etc.)"
   ]
  },
  {
   "cell_type": "code",
   "execution_count": 21,
   "metadata": {},
   "outputs": [],
   "source": [
    "def graph_eq(equation, x_lower, x_upper):  \n",
    "    x_range = range(x_lower, x_upper)\n",
    "    \n",
    "    x = np.array(x_range)  \n",
    "    y = eval(equation)\n",
    "    \n",
    "    plt.plot()\n",
    "    plt.plot(x, y)  \n",
    "    plt.show()"
   ]
  },
  {
   "cell_type": "markdown",
   "metadata": {},
   "source": [
    "Plot the following function:\n",
    "\n",
    "$$\\frac{1}{x^2}$$"
   ]
  },
  {
   "cell_type": "code",
   "execution_count": 22,
   "metadata": {},
   "outputs": [
    {
     "data": {
      "image/png": "[encoded data removed]",
      "text/plain": [
       "<Figure size 432x288 with 1 Axes>"
      ]
     },
     "metadata": {
      "needs_background": "light"
     },
     "output_type": "display_data"
    }
   ],
   "source": [
    "graph_eq('1/x**2', 1, 11)"
   ]
  },
  {
   "cell_type": "markdown",
   "metadata": {},
   "source": [
    "Create a callable that we can pass to quad"
   ]
  },
  {
   "cell_type": "code",
   "execution_count": 23,
   "metadata": {},
   "outputs": [],
   "source": [
    "def function(x):\n",
    "    return 1/x**2"
   ]
  },
  {
   "cell_type": "markdown",
   "metadata": {},
   "source": [
    "Improper integral\n",
    "\n",
    "$$\\int_1^{\\infty} \\frac{1}{x^2} dx$$"
   ]
  },
  {
   "cell_type": "code",
   "execution_count": 24,
   "metadata": {},
   "outputs": [],
   "source": [
    "result = quad(function, 1, np.inf)"
   ]
  },
  {
   "cell_type": "code",
   "execution_count": 25,
   "metadata": {},
   "outputs": [
    {
     "name": "stdout",
     "output_type": "stream",
     "text": [
      "(1.0, 1.1102230246251565e-14)\n"
     ]
    }
   ],
   "source": [
    "print(result)"
   ]
  },
  {
   "cell_type": "markdown",
   "metadata": {},
   "source": [
    "**Note**: if we try to do this all in one step, we get an error, which is why one must create a function for quad to call."
   ]
  },
  {
   "cell_type": "code",
   "execution_count": 26,
   "metadata": {},
   "outputs": [],
   "source": [
    "#result = quad(1/x**2, 1, np.inf)"
   ]
  },
  {
   "cell_type": "markdown",
   "metadata": {},
   "source": [
    "---\n",
    "## Interpolation\n",
    "\n",
    "- A method for generating new data using a discrete set of known data points.\n",
    "\n",
    "- https://docs.scipy.org/doc/scipy/reference/interpolate.html\n",
    "\n",
    "\n",
    "---\n",
    "#### A simple example\n",
    "\n",
    "First things to do is create a **hypothetical set of known** x- and y-data points"
   ]
  },
  {
   "cell_type": "code",
   "execution_count": 27,
   "metadata": {},
   "outputs": [
    {
     "name": "stdout",
     "output_type": "stream",
     "text": [
      "[0 1 2 3 4 5 6 7 8 9]\n"
     ]
    }
   ],
   "source": [
    "## create a range of x values, starting at zero and giving 10 values\n",
    "x_values = np.arange(0, 10)\n",
    "print(x_values)"
   ]
  },
  {
   "cell_type": "code",
   "execution_count": 28,
   "metadata": {},
   "outputs": [
    {
     "name": "stdout",
     "output_type": "stream",
     "text": [
      "[1.         0.71653131 0.51341712 0.36787944 0.26359714 0.1888756\n",
      " 0.13533528 0.09697197 0.06948345 0.04978707]\n"
     ]
    }
   ],
   "source": [
    "## create a corresponding range of y values\n",
    "y_values = np.exp(-x_values/3.0)\n",
    "print(y_values)"
   ]
  },
  {
   "cell_type": "markdown",
   "metadata": {},
   "source": [
    "Now plot to visualize what the data looks like, highlighting the third data point in the series."
   ]
  },
  {
   "cell_type": "code",
   "execution_count": 29,
   "metadata": {},
   "outputs": [
    {
     "data": {
      "image/png": "[encoded data removed]",
      "text/plain": [
       "<Figure size 432x288 with 1 Axes>"
      ]
     },
     "metadata": {
      "needs_background": "light"
     },
     "output_type": "display_data"
    }
   ],
   "source": [
    "plt.plot()\n",
    "plt.plot(x_values, y_values, 'o', markersize=15)\n",
    "plt.hlines(0.51341712, 0, 9, colors='#1f77b4', linewidth=5)\n",
    "plt.show()"
   ]
  },
  {
   "cell_type": "markdown",
   "metadata": {},
   "source": [
    "#### Create an interprelated function from the existing data points\n",
    "\n",
    "1-dimensional function\n",
    "- https://docs.scipy.org/doc/scipy/reference/generated/scipy.interpolate.interp1d.html#scipy.interpolate.interp1d"
   ]
  },
  {
   "cell_type": "code",
   "execution_count": 30,
   "metadata": {},
   "outputs": [],
   "source": [
    "from scipy.interpolate import interp1d"
   ]
  },
  {
   "cell_type": "code",
   "execution_count": 31,
   "metadata": {},
   "outputs": [
    {
     "data": {
      "text/plain": [
       "numpy.ndarray"
      ]
     },
     "execution_count": 31,
     "metadata": {},
     "output_type": "execute_result"
    }
   ],
   "source": [
    "type(x_values)"
   ]
  },
  {
   "cell_type": "code",
   "execution_count": 32,
   "metadata": {},
   "outputs": [],
   "source": [
    "## create a new function using the known data \n",
    "interp_function = interp1d(x_values, y_values)"
   ]
  },
  {
   "cell_type": "markdown",
   "metadata": {},
   "source": [
    "First let's see if we can reproduce a **known** data point\n",
    "- x = 2.0 should give a value of 0.51341712 (see above hypothetical data set)"
   ]
  },
  {
   "cell_type": "code",
   "execution_count": 33,
   "metadata": {},
   "outputs": [
    {
     "data": {
      "text/plain": [
       "array(0.51341712)"
      ]
     },
     "execution_count": 33,
     "metadata": {},
     "output_type": "execute_result"
    }
   ],
   "source": [
    "interp_function(2.0)"
   ]
  },
  {
   "cell_type": "code",
   "execution_count": 34,
   "metadata": {},
   "outputs": [
    {
     "data": {
      "image/png": "[encoded data removed]",
      "text/plain": [
       "<Figure size 432x288 with 1 Axes>"
      ]
     },
     "metadata": {
      "needs_background": "light"
     },
     "output_type": "display_data"
    }
   ],
   "source": [
    "plt.plot()\n",
    "plt.plot(x_values, y_values, 'o', markersize=15)\n",
    "plt.hlines(0.51341712, 0, 9, colors='#1f77b4', linewidth=5)\n",
    "plt.hlines(interp_function(2.0), 0, 9, colors='#ff7f0e', linestyles='dashed', linewidth=5)\n",
    "plt.show()"
   ]
  },
  {
   "cell_type": "markdown",
   "metadata": {},
   "source": [
    "We can also do this for lots of new x-values"
   ]
  },
  {
   "cell_type": "code",
   "execution_count": 35,
   "metadata": {},
   "outputs": [
    {
     "name": "stdout",
     "output_type": "stream",
     "text": [
      "[1.  1.2 1.4 1.6 1.8 2.  2.2 2.4 2.6 2.8 3.  3.2 3.4 3.6 3.8 4.  4.2 4.4\n",
      " 4.6 4.8 5.  5.2 5.4 5.6 5.8 6.  6.2 6.4 6.6 6.8 7.  7.2 7.4 7.6 7.8]\n"
     ]
    }
   ],
   "source": [
    "## Create a new range of x values from 1.0 to 8.0 in 0.2 intervals\n",
    "x_values_new = np.arange(1, 8, 0.2)\n",
    "print(x_values_new)"
   ]
  },
  {
   "cell_type": "code",
   "execution_count": 36,
   "metadata": {},
   "outputs": [],
   "source": [
    "y_values_new = interp_function(x_values_new)   # use interpolation function returned by `interp1d`"
   ]
  },
  {
   "cell_type": "code",
   "execution_count": 37,
   "metadata": {},
   "outputs": [
    {
     "name": "stdout",
     "output_type": "stream",
     "text": [
      "[0.71653131 0.67590847 0.63528563 0.5946628  0.55403996 0.51341712\n",
      " 0.48430958 0.45520205 0.42609451 0.39698698 0.36787944 0.34702298\n",
      " 0.32616652 0.30531006 0.2844536  0.26359714 0.24865283 0.23370852\n",
      " 0.21876422 0.20381991 0.1888756  0.17816754 0.16745947 0.15675141\n",
      " 0.14604335 0.13533528 0.12766262 0.11998996 0.11231729 0.10464463\n",
      " 0.09697197 0.09147426 0.08597656 0.08047886 0.07498115]\n"
     ]
    }
   ],
   "source": [
    "print(y_values_new)"
   ]
  },
  {
   "cell_type": "code",
   "execution_count": 38,
   "metadata": {},
   "outputs": [
    {
     "data": {
      "image/png": "[encoded data removed]",
      "text/plain": [
       "<Figure size 432x288 with 1 Axes>"
      ]
     },
     "metadata": {
      "needs_background": "light"
     },
     "output_type": "display_data"
    }
   ],
   "source": [
    "plt.plot()\n",
    "plt.plot(x_values, y_values, '-o', x_values_new, y_values_new, '.', markersize=15)\n",
    "plt.hlines(0.51341712, 0, 9, colors='#1f77b4', linewidth=5)\n",
    "plt.hlines(interp_function(2.0), 0, 9, colors='#ff7f0e', linestyles='dashed', linewidth=5)\n",
    "plt.show()"
   ]
  },
  {
   "cell_type": "markdown",
   "metadata": {},
   "source": [
    "We see that the interpolated **new data** points (orange) fall nicely onto the known data."
   ]
  },
  {
   "cell_type": "markdown",
   "metadata": {},
   "source": [
    "#### A more complicated (and practical) example\n",
    "\n",
    "#### Additional Information\n",
    "- numpy's linspace: \"Return evenly spaced numbers over a specified interval.\"\n",
    "    - https://numpy.org/devdocs/reference/generated/numpy.linspace.html\n",
    "    - the stepsize is created\n",
    "    - the number of steps must be given\n",
    "\n",
    "Versus\n",
    "- numpy's arrange: \"Return evenly spaced values within a given interval.\"\n",
    "    - https://numpy.org/doc/stable/reference/generated/numpy.arange.html\n",
    "    - the stepsize is specified\n",
    "    - the number of steps is created"
   ]
  },
  {
   "cell_type": "code",
   "execution_count": 39,
   "metadata": {},
   "outputs": [
    {
     "data": {
      "text/plain": [
       "array([0.        , 0.05263158, 0.10526316, 0.15789474, 0.21052632,\n",
       "       0.26315789, 0.31578947, 0.36842105, 0.42105263, 0.47368421,\n",
       "       0.52631579, 0.57894737, 0.63157895, 0.68421053, 0.73684211,\n",
       "       0.78947368, 0.84210526, 0.89473684, 0.94736842, 1.        ])"
      ]
     },
     "execution_count": 39,
     "metadata": {},
     "output_type": "execute_result"
    }
   ],
   "source": [
    "np.linspace(0, 1, 20)"
   ]
  },
  {
   "cell_type": "code",
   "execution_count": 40,
   "metadata": {},
   "outputs": [
    {
     "name": "stdout",
     "output_type": "stream",
     "text": [
      "[0.         0.11111111 0.22222222 0.33333333 0.44444444 0.55555556\n",
      " 0.66666667 0.77777778 0.88888889 1.        ]\n"
     ]
    }
   ],
   "source": [
    "x_values = np.linspace(0, 1, 10)\n",
    "print(x_values)"
   ]
  },
  {
   "cell_type": "markdown",
   "metadata": {},
   "source": [
    "##### Create some noise that will allow us to better mimic what real data looks like\n",
    "\n",
    "\"Noise\" refers to how much the real data varies from (hypothetical) ideal data. Understanding the noise in data is understanding the data's stability (e.g. reproducibility, predictable). Noise is often coming from unaccounted sources (and represent possible areas to learn from).\n",
    "\n",
    "**Side Note**: The following **np.random.seed()** statement will allow us to reproduce the random number generation (e.g. allows for reproducibility in examples). This isn't necessary here, but it is nice to know about.\n",
    "\n",
    "- np.random.random(n): https://numpy.org/doc/stable/reference/random/generated/numpy.random.random.html\n",
    "    - create n random numbers that range from 0 to 1"
   ]
  },
  {
   "cell_type": "code",
   "execution_count": 41,
   "metadata": {},
   "outputs": [
    {
     "data": {
      "text/plain": [
       "array([0.64414354, 0.38074849, 0.66304791, 0.16365073, 0.96260781,\n",
       "       0.34666184, 0.99175099, 0.2350579 , 0.58569427, 0.4066901 ])"
      ]
     },
     "execution_count": 41,
     "metadata": {},
     "output_type": "execute_result"
    }
   ],
   "source": [
    "np.random.seed(30)\n",
    "\n",
    "np.random.random(10)"
   ]
  },
  {
   "cell_type": "code",
   "execution_count": 42,
   "metadata": {},
   "outputs": [
    {
     "name": "stdout",
     "output_type": "stream",
     "text": [
      "[-0.19628804 -0.14078314 -0.14629865 -0.08238665 -0.02558478 -0.19839066\n",
      " -0.19233472 -0.00231578 -0.18893803 -0.1885771 ]\n"
     ]
    }
   ],
   "source": [
    "## create some noise\n",
    "noise = (np.random.random(10)**2 - 1) * 2e-1\n",
    "print(noise)"
   ]
  },
  {
   "cell_type": "markdown",
   "metadata": {},
   "source": [
    "Now generate some data (i.e. for the y-axis) that is coupled to the x-axis data.\n",
    "1. ideal y data, versus\n",
    "2. ideal y data with noise (we will call this **known**, suggesting that it might be **experimentally known**)"
   ]
  },
  {
   "cell_type": "code",
   "execution_count": 43,
   "metadata": {},
   "outputs": [
    {
     "data": {
      "text/plain": [
       "array([ 0.00000000e+00,  6.42787610e-01,  9.84807753e-01,  8.66025404e-01,\n",
       "        3.42020143e-01, -3.42020143e-01, -8.66025404e-01, -9.84807753e-01,\n",
       "       -6.42787610e-01, -2.44929360e-16])"
      ]
     },
     "execution_count": 43,
     "metadata": {},
     "output_type": "execute_result"
    }
   ],
   "source": [
    "## 1. ideal data\n",
    "y_values_ideal = np.sin(2 * np.pi * x_values)\n",
    "y_values_ideal"
   ]
  },
  {
   "cell_type": "code",
   "execution_count": 44,
   "metadata": {},
   "outputs": [
    {
     "data": {
      "text/plain": [
       "array([-0.19628804,  0.50200447,  0.8385091 ,  0.78363875,  0.31643536,\n",
       "       -0.5404108 , -1.05836013, -0.98712354, -0.83172564, -0.1885771 ])"
      ]
     },
     "execution_count": 44,
     "metadata": {},
     "output_type": "execute_result"
    }
   ],
   "source": [
    "## 2. ideal data with noise (i.e. simulated real data)\n",
    "y_values_sim = np.sin(2 * np.pi * x_values) + noise\n",
    "y_values_sim"
   ]
  },
  {
   "cell_type": "code",
   "execution_count": 45,
   "metadata": {},
   "outputs": [
    {
     "data": {
      "image/png": "[encoded data removed]",
      "text/plain": [
       "<Figure size 432x288 with 1 Axes>"
      ]
     },
     "metadata": {
      "needs_background": "light"
     },
     "output_type": "display_data"
    }
   ],
   "source": [
    "## Plot the \"idea\" (blue) and \"simulated real\" (orange) data\n",
    "plt.plot()\n",
    "plt.plot(x_values, y_values_ideal, '-o', color='#1f77b4', markersize=15, linewidth=5) # blue\n",
    "plt.plot(x_values, y_values_sim, '-o', color='#ff7f0e', markersize=15, linewidth=5) # orange\n",
    "plt.hlines(y_values_sim[5], 0, 1, colors='#ff7f0e', linewidth=3) # highlight the 6th point\n",
    "plt.show()"
   ]
  },
  {
   "cell_type": "markdown",
   "metadata": {},
   "source": [
    "Create a **new function** that is an **interpolation** of the existing (i.e. known) data points"
   ]
  },
  {
   "cell_type": "code",
   "execution_count": 46,
   "metadata": {},
   "outputs": [],
   "source": [
    "interp_function = interp1d(x_values, y_values_sim)"
   ]
  },
  {
   "cell_type": "markdown",
   "metadata": {},
   "source": [
    "First let's see if we can reproduce an \"known\" point\n",
    "\n",
    "- We want to reproduce the sixth data point: x_value[5]\n",
    "- interp_function(x_value[5]) should give y_value[5] of the original function"
   ]
  },
  {
   "cell_type": "code",
   "execution_count": 47,
   "metadata": {},
   "outputs": [
    {
     "data": {
      "text/plain": [
       "-0.540410803949021"
      ]
     },
     "execution_count": 47,
     "metadata": {},
     "output_type": "execute_result"
    }
   ],
   "source": [
    "## idea+noise y value at the 6th x value point\n",
    "y_values_sim[5]"
   ]
  },
  {
   "cell_type": "code",
   "execution_count": 48,
   "metadata": {},
   "outputs": [
    {
     "data": {
      "text/plain": [
       "array(-0.5404108)"
      ]
     },
     "execution_count": 48,
     "metadata": {},
     "output_type": "execute_result"
    }
   ],
   "source": [
    "## interpolated y value at the 6th x value point\n",
    "interp_function(x_values[5])"
   ]
  },
  {
   "cell_type": "code",
   "execution_count": 49,
   "metadata": {},
   "outputs": [
    {
     "data": {
      "image/png": "[encoded data removed]",
      "text/plain": [
       "<Figure size 432x288 with 1 Axes>"
      ]
     },
     "metadata": {
      "needs_background": "light"
     },
     "output_type": "display_data"
    }
   ],
   "source": [
    "plt.plot()\n",
    "## plot what we already know\n",
    "plt.plot(x_values, y_values_ideal, '-o', color='#1f77b4', markersize=15, linewidth=5) # blue\n",
    "plt.plot(x_values, y_values_sim, '-o', color='#ff7f0e', markersize=15, linewidth=5) # orange\n",
    "plt.hlines(y_values_sim[5], 0, 1, colors='#2ca02c', linewidth=5) # green\n",
    "\n",
    "## plot the interpolated curve\n",
    "plt.plot(x_values, interp_function(x_values), '--x', color='#2ca02c', markersize=10, linewidth=2)\n",
    "plt.hlines(interp_function(x_values[5]), 0, 1, colors='#2ca02c', linestyles='dashed', linewidth=4)\n",
    "\n",
    "plt.show()"
   ]
  },
  {
   "cell_type": "code",
   "execution_count": 50,
   "metadata": {},
   "outputs": [
    {
     "data": {
      "text/plain": [
       "0.0"
      ]
     },
     "execution_count": 50,
     "metadata": {},
     "output_type": "execute_result"
    }
   ],
   "source": [
    "## quantify the difference between the interpolated and true value for the highlighted point\n",
    "interp_function(x_values[5]) - y_values_sim[5]"
   ]
  },
  {
   "cell_type": "markdown",
   "metadata": {},
   "source": [
    "**Percent Relative Error** is often calculated in the natural sciences, whose formuala is the following:\n",
    "\n",
    "Percentage Relative Error = $\\frac{\\text{estimated}-\\text{actual}}{\\text{actual}}*100$"
   ]
  },
  {
   "cell_type": "code",
   "execution_count": 51,
   "metadata": {},
   "outputs": [
    {
     "data": {
      "text/plain": [
       "-0.0"
      ]
     },
     "execution_count": 51,
     "metadata": {},
     "output_type": "execute_result"
    }
   ],
   "source": [
    "## interpolated versus ideal+noise (e.g. experimental values that includes some noise)\n",
    "((interp_function(x_values[5]) - y_values_sim[5]) / y_values_sim[5])*100"
   ]
  },
  {
   "cell_type": "code",
   "execution_count": 52,
   "metadata": {},
   "outputs": [
    {
     "data": {
      "text/plain": [
       "58.005548648181936"
      ]
     },
     "execution_count": 52,
     "metadata": {},
     "output_type": "execute_result"
    }
   ],
   "source": [
    "## interpolated versus ideal (e.g. ideal from a theoretical model)\n",
    "## Plus, this shows how the addition of noise to the ideal data impacts our \"modeling building\"\n",
    "((interp_function(x_values[5]) - y_values_ideal[5]) / y_values_ideal[5])*100"
   ]
  },
  {
   "cell_type": "markdown",
   "metadata": {},
   "source": [
    "---\n",
    "## Curve Fitting and Optimization\n",
    "\n",
    "Finding a numerical solution for maximizing or minimizing a function.\n",
    "\n",
    "- optimize: https://docs.scipy.org/doc/scipy/reference/optimize.html#module-scipy.optimize\n",
    "\n",
    "- curve_fit: https://docs.scipy.org/doc/scipy/reference/tutorial/optimize.html?highlight=curve_fit\n",
    "\n",
    "\n",
    "**Example**: Raw data that follows a sine wave, but we don't know the amplitude or period that the data has\n",
    "\n",
    "    - Goal: find the amplitude and period\n",
    "    \n",
    "Recall some basic math\n",
    "\n",
    "$$y = Asin(Bx + C) + D$$\n",
    "\n",
    "Where\n",
    "\n",
    "A: amplitude\n",
    "\n",
    "2π/B: period (with respect to radians - i.e. a full rotation is 2π radians)\n",
    "\n",
    "C: phase shift\n",
    "\n",
    "D: vertical shift\n",
    "\n",
    "x: x-axis data"
   ]
  },
  {
   "cell_type": "code",
   "execution_count": 53,
   "metadata": {},
   "outputs": [],
   "source": [
    "from scipy import optimize"
   ]
  },
  {
   "cell_type": "code",
   "execution_count": 54,
   "metadata": {},
   "outputs": [
    {
     "data": {
      "text/plain": [
       "array([-5.        , -4.79591837, -4.59183673, -4.3877551 , -4.18367347,\n",
       "       -3.97959184, -3.7755102 , -3.57142857, -3.36734694, -3.16326531,\n",
       "       -2.95918367, -2.75510204, -2.55102041, -2.34693878, -2.14285714,\n",
       "       -1.93877551, -1.73469388, -1.53061224, -1.32653061, -1.12244898,\n",
       "       -0.91836735, -0.71428571, -0.51020408, -0.30612245, -0.10204082,\n",
       "        0.10204082,  0.30612245,  0.51020408,  0.71428571,  0.91836735,\n",
       "        1.12244898,  1.32653061,  1.53061224,  1.73469388,  1.93877551,\n",
       "        2.14285714,  2.34693878,  2.55102041,  2.75510204,  2.95918367,\n",
       "        3.16326531,  3.36734694,  3.57142857,  3.7755102 ,  3.97959184,\n",
       "        4.18367347,  4.3877551 ,  4.59183673,  4.79591837,  5.        ])"
      ]
     },
     "execution_count": 54,
     "metadata": {},
     "output_type": "execute_result"
    }
   ],
   "source": [
    "## Create 50 equally spaced data points\n",
    "x_values = np.linspace(-5, 5, num=50)\n",
    "x_values"
   ]
  },
  {
   "cell_type": "code",
   "execution_count": 55,
   "metadata": {},
   "outputs": [
    {
     "data": {
      "text/plain": [
       "array([0.62909983, 0.73495258, 0.68834438, 0.03113075, 0.90251384,\n",
       "       0.28643533, 0.55561256, 0.37642024, 0.02662436, 0.49414912,\n",
       "       0.83471509, 0.36698733, 0.51538211, 0.47237913, 0.38615209,\n",
       "       0.744137  , 0.33524208, 0.59543829, 0.31613338, 0.34625042,\n",
       "       0.24483181, 0.69795016, 0.21208083, 0.26729317, 0.37389408,\n",
       "       0.57308851, 0.91735808, 0.81897594, 0.16318089, 0.02415477,\n",
       "       0.78465363, 0.26485738, 0.33936706, 0.81436959, 0.80745472,\n",
       "       0.49356164, 0.84531244, 0.36518998, 0.0478309 , 0.26414579,\n",
       "       0.46386716, 0.69335506, 0.31343675, 0.46253679, 0.81968765,\n",
       "       0.68449103, 0.32403382, 0.576812  , 0.63264998, 0.59646167])"
      ]
     },
     "execution_count": 55,
     "metadata": {},
     "output_type": "execute_result"
    }
   ],
   "source": [
    "## Create some noise so that we can create more realistic data\n",
    "noise = np.random.random(50)\n",
    "noise"
   ]
  },
  {
   "cell_type": "code",
   "execution_count": 56,
   "metadata": {},
   "outputs": [
    {
     "data": {
      "text/plain": [
       "array([ 0.74184706,  1.66171708,  2.19306972,  1.73054791,  2.36376381,\n",
       "        1.13732272,  0.57940762, -0.43293788, -1.40973511, -1.20335619,\n",
       "       -0.691564  , -0.59930657,  0.35519838,  1.15910601,  1.7448732 ,\n",
       "        2.42877211,  1.9166973 ,  1.67090073,  0.61167171, -0.21341202,\n",
       "       -1.02747962, -0.96293946, -1.41434133, -0.91039509, -0.05509097,\n",
       "        1.00207356,  2.09504633,  2.44539809,  1.82407051,  1.2964662 ,\n",
       "        1.34431607, -0.03068095, -0.73609538, -0.76708563, -0.87718038,\n",
       "       -0.86515947,  0.15858556,  0.52537371,  1.0141248 ,  1.79042488,\n",
       "        2.16137247,  2.12971454,  1.12279488,  0.43874173, -0.03119974,\n",
       "       -0.77675894, -1.37538334, -0.92791333, -0.29411452,  0.48371444])"
      ]
     },
     "execution_count": 56,
     "metadata": {},
     "output_type": "execute_result"
    }
   ],
   "source": [
    "## Create our target data (i.e. simulated experimental data) that follows a sine wave by adding some noise\n",
    "## Amplitude: 1.7, period: 2π/2.5, C=D=0\n",
    "\n",
    "y_values = 1.7*np.sin(2.5 * x_values) + noise\n",
    "y_values"
   ]
  },
  {
   "cell_type": "code",
   "execution_count": 57,
   "metadata": {},
   "outputs": [
    {
     "data": {
      "image/png": "[encoded data removed]",
      "text/plain": [
       "<Figure size 432x288 with 1 Axes>"
      ]
     },
     "metadata": {
      "needs_background": "light"
     },
     "output_type": "display_data"
    }
   ],
   "source": [
    "plt.plot(x_values, y_values, '-o', markersize=15, linewidth=5)\n",
    "plt.show()"
   ]
  },
  {
   "cell_type": "markdown",
   "metadata": {},
   "source": [
    "Setup our simple test function that we can solve for the amplitude and period (i.e. a test function with two variables only: a and b).\n",
    "\n",
    "-Note: I'm not including any internal test (e.g. isinstance, assert) in order to keep the teaching aspects clear here."
   ]
  },
  {
   "cell_type": "code",
   "execution_count": 58,
   "metadata": {},
   "outputs": [],
   "source": [
    "def test_sine_func(x=None, a=None, b=None):\n",
    "    return a * np.sin(b * x)"
   ]
  },
  {
   "cell_type": "markdown",
   "metadata": {},
   "source": [
    "Use SciPy's optimize.curve_fit to find the solutions\n",
    "- https://docs.scipy.org/doc/scipy/reference/generated/scipy.optimize.curve_fit.html?highlight=curve_fit\n",
    "\n",
    "What is needed:\n",
    "1. a function\n",
    "2. x and y target data values, and\n",
    "3. and initial guesses (i.e. p0 below) - we need two for a and b\n",
    "\n",
    "What is returned:\n",
    "1. **solution values**\n",
    "2. covariance: estimate of how much 2 variables vary (i.e. change) together (e.g. smoking and lifespan), or\n",
    "    - in other words, how correlated they are to one another (i.e. the off diagonal of the resulting matrix, which includes the concept of positive or negative correlation)\n",
    "    - the square of the diagonals of the covariance matrix gives the standard deviation for each of the solution values"
   ]
  },
  {
   "cell_type": "code",
   "execution_count": 59,
   "metadata": {},
   "outputs": [],
   "source": [
    "## use p0=[2.0, 2.0] as the initial guess\n",
    "solution, solution_covariance = optimize.curve_fit(test_sine_func, x_values, y_values, p0=[2.0, 2.0])"
   ]
  },
  {
   "cell_type": "code",
   "execution_count": 60,
   "metadata": {},
   "outputs": [
    {
     "data": {
      "text/plain": [
       "array([1.67894587, 2.49000902])"
      ]
     },
     "execution_count": 60,
     "metadata": {},
     "output_type": "execute_result"
    }
   ],
   "source": [
    "## The ideal values are: amplitude (a) = 1.7, period (b) = 2.5 with C=D=0\n",
    "##   But remember, we added noise, so our solution will be close to these values\n",
    "solution"
   ]
  },
  {
   "cell_type": "code",
   "execution_count": 61,
   "metadata": {},
   "outputs": [
    {
     "data": {
      "text/plain": [
       "array([[0.01264216, 0.00016643],\n",
       "       [0.00016643, 0.00049069]])"
      ]
     },
     "execution_count": 61,
     "metadata": {},
     "output_type": "execute_result"
    }
   ],
   "source": [
    "solution_covariance"
   ]
  },
  {
   "cell_type": "code",
   "execution_count": 62,
   "metadata": {},
   "outputs": [
    {
     "data": {
      "text/plain": [
       "array([0.11243734, 0.02215159])"
      ]
     },
     "execution_count": 62,
     "metadata": {},
     "output_type": "execute_result"
    }
   ],
   "source": [
    "std_dev = np.sqrt(np.diag(solution_covariance))\n",
    "std_dev"
   ]
  },
  {
   "cell_type": "code",
   "execution_count": 63,
   "metadata": {},
   "outputs": [
    {
     "data": {
      "image/png": "[encoded data removed]",
      "text/plain": [
       "<Figure size 432x288 with 1 Axes>"
      ]
     },
     "metadata": {
      "needs_background": "light"
     },
     "output_type": "display_data"
    }
   ],
   "source": [
    "plt.plot()\n",
    "\n",
    "plt.plot(x_values, y_values, '-o', markersize=15, linewidth=5) # blue; simulated experimental date\n",
    "plt.plot(x_values, test_sine_func(x_values, solution[0], solution[1]),\n",
    "         '--o', markersize=15, linewidth=5) # orange; curve fit\n",
    "\n",
    "plt.show()"
   ]
  },
  {
   "cell_type": "markdown",
   "metadata": {},
   "source": [
    "Note: The **solution** will **depend** on the **intial guess**. There are several possible \"local\" solutions that can can be found.\n",
    "\n",
    "We **artifically knew** the solution before hand, to be near **a=1.7 and b=2.5**...so p0=[2.0, 2.0] was a good starting point.\n",
    "\n",
    "Exploration is needed when we don't know the approximate (or exact) solution before. Visualization of the results helps you interpret them (i.e. build your understanding of what the results are).\n",
    "\n",
    "Demonstrate and plot the results using:\n",
    "- p0=[1.0, 1.0] --> should give a different result\n",
    "- p0=[3.0, 3.0] --> should give you the \"correct\" solution\n",
    "- p0=[5.0, 5.0] --> should give a different result"
   ]
  },
  {
   "cell_type": "markdown",
   "metadata": {},
   "source": [
    "---\n",
    "## Optimization\n",
    "- https://docs.scipy.org/doc/scipy/reference/generated/scipy.optimize.minimize.html#scipy.optimize.minimize\n",
    "\n",
    "##### scipy.optimize.minimize() and its output **type**\n",
    "\n",
    "**Input**\n",
    "func: a function that will be minimized\n",
    "x0: an initial guess\n",
    "\n",
    "\n",
    "**Output**\n",
    "The output is a compound object containing lot of information regarding the convergence (see example below for what it looks like).\n",
    "\n",
    "\n",
    "##### Solvers\n",
    "- Nelder-Mead\n",
    "- Powell\n",
    "- CG\n",
    "- BFGS\n",
    "- Newton-CG\n",
    "- L-BFGS-B\n",
    "- TNC\n",
    "- COBYLA\n",
    "- SLSQP\n",
    "- trust-constr\n",
    "- dogleg\n",
    "- trust-ncg\n",
    "- trust-exact\n",
    "- trust-krylov\n",
    "\n",
    "\n",
    "- **Default solver**: quasi-Newton method of Broyden, Fletcher, Goldfarb, and Shanno (**BFGS**)\n",
    "    - https://docs.scipy.org/doc/scipy/reference/tutorial/optimize.html#broyden-fletcher-goldfarb-shanno-algorithm-method-bfgs\n",
    "- More background on minimization: http://scipy-lectures.org/advanced/mathematical_optimization\n",
    "\n",
    "---\n",
    "**Example**: Find the minimum of a 1D function (i.e. a scalar function; a function that return a single value from input values)"
   ]
  },
  {
   "cell_type": "code",
   "execution_count": 64,
   "metadata": {},
   "outputs": [],
   "source": [
    "def scalar_func(x=None):\n",
    "    return x**2 + 25*np.sin(x)"
   ]
  },
  {
   "cell_type": "markdown",
   "metadata": {},
   "source": [
    "$$ x^2 + 25sin(x) $$"
   ]
  },
  {
   "cell_type": "code",
   "execution_count": 65,
   "metadata": {},
   "outputs": [],
   "source": [
    "x_values = np.arange(-10, 10, 0.1)\n",
    "\n",
    "y_values = scalar_func(x_values)"
   ]
  },
  {
   "cell_type": "code",
   "execution_count": 66,
   "metadata": {},
   "outputs": [
    {
     "data": {
      "image/png": "[encoded data removed]",
      "text/plain": [
       "<Figure size 432x288 with 1 Axes>"
      ]
     },
     "metadata": {
      "needs_background": "light"
     },
     "output_type": "display_data"
    }
   ],
   "source": [
    "## View what the x- and y- data look like\n",
    "\n",
    "plt.plot()\n",
    "plt.plot(x_values, y_values, 'o')\n",
    "plt.show()"
   ]
  },
  {
   "cell_type": "markdown",
   "metadata": {},
   "source": [
    "Notice the three minima that are present (i.e. one global, and two local)\n",
    "\n",
    "\n",
    "Let's start with an inital guess near the global minimum (i.e x0=0.0)."
   ]
  },
  {
   "cell_type": "code",
   "execution_count": 67,
   "metadata": {},
   "outputs": [],
   "source": [
    "result_global = optimize.minimize(scalar_func, x0=0.0, method=\"BFGS\")"
   ]
  },
  {
   "cell_type": "code",
   "execution_count": 68,
   "metadata": {},
   "outputs": [
    {
     "data": {
      "text/plain": [
       "      fun: -22.71556099678873\n",
       " hess_inv: array([[0.0372705]])\n",
       "      jac: array([2.38418579e-07])\n",
       "  message: 'Optimization terminated successfully.'\n",
       "     nfev: 21\n",
       "      nit: 5\n",
       "     njev: 7\n",
       "   status: 0\n",
       "  success: True\n",
       "        x: array([-1.45419657])"
      ]
     },
     "execution_count": 68,
     "metadata": {},
     "output_type": "execute_result"
    }
   ],
   "source": [
    "result_global"
   ]
  },
  {
   "cell_type": "code",
   "execution_count": 69,
   "metadata": {},
   "outputs": [
    {
     "data": {
      "text/plain": [
       "array([-1.45419657])"
      ]
     },
     "execution_count": 69,
     "metadata": {},
     "output_type": "execute_result"
    }
   ],
   "source": [
    "result_global.x"
   ]
  },
  {
   "cell_type": "markdown",
   "metadata": {},
   "source": [
    "Now let's set an initial guess closer to one of the local minimum (i.e. x0=3.0)"
   ]
  },
  {
   "cell_type": "code",
   "execution_count": 70,
   "metadata": {},
   "outputs": [],
   "source": [
    "result_local = optimize.minimize(scalar_func, x0=3.0, method=\"BFGS\")"
   ]
  },
  {
   "cell_type": "code",
   "execution_count": 71,
   "metadata": {},
   "outputs": [
    {
     "data": {
      "text/plain": [
       "      fun: -4.454335797238624\n",
       " hess_inv: array([[0.03931567]])\n",
       "      jac: array([2.38418579e-07])\n",
       "  message: 'Optimization terminated successfully.'\n",
       "     nfev: 21\n",
       "      nit: 5\n",
       "     njev: 7\n",
       "   status: 0\n",
       "  success: True\n",
       "        x: array([4.35640541])"
      ]
     },
     "execution_count": 71,
     "metadata": {},
     "output_type": "execute_result"
    }
   ],
   "source": [
    "result_local"
   ]
  },
  {
   "cell_type": "markdown",
   "metadata": {},
   "source": [
    "#### Overcoming the dependency on the initial guess\n",
    "- fminbound: a minimization within boundaries\n",
    "- brute: minimize a function over a given range through lots of sampling\n",
    "- differential_evolution: global minimum a multivariate function\n",
    "- shgo: global minimum using SHG optimization\n",
    "- dual_annealing: global minimum using dual annealing\n",
    "\n",
    "**fminbound** https://docs.scipy.org/doc/scipy/reference/generated/scipy.optimize.fminbound.html"
   ]
  },
  {
   "cell_type": "code",
   "execution_count": 72,
   "metadata": {},
   "outputs": [
    {
     "data": {
      "text/plain": [
       "-1.4541952455722909"
      ]
     },
     "execution_count": 72,
     "metadata": {},
     "output_type": "execute_result"
    }
   ],
   "source": [
    "optimize.fminbound(scalar_func, -10, 10)"
   ]
  },
  {
   "cell_type": "markdown",
   "metadata": {},
   "source": [
    "**brute force** https://docs.scipy.org/doc/scipy/reference/generated/scipy.optimize.brute.html#scipy.optimize.brute"
   ]
  },
  {
   "cell_type": "code",
   "execution_count": 73,
   "metadata": {},
   "outputs": [
    {
     "data": {
      "text/plain": [
       "array([-1.45420436])"
      ]
     },
     "execution_count": 73,
     "metadata": {},
     "output_type": "execute_result"
    }
   ],
   "source": [
    "optimize.brute(scalar_func, ((-10,10),))"
   ]
  },
  {
   "cell_type": "markdown",
   "metadata": {},
   "source": [
    "**basin hopping** https://docs.scipy.org/doc/scipy/reference/generated/scipy.optimize.basinhopping.html\n",
    "- combines global stepping with local minimization\n",
    "- rugged, funnel-like surfaces (e.g. molecular potential energy surfaces)\n",
    "- requires: a function and an initial guess (so not a \"perfect\" method)\n",
    "    \n",
    "- sensitive to stepsize\n",
    "    - stepsize=0.5 (i.e. default value) results in a local minmium\n",
    "    - stepsize=2.5 finds the global mimimum"
   ]
  },
  {
   "cell_type": "code",
   "execution_count": 74,
   "metadata": {},
   "outputs": [
    {
     "data": {
      "text/plain": [
       "                        fun: -4.454335797238624\n",
       " lowest_optimization_result:       fun: -4.454335797238624\n",
       " hess_inv: array([[0.03931567]])\n",
       "      jac: array([2.38418579e-07])\n",
       "  message: 'Optimization terminated successfully.'\n",
       "     nfev: 21\n",
       "      nit: 5\n",
       "     njev: 7\n",
       "   status: 0\n",
       "  success: True\n",
       "        x: array([4.35640541])\n",
       "                    message: ['requested number of basinhopping iterations completed successfully']\n",
       "      minimization_failures: 0\n",
       "                       nfev: 1650\n",
       "                        nit: 100\n",
       "                       njev: 550\n",
       "                          x: array([4.35640541])"
      ]
     },
     "execution_count": 74,
     "metadata": {},
     "output_type": "execute_result"
    }
   ],
   "source": [
    "## recall that x0=3.0 gives local minimum using optimize.minimize\n",
    "optimize.basinhopping(scalar_func, x0=3.0, stepsize=0.5)"
   ]
  },
  {
   "cell_type": "markdown",
   "metadata": {},
   "source": [
    "## Finding the **Roots**\n",
    "\n",
    "- Roots: points where f(x) = 0\n",
    "    - For example, the values of x that satisfies the equation $ x^2 + 25sin(x) = 0 $\n",
    "- Finding the roots of a function provides you a solution to that function, which can be useful depending on the problem at hand."
   ]
  },
  {
   "cell_type": "code",
   "execution_count": 75,
   "metadata": {},
   "outputs": [
    {
     "data": {
      "image/png": "[encoded data removed]",
      "text/plain": [
       "<Figure size 432x288 with 1 Axes>"
      ]
     },
     "metadata": {
      "needs_background": "light"
     },
     "output_type": "display_data"
    }
   ],
   "source": [
    "plt.plot()\n",
    "plt.plot(x_values, scalar_func(x_values), '-o')\n",
    "plt.hlines(0, -10, 10, colors='red')\n",
    "plt.show()"
   ]
  },
  {
   "cell_type": "markdown",
   "metadata": {},
   "source": [
    "### There should be four roots (ca. -3.0, 0.0, 4.0 and 5.0)"
   ]
  },
  {
   "cell_type": "code",
   "execution_count": 76,
   "metadata": {},
   "outputs": [
    {
     "data": {
      "text/plain": [
       "    fjac: array([[-1.]])\n",
       "     fun: array([-4.4408921e-15])\n",
       " message: 'The solution converged.'\n",
       "    nfev: 8\n",
       "     qtf: array([4.60387817e-09])\n",
       "       r: array([29.34126755])\n",
       "  status: 1\n",
       " success: True\n",
       "       x: array([-2.81828105])"
      ]
     },
     "execution_count": 76,
     "metadata": {},
     "output_type": "execute_result"
    }
   ],
   "source": [
    "root1 = optimize.root(scalar_func, x0=-4)\n",
    "root1"
   ]
  },
  {
   "cell_type": "code",
   "execution_count": 77,
   "metadata": {},
   "outputs": [
    {
     "data": {
      "text/plain": [
       "    fjac: array([[-1.]])\n",
       "     fun: array([0.])\n",
       " message: 'The solution converged.'\n",
       "    nfev: 10\n",
       "     qtf: array([6.76097707e-29])\n",
       "       r: array([-25.])\n",
       "  status: 1\n",
       " success: True\n",
       "       x: array([0.])"
      ]
     },
     "execution_count": 77,
     "metadata": {},
     "output_type": "execute_result"
    }
   ],
   "source": [
    "root2 = optimize.root(scalar_func, x0=1)\n",
    "root2"
   ]
  },
  {
   "cell_type": "code",
   "execution_count": 78,
   "metadata": {},
   "outputs": [
    {
     "data": {
      "text/plain": [
       "    fjac: array([[-1.]])\n",
       "     fun: array([-2.04281037e-13])\n",
       " message: 'The solution converged.'\n",
       "    nfev: 8\n",
       "     qtf: array([4.54493936e-08])\n",
       "       r: array([13.29152894])\n",
       "  status: 1\n",
       " success: True\n",
       "       x: array([3.7327774])"
      ]
     },
     "execution_count": 78,
     "metadata": {},
     "output_type": "execute_result"
    }
   ],
   "source": [
    "root3 = optimize.root(scalar_func, x0=4)\n",
    "root3"
   ]
  },
  {
   "cell_type": "code",
   "execution_count": 79,
   "metadata": {},
   "outputs": [
    {
     "data": {
      "text/plain": [
       "    fjac: array([[-1.]])\n",
       "     fun: array([0.])\n",
       " message: 'The solution converged.'\n",
       "    nfev: 9\n",
       "     qtf: array([-6.99635905e-11])\n",
       "       r: array([-15.43885235])\n",
       "  status: 1\n",
       " success: True\n",
       "       x: array([4.9368738])"
      ]
     },
     "execution_count": 79,
     "metadata": {},
     "output_type": "execute_result"
    }
   ],
   "source": [
    "root4 = optimize.root(scalar_func, x0=7)\n",
    "root4"
   ]
  },
  {
   "cell_type": "code",
   "execution_count": 80,
   "metadata": {},
   "outputs": [
    {
     "data": {
      "text/plain": [
       "array([4.9368738])"
      ]
     },
     "execution_count": 80,
     "metadata": {},
     "output_type": "execute_result"
    }
   ],
   "source": [
    "root4.x"
   ]
  },
  {
   "cell_type": "code",
   "execution_count": 81,
   "metadata": {},
   "outputs": [
    {
     "data": {
      "text/plain": [
       "0.0"
      ]
     },
     "execution_count": 81,
     "metadata": {},
     "output_type": "execute_result"
    }
   ],
   "source": [
    "x=root4.x[0]\n",
    "x**2 + 25*np.sin(x)"
   ]
  },
  {
   "cell_type": "code",
   "execution_count": null,
   "metadata": {},
   "outputs": [],
   "source": []
  }
 ],
 "metadata": {
  "kernelspec": {
   "display_name": "Python 3",
   "language": "python",
   "name": "python3"
  },
  "language_info": {
   "codemirror_mode": {
    "name": "ipython",
    "version": 3
   },
   "file_extension": ".py",
   "mimetype": "text/x-python",
   "name": "python",
   "nbconvert_exporter": "python",
   "pygments_lexer": "ipython3",
   "version": "3.8.1"
  }
 },
 "nbformat": 4,
 "nbformat_minor": 2
}
