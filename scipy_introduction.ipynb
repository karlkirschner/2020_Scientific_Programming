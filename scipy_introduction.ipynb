{
 "cells": [
  {
   "cell_type": "markdown",
   "metadata": {},
   "source": [
    "# SciPy\n",
    "\n",
    "Heavily depends on the following libraries:\n",
    "1. matplotlib\n",
    "2. numpy\n",
    "\n",
    "\n",
    "\"SciPy is organized into subpackages covering different scientific computing domains.\"\n",
    "\n",
    "**Subpackages**\n",
    "1. cluster: Clustering algorithms\n",
    "2. constants: Physical and mathematical constants\n",
    "3. fftpack: Fast Fourier Transform routines\n",
    "4. integrate: Integration and ordinary differential equation solvers\n",
    "5. interpolate: Interpolation and smoothing splines\n",
    "6. io: Input and Output\n",
    "7. linalg: Linear algebra\n",
    "8. ndimage: N-dimensional image processing\n",
    "9. odr: Orthogonal distance regression\n",
    "10. optimize: Optimization and root-finding routines\n",
    "11. signal: Signal processing\n",
    "12. sparse: Sparse matrices and associated routines\n",
    "13. spatial: Spatial data structures and algorithms\n",
    "14. special: Special functions\n",
    "15. stats: Statistical distributions and functions\n",
    "\n",
    "Sources:\n",
    "\n",
    "https://docs.scipy.org/doc/scipy/reference/\n",
    "\n",
    "https://docs.scipy.org/doc/\n",
    "\n",
    "https://docs.scipy.org/doc/scipy/reference/tutorial/general.html\n",
    "\n",
    "https://scipy-lectures.org/intro/scipy.html"
   ]
  },
  {
   "cell_type": "markdown",
   "metadata": {},
   "source": [
    "---\n",
    "## Importance of polynomials in science\n",
    "\n",
    "They are prevalent in all fields - ranging from physics to economics. In the real world we can almost never evaluate functions exactly (e.g. too complicated), instead we evaluate functions using approximations formed out of polynomials (e.g. Taylor series expansions).\n",
    "\n",
    "**Examples**:\n",
    "- chemistry: modeling potential energy surfaces\n",
    "- astronomy: object (stars, planets, astroids) trajectories, velocities, interactions \n",
    "- economics: forcast trends\n",
    "- meteorology: model weather patterns\n",
    "- engineering: rollar coaster design\n",
    "- virology: prediction contagons\n",
    "- statistics: regressions and interpolation"
   ]
  },
  {
   "cell_type": "markdown",
   "metadata": {},
   "source": [
    "## Example of simple polynomials in Numpy\n",
    "\n",
    "#### A one-dimensional polynomial\n",
    "\n",
    "https://numpy.org/doc/stable/reference/generated/numpy.poly1d.html\n",
    "\n",
    "Let's start small with some background numpy and polynomial concepts, and slowly build up.\n",
    "\n",
    "- Create a one dimensional polynomials using a function\n",
    "    - using different coefficient(s)\n",
    "    - evaluate the resulting function using a variable (i.e. x) value of 2."
   ]
  },
  {
   "cell_type": "code",
   "execution_count": null,
   "metadata": {},
   "outputs": [],
   "source": [
    "import matplotlib.pyplot as plt\n",
    "import numpy as np"
   ]
  },
  {
   "cell_type": "code",
   "execution_count": null,
   "metadata": {},
   "outputs": [],
   "source": [
    "def my_poly1d(coeff=None):\n",
    "    ## create: np.poly1d(polynomial)\n",
    "    ## evaluate: polynomial(2)\n",
    "    \n",
    "    polynomial = np.poly1d(coeff)\n",
    "    print('Polynomial: \\n{0}'.format(polynomial))\n",
    "    print('Evaluate when x=2: {0}'.format(polynomial(2)))"
   ]
  },
  {
   "cell_type": "markdown",
   "metadata": {},
   "source": [
    "#### One coefficient: [M] --> $M$"
   ]
  },
  {
   "cell_type": "code",
   "execution_count": null,
   "metadata": {},
   "outputs": [],
   "source": [
    "coefficients = [2]\n",
    "my_poly1d(coefficients)"
   ]
  },
  {
   "cell_type": "markdown",
   "metadata": {},
   "source": [
    "#### Two coefficients: [M, N] --> $Mx + N$\n",
    "- Note how the M shifts to the x"
   ]
  },
  {
   "cell_type": "code",
   "execution_count": null,
   "metadata": {},
   "outputs": [],
   "source": [
    "coefficients = [1, 2]\n",
    "my_poly1d(coefficients)"
   ]
  },
  {
   "cell_type": "markdown",
   "metadata": {},
   "source": [
    "#### Including a negative coefficients: [1, -1]"
   ]
  },
  {
   "cell_type": "code",
   "execution_count": null,
   "metadata": {},
   "outputs": [],
   "source": [
    "coefficients = [1, -1]\n",
    "my_poly1d(coefficients)"
   ]
  },
  {
   "cell_type": "markdown",
   "metadata": {},
   "source": [
    "#### Three coefficients: [M, N, O] --> $Mx^2 + Nx + O$"
   ]
  },
  {
   "cell_type": "code",
   "execution_count": null,
   "metadata": {},
   "outputs": [],
   "source": [
    "# coefficients = [x^2, x, constant]\n",
    "coefficients = [-4, 1, -2]\n",
    "my_poly1d(coefficients)"
   ]
  },
  {
   "cell_type": "markdown",
   "metadata": {},
   "source": [
    "#### Four coefficients: [M, N, O, P] --> $Mx^3 + Nx^2 + Ox + P$"
   ]
  },
  {
   "cell_type": "code",
   "execution_count": null,
   "metadata": {},
   "outputs": [],
   "source": [
    "coefficients = [5, -4, 1, -1]\n",
    "my_poly1d(coefficients)"
   ]
  },
  {
   "cell_type": "markdown",
   "metadata": {},
   "source": [
    "#### Access the Polynomial's Coefficients"
   ]
  },
  {
   "cell_type": "code",
   "execution_count": null,
   "metadata": {},
   "outputs": [],
   "source": [
    "polynomial = np.poly1d(coefficients)\n",
    "\n",
    "polynomial.c"
   ]
  },
  {
   "cell_type": "markdown",
   "metadata": {},
   "source": [
    "#### Access the Polynomial's Order"
   ]
  },
  {
   "cell_type": "code",
   "execution_count": null,
   "metadata": {},
   "outputs": [],
   "source": [
    "polynomial.order"
   ]
  },
  {
   "cell_type": "markdown",
   "metadata": {},
   "source": [
    "#### Math with polynomials\n",
    "\n",
    "##### Square of a polynomial\n",
    "\n",
    "The square of a polynomial\n",
    "$(a + b)^2 = (a + b)(a + b) = a^2 +2ab + b^2$\n",
    "\n",
    "Exmaple:\n",
    "\n",
    "np.poly1d([2, 1]) $\\rightarrow 2x + 1$\n",
    "\n",
    "$(2x + 1)(2x + 1) = 4x^2 + 4x + 1$"
   ]
  },
  {
   "cell_type": "code",
   "execution_count": null,
   "metadata": {},
   "outputs": [],
   "source": [
    "## Reminder of what it normally looks like:\n",
    "coefficients = [2, 1]\n",
    "polynomial = np.poly1d(coefficients)\n",
    "\n",
    "poly_square = polynomial**2\n",
    "\n",
    "print(poly_square)"
   ]
  },
  {
   "cell_type": "markdown",
   "metadata": {},
   "source": [
    "Now evaluate the squared polynomial at x=2\n",
    "\n",
    "(i.e. $ (2x + 1)^2 \\text{ at }x=2 \\rightarrow 4*2^2 + 4*2 + 1$)"
   ]
  },
  {
   "cell_type": "code",
   "execution_count": null,
   "metadata": {},
   "outputs": [],
   "source": [
    "poly_square(2)"
   ]
  },
  {
   "cell_type": "markdown",
   "metadata": {},
   "source": [
    "##### A polynomial cubed"
   ]
  },
  {
   "cell_type": "code",
   "execution_count": null,
   "metadata": {},
   "outputs": [],
   "source": [
    "print(polynomial**3)"
   ]
  },
  {
   "cell_type": "markdown",
   "metadata": {},
   "source": [
    "---\n",
    "## SciPy\n",
    "- A library that provides approaches for evaluating equations\n",
    "\n",
    "Let's start with integration\n",
    "- integrate: https://docs.scipy.org/doc/scipy/reference/tutorial/integrate.html\n",
    "    - quad: https://docs.scipy.org/doc/scipy/reference/generated/scipy.integrate.quad.html#scipy.integrate.quad"
   ]
  },
  {
   "cell_type": "code",
   "execution_count": null,
   "metadata": {},
   "outputs": [],
   "source": [
    "import scipy\n",
    "from scipy.integrate import quad"
   ]
  },
  {
   "cell_type": "code",
   "execution_count": null,
   "metadata": {},
   "outputs": [],
   "source": [
    "help(scipy)"
   ]
  },
  {
   "cell_type": "markdown",
   "metadata": {},
   "source": [
    "Let's define a simple function to calculate:\n",
    "\n",
    "$$\\int_0^1 (ax^2 + b) dx$$"
   ]
  },
  {
   "cell_type": "code",
   "execution_count": null,
   "metadata": {},
   "outputs": [],
   "source": [
    "## Here I am going to stick with variable names that match the equation given above for consistency\n",
    "def simple_function(x=None, a=None, b=None):\n",
    "    return a*x**2 + b"
   ]
  },
  {
   "cell_type": "markdown",
   "metadata": {},
   "source": [
    "Okay, Good. Now let's integrate that function.\n",
    "\n",
    "**quad**: general purpose single integration a function containing one variable and between two points\n",
    "\n",
    "\n",
    "- The first argument to quad is a “callable” Python object (i.e. a **function**, method, or class instance). \n",
    "- The next two arguments are the **limits of integration**.\n",
    "- A third argument can be included that **passes additional arguments** (e.g. values to be evaluated at).\n",
    "\n",
    "(i.e. quad(function, lower limit, upper limit, what to pass to our simple_function)\n",
    "\n",
    "\n",
    "- The **return value** is a tuple, with the first element holding the **estimated value of the integral** and the second element holding an **upper bound on the error**."
   ]
  },
  {
   "cell_type": "code",
   "execution_count": null,
   "metadata": {},
   "outputs": [],
   "source": [
    "a = 2\n",
    "b = 1\n",
    "result = quad(simple_function, 0, 1, args=(a,b))"
   ]
  },
  {
   "cell_type": "code",
   "execution_count": null,
   "metadata": {},
   "outputs": [],
   "source": [
    "print(result)"
   ]
  },
  {
   "cell_type": "markdown",
   "metadata": {},
   "source": [
    "###### Accessing value and error (plus, remembering string formatting):\n",
    "\n",
    "- f: Fixed-point notation. Displays the number as a fixed-point number. The default precision is 6.\n",
    "- e: Exponent notation. Prints the number in scientific notation using the letter ‘e’ to indicate the exponent. The default precision is 6.\n"
   ]
  },
  {
   "cell_type": "code",
   "execution_count": null,
   "metadata": {},
   "outputs": [],
   "source": [
    "print('Full answer: {:f}±{:e}'.format(result[0], result[1]))"
   ]
  },
  {
   "cell_type": "markdown",
   "metadata": {},
   "source": [
    "---\n",
    "## A more complicated example\n",
    "\n",
    "1. Handeling infinity limits\n",
    "2. Python's built in function 'eval'\n",
    "    - https://docs.python.org/3/library/functions.html#eval\n",
    "    \n",
    "Let's first look at each piece, and then we will put it together."
   ]
  },
  {
   "cell_type": "code",
   "execution_count": null,
   "metadata": {},
   "outputs": [],
   "source": [
    "## eval works on single functions (note the use of quotes here)\n",
    "x = 2\n",
    "eval('x**2')"
   ]
  },
  {
   "cell_type": "code",
   "execution_count": null,
   "metadata": {},
   "outputs": [],
   "source": [
    "## eval also works on np.arrays\n",
    "x = np.array([1,2,3,4,5,6,7,8,9,10])\n",
    "eval('1/x**2')"
   ]
  },
  {
   "cell_type": "markdown",
   "metadata": {},
   "source": [
    "##### Pro Tip: creating a function to create consistent plots (e.g. same look, colors, axis labels, etc.)"
   ]
  },
  {
   "cell_type": "code",
   "execution_count": null,
   "metadata": {},
   "outputs": [],
   "source": [
    "def graph_eq(equation, x_lower, x_upper):  \n",
    "    x_range = range(x_lower, x_upper)\n",
    "    \n",
    "    x = np.array(x_range)  \n",
    "    y = eval(equation)\n",
    "    \n",
    "    plt.plot()\n",
    "    plt.plot(x, y)  \n",
    "    plt.show()"
   ]
  },
  {
   "cell_type": "markdown",
   "metadata": {},
   "source": [
    "Plot the following function:\n",
    "\n",
    "$$\\frac{1}{x^2}$$"
   ]
  },
  {
   "cell_type": "code",
   "execution_count": null,
   "metadata": {},
   "outputs": [],
   "source": [
    "graph_eq('1/x**2', 1, 11)"
   ]
  },
  {
   "cell_type": "markdown",
   "metadata": {},
   "source": [
    "Create a callable that we can pass to quad"
   ]
  },
  {
   "cell_type": "code",
   "execution_count": null,
   "metadata": {},
   "outputs": [],
   "source": [
    "def function(x):\n",
    "    return 1/x**2"
   ]
  },
  {
   "cell_type": "markdown",
   "metadata": {},
   "source": [
    "Improper integral\n",
    "\n",
    "$$\\int_1^{\\infty} \\frac{1}{x^2} dx$$"
   ]
  },
  {
   "cell_type": "code",
   "execution_count": null,
   "metadata": {},
   "outputs": [],
   "source": [
    "result = quad(function, 1, np.inf)"
   ]
  },
  {
   "cell_type": "code",
   "execution_count": null,
   "metadata": {},
   "outputs": [],
   "source": [
    "print(result)"
   ]
  },
  {
   "cell_type": "markdown",
   "metadata": {},
   "source": [
    "**Note**: if we try to do this all in one step, we get an error, which is why one must create a function for quad to call."
   ]
  },
  {
   "cell_type": "code",
   "execution_count": null,
   "metadata": {},
   "outputs": [],
   "source": [
    "#result = quad(1/x**2, 1, np.inf)"
   ]
  },
  {
   "cell_type": "markdown",
   "metadata": {},
   "source": [
    "---\n",
    "## Interpolation\n",
    "\n",
    "- A method for generating new data using a discrete set of known data points.\n",
    "\n",
    "- https://docs.scipy.org/doc/scipy/reference/interpolate.html\n",
    "\n",
    "\n",
    "---\n",
    "#### A simple example\n",
    "\n",
    "First things to do is create a **hypothetical set of known** x- and y-data points"
   ]
  },
  {
   "cell_type": "code",
   "execution_count": null,
   "metadata": {},
   "outputs": [],
   "source": [
    "## create a range of x values, starting at zero and giving 10 values\n",
    "x_values = np.arange(0, 10)\n",
    "print(x_values)"
   ]
  },
  {
   "cell_type": "code",
   "execution_count": null,
   "metadata": {},
   "outputs": [],
   "source": [
    "## create a corresponding range of y values\n",
    "y_values = np.exp(-x_values/3.0)\n",
    "print(y_values)"
   ]
  },
  {
   "cell_type": "markdown",
   "metadata": {},
   "source": [
    "Now plot to visualize what the data looks like, highlighting the third data point in the series."
   ]
  },
  {
   "cell_type": "code",
   "execution_count": null,
   "metadata": {},
   "outputs": [],
   "source": [
    "plt.plot()\n",
    "plt.plot(x_values, y_values, 'o', markersize=15)\n",
    "plt.hlines(0.51341712, 0, 9, colors='#1f77b4', linewidth=5)\n",
    "plt.show()"
   ]
  },
  {
   "cell_type": "markdown",
   "metadata": {},
   "source": [
    "#### Create an interprelated function from the existing data points\n",
    "\n",
    "1-dimensional function\n",
    "- https://docs.scipy.org/doc/scipy/reference/generated/scipy.interpolate.interp1d.html#scipy.interpolate.interp1d"
   ]
  },
  {
   "cell_type": "code",
   "execution_count": null,
   "metadata": {},
   "outputs": [],
   "source": [
    "from scipy.interpolate import interp1d"
   ]
  },
  {
   "cell_type": "code",
   "execution_count": null,
   "metadata": {},
   "outputs": [],
   "source": [
    "type(x_values)"
   ]
  },
  {
   "cell_type": "code",
   "execution_count": null,
   "metadata": {},
   "outputs": [],
   "source": [
    "## create a new function using the known data \n",
    "interp_function = interp1d(x_values, y_values)"
   ]
  },
  {
   "cell_type": "markdown",
   "metadata": {},
   "source": [
    "First let's see if we can reproduce a **known** data point\n",
    "- x = 2.0 should give a value of 0.51341712 (see above hypothetical data set)"
   ]
  },
  {
   "cell_type": "code",
   "execution_count": null,
   "metadata": {},
   "outputs": [],
   "source": [
    "interp_function(2.0)"
   ]
  },
  {
   "cell_type": "code",
   "execution_count": null,
   "metadata": {},
   "outputs": [],
   "source": [
    "plt.plot()\n",
    "plt.plot(x_values, y_values, 'o', markersize=15)\n",
    "plt.hlines(0.51341712, 0, 9, colors='#1f77b4', linewidth=5)\n",
    "plt.hlines(interp_function(2.0), 0, 9, colors='#ff7f0e', linestyles='dashed', linewidth=5)\n",
    "plt.show()"
   ]
  },
  {
   "cell_type": "markdown",
   "metadata": {},
   "source": [
    "We can also do this for lots of new x-values"
   ]
  },
  {
   "cell_type": "code",
   "execution_count": null,
   "metadata": {},
   "outputs": [],
   "source": [
    "## Create a new range of x values from 1.0 to 8.0 in 0.2 intervals\n",
    "x_values_new = np.arange(1, 8, 0.2)\n",
    "print(x_values_new)"
   ]
  },
  {
   "cell_type": "code",
   "execution_count": null,
   "metadata": {},
   "outputs": [],
   "source": [
    "y_values_new = interp_function(x_values_new)   # use interpolation function returned by `interp1d`"
   ]
  },
  {
   "cell_type": "code",
   "execution_count": null,
   "metadata": {},
   "outputs": [],
   "source": [
    "print(y_values_new)"
   ]
  },
  {
   "cell_type": "code",
   "execution_count": null,
   "metadata": {},
   "outputs": [],
   "source": [
    "plt.plot()\n",
    "plt.plot(x_values, y_values, '-o', x_values_new, y_values_new, '.', markersize=15)\n",
    "plt.hlines(0.51341712, 0, 9, colors='#1f77b4', linewidth=5)\n",
    "plt.hlines(interp_function(2.0), 0, 9, colors='#ff7f0e', linestyles='dashed', linewidth=5)\n",
    "plt.show()"
   ]
  },
  {
   "cell_type": "markdown",
   "metadata": {},
   "source": [
    "We see that the interpolated **new data** points (orange) fall nicely onto the known data."
   ]
  },
  {
   "cell_type": "markdown",
   "metadata": {},
   "source": [
    "#### A more complicated (and practical) example\n",
    "\n",
    "#### Additional Information\n",
    "- numpy's linspace: \"Return evenly spaced numbers over a specified interval.\"\n",
    "    - https://numpy.org/devdocs/reference/generated/numpy.linspace.html\n",
    "    - the stepsize is created\n",
    "    - the number of steps must be given\n",
    "\n",
    "Versus\n",
    "- numpy's arrange: \"Return evenly spaced values within a given interval.\"\n",
    "    - https://numpy.org/doc/stable/reference/generated/numpy.arange.html\n",
    "    - the stepsize is specified\n",
    "    - the number of steps is created"
   ]
  },
  {
   "cell_type": "code",
   "execution_count": null,
   "metadata": {},
   "outputs": [],
   "source": [
    "np.linspace(0, 1, 20)"
   ]
  },
  {
   "cell_type": "code",
   "execution_count": null,
   "metadata": {},
   "outputs": [],
   "source": [
    "x_values = np.linspace(0, 1, 10)\n",
    "print(x_values)"
   ]
  },
  {
   "cell_type": "markdown",
   "metadata": {},
   "source": [
    "##### Create some noise that will allow us to better mimic what real data looks like\n",
    "\n",
    "\"Noise\" refers to how much the real data varies from (hypothetical) ideal data. Understanding the noise in data is understanding the data's stability (e.g. reproducibility, predictable). Noise is often coming from unaccounted sources (and represent possible areas to learn from).\n",
    "\n",
    "**Side Note**: The following **np.random.seed()** statement will allow us to reproduce the random number generation (e.g. allows for reproducibility in examples). This isn't necessary here, but it is nice to know about.\n",
    "\n",
    "- np.random.random(n): https://numpy.org/doc/stable/reference/random/generated/numpy.random.random.html\n",
    "    - create n random numbers that range from 0 to 1"
   ]
  },
  {
   "cell_type": "code",
   "execution_count": null,
   "metadata": {},
   "outputs": [],
   "source": [
    "np.random.seed(30)\n",
    "\n",
    "np.random.random(10)"
   ]
  },
  {
   "cell_type": "code",
   "execution_count": null,
   "metadata": {},
   "outputs": [],
   "source": [
    "## create some noise\n",
    "noise = (np.random.random(10)**2 - 1) * 2e-1\n",
    "print(noise)"
   ]
  },
  {
   "cell_type": "markdown",
   "metadata": {},
   "source": [
    "Now generate some data (i.e. for the y-axis) that is coupled to the x-axis data.\n",
    "1. ideal y data, versus\n",
    "2. ideal y data with noise (we will call this **known**, suggesting that it might be **experimentally known**)"
   ]
  },
  {
   "cell_type": "code",
   "execution_count": null,
   "metadata": {},
   "outputs": [],
   "source": [
    "## 1. ideal data\n",
    "y_values_ideal = np.sin(2 * np.pi * x_values)\n",
    "y_values_ideal"
   ]
  },
  {
   "cell_type": "code",
   "execution_count": null,
   "metadata": {},
   "outputs": [],
   "source": [
    "## 2. ideal data with noise (i.e. simulated real data)\n",
    "y_values_sim = np.sin(2 * np.pi * x_values) + noise\n",
    "y_values_sim"
   ]
  },
  {
   "cell_type": "code",
   "execution_count": null,
   "metadata": {},
   "outputs": [],
   "source": [
    "## Plot the \"idea\" (blue) and \"simulated real\" (orange) data\n",
    "plt.plot()\n",
    "plt.plot(x_values, y_values_ideal, '-o', color='#1f77b4', markersize=15, linewidth=5) # blue\n",
    "plt.plot(x_values, y_values_sim, '-o', color='#ff7f0e', markersize=15, linewidth=5) # orange\n",
    "plt.hlines(y_values_sim[5], 0, 1, colors='#ff7f0e', linewidth=3) # highlight the 6th point\n",
    "plt.show()"
   ]
  },
  {
   "cell_type": "markdown",
   "metadata": {},
   "source": [
    "Create a **new function** that is an **interpolation** of the existing (i.e. known) data points"
   ]
  },
  {
   "cell_type": "code",
   "execution_count": null,
   "metadata": {},
   "outputs": [],
   "source": [
    "interp_function = interp1d(x_values, y_values_sim)"
   ]
  },
  {
   "cell_type": "markdown",
   "metadata": {},
   "source": [
    "First let's see if we can reproduce an \"known\" point\n",
    "\n",
    "- We want to reproduce the sixth data point: x_value[5]\n",
    "- interp_function(x_value[5]) should give y_value[5] of the original function"
   ]
  },
  {
   "cell_type": "code",
   "execution_count": null,
   "metadata": {},
   "outputs": [],
   "source": [
    "## idea+noise y value at the 6th x value point\n",
    "y_values_sim[5]"
   ]
  },
  {
   "cell_type": "code",
   "execution_count": null,
   "metadata": {},
   "outputs": [],
   "source": [
    "## interpolated y value at the 6th x value point\n",
    "interp_function(x_values[5])"
   ]
  },
  {
   "cell_type": "code",
   "execution_count": null,
   "metadata": {},
   "outputs": [],
   "source": [
    "plt.plot()\n",
    "## plot what we already know\n",
    "plt.plot(x_values, y_values_ideal, '-o', color='#1f77b4', markersize=15, linewidth=5) # blue\n",
    "plt.plot(x_values, y_values_sim, '-o', color='#ff7f0e', markersize=15, linewidth=5) # orange\n",
    "plt.hlines(y_values_sim[5], 0, 1, colors='#2ca02c', linewidth=5) # green\n",
    "\n",
    "## plot the interpolated curve\n",
    "plt.plot(x_values, interp_function(x_values), '--x', color='#2ca02c', markersize=10, linewidth=2)\n",
    "plt.hlines(interp_function(x_values[5]), 0, 1, colors='#2ca02c', linestyles='dashed', linewidth=4)\n",
    "\n",
    "plt.show()"
   ]
  },
  {
   "cell_type": "code",
   "execution_count": null,
   "metadata": {},
   "outputs": [],
   "source": [
    "## quantify the difference between the interpolated and true value for the highlighted point\n",
    "interp_function(x_values[5]) - y_values_sim[5]"
   ]
  },
  {
   "cell_type": "markdown",
   "metadata": {},
   "source": [
    "**Percent Relative Error** is often calculated in the natural sciences, whose formuala is the following:\n",
    "\n",
    "Percentage Relative Error = $\\frac{\\text{estimated}-\\text{actual}}{\\text{actual}}*100$"
   ]
  },
  {
   "cell_type": "code",
   "execution_count": null,
   "metadata": {},
   "outputs": [],
   "source": [
    "## interpolated versus ideal+noise (e.g. experimental values that includes some noise)\n",
    "((interp_function(x_values[5]) - y_values_sim[5]) / y_values_sim[5])*100"
   ]
  },
  {
   "cell_type": "code",
   "execution_count": null,
   "metadata": {},
   "outputs": [],
   "source": [
    "## interpolated versus ideal (e.g. ideal from a theoretical model)\n",
    "## Plus, this shows how the addition of noise to the ideal data impacts our \"modeling building\"\n",
    "((interp_function(x_values[5]) - y_values_ideal[5]) / y_values_ideal[5])*100"
   ]
  },
  {
   "cell_type": "markdown",
   "metadata": {},
   "source": [
    "---\n",
    "## Curve Fitting and Optimization\n",
    "\n",
    "Finding a numerical solution for maximizing or minimizing a function.\n",
    "\n",
    "- optimize: https://docs.scipy.org/doc/scipy/reference/optimize.html#module-scipy.optimize\n",
    "\n",
    "- curve_fit: https://docs.scipy.org/doc/scipy/reference/tutorial/optimize.html?highlight=curve_fit\n",
    "\n",
    "\n",
    "**Example**: Raw data that follows a sine wave, but we don't know the amplitude or period that the data has\n",
    "\n",
    "    - Goal: find the amplitude and period\n",
    "    \n",
    "Recall some basic math\n",
    "\n",
    "$$y = Asin(Bx + C) + D$$\n",
    "\n",
    "Where\n",
    "\n",
    "A: amplitude\n",
    "\n",
    "2π/B: period (with respect to radians - i.e. a full rotation is 2π radians)\n",
    "\n",
    "C: phase shift\n",
    "\n",
    "D: vertical shift\n",
    "\n",
    "x: x-axis data"
   ]
  },
  {
   "cell_type": "code",
   "execution_count": null,
   "metadata": {},
   "outputs": [],
   "source": [
    "from scipy import optimize"
   ]
  },
  {
   "cell_type": "code",
   "execution_count": null,
   "metadata": {},
   "outputs": [],
   "source": [
    "## Create 50 equally spaced data points\n",
    "x_values = np.linspace(-5, 5, num=50)\n",
    "x_values"
   ]
  },
  {
   "cell_type": "code",
   "execution_count": null,
   "metadata": {},
   "outputs": [],
   "source": [
    "## Create some noise so that we can create more realistic data\n",
    "noise = np.random.random(50)\n",
    "noise"
   ]
  },
  {
   "cell_type": "code",
   "execution_count": null,
   "metadata": {},
   "outputs": [],
   "source": [
    "## Create our target data (i.e. simulated experimental data) that follows a sine wave by adding some noise\n",
    "## Amplitude: 1.7, period: 2π/2.5, C=D=0\n",
    "\n",
    "y_values = 1.7*np.sin(2.5 * x_values) + noise\n",
    "y_values"
   ]
  },
  {
   "cell_type": "code",
   "execution_count": null,
   "metadata": {},
   "outputs": [],
   "source": [
    "plt.plot(x_values, y_values, '-o', markersize=15, linewidth=5)\n",
    "plt.show()"
   ]
  },
  {
   "cell_type": "markdown",
   "metadata": {},
   "source": [
    "Setup our simple test function that we can solve for the amplitude and period (i.e. a test function with two variables only: a and b).\n",
    "\n",
    "-Note: I'm not including any internal test (e.g. isinstance, assert) in order to keep the teaching aspects clear here."
   ]
  },
  {
   "cell_type": "code",
   "execution_count": null,
   "metadata": {},
   "outputs": [],
   "source": [
    "def test_sine_func(x=None, a=None, b=None):\n",
    "    return a * np.sin(b * x)"
   ]
  },
  {
   "cell_type": "markdown",
   "metadata": {},
   "source": [
    "Use SciPy's optimize.curve_fit to find the solutions\n",
    "- https://docs.scipy.org/doc/scipy/reference/generated/scipy.optimize.curve_fit.html?highlight=curve_fit\n",
    "\n",
    "What is needed:\n",
    "1. a function\n",
    "2. x and y target data values, and\n",
    "3. and initial guesses (i.e. p0 below) - we need two for a and b\n",
    "\n",
    "What is returned:\n",
    "1. **solution values**\n",
    "2. covariance: estimate of how much 2 variables vary (i.e. change) together (e.g. smoking and lifespan), or\n",
    "    - in other words, how correlated they are to one another (i.e. the off diagonal of the resulting matrix, which includes the concept of positive or negative correlation)\n",
    "    - the square of the diagonals of the covariance matrix gives the standard deviation for each of the solution values"
   ]
  },
  {
   "cell_type": "code",
   "execution_count": null,
   "metadata": {},
   "outputs": [],
   "source": [
    "## use p0=[2.0, 2.0] as the initial guess\n",
    "solution, solution_covariance = optimize.curve_fit(test_sine_func, x_values, y_values, p0=[2.0, 2.0])"
   ]
  },
  {
   "cell_type": "code",
   "execution_count": null,
   "metadata": {},
   "outputs": [],
   "source": [
    "## The ideal values are: amplitude (a) = 1.7, period (b) = 2.5 with C=D=0\n",
    "##   But remember, we added noise, so our solution will be close to these values\n",
    "solution"
   ]
  },
  {
   "cell_type": "code",
   "execution_count": null,
   "metadata": {},
   "outputs": [],
   "source": [
    "solution_covariance"
   ]
  },
  {
   "cell_type": "code",
   "execution_count": null,
   "metadata": {},
   "outputs": [],
   "source": [
    "std_dev = np.sqrt(np.diag(solution_covariance))\n",
    "std_dev"
   ]
  },
  {
   "cell_type": "code",
   "execution_count": null,
   "metadata": {},
   "outputs": [],
   "source": [
    "plt.plot()\n",
    "\n",
    "plt.plot(x_values, y_values, '-o', markersize=15, linewidth=5) # blue; simulated experimental date\n",
    "plt.plot(x_values, test_sine_func(x_values, solution[0], solution[1]),\n",
    "         '--o', markersize=15, linewidth=5) # orange; curve fit\n",
    "\n",
    "plt.show()"
   ]
  },
  {
   "cell_type": "markdown",
   "metadata": {},
   "source": [
    "Note: The **solution** will **depend** on the **intial guess**. There are several possible \"local\" solutions that can can be found.\n",
    "\n",
    "We **artifically knew** the solution before hand, to be near **a=1.7 and b=2.5**...so p0=[2.0, 2.0] was a good starting point.\n",
    "\n",
    "Exploration is needed when we don't know the approximate (or exact) solution before. Visualization of the results helps you interpret them (i.e. build your understanding of what the results are).\n",
    "\n",
    "Demonstrate and plot the results using:\n",
    "- p0=[1.0, 1.0] --> should give a different result\n",
    "- p0=[3.0, 3.0] --> should give you the \"correct\" solution\n",
    "- p0=[5.0, 5.0] --> should give a different result"
   ]
  },
  {
   "cell_type": "markdown",
   "metadata": {},
   "source": [
    "---\n",
    "## Optimization\n",
    "- https://docs.scipy.org/doc/scipy/reference/generated/scipy.optimize.minimize.html#scipy.optimize.minimize\n",
    "\n",
    "##### scipy.optimize.minimize() and its output **type**\n",
    "\n",
    "**Input**\n",
    "func: a function that will be minimized\n",
    "x0: an initial guess\n",
    "\n",
    "\n",
    "**Output**\n",
    "The output is a compound object containing lot of information regarding the convergence (see example below for what it looks like).\n",
    "\n",
    "\n",
    "##### Solvers\n",
    "- Nelder-Mead\n",
    "- Powell\n",
    "- CG\n",
    "- BFGS\n",
    "- Newton-CG\n",
    "- L-BFGS-B\n",
    "- TNC\n",
    "- COBYLA\n",
    "- SLSQP\n",
    "- trust-constr\n",
    "- dogleg\n",
    "- trust-ncg\n",
    "- trust-exact\n",
    "- trust-krylov\n",
    "\n",
    "\n",
    "- **Default solver**: quasi-Newton method of Broyden, Fletcher, Goldfarb, and Shanno (**BFGS**)\n",
    "    - https://docs.scipy.org/doc/scipy/reference/tutorial/optimize.html#broyden-fletcher-goldfarb-shanno-algorithm-method-bfgs\n",
    "- More background on minimization: http://scipy-lectures.org/advanced/mathematical_optimization\n",
    "\n",
    "---\n",
    "**Example**: Find the minimum of a 1D function (i.e. a scalar function; a function that return a single value from input values)"
   ]
  },
  {
   "cell_type": "code",
   "execution_count": null,
   "metadata": {},
   "outputs": [],
   "source": [
    "def scalar_func(x=None):\n",
    "    return x**2 + 25*np.sin(x)"
   ]
  },
  {
   "cell_type": "markdown",
   "metadata": {},
   "source": [
    "$$ x^2 + 25sin(x) $$"
   ]
  },
  {
   "cell_type": "code",
   "execution_count": null,
   "metadata": {},
   "outputs": [],
   "source": [
    "x_values = np.arange(-10, 10, 0.1)\n",
    "\n",
    "y_values = scalar_func(x_values)"
   ]
  },
  {
   "cell_type": "code",
   "execution_count": null,
   "metadata": {},
   "outputs": [],
   "source": [
    "## View what the x- and y- data look like\n",
    "\n",
    "plt.plot()\n",
    "plt.plot(x_values, y_values, 'o')\n",
    "plt.show()"
   ]
  },
  {
   "cell_type": "markdown",
   "metadata": {},
   "source": [
    "Notice the three minima that are present (i.e. one global, and two local)\n",
    "\n",
    "\n",
    "Let's start with an inital guess near the global minimum (i.e x0=0.0)."
   ]
  },
  {
   "cell_type": "code",
   "execution_count": null,
   "metadata": {},
   "outputs": [],
   "source": [
    "result_global = optimize.minimize(scalar_func, x0=0.0, method=\"BFGS\")"
   ]
  },
  {
   "cell_type": "code",
   "execution_count": null,
   "metadata": {},
   "outputs": [],
   "source": [
    "result_global"
   ]
  },
  {
   "cell_type": "code",
   "execution_count": null,
   "metadata": {},
   "outputs": [],
   "source": [
    "result_global.x"
   ]
  },
  {
   "cell_type": "markdown",
   "metadata": {},
   "source": [
    "Now let's set an initial guess closer to one of the local minimum (i.e. x0=3.0)"
   ]
  },
  {
   "cell_type": "code",
   "execution_count": null,
   "metadata": {},
   "outputs": [],
   "source": [
    "result_local = optimize.minimize(scalar_func, x0=3.0, method=\"BFGS\")"
   ]
  },
  {
   "cell_type": "code",
   "execution_count": null,
   "metadata": {},
   "outputs": [],
   "source": [
    "result_local"
   ]
  },
  {
   "cell_type": "markdown",
   "metadata": {},
   "source": [
    "#### Overcoming the dependency on the initial guess\n",
    "- fminbound: a minimization within boundaries\n",
    "- brute: minimize a function over a given range through lots of sampling\n",
    "- differential_evolution: global minimum a multivariate function\n",
    "- shgo: global minimum using SHG optimization\n",
    "- dual_annealing: global minimum using dual annealing\n",
    "\n",
    "**fminbound** https://docs.scipy.org/doc/scipy/reference/generated/scipy.optimize.fminbound.html"
   ]
  },
  {
   "cell_type": "code",
   "execution_count": null,
   "metadata": {},
   "outputs": [],
   "source": [
    "optimize.fminbound(scalar_func, -10, 10)"
   ]
  },
  {
   "cell_type": "markdown",
   "metadata": {},
   "source": [
    "**brute force** https://docs.scipy.org/doc/scipy/reference/generated/scipy.optimize.brute.html#scipy.optimize.brute"
   ]
  },
  {
   "cell_type": "code",
   "execution_count": null,
   "metadata": {},
   "outputs": [],
   "source": [
    "optimize.brute(scalar_func, ((-10,10),))"
   ]
  },
  {
   "cell_type": "markdown",
   "metadata": {},
   "source": [
    "**basin hopping** https://docs.scipy.org/doc/scipy/reference/generated/scipy.optimize.basinhopping.html\n",
    "- combines global stepping with local minimization\n",
    "- rugged, funnel-like surfaces (e.g. molecular potential energy surfaces)\n",
    "- requires: a function and an initial guess (so not a \"perfect\" method)\n",
    "    \n",
    "- sensitive to stepsize\n",
    "    - stepsize=0.5 (i.e. default value) results in a local minmium\n",
    "    - stepsize=2.5 finds the global mimimum"
   ]
  },
  {
   "cell_type": "code",
   "execution_count": null,
   "metadata": {},
   "outputs": [],
   "source": [
    "## recall that x0=3.0 gives local minimum using optimize.minimize\n",
    "optimize.basinhopping(scalar_func, x0=3.0, stepsize=0.5)"
   ]
  },
  {
   "cell_type": "markdown",
   "metadata": {},
   "source": [
    "## Finding the **Roots**\n",
    "\n",
    "- Roots: points where f(x) = 0\n",
    "    - For example, the values of x that satisfies the equation $ x^2 + 25sin(x) = 0 $\n",
    "- Finding the roots of a function provides you a solution to that function, which can be useful depending on the problem at hand."
   ]
  },
  {
   "cell_type": "code",
   "execution_count": null,
   "metadata": {},
   "outputs": [],
   "source": [
    "plt.plot()\n",
    "plt.plot(x_values, scalar_func(x_values), '-o')\n",
    "plt.hlines(0, -10, 10, colors='red')\n",
    "plt.show()"
   ]
  },
  {
   "cell_type": "markdown",
   "metadata": {},
   "source": [
    "### There should be four roots (ca. -3.0, 0.0, 4.0 and 5.0)"
   ]
  },
  {
   "cell_type": "code",
   "execution_count": null,
   "metadata": {},
   "outputs": [],
   "source": [
    "root1 = optimize.root(scalar_func, x0=-4)\n",
    "root1"
   ]
  },
  {
   "cell_type": "code",
   "execution_count": null,
   "metadata": {},
   "outputs": [],
   "source": [
    "root2 = optimize.root(scalar_func, x0=1)\n",
    "root2"
   ]
  },
  {
   "cell_type": "code",
   "execution_count": null,
   "metadata": {},
   "outputs": [],
   "source": [
    "root3 = optimize.root(scalar_func, x0=4)\n",
    "root3"
   ]
  },
  {
   "cell_type": "code",
   "execution_count": null,
   "metadata": {},
   "outputs": [],
   "source": [
    "root4 = optimize.root(scalar_func, x0=7)\n",
    "root4"
   ]
  },
  {
   "cell_type": "code",
   "execution_count": null,
   "metadata": {},
   "outputs": [],
   "source": [
    "root4.x"
   ]
  },
  {
   "cell_type": "code",
   "execution_count": null,
   "metadata": {},
   "outputs": [],
   "source": [
    "x=root4.x[0]\n",
    "x**2 + 25*np.sin(x)"
   ]
  },
  {
   "cell_type": "code",
   "execution_count": null,
   "metadata": {},
   "outputs": [],
   "source": []
  }
 ],
 "metadata": {
  "kernelspec": {
   "display_name": "Python 3",
   "language": "python",
   "name": "python3"
  },
  "language_info": {
   "codemirror_mode": {
    "name": "ipython",
    "version": 3
   },
   "file_extension": ".py",
   "mimetype": "text/x-python",
   "name": "python",
   "nbconvert_exporter": "python",
   "pygments_lexer": "ipython3",
   "version": "3.8.1"
  }
 },
 "nbformat": 4,
 "nbformat_minor": 2
}
