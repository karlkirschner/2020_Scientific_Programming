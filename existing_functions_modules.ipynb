{
 "cells": [
  {
   "cell_type": "markdown",
   "metadata": {},
   "source": [
    "# <center> Existing Functions and Modules within and for Python3\n",
    "\n",
    "***\n",
    "## Functions\n",
    "**Function**: a named block (i.e. piece) of code that does a very specific job.\n",
    "\n",
    "- A mini- or sub-program within a program\n",
    "\n",
    "\n",
    "- built-in\n",
    "- user-defined\n",
    "***\n",
    "\n",
    "### Built-in Functions\n",
    "\n",
    "Basic set of standard functions\n",
    "\n",
    "https://docs.python.org/2/library/functions.html\n",
    "\n",
    "`abs()\t\t\tdivmod()\t\tinput()\t\t open()\t    staticmethod()`<br>\n",
    "`all()\t\t\tenumerate()\t int()\t\t   ord()\t     str()`<br>\n",
    "`any()\t\t\teval()\t\t  isinstance()\tpow()\t     sum()`<br>\n",
    "`basestring()\t execfile()  \tissubclass()\tprint()       super()`<br>\n",
    "`bin()\t\t    file()\t\t  iter()\t\t  property()    tuple()`<br>\n",
    "`bool()\t\t   filter()\t    len()\t\t   range()\t   type()`<br>\n",
    "`bytearray()\t  float()\t     list()\t\t  raw_input()   unichr()`<br>\n",
    "`callable()\t   format()\t\tlocals()\t\treduce()      unicode()`<br>\n",
    "`chr()\t\t\tfrozenset()\t long()\t\t  reload()      vars()`<br>\n",
    "`classmethod()\tgetattr()\t   map()\t\t   repr()\t\txrange()`<br>\n",
    "`cmp()\t\t\tglobals()\t   max()\t\t   reversed()\tzip()`<br>\n",
    "`compile()\t\thasattr()\t   memoryview()    round()\t   __import__()`<br>\n",
    "`complex()\t\thash()\t\t  min()\t\t   set()`<br>\n",
    "`delattr()\t\thelp()\t\t  next()\t      setattr()`<br>\n",
    "`dict()\t\t   hex()\t\t   object()\t    slice()`<br>\n",
    "`dir()\t\t\tid()\t\t    oct()\t       sorted()`<br>\n",
    "***\n",
    "\n",
    "Of special note:\n",
    "1. abs() - absolute value of a number\n",
    "2. min() and max() - max and min of a list\n",
    "3. sum() - summation of number in a list\n",
    "4. format() - good for formatting print statements\n",
    "5. set() - a ''mathematical set'' - all unique elements in a list"
   ]
  },
  {
   "cell_type": "code",
   "execution_count": null,
   "metadata": {},
   "outputs": [],
   "source": [
    "abs(-15.2)"
   ]
  },
  {
   "cell_type": "markdown",
   "metadata": {},
   "source": [
    "### Example of additional functions\n",
    "#### Some functions that act upon string objects ####\n",
    "\n",
    "- **`.capitalize()`** to return a capitalized version of the string (only first char uppercase)\n",
    "- **`.upper()`** to return an uppercase version of the string (all chars uppercase)\n",
    "- **`.lower()`** to return an lowercase version of the string (all chars lowercase)\n",
    "- **`.count(substring)`** to return the number of occurences of the substring in the string\n",
    "- **`.count(substring, n)`** to return the number of occurences of the substring in the string, n=after number of digits (default=0)\n",
    "- **`.startswith(substring)`** to determine if the string starts with the substring\n",
    "- **`.endswith(substring)`** to determine if the string ends with the substring\n",
    "- **`.replace(old, new)`** to return a copy of the string with occurences of the \"old\" replaced by \"new\"\n",
    "- **`.replace(old, new, n)`** to return a copy of the string with occurences of the \"old\" replaced by \"new\", n=number of occurances (defaults to all occurances)"
   ]
  },
  {
   "cell_type": "code",
   "execution_count": null,
   "metadata": {},
   "outputs": [],
   "source": [
    "name = \"johnny SMITHERIAnS\"\n",
    "print(name)\n",
    "print()\n",
    "print('name.title:                   ', name.title())\n",
    "print('name.capitalize:              ', name.capitalize())\n",
    "print('name.upper:                   ', name.upper())\n",
    "print('name.lower:                   ', name.lower())\n",
    "print(\"name.count('I'):              \", name.count('I'))\n",
    "print(\"name.count('n', 4):           \", name.count('n', 4))\n",
    "print(\"name.startswith('j'):         \", name.startswith('j'))\n",
    "print(\"name.endswith('e'):           \", name.endswith('e'))\n",
    "print(\"name.replace('john', 'mary'): \", name.replace('john', 'mary'))\n",
    "print(\"name.replace('n', 'o', 2):    \", name.replace('n', 'o', 2))"
   ]
  },
  {
   "cell_type": "markdown",
   "metadata": {},
   "source": [
    "***\n",
    "## Modules\n",
    "**Module**: a Python program that contains a group (i.e. collection) of related functions\n",
    "\n",
    "[Python3 Module List](https://docs.python.org/3/py-modindex.html)\n",
    "\n",
    "Using existing modules\n",
    "1. Reduce opportunities for errors to occur\n",
    "2. Simplifies your life\n",
    "\n",
    "### Example 1 - the math module\n",
    "- First you must import the module (or library)"
   ]
  },
  {
   "cell_type": "code",
   "execution_count": null,
   "metadata": {},
   "outputs": [],
   "source": [
    "import math"
   ]
  },
  {
   "cell_type": "code",
   "execution_count": null,
   "metadata": {},
   "outputs": [],
   "source": [
    "help(math)"
   ]
  },
  {
   "cell_type": "code",
   "execution_count": null,
   "metadata": {},
   "outputs": [],
   "source": [
    "## value of pi\n",
    "math.pi"
   ]
  },
  {
   "cell_type": "code",
   "execution_count": null,
   "metadata": {},
   "outputs": [],
   "source": [
    "## value of e\n",
    "math.e"
   ]
  },
  {
   "cell_type": "code",
   "execution_count": null,
   "metadata": {},
   "outputs": [],
   "source": [
    "## sine of a number (in radians)\n",
    "## rounded value of pi\n",
    "math.cos(3.14)"
   ]
  },
  {
   "cell_type": "code",
   "execution_count": null,
   "metadata": {},
   "outputs": [],
   "source": [
    "## more accurate value of pi\n",
    "math.cos(math.pi)"
   ]
  },
  {
   "cell_type": "code",
   "execution_count": null,
   "metadata": {},
   "outputs": [],
   "source": [
    "## convert to degress\n",
    "## pi radians is 180 degrees\n",
    "math.degrees(math.pi)"
   ]
  },
  {
   "cell_type": "markdown",
   "metadata": {},
   "source": [
    "### Example 2 - the random module"
   ]
  },
  {
   "cell_type": "code",
   "execution_count": null,
   "metadata": {},
   "outputs": [],
   "source": [
    "import random\n",
    "help(random)"
   ]
  },
  {
   "cell_type": "code",
   "execution_count": null,
   "metadata": {},
   "outputs": [],
   "source": [
    "## Obtain a quick list of random's \"attributes\"\n",
    "print(dir(random))"
   ]
  },
  {
   "cell_type": "code",
   "execution_count": null,
   "metadata": {},
   "outputs": [],
   "source": [
    "help(random.random)"
   ]
  },
  {
   "cell_type": "code",
   "execution_count": null,
   "metadata": {},
   "outputs": [],
   "source": [
    "random.random()"
   ]
  },
  {
   "cell_type": "code",
   "execution_count": null,
   "metadata": {},
   "outputs": [],
   "source": [
    "help(random.randint)"
   ]
  },
  {
   "cell_type": "code",
   "execution_count": null,
   "metadata": {},
   "outputs": [],
   "source": [
    "random.randint(0,10)"
   ]
  },
  {
   "cell_type": "markdown",
   "metadata": {},
   "source": [
    "***\n",
    "### Example 3 - mass2energy converstion"
   ]
  },
  {
   "cell_type": "code",
   "execution_count": null,
   "metadata": {},
   "outputs": [],
   "source": [
    "## SciPy has physical constants\n",
    "from scipy.constants import c\n",
    "\n",
    "## Mass in kg since 1 J = 1 kg m^2/s^2\n",
    "mass = 0.500\n",
    "\n",
    "energy = mass*(c**2)\n",
    "\n",
    "print('Energy = {0} Joules'.format(energy))"
   ]
  },
  {
   "cell_type": "markdown",
   "metadata": {},
   "source": [
    "***\n",
    "### Simplify the code writing\n",
    "- load only a specific function from a module"
   ]
  },
  {
   "cell_type": "code",
   "execution_count": null,
   "metadata": {},
   "outputs": [],
   "source": [
    "from random import randint"
   ]
  },
  {
   "cell_type": "code",
   "execution_count": null,
   "metadata": {},
   "outputs": [],
   "source": [
    "randint(0,10)"
   ]
  },
  {
   "cell_type": "markdown",
   "metadata": {},
   "source": [
    "- rename the functions to what you want (e.g. shorter and more readable code)"
   ]
  },
  {
   "cell_type": "code",
   "execution_count": null,
   "metadata": {},
   "outputs": [],
   "source": [
    "import matplotlib\n",
    "help(matplotlib) ## provides LOTS of info (almost too much)"
   ]
  },
  {
   "cell_type": "code",
   "execution_count": null,
   "metadata": {},
   "outputs": [],
   "source": [
    "help(matplotlib.pyplot) ## still provides a lot of info"
   ]
  },
  {
   "cell_type": "code",
   "execution_count": null,
   "metadata": {},
   "outputs": [],
   "source": [
    "## An example on one that is more relevant\n",
    "help(matplotlib.pyplot.show)"
   ]
  },
  {
   "cell_type": "code",
   "execution_count": null,
   "metadata": {},
   "outputs": [],
   "source": [
    "x_values = [1, 2, 3, 4, 7]\n",
    "y_values = [1, 4, 9, 16, 49]\n",
    "\n",
    "matplotlib.pyplot.figure()\n",
    "matplotlib.pyplot.plot(x_values, y_values, marker='.', markersize=24, linewidth=5, linestyle='-', color='red')\n",
    "matplotlib.pyplot.show()"
   ]
  },
  {
   "cell_type": "code",
   "execution_count": null,
   "metadata": {},
   "outputs": [],
   "source": [
    "## Formatting the code slightly differently\n",
    "\n",
    "import matplotlib.pyplot as plt\n",
    "\n",
    "\n",
    "x_values = [1, 2, 3, 4, 7]\n",
    "y_values = [1, 4, 9, 16, 49]\n",
    "\n",
    "plt.figure()\n",
    "plt.plot(x_values, y_values,\n",
    "         marker='.', markersize=24,\n",
    "         linewidth=5, linestyle='-',\n",
    "         color='red')\n",
    "plt.show()"
   ]
  },
  {
   "cell_type": "code",
   "execution_count": null,
   "metadata": {},
   "outputs": [],
   "source": []
  }
 ],
 "metadata": {
  "kernelspec": {
   "display_name": "Python 3",
   "language": "python",
   "name": "python3"
  },
  "language_info": {
   "codemirror_mode": {
    "name": "ipython",
    "version": 3
   },
   "file_extension": ".py",
   "mimetype": "text/x-python",
   "name": "python",
   "nbconvert_exporter": "python",
   "pygments_lexer": "ipython3",
   "version": "3.8.1"
  }
 },
 "nbformat": 4,
 "nbformat_minor": 2
}
