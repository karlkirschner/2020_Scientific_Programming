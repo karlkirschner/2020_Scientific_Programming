{
 "cells": [
  {
   "cell_type": "markdown",
   "metadata": {},
   "source": [
    "# <center> Existing Functions and Modules within and for Python3\n",
    "\n",
    "***\n",
    "## Functions\n",
    "**Function**: a named block (i.e. piece) of code that does a very specific job.\n",
    "\n",
    "- A mini- or sub-program within a program\n",
    "\n",
    "\n",
    "- built-in\n",
    "- user-defined\n",
    "***\n",
    "\n",
    "### Built-in Functions\n",
    "\n",
    "Basic set of standard functions\n",
    "\n",
    "https://docs.python.org/3/library/functions.html\n",
    "\n",
    "`abs()\t\t\tdivmod()\t\tinput()\t\t open()\t    staticmethod()`<br>\n",
    "`all()\t\t\tenumerate()\t int()\t\t   ord()\t     str()`<br>\n",
    "`any()\t\t\teval()\t\t  isinstance()\tpow()\t     sum()`<br>\n",
    "`basestring()\t execfile()  \tissubclass()\tprint()       super()`<br>\n",
    "`bin()\t\t    file()\t\t  iter()\t\t  property()    tuple()`<br>\n",
    "`bool()\t\t   filter()\t    len()\t\t   range()\t   type()`<br>\n",
    "`bytearray()\t  float()\t     list()\t\t  raw_input()   unichr()`<br>\n",
    "`callable()\t   format()\t\tlocals()\t\treduce()      unicode()`<br>\n",
    "`chr()\t\t\tfrozenset()\t long()\t\t  reload()      vars()`<br>\n",
    "`classmethod()\tgetattr()\t   map()\t\t   repr()\t\txrange()`<br>\n",
    "`cmp()\t\t\tglobals()\t   max()\t\t   reversed()\tzip()`<br>\n",
    "`compile()\t\thasattr()\t   memoryview()    round()\t   __import__()`<br>\n",
    "`complex()\t\thash()\t\t  min()\t\t   set()`<br>\n",
    "`delattr()\t\thelp()\t\t  next()\t      setattr()`<br>\n",
    "`dict()\t\t   hex()\t\t   object()\t    slice()`<br>\n",
    "`dir()\t\t\tid()\t\t    oct()\t       sorted()`<br>\n",
    "***\n",
    "\n",
    "In the following, particularly helpful functions are indicated in **bold**:\n",
    "\n",
    "| Function | Ability|\n",
    "| :- | :- |\n",
    "| **abs()** | Returns the **absolute value** of a number|\n",
    "| all() | Returns True if all items in an iterable object are true| \n",
    "| any() | Returns True if any item in an iterable object is true| \n",
    "| ascii() | Returns a readable version of an object. Replaces none-ascii characters with escape character| \n",
    "| bin() | Returns the binary version of a number|\n",
    "| bool() | Returns the boolean value of the specified object|\n",
    "| bytearray() | Returns an array of bytes|\n",
    "| bytes() | Returns a bytes object|\n",
    "| callable() | Returns True if the specified object is callable, otherwise False|\n",
    "| chr() | Returns a character from the specified Unicode code|\n",
    "| classmethod() | Converts a method into a class method|\n",
    "| compile() | Returns the specified source as an object, ready to be executed|\n",
    "| complex() | Returns a complex number|\n",
    "| delattr() | Deletes the specified attribute (property or method) from the specified object|\n",
    "| **dict()** | Returns a **dictionary** (Array)|\n",
    "| dir() | Returns a list of the specified object's properties and methods|\n",
    "| divmod() | Returns the quotient and the remainder when argument1 is divided by argument2|\n",
    "| **enumerate()** | Takes a collection (e.g. a tuple) and returns it as an enumerate object|\n",
    "| eval() | Evaluates and executes an expression|\n",
    "| exec() | Executes the specified code (or object)|\n",
    "| **filter()** | Use a filter function to **exclude** items in an iterable object|\n",
    "| **float()** | Returns a **floating point number**|\n",
    "| **format()** | Formats a specified value|\n",
    "| frozenset() | Returns a frozenset object|\n",
    "| getattr() | Returns the value of the specified attribute (property or method)|\n",
    "| globals() | Returns the current global symbol table as a dictionary|\n",
    "| hasattr() | Returns True if the specified object has the specified attribute (property/method)|\n",
    "| hash() | Returns the hash value of a specified object|\n",
    "| **help()** | Executes the built-in help system|\n",
    "| hex() | Converts a number into a hexadecimal value|\n",
    "| id() | Returns the id of an object|\n",
    "| input() | Allowing user input|\n",
    "| **int()** | Returns an **integer number**|\n",
    "| **isinstance()** | Returns True if a specified object is an instance of a specified object|\n",
    "| issubclass() | Returns True if a specified class is a subclass of a specified object|\n",
    "| iter() | Returns an iterator object|\n",
    "| **len()** | Returns the **length** of an object|\n",
    "| **list()** | Returns a list|\n",
    "| locals() | Returns an updated dictionary of the current local symbol table|\n",
    "| **map()** | Returns the specified iterator with the **specified function applied to each item**|\n",
    "| **max()** | Returns the **largest item** in an iterable|\n",
    "| memoryview() | Returns a memory view object|\n",
    "| **min()** | Returns the **smallest item** in an iterable|\n",
    "| **next()** | Returns the next item in an iterable|\n",
    "| object() | Returns a new object|\n",
    "| oct() | Converts a number into an octal|\n",
    "| **open()** | Opens a file and returns a file object\n",
    "| ord() | Convert an integer representing the Unicode of the specified character|\n",
    "| **pow()** | Returns the value of **x to the power of y**|\n",
    "| **print()**| Prints to the standard output device|\n",
    "| property()| Gets, sets, deletes a property|\n",
    "| **range()**| Returns a **sequence of numbers**, starting from 0 and increments by 1 (by default)|\n",
    "| repr()| Returns a readable version of an object|\n",
    "| reversed()| Returns a reversed iterator|\n",
    "| **round()**| Rounds a numbers|\n",
    "| **set()**| Returns a new set object|\n",
    "| setattr()| Sets an attribute (property/method) of an object|\n",
    "| slice()| Returns a slice object|\n",
    "| **sorted()**| Returns a **sorted list**|\n",
    "| @staticmethod()| Converts a method into a static method|\n",
    "| str()| Returns a string object|\n",
    "| **sum()**| Sums the items of an iterator|\n",
    "| super()| Returns an object that represents the parent class|\n",
    "| tuple()| Returns a tuple|\n",
    "| **type()**| Returns the **type of an object**|\n",
    "| vars()| Returns the __dict__ property of an object|\n",
    "| zip() | Returns an iterator, from two or more iterators|\n",
    "\n",
    "source: https://www.w3schools.com/python/python_ref_functions.asp\n",
    "\n",
    "----\n",
    "#### Let us highlight some for illustration:"
   ]
  },
  {
   "cell_type": "code",
   "execution_count": null,
   "metadata": {},
   "outputs": [],
   "source": [
    "## abs(number) function\n",
    "\n",
    "abs(-15.2)"
   ]
  },
  {
   "cell_type": "code",
   "execution_count": null,
   "metadata": {},
   "outputs": [],
   "source": [
    "## enumerate(iterable) function\n",
    "\n",
    "movies = ('star wars', 'star trek', 'firefly', 'star wars')\n",
    "\n",
    "movies_enum = enumerate(movies, 10)\n",
    "\n",
    "for count,item in movies_enum: \n",
    "    print(count,item)"
   ]
  },
  {
   "cell_type": "code",
   "execution_count": null,
   "metadata": {},
   "outputs": [],
   "source": [
    "## set(iterable) funciton\n",
    "\n",
    "set(movies)"
   ]
  },
  {
   "cell_type": "code",
   "execution_count": null,
   "metadata": {},
   "outputs": [],
   "source": [
    "## range() function\n",
    "\n",
    "for number in range(10, 21, 2):\n",
    "    print(number)"
   ]
  },
  {
   "cell_type": "code",
   "execution_count": null,
   "metadata": {},
   "outputs": [],
   "source": [
    "## map(function, iterable) function\n",
    "\n",
    "float_list = [1.4, 1.5, 1.6, 3.3]\n",
    "\n",
    "int_list = map(round, float_list)\n",
    "\n",
    "for number in int_list:\n",
    "    print(number)"
   ]
  },
  {
   "cell_type": "code",
   "execution_count": null,
   "metadata": {},
   "outputs": [],
   "source": [
    "## isinstance(object, type)\n",
    "\n",
    "isinstance(42, int)"
   ]
  },
  {
   "cell_type": "code",
   "execution_count": null,
   "metadata": {},
   "outputs": [],
   "source": [
    "## type(object)\n",
    "\n",
    "type(float_list)"
   ]
  },
  {
   "cell_type": "code",
   "execution_count": null,
   "metadata": {},
   "outputs": [],
   "source": [
    "type(float_list[0])"
   ]
  },
  {
   "cell_type": "code",
   "execution_count": null,
   "metadata": {},
   "outputs": [],
   "source": [
    "## A more practical isinstance example for the course\n",
    "\n",
    "my_variable = None\n",
    "my_variable = \"Python is powerful.\"\n",
    "\n",
    "if my_variable is None:\n",
    "    print(\"You did not assign a value.\")\n",
    "elif not isinstance(my_variable, int):\n",
    "    print(\"The type for your variable ({0}) is wrong.\".format(type(my_variable)))"
   ]
  },
  {
   "cell_type": "markdown",
   "metadata": {},
   "source": [
    "***\n",
    "## Modules\n",
    "**Module**: a Python program that contains a group (i.e. collection) of related functions\n",
    "\n",
    "[Python3 Module List](https://docs.python.org/3/py-modindex.html)\n",
    "\n",
    "Using existing modules\n",
    "1. Reduce opportunities for errors to occur\n",
    "2. Simplifies your life\n",
    "\n",
    "### Example 1 - the math module\n",
    "- First you must import the module (or library)"
   ]
  },
  {
   "cell_type": "code",
   "execution_count": null,
   "metadata": {},
   "outputs": [],
   "source": [
    "import math"
   ]
  },
  {
   "cell_type": "code",
   "execution_count": null,
   "metadata": {},
   "outputs": [],
   "source": [
    "help(math)"
   ]
  },
  {
   "cell_type": "code",
   "execution_count": null,
   "metadata": {},
   "outputs": [],
   "source": [
    "## value of pi\n",
    "math.pi"
   ]
  },
  {
   "cell_type": "code",
   "execution_count": null,
   "metadata": {},
   "outputs": [],
   "source": [
    "## value of e\n",
    "math.e"
   ]
  },
  {
   "cell_type": "code",
   "execution_count": null,
   "metadata": {},
   "outputs": [],
   "source": [
    "## sine of a number (in radians)\n",
    "## rounded value of pi\n",
    "math.cos(3.14)"
   ]
  },
  {
   "cell_type": "code",
   "execution_count": null,
   "metadata": {},
   "outputs": [],
   "source": [
    "## more accurate value of pi\n",
    "math.cos(math.pi)"
   ]
  },
  {
   "cell_type": "code",
   "execution_count": null,
   "metadata": {},
   "outputs": [],
   "source": [
    "## convert to degress\n",
    "## pi radians is 180 degrees\n",
    "math.degrees(math.pi)"
   ]
  },
  {
   "cell_type": "markdown",
   "metadata": {},
   "source": [
    "### Example 2 - the random module"
   ]
  },
  {
   "cell_type": "code",
   "execution_count": null,
   "metadata": {},
   "outputs": [],
   "source": [
    "import random\n",
    "help(random)"
   ]
  },
  {
   "cell_type": "code",
   "execution_count": null,
   "metadata": {},
   "outputs": [],
   "source": [
    "## Obtain a quick list of random's \"attributes\"\n",
    "print(dir(random))"
   ]
  },
  {
   "cell_type": "code",
   "execution_count": null,
   "metadata": {},
   "outputs": [],
   "source": [
    "help(random.random)"
   ]
  },
  {
   "cell_type": "code",
   "execution_count": null,
   "metadata": {},
   "outputs": [],
   "source": [
    "random.random()"
   ]
  },
  {
   "cell_type": "code",
   "execution_count": null,
   "metadata": {},
   "outputs": [],
   "source": [
    "help(random.randint)"
   ]
  },
  {
   "cell_type": "code",
   "execution_count": null,
   "metadata": {},
   "outputs": [],
   "source": [
    "random.randint(0,10)"
   ]
  },
  {
   "cell_type": "markdown",
   "metadata": {},
   "source": [
    "***\n",
    "### Example 3 - How long does it take for light from the Sun to reach earth?\n",
    "\n",
    "The average distance between the Sun and the Earth is 149.6x10$^{9}$ meters.\n",
    "\n",
    "The speed (velocity) of light = 3x10$^8$ meters per second.\n",
    "\n",
    "$\\text{time (s)} = \\frac{\\text{distance (m)}}{\\text{speed of light} (\\frac{\\text{m}}{\\text{s}})}$\n",
    "\n",
    "\n",
    "The library SciPy, for example, has lots of physical constants for the natural sciences (e.g. c: speed of light (meters per second))"
   ]
  },
  {
   "cell_type": "code",
   "execution_count": null,
   "metadata": {},
   "outputs": [],
   "source": [
    "import scipy.constants"
   ]
  },
  {
   "cell_type": "code",
   "execution_count": null,
   "metadata": {},
   "outputs": [],
   "source": [
    "help(scipy.constants)"
   ]
  },
  {
   "cell_type": "code",
   "execution_count": null,
   "metadata": {},
   "outputs": [],
   "source": [
    "dist_sun_earth = 149.6E9 ## km\n",
    "\n",
    "time = dist_sun_earth/scipy.constants.c\n",
    "\n",
    "print('The time needed for light to travel from the Sun to the Earth is = {0} seconds.'.format(round(time,1)))\n",
    "\n",
    "print('Converting this to units of minutes, we obtain {0} minutes.'.format(round(time/60,3)))"
   ]
  },
  {
   "cell_type": "markdown",
   "metadata": {},
   "source": [
    "***\n",
    "### Simplify the code writing\n",
    "- load only a specific function from a module (e.g. for shorter and more readable code)"
   ]
  },
  {
   "cell_type": "code",
   "execution_count": null,
   "metadata": {},
   "outputs": [],
   "source": [
    "from random import randint"
   ]
  },
  {
   "cell_type": "code",
   "execution_count": null,
   "metadata": {},
   "outputs": [],
   "source": [
    "randint(0,10)"
   ]
  },
  {
   "cell_type": "markdown",
   "metadata": {},
   "source": [
    "- rename the functions to what you want (warning: can cause confusion if you break from norms)"
   ]
  },
  {
   "cell_type": "code",
   "execution_count": null,
   "metadata": {},
   "outputs": [],
   "source": [
    "from random import randint as radomize_karl"
   ]
  },
  {
   "cell_type": "code",
   "execution_count": null,
   "metadata": {},
   "outputs": [],
   "source": [
    "radomize_karl(0,10)"
   ]
  },
  {
   "cell_type": "markdown",
   "metadata": {},
   "source": [
    "#### Example of renaming function that is consistent with community norms."
   ]
  },
  {
   "cell_type": "code",
   "execution_count": null,
   "metadata": {},
   "outputs": [],
   "source": [
    "import matplotlib\n",
    "\n",
    "## For Colabs, in order to show the plots\n",
    "%matplotlib inline\n",
    "\n",
    "help(matplotlib) ## provides LOTS of info (almost too much)"
   ]
  },
  {
   "cell_type": "code",
   "execution_count": null,
   "metadata": {},
   "outputs": [],
   "source": [
    "help(matplotlib.pyplot) ## still provides a lot of info"
   ]
  },
  {
   "cell_type": "code",
   "execution_count": null,
   "metadata": {},
   "outputs": [],
   "source": [
    "## An example on one that is more relevant\n",
    "help(matplotlib.pyplot.show)"
   ]
  },
  {
   "cell_type": "code",
   "execution_count": null,
   "metadata": {},
   "outputs": [],
   "source": [
    "x_values = [1, 2, 3, 4, 7]\n",
    "y_values = [1, 4, 9, 16, 49]\n",
    "\n",
    "matplotlib.pyplot.figure()\n",
    "matplotlib.pyplot.plot(x_values, y_values, marker='.', markersize=24, linewidth=5, linestyle='-', color='red')\n",
    "matplotlib.pyplot.show()"
   ]
  },
  {
   "cell_type": "code",
   "execution_count": null,
   "metadata": {},
   "outputs": [],
   "source": [
    "## Formatting the code slightly differently using an abbreviation\n",
    "\n",
    "import matplotlib.pyplot as plt\n",
    "\n",
    "\n",
    "x_values = [1, 2, 3, 4, 7]\n",
    "y_values = [1, 4, 9, 16, 49]\n",
    "\n",
    "plt.figure()\n",
    "plt.plot(x_values, y_values,\n",
    "         marker='.', markersize=24,\n",
    "         linewidth=5, linestyle='-',\n",
    "         color='red')\n",
    "plt.show()"
   ]
  },
  {
   "cell_type": "code",
   "execution_count": null,
   "metadata": {},
   "outputs": [],
   "source": []
  }
 ],
 "metadata": {
  "kernelspec": {
   "display_name": "Python 3",
   "language": "python",
   "name": "python3"
  },
  "language_info": {
   "codemirror_mode": {
    "name": "ipython",
    "version": 3
   },
   "file_extension": ".py",
   "mimetype": "text/x-python",
   "name": "python",
   "nbconvert_exporter": "python",
   "pygments_lexer": "ipython3",
   "version": "3.8.8"
  }
 },
 "nbformat": 4,
 "nbformat_minor": 2
}
