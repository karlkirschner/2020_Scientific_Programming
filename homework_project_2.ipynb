{
 "cells": [
  {
   "cell_type": "markdown",
   "metadata": {},
   "source": [
    "## <center> Homework Project 2\n",
    "\n",
    "Graded using a mark (1.0--5.0)\n",
    "\n",
    "1. **Task**: Write a program (e.g. 'ufo_sighting.py') that does the following\n",
    "    1. Using the **csv library**, read in the file **ufo_data.csv**\n",
    "    2. Calculate and print to screen the **average duration** of the sightings\n",
    "    3. Find all unique countries that have had ufo sightings, and print to screen a nonredundant list of them\n",
    "    4. Calculate the a) **maximum** and b) **minimum number of digits** of the numbers within the duration data\n",
    "    5. **Create two new lists** that contain the numbers that have the a) maximum and b) minimum number of digits (i.e. a max list and a minimum list)\n",
    "    6. **Write a single new csv** file that contains these two new lists, each given its own column (hint: take a look into the itertools.zip_longest function)\n",
    "\n",
    "    \n",
    "2. Include at the top of the code as a block comment (i.e. triple quotations) a clear statement of each your contribution\n",
    "    \n",
    "    For Example:\n",
    "    \n",
    "    \"\"\"\n",
    "    \n",
    "    Student 1:\n",
    "        a. Conceptual development\n",
    "        b. Primary developer of function_1_name\n",
    "        c. Codeveloper of error functions\n",
    "        etc.\n",
    "    \n",
    "    Student 2:\n",
    "        a. Conceptual development\n",
    "        b. Primary developer of function_2_name\n",
    "        c. Codeveloper of error functions\n",
    "        d. Primary developer of user interface\n",
    "        etc.\n",
    "    \"\"\"\n",
    "    \n",
    "    - <font color='red'>Upload to LEA by Sunday May 11th 07:00 (morning)</font>"
   ]
  },
  {
   "cell_type": "code",
   "execution_count": null,
   "metadata": {},
   "outputs": [],
   "source": []
  }
 ],
 "metadata": {
  "kernelspec": {
   "display_name": "Python 3",
   "language": "python",
   "name": "python3"
  },
  "language_info": {
   "codemirror_mode": {
    "name": "ipython",
    "version": 3
   },
   "file_extension": ".py",
   "mimetype": "text/x-python",
   "name": "python",
   "nbconvert_exporter": "python",
   "pygments_lexer": "ipython3",
   "version": "3.8.1"
  }
 },
 "nbformat": 4,
 "nbformat_minor": 2
}
